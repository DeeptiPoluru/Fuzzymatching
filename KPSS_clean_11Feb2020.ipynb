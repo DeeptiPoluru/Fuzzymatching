{
 "cells": [
  {
   "cell_type": "markdown",
   "metadata": {},
   "source": [
    "# Program to clean KPSS data and save file from 1976-2010\n",
    " Input files:\n",
    " - KPSSdata_DirectFromWeb_GroundTruth.csv'\n",
    "\n",
    "\n",
    "\n",
    " \n",
    " Output files: \n",
    " - new_kpss_clean_11Apr2020.csv"
   ]
  },
  {
   "cell_type": "code",
   "execution_count": 2,
   "metadata": {},
   "outputs": [],
   "source": [
    "import pandas as pd\n",
    "import re\n",
    "from cleanco import cleanco\n",
    "import numpy as np\n",
    "import datetime"
   ]
  },
  {
   "cell_type": "code",
   "execution_count": 3,
   "metadata": {},
   "outputs": [
    {
     "name": "stderr",
     "output_type": "stream",
     "text": [
      "/opt/anaconda3/lib/python3.7/site-packages/IPython/core/interactiveshell.py:3058: DtypeWarning: Columns (3,5) have mixed types. Specify dtype option on import or set low_memory=False.\n",
      "  interactivity=interactivity, compiler=compiler, result=result)\n"
     ]
    }
   ],
   "source": [
    "#read KPSS raw file as a dataframe\n",
    "kpss = pd.read_csv('KPSSdata_DirectFromWeb_GroundTruth.csv')"
   ]
  },
  {
   "cell_type": "code",
   "execution_count": 4,
   "metadata": {},
   "outputs": [],
   "source": [
    "kpss2 = kpss[~kpss['permno'].isna()]"
   ]
  },
  {
   "cell_type": "code",
   "execution_count": 5,
   "metadata": {},
   "outputs": [
    {
     "name": "stderr",
     "output_type": "stream",
     "text": [
      "/opt/anaconda3/lib/python3.7/site-packages/ipykernel_launcher.py:3: SettingWithCopyWarning: \n",
      "A value is trying to be set on a copy of a slice from a DataFrame.\n",
      "Try using .loc[row_indexer,col_indexer] = value instead\n",
      "\n",
      "See the caveats in the documentation: http://pandas.pydata.org/pandas-docs/stable/user_guide/indexing.html#returning-a-view-versus-a-copy\n",
      "  This is separate from the ipykernel package so we can avoid doing imports until\n"
     ]
    }
   ],
   "source": [
    "# convert to date time\n",
    "\n",
    "kpss2['idate'] = pd.to_datetime(kpss2['idate'], errors='coerce').dt.strftime('%Y-%m-%d')"
   ]
  },
  {
   "cell_type": "code",
   "execution_count": 6,
   "metadata": {},
   "outputs": [
    {
     "name": "stderr",
     "output_type": "stream",
     "text": [
      "/opt/anaconda3/lib/python3.7/site-packages/ipykernel_launcher.py:1: SettingWithCopyWarning: \n",
      "A value is trying to be set on a copy of a slice from a DataFrame.\n",
      "Try using .loc[row_indexer,col_indexer] = value instead\n",
      "\n",
      "See the caveats in the documentation: http://pandas.pydata.org/pandas-docs/stable/user_guide/indexing.html#returning-a-view-versus-a-copy\n",
      "  \"\"\"Entry point for launching an IPython kernel.\n"
     ]
    }
   ],
   "source": [
    "kpss2['kpss_year'] = kpss2['idate'].apply(lambda x : x.split(\"-\")[0])"
   ]
  },
  {
   "cell_type": "code",
   "execution_count": 7,
   "metadata": {},
   "outputs": [
    {
     "name": "stderr",
     "output_type": "stream",
     "text": [
      "/opt/anaconda3/lib/python3.7/site-packages/ipykernel_launcher.py:1: SettingWithCopyWarning: \n",
      "A value is trying to be set on a copy of a slice from a DataFrame.\n",
      "Try using .loc[row_indexer,col_indexer] = value instead\n",
      "\n",
      "See the caveats in the documentation: http://pandas.pydata.org/pandas-docs/stable/user_guide/indexing.html#returning-a-view-versus-a-copy\n",
      "  \"\"\"Entry point for launching an IPython kernel.\n"
     ]
    }
   ],
   "source": [
    "kpss2['kpss_year'] = kpss2['kpss_year'].astype(int)"
   ]
  },
  {
   "cell_type": "code",
   "execution_count": 8,
   "metadata": {},
   "outputs": [
    {
     "data": {
      "text/plain": [
       "2010"
      ]
     },
     "execution_count": 8,
     "metadata": {},
     "output_type": "execute_result"
    }
   ],
   "source": [
    "kpss2.kpss_year.max()"
   ]
  },
  {
   "cell_type": "code",
   "execution_count": 9,
   "metadata": {},
   "outputs": [
    {
     "data": {
      "text/html": [
       "<div>\n",
       "<style scoped>\n",
       "    .dataframe tbody tr th:only-of-type {\n",
       "        vertical-align: middle;\n",
       "    }\n",
       "\n",
       "    .dataframe tbody tr th {\n",
       "        vertical-align: top;\n",
       "    }\n",
       "\n",
       "    .dataframe thead th {\n",
       "        text-align: right;\n",
       "    }\n",
       "</style>\n",
       "<table border=\"1\" class=\"dataframe\">\n",
       "  <thead>\n",
       "    <tr style=\"text-align: right;\">\n",
       "      <th></th>\n",
       "      <th>patnum</th>\n",
       "      <th>fdate</th>\n",
       "      <th>idate</th>\n",
       "      <th>pdate</th>\n",
       "      <th>permno</th>\n",
       "      <th>class</th>\n",
       "      <th>subclass</th>\n",
       "      <th>ncites</th>\n",
       "      <th>xi</th>\n",
       "      <th>kpss_year</th>\n",
       "    </tr>\n",
       "  </thead>\n",
       "  <tbody>\n",
       "    <tr>\n",
       "      <td>84</td>\n",
       "      <td>1568124</td>\n",
       "      <td>6/12/1920</td>\n",
       "      <td>1926-01-05</td>\n",
       "      <td>NaN</td>\n",
       "      <td>12503.0</td>\n",
       "      <td>56</td>\n",
       "      <td>006000O</td>\n",
       "      <td>0.0</td>\n",
       "      <td>0.857102</td>\n",
       "      <td>1926</td>\n",
       "    </tr>\n",
       "    <tr>\n",
       "      <td>94</td>\n",
       "      <td>1568134</td>\n",
       "      <td>9/9/1922</td>\n",
       "      <td>1926-01-05</td>\n",
       "      <td>NaN</td>\n",
       "      <td>12503.0</td>\n",
       "      <td>239</td>\n",
       "      <td>584000O</td>\n",
       "      <td>0.0</td>\n",
       "      <td>0.857102</td>\n",
       "      <td>1926</td>\n",
       "    </tr>\n",
       "    <tr>\n",
       "      <td>102</td>\n",
       "      <td>1568142</td>\n",
       "      <td>8/13/1920</td>\n",
       "      <td>1926-01-05</td>\n",
       "      <td>NaN</td>\n",
       "      <td>10401.0</td>\n",
       "      <td>333</td>\n",
       "      <td>168000O</td>\n",
       "      <td>1.0</td>\n",
       "      <td>8.618030</td>\n",
       "      <td>1926</td>\n",
       "    </tr>\n",
       "    <tr>\n",
       "      <td>113</td>\n",
       "      <td>1568153</td>\n",
       "      <td>3/23/1923</td>\n",
       "      <td>1926-01-05</td>\n",
       "      <td>NaN</td>\n",
       "      <td>16029.0</td>\n",
       "      <td>NaN</td>\n",
       "      <td>NaN</td>\n",
       "      <td>NaN</td>\n",
       "      <td>NaN</td>\n",
       "      <td>1926</td>\n",
       "    </tr>\n",
       "    <tr>\n",
       "      <td>123</td>\n",
       "      <td>1568163</td>\n",
       "      <td>5/3/1920</td>\n",
       "      <td>1926-01-05</td>\n",
       "      <td>NaN</td>\n",
       "      <td>12503.0</td>\n",
       "      <td>56</td>\n",
       "      <td>011500O</td>\n",
       "      <td>1.0</td>\n",
       "      <td>0.857102</td>\n",
       "      <td>1926</td>\n",
       "    </tr>\n",
       "  </tbody>\n",
       "</table>\n",
       "</div>"
      ],
      "text/plain": [
       "      patnum      fdate       idate pdate   permno class subclass  ncites  \\\n",
       "84   1568124  6/12/1920  1926-01-05   NaN  12503.0    56  006000O     0.0   \n",
       "94   1568134   9/9/1922  1926-01-05   NaN  12503.0   239  584000O     0.0   \n",
       "102  1568142  8/13/1920  1926-01-05   NaN  10401.0   333  168000O     1.0   \n",
       "113  1568153  3/23/1923  1926-01-05   NaN  16029.0   NaN      NaN     NaN   \n",
       "123  1568163   5/3/1920  1926-01-05   NaN  12503.0    56  011500O     1.0   \n",
       "\n",
       "           xi  kpss_year  \n",
       "84   0.857102       1926  \n",
       "94   0.857102       1926  \n",
       "102  8.618030       1926  \n",
       "113       NaN       1926  \n",
       "123  0.857102       1926  "
      ]
     },
     "execution_count": 9,
     "metadata": {},
     "output_type": "execute_result"
    }
   ],
   "source": [
    "kpss2.head()"
   ]
  },
  {
   "cell_type": "code",
   "execution_count": 10,
   "metadata": {},
   "outputs": [],
   "source": [
    "del kpss2['fdate'], kpss2['idate'], kpss2['pdate'], kpss2['class'], kpss2['ncites']\n",
    "del kpss2['xi'], kpss2['subclass']"
   ]
  },
  {
   "cell_type": "code",
   "execution_count": 14,
   "metadata": {},
   "outputs": [],
   "source": [
    "kpss2 = kpss2.drop_duplicates(keep = 'first')"
   ]
  },
  {
   "cell_type": "code",
   "execution_count": 15,
   "metadata": {},
   "outputs": [
    {
     "data": {
      "text/html": [
       "<div>\n",
       "<style scoped>\n",
       "    .dataframe tbody tr th:only-of-type {\n",
       "        vertical-align: middle;\n",
       "    }\n",
       "\n",
       "    .dataframe tbody tr th {\n",
       "        vertical-align: top;\n",
       "    }\n",
       "\n",
       "    .dataframe thead th {\n",
       "        text-align: right;\n",
       "    }\n",
       "</style>\n",
       "<table border=\"1\" class=\"dataframe\">\n",
       "  <thead>\n",
       "    <tr style=\"text-align: right;\">\n",
       "      <th></th>\n",
       "      <th>patnum</th>\n",
       "      <th>permno</th>\n",
       "      <th>kpss_year</th>\n",
       "    </tr>\n",
       "  </thead>\n",
       "  <tbody>\n",
       "    <tr>\n",
       "      <td>84</td>\n",
       "      <td>1568124</td>\n",
       "      <td>12503.0</td>\n",
       "      <td>1926</td>\n",
       "    </tr>\n",
       "    <tr>\n",
       "      <td>94</td>\n",
       "      <td>1568134</td>\n",
       "      <td>12503.0</td>\n",
       "      <td>1926</td>\n",
       "    </tr>\n",
       "    <tr>\n",
       "      <td>102</td>\n",
       "      <td>1568142</td>\n",
       "      <td>10401.0</td>\n",
       "      <td>1926</td>\n",
       "    </tr>\n",
       "    <tr>\n",
       "      <td>113</td>\n",
       "      <td>1568153</td>\n",
       "      <td>16029.0</td>\n",
       "      <td>1926</td>\n",
       "    </tr>\n",
       "    <tr>\n",
       "      <td>123</td>\n",
       "      <td>1568163</td>\n",
       "      <td>12503.0</td>\n",
       "      <td>1926</td>\n",
       "    </tr>\n",
       "  </tbody>\n",
       "</table>\n",
       "</div>"
      ],
      "text/plain": [
       "      patnum   permno  kpss_year\n",
       "84   1568124  12503.0       1926\n",
       "94   1568134  12503.0       1926\n",
       "102  1568142  10401.0       1926\n",
       "113  1568153  16029.0       1926\n",
       "123  1568163  12503.0       1926"
      ]
     },
     "execution_count": 15,
     "metadata": {},
     "output_type": "execute_result"
    }
   ],
   "source": [
    "kpss2.head()"
   ]
  },
  {
   "cell_type": "code",
   "execution_count": 16,
   "metadata": {},
   "outputs": [
    {
     "data": {
      "text/plain": [
       "patnum       1927658\n",
       "permno          7536\n",
       "kpss_year         85\n",
       "dtype: int64"
      ]
     },
     "execution_count": 16,
     "metadata": {},
     "output_type": "execute_result"
    }
   ],
   "source": [
    "kpss2.nunique()"
   ]
  },
  {
   "cell_type": "code",
   "execution_count": 17,
   "metadata": {},
   "outputs": [
    {
     "data": {
      "text/plain": [
       "'11Apr2020'"
      ]
     },
     "execution_count": 17,
     "metadata": {},
     "output_type": "execute_result"
    }
   ],
   "source": [
    "now = datetime.datetime.now()\n",
    "\n",
    "today =  (now.strftime(\"%d%b%Y\"))\n",
    "today"
   ]
  },
  {
   "cell_type": "code",
   "execution_count": 18,
   "metadata": {},
   "outputs": [
    {
     "data": {
      "text/plain": [
       "'new_kpss_clean_11Apr2020.csv'"
      ]
     },
     "execution_count": 18,
     "metadata": {},
     "output_type": "execute_result"
    }
   ],
   "source": [
    "name = \"new_kpss_clean_\" + today + \".csv\"\n",
    "name"
   ]
  },
  {
   "cell_type": "code",
   "execution_count": 19,
   "metadata": {},
   "outputs": [],
   "source": [
    "kpss2.to_csv(name, index = False)"
   ]
  }
 ],
 "metadata": {
  "kernelspec": {
   "display_name": "Python 3",
   "language": "python",
   "name": "python3"
  },
  "language_info": {
   "codemirror_mode": {
    "name": "ipython",
    "version": 3
   },
   "file_extension": ".py",
   "mimetype": "text/x-python",
   "name": "python",
   "nbconvert_exporter": "python",
   "pygments_lexer": "ipython3",
   "version": "3.7.4"
  }
 },
 "nbformat": 4,
 "nbformat_minor": 2
}
