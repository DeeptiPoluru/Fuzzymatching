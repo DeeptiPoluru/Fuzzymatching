{
 "cells": [
  {
   "cell_type": "markdown",
   "metadata": {},
   "source": [
    "# compute precision - recall \n",
    "\n",
    "input files: fuzzymatched_crsp_pv_30Apr20.csv, groundtruth_kpss_pv_crsp_28Apr20.csv"
   ]
  },
  {
   "cell_type": "code",
   "execution_count": 1,
   "metadata": {},
   "outputs": [],
   "source": [
    "import pandas as pd"
   ]
  },
  {
   "cell_type": "code",
   "execution_count": 2,
   "metadata": {},
   "outputs": [],
   "source": [
    "final = pd.read_csv(\"fuzzymatched_crsp_pv_30Apr20.csv\")"
   ]
  },
  {
   "cell_type": "code",
   "execution_count": 11,
   "metadata": {},
   "outputs": [
    {
     "name": "stderr",
     "output_type": "stream",
     "text": [
      "/opt/anaconda3/lib/python3.7/site-packages/IPython/core/interactiveshell.py:3058: DtypeWarning: Columns (36,37) have mixed types. Specify dtype option on import or set low_memory=False.\n",
      "  interactivity=interactivity, compiler=compiler, result=result)\n"
     ]
    }
   ],
   "source": [
    "#########load ground truth##################\n",
    "gt = pd.read_csv(\"groundtruth_kpss_pv_crsp_28Apr20.csv\")"
   ]
  },
  {
   "cell_type": "code",
   "execution_count": 18,
   "metadata": {},
   "outputs": [
    {
     "data": {
      "text/plain": [
       "Index(['COMNAM', 'PERMNO', 'Ratio', 'Token', 'assignee_id', 'avg_low',\n",
       "       'avg_new', 'comlow4', 'comlow_new', 'crsp', 'crsp_new', 'crsplen',\n",
       "       'crsplen_new', 'finalmatch', 'new_fpr', 'new_ratio', 'new_token',\n",
       "       'organization', 'orglow9', 'orglow_new', 'pv', 'pv_new', 'top2'],\n",
       "      dtype='object')"
      ]
     },
     "execution_count": 18,
     "metadata": {},
     "output_type": "execute_result"
    }
   ],
   "source": [
    "final.columns"
   ]
  },
  {
   "cell_type": "code",
   "execution_count": 1,
   "metadata": {},
   "outputs": [],
   "source": [
    "final[final['finalmatch']==True]['PERMNO'].nunique()"
   ]
  },
  {
   "cell_type": "code",
   "execution_count": 157,
   "metadata": {},
   "outputs": [
    {
     "data": {
      "text/plain": [
       "Index(['COMNAM', 'PERMNO', 'Ratio', 'Token', 'assignee_id', 'avg_low',\n",
       "       'avg_new', 'comlow4', 'comlow_new', 'crsp', 'crsp_new', 'crsplen',\n",
       "       'crsplen_new', 'finalmatch', 'new_fpr', 'new_ratio', 'new_token',\n",
       "       'organization', 'orglow9', 'orglow_new', 'pv', 'pv_new', 'top2'],\n",
       "      dtype='object')"
      ]
     },
     "execution_count": 157,
     "metadata": {},
     "output_type": "execute_result"
    }
   ],
   "source": [
    "final.columns"
   ]
  },
  {
   "cell_type": "code",
   "execution_count": 160,
   "metadata": {},
   "outputs": [
    {
     "data": {
      "text/html": [
       "<div>\n",
       "<style scoped>\n",
       "    .dataframe tbody tr th:only-of-type {\n",
       "        vertical-align: middle;\n",
       "    }\n",
       "\n",
       "    .dataframe tbody tr th {\n",
       "        vertical-align: top;\n",
       "    }\n",
       "\n",
       "    .dataframe thead th {\n",
       "        text-align: right;\n",
       "    }\n",
       "</style>\n",
       "<table border=\"1\" class=\"dataframe\">\n",
       "  <thead>\n",
       "    <tr style=\"text-align: right;\">\n",
       "      <th></th>\n",
       "      <th>avg</th>\n",
       "      <th>top2</th>\n",
       "      <th>avg_new</th>\n",
       "      <th>avg_low</th>\n",
       "    </tr>\n",
       "  </thead>\n",
       "  <tbody>\n",
       "    <tr>\n",
       "      <td>0</td>\n",
       "      <td>92.25</td>\n",
       "      <td>100.0</td>\n",
       "      <td>91.5</td>\n",
       "      <td>93.0</td>\n",
       "    </tr>\n",
       "    <tr>\n",
       "      <td>1</td>\n",
       "      <td>92.25</td>\n",
       "      <td>100.0</td>\n",
       "      <td>91.5</td>\n",
       "      <td>93.0</td>\n",
       "    </tr>\n",
       "    <tr>\n",
       "      <td>2</td>\n",
       "      <td>75.00</td>\n",
       "      <td>100.0</td>\n",
       "      <td>75.0</td>\n",
       "      <td>75.0</td>\n",
       "    </tr>\n",
       "    <tr>\n",
       "      <td>3</td>\n",
       "      <td>89.50</td>\n",
       "      <td>97.5</td>\n",
       "      <td>88.5</td>\n",
       "      <td>90.5</td>\n",
       "    </tr>\n",
       "    <tr>\n",
       "      <td>4</td>\n",
       "      <td>92.25</td>\n",
       "      <td>100.0</td>\n",
       "      <td>91.5</td>\n",
       "      <td>93.0</td>\n",
       "    </tr>\n",
       "    <tr>\n",
       "      <td>...</td>\n",
       "      <td>...</td>\n",
       "      <td>...</td>\n",
       "      <td>...</td>\n",
       "      <td>...</td>\n",
       "    </tr>\n",
       "    <tr>\n",
       "      <td>356019</td>\n",
       "      <td>86.50</td>\n",
       "      <td>100.0</td>\n",
       "      <td>100.0</td>\n",
       "      <td>73.0</td>\n",
       "    </tr>\n",
       "    <tr>\n",
       "      <td>356020</td>\n",
       "      <td>81.00</td>\n",
       "      <td>100.0</td>\n",
       "      <td>81.0</td>\n",
       "      <td>81.0</td>\n",
       "    </tr>\n",
       "    <tr>\n",
       "      <td>357432</td>\n",
       "      <td>75.25</td>\n",
       "      <td>83.5</td>\n",
       "      <td>83.5</td>\n",
       "      <td>67.0</td>\n",
       "    </tr>\n",
       "    <tr>\n",
       "      <td>357433</td>\n",
       "      <td>84.50</td>\n",
       "      <td>100.0</td>\n",
       "      <td>100.0</td>\n",
       "      <td>69.0</td>\n",
       "    </tr>\n",
       "    <tr>\n",
       "      <td>357434</td>\n",
       "      <td>61.00</td>\n",
       "      <td>78.5</td>\n",
       "      <td>68.0</td>\n",
       "      <td>54.0</td>\n",
       "    </tr>\n",
       "  </tbody>\n",
       "</table>\n",
       "<p>1444 rows × 4 columns</p>\n",
       "</div>"
      ],
      "text/plain": [
       "          avg   top2  avg_new  avg_low\n",
       "0       92.25  100.0     91.5     93.0\n",
       "1       92.25  100.0     91.5     93.0\n",
       "2       75.00  100.0     75.0     75.0\n",
       "3       89.50   97.5     88.5     90.5\n",
       "4       92.25  100.0     91.5     93.0\n",
       "...       ...    ...      ...      ...\n",
       "356019  86.50  100.0    100.0     73.0\n",
       "356020  81.00  100.0     81.0     81.0\n",
       "357432  75.25   83.5     83.5     67.0\n",
       "357433  84.50  100.0    100.0     69.0\n",
       "357434  61.00   78.5     68.0     54.0\n",
       "\n",
       "[1444 rows x 4 columns]"
      ]
     },
     "execution_count": 160,
     "metadata": {},
     "output_type": "execute_result"
    }
   ],
   "source": [
    "final[final['finalmatch']==True][['avg','top2','avg_new','avg_low']]"
   ]
  },
  {
   "cell_type": "code",
   "execution_count": 197,
   "metadata": {},
   "outputs": [
    {
     "data": {
      "text/plain": [
       "avg        54.25\n",
       "top2       73.00\n",
       "avg_new    44.50\n",
       "avg_low    42.00\n",
       "dtype: float64"
      ]
     },
     "execution_count": 197,
     "metadata": {},
     "output_type": "execute_result"
    }
   ],
   "source": [
    "final[final['finalmatch']==True][['avg','top2','avg_new','avg_low']].min()"
   ]
  },
  {
   "cell_type": "code",
   "execution_count": 178,
   "metadata": {},
   "outputs": [
    {
     "data": {
      "text/plain": [
       "avg         99.0\n",
       "top2       100.0\n",
       "avg_new    100.0\n",
       "avg_low     98.0\n",
       "dtype: float64"
      ]
     },
     "execution_count": 178,
     "metadata": {},
     "output_type": "execute_result"
    }
   ],
   "source": [
    "final[final['finalmatch']==True][['avg','top2','avg_new','avg_low']].max()"
   ]
  },
  {
   "cell_type": "code",
   "execution_count": 190,
   "metadata": {},
   "outputs": [],
   "source": [
    "final.loc[(final['finalmatch']==True)&(final['avg']==53.5),\"finalmatch\"] = False"
   ]
  },
  {
   "cell_type": "code",
   "execution_count": 198,
   "metadata": {},
   "outputs": [
    {
     "data": {
      "text/html": [
       "<div>\n",
       "<style scoped>\n",
       "    .dataframe tbody tr th:only-of-type {\n",
       "        vertical-align: middle;\n",
       "    }\n",
       "\n",
       "    .dataframe tbody tr th {\n",
       "        vertical-align: top;\n",
       "    }\n",
       "\n",
       "    .dataframe thead th {\n",
       "        text-align: right;\n",
       "    }\n",
       "</style>\n",
       "<table border=\"1\" class=\"dataframe\">\n",
       "  <thead>\n",
       "    <tr style=\"text-align: right;\">\n",
       "      <th></th>\n",
       "      <th>COMNAM</th>\n",
       "      <th>PERMNO</th>\n",
       "      <th>Ratio</th>\n",
       "      <th>Token</th>\n",
       "      <th>assignee_id</th>\n",
       "      <th>avg_low</th>\n",
       "      <th>avg_new</th>\n",
       "      <th>comlow4</th>\n",
       "      <th>comlow_new</th>\n",
       "      <th>crsp</th>\n",
       "      <th>...</th>\n",
       "      <th>new_fpr</th>\n",
       "      <th>new_ratio</th>\n",
       "      <th>new_token</th>\n",
       "      <th>organization</th>\n",
       "      <th>orglow9</th>\n",
       "      <th>orglow_new</th>\n",
       "      <th>pv</th>\n",
       "      <th>pv_new</th>\n",
       "      <th>top2</th>\n",
       "      <th>avg</th>\n",
       "    </tr>\n",
       "  </thead>\n",
       "  <tbody>\n",
       "    <tr>\n",
       "      <td>333945</td>\n",
       "      <td>VARIAN SEMICONDUCTOR EQP ASSC IN</td>\n",
       "      <td>86791.0</td>\n",
       "      <td>73.0</td>\n",
       "      <td>73.0</td>\n",
       "      <td>org_KR7FOBLR3HPi2m61bUSk</td>\n",
       "      <td>73.0</td>\n",
       "      <td>73.0</td>\n",
       "      <td>varian semiconductor eqp</td>\n",
       "      <td>varian semiconductor eqp</td>\n",
       "      <td>varian semiconductor eqp</td>\n",
       "      <td>...</td>\n",
       "      <td>92.0</td>\n",
       "      <td>73.0</td>\n",
       "      <td>73.0</td>\n",
       "      <td>Varian Semiconductr EquipmentAssociates, Inc.</td>\n",
       "      <td>varian semiconductr equipmentassociates</td>\n",
       "      <td>varian semiconductr equipmentassociates</td>\n",
       "      <td>varian semiconductr equipmentassociates</td>\n",
       "      <td>varian semiconductr equipmentassociates</td>\n",
       "      <td>73.0</td>\n",
       "      <td>73.0</td>\n",
       "    </tr>\n",
       "  </tbody>\n",
       "</table>\n",
       "<p>1 rows × 24 columns</p>\n",
       "</div>"
      ],
      "text/plain": [
       "                                  COMNAM   PERMNO  Ratio  Token  \\\n",
       "333945  VARIAN SEMICONDUCTOR EQP ASSC IN  86791.0   73.0   73.0   \n",
       "\n",
       "                     assignee_id  avg_low  avg_new                   comlow4  \\\n",
       "333945  org_KR7FOBLR3HPi2m61bUSk     73.0     73.0  varian semiconductor eqp   \n",
       "\n",
       "                      comlow_new                      crsp  ... new_fpr  \\\n",
       "333945  varian semiconductor eqp  varian semiconductor eqp  ...    92.0   \n",
       "\n",
       "        new_ratio  new_token                                   organization  \\\n",
       "333945       73.0       73.0  Varian Semiconductr EquipmentAssociates, Inc.   \n",
       "\n",
       "                                        orglow9  \\\n",
       "333945  varian semiconductr equipmentassociates   \n",
       "\n",
       "                                     orglow_new  \\\n",
       "333945  varian semiconductr equipmentassociates   \n",
       "\n",
       "                                             pv  \\\n",
       "333945  varian semiconductr equipmentassociates   \n",
       "\n",
       "                                         pv_new  top2   avg  \n",
       "333945  varian semiconductr equipmentassociates  73.0  73.0  \n",
       "\n",
       "[1 rows x 24 columns]"
      ]
     },
     "execution_count": 198,
     "metadata": {},
     "output_type": "execute_result"
    }
   ],
   "source": [
    "final.loc[(final['finalmatch']==True)&(final['top2']==73)] "
   ]
  },
  {
   "cell_type": "code",
   "execution_count": 221,
   "metadata": {},
   "outputs": [
    {
     "data": {
      "text/plain": [
       "True     1284\n",
       "False     338\n",
       "Name: finalmatch, dtype: int64"
      ]
     },
     "execution_count": 221,
     "metadata": {},
     "output_type": "execute_result"
    }
   ],
   "source": [
    "final[final['top2']>=73]['finalmatch'].value_counts()"
   ]
  },
  {
   "cell_type": "code",
   "execution_count": 279,
   "metadata": {},
   "outputs": [
    {
     "data": {
      "text/plain": [
       "48"
      ]
     },
     "execution_count": 279,
     "metadata": {},
     "output_type": "execute_result"
    }
   ],
   "source": [
    "final[(final['finalmatch']==True)&(final['pv'].isna())]['PERMNO'].nunique() #48"
   ]
  },
  {
   "cell_type": "code",
   "execution_count": 280,
   "metadata": {},
   "outputs": [
    {
     "data": {
      "text/plain": [
       "13"
      ]
     },
     "execution_count": 280,
     "metadata": {},
     "output_type": "execute_result"
    }
   ],
   "source": [
    "final[(final['finalmatch']==True)&(final['pv_new'].isna())]['PERMNO'].nunique() #13"
   ]
  },
  {
   "cell_type": "code",
   "execution_count": 283,
   "metadata": {},
   "outputs": [
    {
     "data": {
      "text/plain": [
       "40"
      ]
     },
     "execution_count": 283,
     "metadata": {},
     "output_type": "execute_result"
    }
   ],
   "source": [
    "final[final['finalmatch']==True]['top2'].isna().sum()"
   ]
  },
  {
   "cell_type": "code",
   "execution_count": 285,
   "metadata": {
    "collapsed": true
   },
   "outputs": [
    {
     "data": {
      "text/html": [
       "<div>\n",
       "<style scoped>\n",
       "    .dataframe tbody tr th:only-of-type {\n",
       "        vertical-align: middle;\n",
       "    }\n",
       "\n",
       "    .dataframe tbody tr th {\n",
       "        vertical-align: top;\n",
       "    }\n",
       "\n",
       "    .dataframe thead th {\n",
       "        text-align: right;\n",
       "    }\n",
       "</style>\n",
       "<table border=\"1\" class=\"dataframe\">\n",
       "  <thead>\n",
       "    <tr style=\"text-align: right;\">\n",
       "      <th></th>\n",
       "      <th>avg</th>\n",
       "      <th>avg_new</th>\n",
       "      <th>avg_low</th>\n",
       "      <th>top2</th>\n",
       "    </tr>\n",
       "  </thead>\n",
       "  <tbody>\n",
       "    <tr>\n",
       "      <td>262601</td>\n",
       "      <td>NaN</td>\n",
       "      <td>78.5</td>\n",
       "      <td>NaN</td>\n",
       "      <td>NaN</td>\n",
       "    </tr>\n",
       "    <tr>\n",
       "      <td>262604</td>\n",
       "      <td>NaN</td>\n",
       "      <td>71.5</td>\n",
       "      <td>NaN</td>\n",
       "      <td>NaN</td>\n",
       "    </tr>\n",
       "    <tr>\n",
       "      <td>262610</td>\n",
       "      <td>NaN</td>\n",
       "      <td>96.0</td>\n",
       "      <td>NaN</td>\n",
       "      <td>NaN</td>\n",
       "    </tr>\n",
       "    <tr>\n",
       "      <td>262612</td>\n",
       "      <td>NaN</td>\n",
       "      <td>85.5</td>\n",
       "      <td>NaN</td>\n",
       "      <td>NaN</td>\n",
       "    </tr>\n",
       "    <tr>\n",
       "      <td>273596</td>\n",
       "      <td>NaN</td>\n",
       "      <td>84.5</td>\n",
       "      <td>NaN</td>\n",
       "      <td>NaN</td>\n",
       "    </tr>\n",
       "    <tr>\n",
       "      <td>273880</td>\n",
       "      <td>NaN</td>\n",
       "      <td>100.0</td>\n",
       "      <td>NaN</td>\n",
       "      <td>NaN</td>\n",
       "    </tr>\n",
       "    <tr>\n",
       "      <td>274712</td>\n",
       "      <td>NaN</td>\n",
       "      <td>100.0</td>\n",
       "      <td>NaN</td>\n",
       "      <td>NaN</td>\n",
       "    </tr>\n",
       "    <tr>\n",
       "      <td>275222</td>\n",
       "      <td>NaN</td>\n",
       "      <td>100.0</td>\n",
       "      <td>NaN</td>\n",
       "      <td>NaN</td>\n",
       "    </tr>\n",
       "    <tr>\n",
       "      <td>276321</td>\n",
       "      <td>NaN</td>\n",
       "      <td>100.0</td>\n",
       "      <td>NaN</td>\n",
       "      <td>NaN</td>\n",
       "    </tr>\n",
       "    <tr>\n",
       "      <td>276515</td>\n",
       "      <td>NaN</td>\n",
       "      <td>100.0</td>\n",
       "      <td>NaN</td>\n",
       "      <td>NaN</td>\n",
       "    </tr>\n",
       "    <tr>\n",
       "      <td>276537</td>\n",
       "      <td>NaN</td>\n",
       "      <td>100.0</td>\n",
       "      <td>NaN</td>\n",
       "      <td>NaN</td>\n",
       "    </tr>\n",
       "    <tr>\n",
       "      <td>276612</td>\n",
       "      <td>NaN</td>\n",
       "      <td>100.0</td>\n",
       "      <td>NaN</td>\n",
       "      <td>NaN</td>\n",
       "    </tr>\n",
       "    <tr>\n",
       "      <td>276834</td>\n",
       "      <td>NaN</td>\n",
       "      <td>100.0</td>\n",
       "      <td>NaN</td>\n",
       "      <td>NaN</td>\n",
       "    </tr>\n",
       "    <tr>\n",
       "      <td>278221</td>\n",
       "      <td>NaN</td>\n",
       "      <td>100.0</td>\n",
       "      <td>NaN</td>\n",
       "      <td>NaN</td>\n",
       "    </tr>\n",
       "    <tr>\n",
       "      <td>278530</td>\n",
       "      <td>NaN</td>\n",
       "      <td>100.0</td>\n",
       "      <td>NaN</td>\n",
       "      <td>NaN</td>\n",
       "    </tr>\n",
       "    <tr>\n",
       "      <td>278701</td>\n",
       "      <td>NaN</td>\n",
       "      <td>100.0</td>\n",
       "      <td>NaN</td>\n",
       "      <td>NaN</td>\n",
       "    </tr>\n",
       "    <tr>\n",
       "      <td>278949</td>\n",
       "      <td>NaN</td>\n",
       "      <td>100.0</td>\n",
       "      <td>NaN</td>\n",
       "      <td>NaN</td>\n",
       "    </tr>\n",
       "    <tr>\n",
       "      <td>279749</td>\n",
       "      <td>NaN</td>\n",
       "      <td>100.0</td>\n",
       "      <td>NaN</td>\n",
       "      <td>NaN</td>\n",
       "    </tr>\n",
       "    <tr>\n",
       "      <td>280057</td>\n",
       "      <td>NaN</td>\n",
       "      <td>100.0</td>\n",
       "      <td>NaN</td>\n",
       "      <td>NaN</td>\n",
       "    </tr>\n",
       "    <tr>\n",
       "      <td>280313</td>\n",
       "      <td>NaN</td>\n",
       "      <td>100.0</td>\n",
       "      <td>NaN</td>\n",
       "      <td>NaN</td>\n",
       "    </tr>\n",
       "    <tr>\n",
       "      <td>280503</td>\n",
       "      <td>NaN</td>\n",
       "      <td>100.0</td>\n",
       "      <td>NaN</td>\n",
       "      <td>NaN</td>\n",
       "    </tr>\n",
       "    <tr>\n",
       "      <td>280917</td>\n",
       "      <td>NaN</td>\n",
       "      <td>100.0</td>\n",
       "      <td>NaN</td>\n",
       "      <td>NaN</td>\n",
       "    </tr>\n",
       "    <tr>\n",
       "      <td>281646</td>\n",
       "      <td>NaN</td>\n",
       "      <td>100.0</td>\n",
       "      <td>NaN</td>\n",
       "      <td>NaN</td>\n",
       "    </tr>\n",
       "    <tr>\n",
       "      <td>281728</td>\n",
       "      <td>NaN</td>\n",
       "      <td>100.0</td>\n",
       "      <td>NaN</td>\n",
       "      <td>NaN</td>\n",
       "    </tr>\n",
       "    <tr>\n",
       "      <td>281816</td>\n",
       "      <td>NaN</td>\n",
       "      <td>100.0</td>\n",
       "      <td>NaN</td>\n",
       "      <td>NaN</td>\n",
       "    </tr>\n",
       "    <tr>\n",
       "      <td>281897</td>\n",
       "      <td>NaN</td>\n",
       "      <td>100.0</td>\n",
       "      <td>NaN</td>\n",
       "      <td>NaN</td>\n",
       "    </tr>\n",
       "    <tr>\n",
       "      <td>289580</td>\n",
       "      <td>NaN</td>\n",
       "      <td>100.0</td>\n",
       "      <td>NaN</td>\n",
       "      <td>NaN</td>\n",
       "    </tr>\n",
       "    <tr>\n",
       "      <td>289582</td>\n",
       "      <td>NaN</td>\n",
       "      <td>75.0</td>\n",
       "      <td>NaN</td>\n",
       "      <td>NaN</td>\n",
       "    </tr>\n",
       "    <tr>\n",
       "      <td>289590</td>\n",
       "      <td>NaN</td>\n",
       "      <td>87.5</td>\n",
       "      <td>NaN</td>\n",
       "      <td>NaN</td>\n",
       "    </tr>\n",
       "    <tr>\n",
       "      <td>289592</td>\n",
       "      <td>NaN</td>\n",
       "      <td>75.0</td>\n",
       "      <td>NaN</td>\n",
       "      <td>NaN</td>\n",
       "    </tr>\n",
       "    <tr>\n",
       "      <td>308869</td>\n",
       "      <td>NaN</td>\n",
       "      <td>100.0</td>\n",
       "      <td>NaN</td>\n",
       "      <td>NaN</td>\n",
       "    </tr>\n",
       "    <tr>\n",
       "      <td>308880</td>\n",
       "      <td>NaN</td>\n",
       "      <td>91.0</td>\n",
       "      <td>NaN</td>\n",
       "      <td>NaN</td>\n",
       "    </tr>\n",
       "    <tr>\n",
       "      <td>308884</td>\n",
       "      <td>NaN</td>\n",
       "      <td>100.0</td>\n",
       "      <td>NaN</td>\n",
       "      <td>NaN</td>\n",
       "    </tr>\n",
       "    <tr>\n",
       "      <td>308887</td>\n",
       "      <td>NaN</td>\n",
       "      <td>91.0</td>\n",
       "      <td>NaN</td>\n",
       "      <td>NaN</td>\n",
       "    </tr>\n",
       "    <tr>\n",
       "      <td>333940</td>\n",
       "      <td>NaN</td>\n",
       "      <td>81.5</td>\n",
       "      <td>NaN</td>\n",
       "      <td>NaN</td>\n",
       "    </tr>\n",
       "    <tr>\n",
       "      <td>340450</td>\n",
       "      <td>NaN</td>\n",
       "      <td>81.5</td>\n",
       "      <td>NaN</td>\n",
       "      <td>NaN</td>\n",
       "    </tr>\n",
       "    <tr>\n",
       "      <td>340462</td>\n",
       "      <td>NaN</td>\n",
       "      <td>81.5</td>\n",
       "      <td>NaN</td>\n",
       "      <td>NaN</td>\n",
       "    </tr>\n",
       "    <tr>\n",
       "      <td>340463</td>\n",
       "      <td>NaN</td>\n",
       "      <td>82.0</td>\n",
       "      <td>NaN</td>\n",
       "      <td>NaN</td>\n",
       "    </tr>\n",
       "    <tr>\n",
       "      <td>340464</td>\n",
       "      <td>NaN</td>\n",
       "      <td>82.0</td>\n",
       "      <td>NaN</td>\n",
       "      <td>NaN</td>\n",
       "    </tr>\n",
       "    <tr>\n",
       "      <td>346965</td>\n",
       "      <td>NaN</td>\n",
       "      <td>100.0</td>\n",
       "      <td>NaN</td>\n",
       "      <td>NaN</td>\n",
       "    </tr>\n",
       "  </tbody>\n",
       "</table>\n",
       "</div>"
      ],
      "text/plain": [
       "        avg  avg_new  avg_low  top2\n",
       "262601  NaN     78.5      NaN   NaN\n",
       "262604  NaN     71.5      NaN   NaN\n",
       "262610  NaN     96.0      NaN   NaN\n",
       "262612  NaN     85.5      NaN   NaN\n",
       "273596  NaN     84.5      NaN   NaN\n",
       "273880  NaN    100.0      NaN   NaN\n",
       "274712  NaN    100.0      NaN   NaN\n",
       "275222  NaN    100.0      NaN   NaN\n",
       "276321  NaN    100.0      NaN   NaN\n",
       "276515  NaN    100.0      NaN   NaN\n",
       "276537  NaN    100.0      NaN   NaN\n",
       "276612  NaN    100.0      NaN   NaN\n",
       "276834  NaN    100.0      NaN   NaN\n",
       "278221  NaN    100.0      NaN   NaN\n",
       "278530  NaN    100.0      NaN   NaN\n",
       "278701  NaN    100.0      NaN   NaN\n",
       "278949  NaN    100.0      NaN   NaN\n",
       "279749  NaN    100.0      NaN   NaN\n",
       "280057  NaN    100.0      NaN   NaN\n",
       "280313  NaN    100.0      NaN   NaN\n",
       "280503  NaN    100.0      NaN   NaN\n",
       "280917  NaN    100.0      NaN   NaN\n",
       "281646  NaN    100.0      NaN   NaN\n",
       "281728  NaN    100.0      NaN   NaN\n",
       "281816  NaN    100.0      NaN   NaN\n",
       "281897  NaN    100.0      NaN   NaN\n",
       "289580  NaN    100.0      NaN   NaN\n",
       "289582  NaN     75.0      NaN   NaN\n",
       "289590  NaN     87.5      NaN   NaN\n",
       "289592  NaN     75.0      NaN   NaN\n",
       "308869  NaN    100.0      NaN   NaN\n",
       "308880  NaN     91.0      NaN   NaN\n",
       "308884  NaN    100.0      NaN   NaN\n",
       "308887  NaN     91.0      NaN   NaN\n",
       "333940  NaN     81.5      NaN   NaN\n",
       "340450  NaN     81.5      NaN   NaN\n",
       "340462  NaN     81.5      NaN   NaN\n",
       "340463  NaN     82.0      NaN   NaN\n",
       "340464  NaN     82.0      NaN   NaN\n",
       "346965  NaN    100.0      NaN   NaN"
      ]
     },
     "execution_count": 285,
     "metadata": {},
     "output_type": "execute_result"
    }
   ],
   "source": [
    "final[(final['finalmatch']==True)&(final['top2'].isna())][['avg','avg_new','avg_low','top2']]"
   ]
  },
  {
   "cell_type": "code",
   "execution_count": 537,
   "metadata": {},
   "outputs": [
    {
     "data": {
      "text/plain": [
       "PERMNO           431\n",
       "organization    1218\n",
       "COMNAM           437\n",
       "dtype: int64"
      ]
     },
     "execution_count": 537,
     "metadata": {},
     "output_type": "execute_result"
    }
   ],
   "source": [
    "## vary threshold value to get matches, verify agains ground truth to get precision and recall\n",
    "no = 80\n",
    "final[(final['finalmatch']==True)&\n",
    "      ((final['top2']>=no)&(~(final['top2'].isna()))|\n",
    "      ((final['top2'].isna())&((final['avg_new']>=no)|(final['avg_low']>=no)))) ][['PERMNO',\n",
    "                                                                                   'organization',\n",
    "                                                                                  'COMNAM']].nunique()"
   ]
  },
  {
   "cell_type": "code",
   "execution_count": null,
   "metadata": {},
   "outputs": [],
   "source": []
  }
 ],
 "metadata": {
  "kernelspec": {
   "display_name": "Python 3",
   "language": "python",
   "name": "python3"
  },
  "language_info": {
   "codemirror_mode": {
    "name": "ipython",
    "version": 3
   },
   "file_extension": ".py",
   "mimetype": "text/x-python",
   "name": "python",
   "nbconvert_exporter": "python",
   "pygments_lexer": "ipython3",
   "version": "3.7.4"
  }
 },
 "nbformat": 4,
 "nbformat_minor": 2
}
