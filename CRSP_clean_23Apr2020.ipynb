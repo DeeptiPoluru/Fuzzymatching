{
 "cells": [
  {
   "cell_type": "markdown",
   "metadata": {},
   "source": [
    "# Program to clean CRSP data \n",
    " Input files:\n",
    "\n",
    "\n",
    "\n",
    " - CRSP_Names_Data_Monthly.txt\n",
    " \n",
    " \n",
    " Output files: \n",
    "\n",
    "\n",
    " - crsp_clean_23Apr20.csv\n"
   ]
  },
  {
   "cell_type": "code",
   "execution_count": 1,
   "metadata": {},
   "outputs": [],
   "source": [
    "import pandas as pd\n",
    "import re\n",
    "from cleanco import cleanco\n",
    "from fuzzywuzzy import fuzz \n",
    "import numpy as np   \n",
    "import datetime"
   ]
  },
  {
   "cell_type": "code",
   "execution_count": 2,
   "metadata": {},
   "outputs": [
    {
     "data": {
      "text/plain": [
       "'28Apr2020'"
      ]
     },
     "execution_count": 2,
     "metadata": {},
     "output_type": "execute_result"
    }
   ],
   "source": [
    "now = datetime.datetime.now()\n",
    "\n",
    "today =  (now.strftime(\"%d%b%Y\"))\n",
    "today"
   ]
  },
  {
   "cell_type": "markdown",
   "metadata": {},
   "source": [
    "# CRSP data"
   ]
  },
  {
   "cell_type": "code",
   "execution_count": 3,
   "metadata": {},
   "outputs": [],
   "source": [
    "crsp = pd.read_csv('CRSP_Names_Data_Monthly.txt', sep = '\\t')"
   ]
  },
  {
   "cell_type": "code",
   "execution_count": 4,
   "metadata": {},
   "outputs": [
    {
     "data": {
      "text/html": [
       "<div>\n",
       "<style scoped>\n",
       "    .dataframe tbody tr th:only-of-type {\n",
       "        vertical-align: middle;\n",
       "    }\n",
       "\n",
       "    .dataframe tbody tr th {\n",
       "        vertical-align: top;\n",
       "    }\n",
       "\n",
       "    .dataframe thead th {\n",
       "        text-align: right;\n",
       "    }\n",
       "</style>\n",
       "<table border=\"1\" class=\"dataframe\">\n",
       "  <thead>\n",
       "    <tr style=\"text-align: right;\">\n",
       "      <th></th>\n",
       "      <th>PERMNO</th>\n",
       "      <th>date</th>\n",
       "      <th>SHRCD</th>\n",
       "      <th>EXCHCD</th>\n",
       "      <th>TICKER</th>\n",
       "      <th>COMNAM</th>\n",
       "      <th>SHRCLS</th>\n",
       "      <th>PERMCO</th>\n",
       "      <th>RET</th>\n",
       "    </tr>\n",
       "  </thead>\n",
       "  <tbody>\n",
       "    <tr>\n",
       "      <td>0</td>\n",
       "      <td>10000</td>\n",
       "      <td>19851231</td>\n",
       "      <td>NaN</td>\n",
       "      <td>NaN</td>\n",
       "      <td>NaN</td>\n",
       "      <td>NaN</td>\n",
       "      <td>NaN</td>\n",
       "      <td>7952</td>\n",
       "      <td>NaN</td>\n",
       "    </tr>\n",
       "    <tr>\n",
       "      <td>1</td>\n",
       "      <td>10000</td>\n",
       "      <td>19860131</td>\n",
       "      <td>10.0</td>\n",
       "      <td>3.0</td>\n",
       "      <td>OMFGA</td>\n",
       "      <td>OPTIMUM MANUFACTURING INC</td>\n",
       "      <td>A</td>\n",
       "      <td>7952</td>\n",
       "      <td>C</td>\n",
       "    </tr>\n",
       "    <tr>\n",
       "      <td>2</td>\n",
       "      <td>10000</td>\n",
       "      <td>19860228</td>\n",
       "      <td>10.0</td>\n",
       "      <td>3.0</td>\n",
       "      <td>OMFGA</td>\n",
       "      <td>OPTIMUM MANUFACTURING INC</td>\n",
       "      <td>A</td>\n",
       "      <td>7952</td>\n",
       "      <td>-0.257143</td>\n",
       "    </tr>\n",
       "    <tr>\n",
       "      <td>3</td>\n",
       "      <td>10000</td>\n",
       "      <td>19860331</td>\n",
       "      <td>10.0</td>\n",
       "      <td>3.0</td>\n",
       "      <td>OMFGA</td>\n",
       "      <td>OPTIMUM MANUFACTURING INC</td>\n",
       "      <td>A</td>\n",
       "      <td>7952</td>\n",
       "      <td>0.365385</td>\n",
       "    </tr>\n",
       "    <tr>\n",
       "      <td>4</td>\n",
       "      <td>10000</td>\n",
       "      <td>19860430</td>\n",
       "      <td>10.0</td>\n",
       "      <td>3.0</td>\n",
       "      <td>OMFGA</td>\n",
       "      <td>OPTIMUM MANUFACTURING INC</td>\n",
       "      <td>A</td>\n",
       "      <td>7952</td>\n",
       "      <td>-0.098592</td>\n",
       "    </tr>\n",
       "  </tbody>\n",
       "</table>\n",
       "</div>"
      ],
      "text/plain": [
       "   PERMNO      date  SHRCD  EXCHCD TICKER                     COMNAM SHRCLS  \\\n",
       "0   10000  19851231    NaN     NaN    NaN                        NaN    NaN   \n",
       "1   10000  19860131   10.0     3.0  OMFGA  OPTIMUM MANUFACTURING INC      A   \n",
       "2   10000  19860228   10.0     3.0  OMFGA  OPTIMUM MANUFACTURING INC      A   \n",
       "3   10000  19860331   10.0     3.0  OMFGA  OPTIMUM MANUFACTURING INC      A   \n",
       "4   10000  19860430   10.0     3.0  OMFGA  OPTIMUM MANUFACTURING INC      A   \n",
       "\n",
       "   PERMCO        RET  \n",
       "0    7952        NaN  \n",
       "1    7952          C  \n",
       "2    7952  -0.257143  \n",
       "3    7952   0.365385  \n",
       "4    7952  -0.098592  "
      ]
     },
     "execution_count": 4,
     "metadata": {},
     "output_type": "execute_result"
    }
   ],
   "source": [
    "crsp.head()"
   ]
  },
  {
   "cell_type": "code",
   "execution_count": 5,
   "metadata": {},
   "outputs": [
    {
     "data": {
      "text/plain": [
       "PERMNO     32985\n",
       "date        1117\n",
       "SHRCD         26\n",
       "EXCHCD        17\n",
       "TICKER     30616\n",
       "COMNAM     40493\n",
       "SHRCLS        16\n",
       "PERMCO     29481\n",
       "RET       432156\n",
       "dtype: int64"
      ]
     },
     "execution_count": 5,
     "metadata": {},
     "output_type": "execute_result"
    }
   ],
   "source": [
    "crsp.nunique()"
   ]
  },
  {
   "cell_type": "code",
   "execution_count": 6,
   "metadata": {},
   "outputs": [],
   "source": [
    "del crsp['SHRCD'],crsp['EXCHCD'],crsp['TICKER'],crsp['SHRCLS'], crsp['RET']"
   ]
  },
  {
   "cell_type": "markdown",
   "metadata": {},
   "source": [
    "# preparing crsp data"
   ]
  },
  {
   "cell_type": "code",
   "execution_count": 7,
   "metadata": {},
   "outputs": [],
   "source": [
    "crsp['date'] =crsp['date'].apply(lambda x : str(x))\n",
    "crsp['date'] = crsp['date'].apply(lambda x : x[:4]+\"-\"+x[4:6]+\"-\"+x[6:])"
   ]
  },
  {
   "cell_type": "code",
   "execution_count": 8,
   "metadata": {},
   "outputs": [
    {
     "data": {
      "text/plain": [
       "0          1985-12-31\n",
       "1          1986-01-31\n",
       "2          1986-02-28\n",
       "3          1986-03-31\n",
       "4          1986-04-30\n",
       "              ...    \n",
       "4514425    2018-08-31\n",
       "4514426    2018-09-28\n",
       "4514427    2018-10-31\n",
       "4514428    2018-11-30\n",
       "4514429    2018-12-31\n",
       "Name: date, Length: 4514430, dtype: object"
      ]
     },
     "execution_count": 8,
     "metadata": {},
     "output_type": "execute_result"
    }
   ],
   "source": [
    "crsp['date']"
   ]
  },
  {
   "cell_type": "code",
   "execution_count": 9,
   "metadata": {},
   "outputs": [],
   "source": [
    "crsp['date'] = pd.to_datetime(crsp['date'],format=\"%Y-%m-%d\")"
   ]
  },
  {
   "cell_type": "code",
   "execution_count": 10,
   "metadata": {},
   "outputs": [],
   "source": [
    "crsp['crsp_year'] = crsp['date'].dt.year"
   ]
  },
  {
   "cell_type": "code",
   "execution_count": 11,
   "metadata": {},
   "outputs": [
    {
     "data": {
      "text/plain": [
       "array([1925, 1926, 1927, 1928, 1929, 1930, 1931, 1932, 1933, 1934, 1935,\n",
       "       1936, 1937, 1938, 1939, 1940, 1941, 1942, 1943, 1944, 1945, 1946,\n",
       "       1947, 1948, 1949, 1950, 1951, 1952, 1953, 1954, 1955, 1956, 1957,\n",
       "       1958, 1959, 1960, 1961, 1962, 1963, 1964, 1965, 1966, 1967, 1968,\n",
       "       1969, 1970, 1971, 1972, 1973, 1974, 1975, 1976, 1977, 1978, 1979,\n",
       "       1980, 1981, 1982, 1983, 1984, 1985, 1986, 1987, 1988, 1989, 1990,\n",
       "       1991, 1992, 1993, 1994, 1995, 1996, 1997, 1998, 1999, 2000, 2001,\n",
       "       2002, 2003, 2004, 2005, 2006, 2007, 2008, 2009, 2010, 2011, 2012,\n",
       "       2013, 2014, 2015, 2016, 2017, 2018])"
      ]
     },
     "execution_count": 11,
     "metadata": {},
     "output_type": "execute_result"
    }
   ],
   "source": [
    "crsp['crsp_year'].sort_values().unique()"
   ]
  },
  {
   "cell_type": "code",
   "execution_count": 12,
   "metadata": {},
   "outputs": [
    {
     "data": {
      "text/plain": [
       "PERMNO           0\n",
       "date             0\n",
       "COMNAM       31257\n",
       "PERMCO           0\n",
       "crsp_year        0\n",
       "dtype: int64"
      ]
     },
     "execution_count": 12,
     "metadata": {},
     "output_type": "execute_result"
    }
   ],
   "source": [
    "crsp.isna().sum() #31257 comnam are null"
   ]
  },
  {
   "cell_type": "code",
   "execution_count": 13,
   "metadata": {},
   "outputs": [],
   "source": [
    "# remove na\n",
    "crsp2 = crsp[~crsp['COMNAM'].isna()] #40493 comnam unique"
   ]
  },
  {
   "cell_type": "code",
   "execution_count": 14,
   "metadata": {},
   "outputs": [
    {
     "data": {
      "text/plain": [
       "PERMNO       32985\n",
       "date          1117\n",
       "COMNAM       40493\n",
       "PERMCO       29481\n",
       "crsp_year       94\n",
       "dtype: int64"
      ]
     },
     "execution_count": 14,
     "metadata": {},
     "output_type": "execute_result"
    }
   ],
   "source": [
    "crsp2.nunique() #40493"
   ]
  },
  {
   "cell_type": "code",
   "execution_count": 15,
   "metadata": {},
   "outputs": [
    {
     "data": {
      "text/plain": [
       "PERMNO       0\n",
       "date         0\n",
       "COMNAM       0\n",
       "PERMCO       0\n",
       "crsp_year    0\n",
       "dtype: int64"
      ]
     },
     "execution_count": 15,
     "metadata": {},
     "output_type": "execute_result"
    }
   ],
   "source": [
    "crsp2.isna().sum()"
   ]
  },
  {
   "cell_type": "code",
   "execution_count": 16,
   "metadata": {},
   "outputs": [],
   "source": [
    "del crsp2['date']"
   ]
  },
  {
   "cell_type": "code",
   "execution_count": 17,
   "metadata": {},
   "outputs": [
    {
     "name": "stderr",
     "output_type": "stream",
     "text": [
      "/opt/anaconda3/lib/python3.7/site-packages/ipykernel_launcher.py:1: SettingWithCopyWarning: \n",
      "A value is trying to be set on a copy of a slice from a DataFrame.\n",
      "Try using .loc[row_indexer,col_indexer] = value instead\n",
      "\n",
      "See the caveats in the documentation: http://pandas.pydata.org/pandas-docs/stable/user_guide/indexing.html#returning-a-view-versus-a-copy\n",
      "  \"\"\"Entry point for launching an IPython kernel.\n"
     ]
    }
   ],
   "source": [
    "crsp2['crsp_year'] = crsp2['crsp_year'].astype(int)"
   ]
  },
  {
   "cell_type": "code",
   "execution_count": 18,
   "metadata": {},
   "outputs": [],
   "source": [
    "# select only crsp values from 1976-? \n",
    "crsp2 = crsp2[~crsp2['crsp_year'].isna()]\n"
   ]
  },
  {
   "cell_type": "code",
   "execution_count": 19,
   "metadata": {},
   "outputs": [
    {
     "data": {
      "text/plain": [
       "PERMNO       32985\n",
       "COMNAM       40493\n",
       "PERMCO       29481\n",
       "crsp_year       94\n",
       "dtype: int64"
      ]
     },
     "execution_count": 19,
     "metadata": {},
     "output_type": "execute_result"
    }
   ],
   "source": [
    "crsp2.nunique() #36656"
   ]
  },
  {
   "cell_type": "code",
   "execution_count": 20,
   "metadata": {},
   "outputs": [
    {
     "data": {
      "text/plain": [
       "4483173"
      ]
     },
     "execution_count": 20,
     "metadata": {},
     "output_type": "execute_result"
    }
   ],
   "source": [
    "len(crsp2)"
   ]
  },
  {
   "cell_type": "code",
   "execution_count": 21,
   "metadata": {},
   "outputs": [],
   "source": [
    "crsp2 = crsp2.drop_duplicates(keep = \"first\")"
   ]
  },
  {
   "cell_type": "code",
   "execution_count": 22,
   "metadata": {},
   "outputs": [
    {
     "data": {
      "text/plain": [
       "413474"
      ]
     },
     "execution_count": 22,
     "metadata": {},
     "output_type": "execute_result"
    }
   ],
   "source": [
    "len(crsp2) #413474"
   ]
  },
  {
   "cell_type": "code",
   "execution_count": 23,
   "metadata": {},
   "outputs": [],
   "source": [
    "##select only years after 1975\n",
    "\n",
    "crsp2 = crsp2[crsp2['crsp_year']>1975]"
   ]
  },
  {
   "cell_type": "code",
   "execution_count": 24,
   "metadata": {},
   "outputs": [
    {
     "data": {
      "text/plain": [
       "333162"
      ]
     },
     "execution_count": 24,
     "metadata": {},
     "output_type": "execute_result"
    }
   ],
   "source": [
    "len(crsp2) #333162"
   ]
  },
  {
   "cell_type": "code",
   "execution_count": 25,
   "metadata": {},
   "outputs": [],
   "source": [
    "##remove spaces between single characters. e.g. A C F INDUSTRIES == ACF INDUSTRIES\n",
    "regex = re.compile('(?<![a-zA-Z0-9]{2})(?<=[a-zA-Z0-9]{1}) +(?=[a-zA-Z0-9] |.$)')"
   ]
  },
  {
   "cell_type": "code",
   "execution_count": 26,
   "metadata": {},
   "outputs": [],
   "source": [
    "crsp2['COMNAM2'] = crsp2['COMNAM'].str.replace(regex, \"\")"
   ]
  },
  {
   "cell_type": "code",
   "execution_count": 27,
   "metadata": {},
   "outputs": [],
   "source": [
    "crsp2.loc[crsp2['COMNAM2'].str.contains(' PREM MUN INC FD'),'COMNAM2'] =crsp2.loc[crsp2['COMNAM2'].str.contains(' PREM MUN INC FD'),'COMNAM2'].str.replace(' PREM MUN INC FD',\" PREMIUM MUNICIPAL INCOME FUND\")\n",
    "crsp2.loc[crsp2['COMNAM2'].str.contains(' PREM INC RLTY FD'),'COMNAM2'] =crsp2.loc[crsp2['COMNAM2'].str.contains(' PREM INC RLTY FD'),'COMNAM2'].str.replace(' PREM INC RLTY FD',\" PREMIUM INCOME REALTY FUND\")\n",
    "crsp2.loc[crsp2['COMNAM2'].str.contains(' PREM INC MUN FD'),'COMNAM2'] =crsp2.loc[crsp2['COMNAM2'].str.contains(' PREM INC MUN FD'),'COMNAM2'].str.replace(' PREM INC MUN FD',\" PREMIUM INCOME MUNICIPAL FUND\")\n",
    "\n",
    "crsp2.loc[crsp2['COMNAM2'].str.contains(' DIV INC '),'COMNAM2'] =crsp2.loc[crsp2['COMNAM2'].str.contains(' DIV INC'),'COMNAM2'].str.replace(' DIV INC',\" DIVISION INCOME\")\n",
    "crsp2.loc[crsp2['COMNAM2'].str.contains(' PWR & LT'),'COMNAM2'] =crsp2.loc[crsp2['COMNAM2'].str.contains(' PWR & LT'),'COMNAM2'].str.replace(' PWR & LT',\" POWER & LIGHT\")\n",
    "crsp2.loc[crsp2['COMNAM2'].str.contains(' POWER & LT'),'COMNAM2'] =crsp2.loc[crsp2['COMNAM2'].str.contains(' POWER & LT'),'COMNAM2'].str.replace(' POWER & LT',\" POWER & LIGHT\")\n",
    "\n",
    "crsp2.loc[crsp2['COMNAM2'].str.contains(' SVGS '),'COMNAM2'] =crsp2.loc[crsp2['COMNAM2'].str.contains(' SVGS '),'COMNAM2'].str.replace(' SVGS ',\" SAVINGS \")\n",
    "\n",
    "crsp2.loc[crsp2['COMNAM2'].str.contains(' PR DIV FD '),'COMNAM2'] =crsp2.loc[crsp2['COMNAM2'].str.contains(' PR DIV FD '),'COMNAM2'].str.replace(' PR DIV FD ',\" PREMIUM DIVIDEND FUND \")\n",
    "\n",
    "crsp2.loc[crsp2['COMNAM2'].str.contains(' MUN INC '),'COMNAM2'] =crsp2.loc[crsp2['COMNAM2'].str.contains(' MUN INC '),'COMNAM2'].str.replace(' MUN INC ',\" MUNICIPAL INCOME \")\n",
    "\n",
    "crsp2.loc[crsp2['COMNAM2'].str.contains(' INFTN-LNKD OP&IN F'),'COMNAM2'] =crsp2.loc[crsp2['COMNAM2'].str.contains(' INFTN-LNKD OP&IN F'),'COMNAM2'].str.replace(' INFTN-LNKD OP&IN F',\" INFLATION-LINKED OPTIONS & INCOME FUND\")\n",
    "\n",
    "crsp2.loc[crsp2['COMNAM2'].str.contains(' INFLTN-LNKD '),'COMNAM2'] =crsp2.loc[crsp2['COMNAM2'].str.contains(' INFLTN-LNKD '),'COMNAM2'].str.replace(' INFLTN-LNKD ',\" INFLATION-LINKED \")\n",
    "\n",
    "crsp2.loc[crsp2['COMNAM2'].str.contains(' INC FD'),'COMNAM2'] =crsp2.loc[crsp2['COMNAM2'].str.contains(' INC FD'),'COMNAM2'].str.replace(' INC FD',\" INCOME FUND\")\n",
    "\n"
   ]
  },
  {
   "cell_type": "code",
   "execution_count": 28,
   "metadata": {},
   "outputs": [
    {
     "data": {
      "text/plain": [
       "PERMNO       30624\n",
       "COMNAM       36656\n",
       "PERMCO       27195\n",
       "crsp_year       43\n",
       "COMNAM2      36639\n",
       "dtype: int64"
      ]
     },
     "execution_count": 28,
     "metadata": {},
     "output_type": "execute_result"
    }
   ],
   "source": [
    "crsp2.nunique() #36639 COMNAM2"
   ]
  },
  {
   "cell_type": "code",
   "execution_count": 29,
   "metadata": {},
   "outputs": [],
   "source": [
    "crsp2['last'] = crsp2['COMNAM2'].apply(lambda x: x.split()[-1])\n",
    "l = crsp2['last'].value_counts() \n"
   ]
  },
  {
   "cell_type": "code",
   "execution_count": 30,
   "metadata": {},
   "outputs": [],
   "source": [
    "# l[(l>10)&(l<=15)].index"
   ]
  },
  {
   "cell_type": "code",
   "execution_count": 31,
   "metadata": {},
   "outputs": [],
   "source": [
    "# TR = trust, FD = fund; split after DE; AMER = america; ASSN = association; INVS = investments; \n",
    "# mktg = marketing; rlty = realty; SYS = systems; PPTYS = properties; natl = national; assoc = associates\n",
    "# svcs = services; labs = laboratories; assn = association; invt = investment;\n",
    "# HLDGS = holdings; secs = securities; wks = works; incm = income; rr = railroad; PTNR = partner\n",
    "# hldg = holding; brdrs = breeders ; bk = bank"
   ]
  },
  {
   "cell_type": "code",
   "execution_count": 32,
   "metadata": {},
   "outputs": [],
   "source": [
    "##last\n",
    "# 'INC', 'CORP', 'CO', 'LTD', 'NEW', 'PLC', 'LP',\n",
    "#        , 'SA', 'COMPANY', 'DEL', 'DE', 'IN',\n",
    "#        'NV', 'SAB DE CV', 'SHS', 'LIMITED''LLC','SPA',TECHNOLOGY', 'TECHNOLOGIES','AS','COR'\n",
    "#      'INTERNATIONAL','FSB','AB','COMPANIES','AB','THE','INTL','COS','AKTIEBOLAGET,'INCORPORATED',\n",
    "## 'AKTIENGESELLSCHAFT','AKTIEBOLAG',''\n"
   ]
  },
  {
   "cell_type": "code",
   "execution_count": 33,
   "metadata": {},
   "outputs": [],
   "source": [
    "#CT : \"GREENWICH CT\",\"NEW HAVEN CT\", \"HRFD CT\",\"PK CT\",\"WETHERSFIELD CT\",\"BRISTOL CT\",\"TORRINGTON CT\",\n",
    "#  \"NEW BRIT CT\",\"WALLINGFORD CT\",\"ASONIA CT\"\n",
    "#MA : \"NORTH QUINCY MA\",\"SOMERVILLE MA\",\"BRIGHTON MA\",\"LEOM MA\",\"NWT MA\",\"WORCESTER MA\",\"NRTHMPT MA\"\n",
    "        #\"BROCKTON MA\", \"BOSTON MA\", \"LOWELL MA\",\"BROCKTON MA\",\"MILFORD MA\",\"MA\"\n",
    "#MICH: TROY MICH, DETROIT MICH, MICH\n",
    "#VA: \"VIENNA VA\",\"RCH VA\",\"RICHMOND VA\",\"STAUNTON VA\",\"ALEX VA\",\"W VA\",\"WEST VA,VA\"\n",
    "#NC: \"CATAWBA NC\",\"CHR NC\",\"HICKORY NC\",\"SALIS NC\", \"GASTONIA NC\", \"RALEIGH NC\", \"NC\"\n",
    "#OH : \"CINCINNATTI OH\",\"NORTHERN OH\", \"MIDDLETOWN OH\", \"XENIA OH\", \"TOLEDO OH\", \"OH\"\n",
    "#GA : \"SOUTHEAST GA\", \"GA\"\n",
    "#TX: \"HOUSTON TX\",\"HOUS TX\", \"WACO TX\", \"DALLAS TX\",\"TX\"\n",
    "#NJ: \"S RIVER NJ\",\"HAMM NJ\",\"VINELAND NJ\",\"NEPTUNE NJ\",\"PARAMUS NJ\",\"NEWARK NJ\",\"SDLE BRK NJ\",\"PLAINFIELD NJ\",\n",
    "        #\"LINWOOD NJ\", \"CHERRY HILL NJ\",\"NJ\"\n",
    "#WA: BELLEVUE WA, \"TACOMA WA\",\"WA\"\n",
    "#Mass: \"QUINCY MASS\", \"HOLYOKE MASS\",\"CONCORD MASS\"\n",
    "#MN: \"MINTKA MN\",\"MN\"\n",
    "#TN: \"DICKSON TN\", \"COLUMBIA TN\",\"CHATT TN\",\"TULL TN\",\"TN\"\n",
    "#NY: \"ALBANY NY\",\"BROOKLYN NY\", \"MIDDLETOWN NY\",\"HMPSTEAD NY\",\"NY\"\n",
    "#LA: \"CALIF LA\",\"LA\"; FIRST INTERSTATE BANK OF S LA = retain\n",
    "#AL:\"DECATUR AL\",\"MONTGOMERY AL\",\"AL\"\n",
    "#NH: \"DOVER NH\",\"NASHUA NH\",\"PETERBOROUGH NH\"; PUBLIC SERVICE CO OF NH - retain\n",
    "#NE: \"OMAHA NE\",\"NE\"\n",
    "#WI: \"MILWAUKEE WI\",\"WI\" \n",
    "#AZ: \"PHOENIX AZ\",\"AZ\"\n",
    "#WV: \"CHARLES WV\",\"WV\"\n",
    "#MT : \"RCK MT\",\"ROCKEY MT\",\"MT\"\n",
    "#IN: \"IN\"\n",
    "#CA: \"SAN FRANCISCO CA\",\"PORTERVILLE CA\", \"IRVINE CA\", \"SAN FRAN CA\", \"SHERMAN OAKS CA\",\"ANAHEIM CA\" \n",
    " #       \"TUSTIN CA\", \"SAN JOSE CA\", \"SOUTHN CA\", \"GLE CA\", \"VISTA CA\", \"SHERMAN OAKS CA\",\"IRVINE CA\",\n",
    "        #\"SANTA ANA CA\",\"PORTERVILLE CA\", \"CA\"\n",
    "#CALIF:  SAN JOSE CALIF, CALIF,\n",
    "#WIS: NEW WIS, WIS\n",
    "#OKLA: OKLA\n",
    "#NL : NL\n",
    "#ME ; PORTLAND ME, ME\n",
    "#TENN: TENN\n",
    "#CONN: NEW BRITAIN CONN, HEW HAVEN CONN, CONN\n",
    "#FL : MIAMI FL, CHARL FL, PERRY FL, FT LAUD FL, DEF FL,BRKSVL FL, FL\n",
    "#OHIO: OHIO\n",
    "#FLA: FLA\n",
    "#MINN: MINN\n",
    "#ME : ME\n",
    "#NEV: NEV\n",
    "#WY: WY\n",
    "#BERMUDA: BERMUDA\n",
    "#DC: WASHINGTON DC, WASH DC, DC\n",
    "#OR: COOS BAY OR, OR\n",
    "#ILL : ILL\n",
    "#QUEBEC: QUEBEC\n",
    "#QUE: \n",
    "#CANADA: CANADA\n",
    "#USA: BOSTON USA, USA\n",
    "#BOSTON: BOSTON\n",
    "#BOSTN: BOSTN\n",
    "#NEW ORLEANS: NEW ORLEANS\n",
    "#NEW ZEALAND: NEW ZEALAND\n",
    "#OK: OK\n",
    "#AK: AK\n",
    "#S AFRICA: S AFRICA\n",
    "#WASH SEATTLE: WASH SEATTLE, PUGET SOUND SEATTLE, SEATTLE\n",
    "#NORTH AMERICA: NORTH AMERICA; change amer to america and then if of america or of amer - don't\n",
    "#CALIFORNIA:CALIFORNIA\n",
    "#CONN WATERBURY: CONN WATERBURY\n",
    "#BRIDGEPORT: BRIDGEPORT\n",
    "#ARIZ: ARIZ\n",
    "#KANSAS: KANSAS\n",
    "#PENNSYLVANIA, PENNSYLVANIA\n",
    "#JAPAN: JAPAN\n",
    "#ISRAEL TEL AVIV: ISRAEL TEL AVIV\n",
    "#SANTA BARBARA: SANTA BARBAR\n",
    "#IRELAND: IRELAND\n",
    "#IOWA: IOWA\n",
    "#UT: UT\n",
    "#SAN FRAN: SAN FRAN\n",
    "#MT: ROCKEY MT, RCK MT, MT\n",
    "#ATLANTA: GA ATLANTA,  ATLANTA\n",
    "#CAL: CAL\n",
    "#MO: LEBANON MO, MO; of MO\n",
    "#NM: CLOVIS NM, NM\n",
    "#COLO, FA, MS, TAMPA"
   ]
  },
  {
   "cell_type": "code",
   "execution_count": 34,
   "metadata": {},
   "outputs": [],
   "source": [
    "##standardize words\n",
    "crsp2['COMNAM2'] = crsp2['COMNAM2'].str.replace(\" AMER$\",\" AMERICA\")\n",
    "crsp2['COMNAM2'] = crsp2['COMNAM2'].str.replace(\" AMER \",\" AMERICA \")"
   ]
  },
  {
   "cell_type": "code",
   "execution_count": 35,
   "metadata": {},
   "outputs": [
    {
     "data": {
      "text/html": [
       "<div>\n",
       "<style scoped>\n",
       "    .dataframe tbody tr th:only-of-type {\n",
       "        vertical-align: middle;\n",
       "    }\n",
       "\n",
       "    .dataframe tbody tr th {\n",
       "        vertical-align: top;\n",
       "    }\n",
       "\n",
       "    .dataframe thead th {\n",
       "        text-align: right;\n",
       "    }\n",
       "</style>\n",
       "<table border=\"1\" class=\"dataframe\">\n",
       "  <thead>\n",
       "    <tr style=\"text-align: right;\">\n",
       "      <th></th>\n",
       "      <th>PERMNO</th>\n",
       "      <th>COMNAM</th>\n",
       "      <th>PERMCO</th>\n",
       "      <th>crsp_year</th>\n",
       "      <th>COMNAM2</th>\n",
       "      <th>last</th>\n",
       "    </tr>\n",
       "  </thead>\n",
       "  <tbody>\n",
       "    <tr>\n",
       "      <td>36717</td>\n",
       "      <td>10215</td>\n",
       "      <td>UNITED STATES VIDEO VENDING CORP</td>\n",
       "      <td>8052</td>\n",
       "      <td>1986</td>\n",
       "      <td>UNITED STATES VIDEO VENDING CORP</td>\n",
       "      <td>CORP</td>\n",
       "    </tr>\n",
       "    <tr>\n",
       "      <td>36725</td>\n",
       "      <td>10215</td>\n",
       "      <td>UNITED STATES VIDEO VENDING CORP</td>\n",
       "      <td>8052</td>\n",
       "      <td>1987</td>\n",
       "      <td>UNITED STATES VIDEO VENDING CORP</td>\n",
       "      <td>CORP</td>\n",
       "    </tr>\n",
       "    <tr>\n",
       "      <td>128208</td>\n",
       "      <td>10803</td>\n",
       "      <td>UNITED STATES FACILITIES CORP</td>\n",
       "      <td>8696</td>\n",
       "      <td>1986</td>\n",
       "      <td>UNITED STATES FACILITIES CORP</td>\n",
       "      <td>CORP</td>\n",
       "    </tr>\n",
       "    <tr>\n",
       "      <td>128211</td>\n",
       "      <td>10803</td>\n",
       "      <td>UNITED STATES FACILITIES CORP</td>\n",
       "      <td>8696</td>\n",
       "      <td>1987</td>\n",
       "      <td>UNITED STATES FACILITIES CORP</td>\n",
       "      <td>CORP</td>\n",
       "    </tr>\n",
       "    <tr>\n",
       "      <td>128223</td>\n",
       "      <td>10803</td>\n",
       "      <td>UNITED STATES FACILITIES CORP</td>\n",
       "      <td>8696</td>\n",
       "      <td>1988</td>\n",
       "      <td>UNITED STATES FACILITIES CORP</td>\n",
       "      <td>CORP</td>\n",
       "    </tr>\n",
       "    <tr>\n",
       "      <td>...</td>\n",
       "      <td>...</td>\n",
       "      <td>...</td>\n",
       "      <td>...</td>\n",
       "      <td>...</td>\n",
       "      <td>...</td>\n",
       "      <td>...</td>\n",
       "    </tr>\n",
       "    <tr>\n",
       "      <td>4513569</td>\n",
       "      <td>93425</td>\n",
       "      <td>UNITED STATES BRENT OIL FUND LP</td>\n",
       "      <td>53442</td>\n",
       "      <td>2014</td>\n",
       "      <td>UNITED STATES BRENT OIL FUND LP</td>\n",
       "      <td>LP</td>\n",
       "    </tr>\n",
       "    <tr>\n",
       "      <td>4513581</td>\n",
       "      <td>93425</td>\n",
       "      <td>UNITED STATES BRENT OIL FUND LP</td>\n",
       "      <td>53442</td>\n",
       "      <td>2015</td>\n",
       "      <td>UNITED STATES BRENT OIL FUND LP</td>\n",
       "      <td>LP</td>\n",
       "    </tr>\n",
       "    <tr>\n",
       "      <td>4513593</td>\n",
       "      <td>93425</td>\n",
       "      <td>UNITED STATES BRENT OIL FUND LP</td>\n",
       "      <td>53442</td>\n",
       "      <td>2016</td>\n",
       "      <td>UNITED STATES BRENT OIL FUND LP</td>\n",
       "      <td>LP</td>\n",
       "    </tr>\n",
       "    <tr>\n",
       "      <td>4513605</td>\n",
       "      <td>93425</td>\n",
       "      <td>UNITED STATES BRENT OIL FUND LP</td>\n",
       "      <td>53442</td>\n",
       "      <td>2017</td>\n",
       "      <td>UNITED STATES BRENT OIL FUND LP</td>\n",
       "      <td>LP</td>\n",
       "    </tr>\n",
       "    <tr>\n",
       "      <td>4513617</td>\n",
       "      <td>93425</td>\n",
       "      <td>UNITED STATES BRENT OIL FUND LP</td>\n",
       "      <td>53442</td>\n",
       "      <td>2018</td>\n",
       "      <td>UNITED STATES BRENT OIL FUND LP</td>\n",
       "      <td>LP</td>\n",
       "    </tr>\n",
       "  </tbody>\n",
       "</table>\n",
       "<p>626 rows × 6 columns</p>\n",
       "</div>"
      ],
      "text/plain": [
       "         PERMNO                            COMNAM  PERMCO  crsp_year  \\\n",
       "36717     10215  UNITED STATES VIDEO VENDING CORP    8052       1986   \n",
       "36725     10215  UNITED STATES VIDEO VENDING CORP    8052       1987   \n",
       "128208    10803     UNITED STATES FACILITIES CORP    8696       1986   \n",
       "128211    10803     UNITED STATES FACILITIES CORP    8696       1987   \n",
       "128223    10803     UNITED STATES FACILITIES CORP    8696       1988   \n",
       "...         ...                               ...     ...        ...   \n",
       "4513569   93425   UNITED STATES BRENT OIL FUND LP   53442       2014   \n",
       "4513581   93425   UNITED STATES BRENT OIL FUND LP   53442       2015   \n",
       "4513593   93425   UNITED STATES BRENT OIL FUND LP   53442       2016   \n",
       "4513605   93425   UNITED STATES BRENT OIL FUND LP   53442       2017   \n",
       "4513617   93425   UNITED STATES BRENT OIL FUND LP   53442       2018   \n",
       "\n",
       "                                  COMNAM2  last  \n",
       "36717    UNITED STATES VIDEO VENDING CORP  CORP  \n",
       "36725    UNITED STATES VIDEO VENDING CORP  CORP  \n",
       "128208      UNITED STATES FACILITIES CORP  CORP  \n",
       "128211      UNITED STATES FACILITIES CORP  CORP  \n",
       "128223      UNITED STATES FACILITIES CORP  CORP  \n",
       "...                                   ...   ...  \n",
       "4513569   UNITED STATES BRENT OIL FUND LP    LP  \n",
       "4513581   UNITED STATES BRENT OIL FUND LP    LP  \n",
       "4513593   UNITED STATES BRENT OIL FUND LP    LP  \n",
       "4513605   UNITED STATES BRENT OIL FUND LP    LP  \n",
       "4513617   UNITED STATES BRENT OIL FUND LP    LP  \n",
       "\n",
       "[626 rows x 6 columns]"
      ]
     },
     "execution_count": 35,
     "metadata": {},
     "output_type": "execute_result"
    }
   ],
   "source": [
    "crsp2[crsp2['COMNAM'].str.startswith(\"UNITED STATES\")]"
   ]
  },
  {
   "cell_type": "code",
   "execution_count": 36,
   "metadata": {},
   "outputs": [],
   "source": [
    "# PUBLIC SERVICE CO OF NH - retain; amer to america and don't change if of america"
   ]
  },
  {
   "cell_type": "code",
   "execution_count": 37,
   "metadata": {},
   "outputs": [],
   "source": [
    "## remove geographic terms at end of company names\n",
    "\n",
    "def geoend(column, col):\n",
    "    \n",
    "    geo = [\"NORTH QUINCY MA\",\"SOMERVILLE MA\",\"BRIGHTON MA\",\"LEOM MA\",\"NWT MA\",\"WORCESTER MA\",\"NRTHMPT MA\"\n",
    "            \"BROCKTON MA\", \"BOSTON MA\", \"LOWELL MA\",\"BROCKTON MA\",\"MILFORD MA\",\"MA\", \"VIENNA VA\",\"RCH VA\",\n",
    "           \"RICHMOND VA\",\"STAUNTON VA\",\"ALEX VA\",\"W VA\",\"VA\",\"CATAWBA NC\",\"CHR NC\",\"HICKORY NC\",\"SALIS NC\", \n",
    "           \"GASTONIA NC\", \"RALEIGH NC\", \"NC\",\"CINCINNATTI OH\",\"NORTHERN OH\", \"MIDDLETOWN OH\", \"XENIA OH\", \n",
    "           \"TOLEDO OH\", \"OH\", \"SOUTHEAST GA\", \"GA\",\"HOUSTON TX\",\"HOUS TX\", \"WACO TX\", \"DALLAS TX\",\"TX\",\n",
    "           \"S RIVER NJ\",\"HAMM NJ\",\"VINELAND NJ\",\"NEPTUNE NJ\",\"PARAMUS NJ\",\"NEWARK NJ\",\"SDLE BRK NJ\",\"PLAINFIELD NJ\",\n",
    "            \"LINWOOD NJ\", \"CHERRY HILL NJ\",\"NJ\",\"BELLEVUE WA\", \"TACOMA WA\",\"WA\",\"QUINCY MASS\", \"HOLYOKE MASS\",\n",
    "           \"CONCORD MASS\",\"MINTKA MN\",\"MN\",\"DICKSON TN\", \"COLUMBIA TN\",\"CHATT TN\",\"TULL TN\",\"TN\",\"ALBANY NY\",\n",
    "           \"BROOKLYN NY\", \"MIDDLETOWN NY\",\"HMPSTEAD NY\",\"NY\",\"CALIF LA\",\"LA\", \"DECATUR AL\",\"MONTGOMERY AL\",\"AL\",\n",
    "           \"DOVER NH\",\"NASHUA NH\",\"PETERBOROUGH NH\",\"NH\", \"OMAHA NE\",\"NE\",\"MILWAUKEE WI\",\"WI\" , \"PHOENIX AZ\",\"AZ\",\n",
    "           \"CHARLES WV\",\"WV\",\"RCK MT\",\"ROCKEY MT\",\"MT\",\"IN\", \"SAN FRANCISCO CA\",\"PORTERVILLE CA\", \"IRVINE CA\", \n",
    "           \"SAN FRAN CA\", \"SHERMAN OAKS CA\",\"ANAHEIM CA\" , \"TUSTIN CA\", \"SAN JOSE CA\", \"SOUTHN CA\", \"GLE CA\", \n",
    "           \"VISTA CA\", \"SHERMAN OAKS CA\",\"IRVINE CA\",\"SANTA ANA CA\",\"PORTERVILLE CA\",\"CA\", \"SAN JOSE CALIF\", \"CALIF\",\n",
    "           \"NEW WIS\", \"WIS\", \"OKLA\", \"NL\", \"PORTLAND ME\", \"ME\", \"TENN\", \"NEW BRITAIN CONN\", \"HEW HAVEN CONN\", \"CONN\", \n",
    "           \"MIAMI FL\", \"CHARL FL\", \"PERRY FL\", \"FT LAUD FL\", \"DEF FL\",\"BRKSVL FL\", \"FL\", \"OHIO\", \"FLA\", \"MINN\", \"ME\", \n",
    "           \"NEV\", \"WY\", \"BERMUDA\", \"WASHINGTON DC\",\"WASH DC\", \"DC\", \"COOS BAY OR\", \"OR\", \"ILL\", \"QUEBEC\", \"CANADA\", \n",
    "           \"BOSTON USA\", \"USA\", \"BOSTON\", \"BOSTN\", \"NEW ORLEANS\",\"NEW ZEALAND\",\n",
    "           \"OK\", \"AK\", \"S AFRICA\", \"WASH SEATTLE\", \"PUGET SOUND SEATTLE\", \"SEATTLE,NORTH AMERICA\", \"CALIFORNIA\", \n",
    "           \"CONN WATERBURY\",\"BRIDGEPORT\", \"ARIZ\", \"KANSAS\", \"PENNSYLVANIA\", \"JAPAN\", \"ISRAEL TEL AVIV\", \n",
    "           \"SANTA BARBAR\", \"IRELAND\", \"IOWA\", \"UT\", \"SAN FRAN\",\n",
    "          \"ROCKEY MT\", \"RCK MT\", \"MT\", \"GA ATLANTA\",  \"ATLANTA\",\"WEST VA\",\"CAL\",\n",
    "          \"TROY MICH\", \"DETROIT MICH\", \"MICH\",\"LEBANON MO\", \"MO\",\"CLOVIS NM\",\"NM\",\"N A LOS ANGELES\",\"N Y\",\n",
    "          \"NWPT KY\", \"ELIZABH KY\", \"KY\",\"GREENWICH CT\",\"NEW HAVEN CT\", \"HRFD CT\",\"PK CT\",\"WETHERSFIELD CT\",\n",
    "           \"BRISTOL CT\",\"TORRINGTON CT\", \"NEW BRIT CT\",\"WALLINGFORD CT\",\"ASONIA CT\", \"CT\", \"IND\", \n",
    "           \"STHPLD MI\",\"MI\",\"VA BCH\", \"GA WINDER\",\"DEL\",'COLO','FA','MS','TAMPA','NORTH AMERICA','AMERICA','NORTH AMERICAN']\n",
    "\n",
    "    geo2 = []\n",
    "    for i in geo:\n",
    "            geo2.append(\" \" +i)\n",
    "\n",
    "\n",
    "    for each in geo2:\n",
    "            if (len(crsp2[crsp2[column].str.endswith(each)]) >0 ):\n",
    "\n",
    "                    print(each,len(crsp2[crsp2[column].str.endswith(each)]) )\n",
    "\n",
    "                    y = each+\"$\"\n",
    "                    crsp2.loc[(crsp2[column].str.endswith(each))&(~(crsp2[column].str.endswith(\"of\"+ each)))\n",
    "                                                                  &(~(crsp2[column].str.endswith(\"of the\"+ each))) ,\n",
    "                              col] =  crsp2.loc[(crsp2[column].str.endswith(each))&(~(crsp2[column].str.endswith(\"of\"+ each)))\n",
    "                                                                  &(~(crsp2[column].str.endswith(\"of the\"+ each))) ,column].str.replace(y,\"\")\n",
    "\n",
    "                    crsp2[column] = crsp2[column].apply(lambda x : x.strip())\n",
    "                    \n"
   ]
  },
  {
   "cell_type": "code",
   "execution_count": 38,
   "metadata": {
    "scrolled": true
   },
   "outputs": [
    {
     "name": "stdout",
     "output_type": "stream",
     "text": [
      " NORTH QUINCY MA 6\n",
      " SOMERVILLE MA 3\n",
      " BRIGHTON MA 5\n",
      " LEOM MA 4\n",
      " NWT MA 7\n",
      " WORCESTER MA 3\n",
      " BOSTON MA 12\n",
      " LOWELL MA 5\n",
      " BROCKTON MA 11\n",
      " MILFORD MA 5\n",
      " MA 241\n",
      " VIENNA VA 5\n",
      " RCH VA 6\n",
      " RICHMOND VA 2\n",
      " STAUNTON VA 5\n",
      " ALEX VA 6\n",
      " W VA 4\n",
      " VA 271\n",
      " CATAWBA NC 15\n",
      " CHR NC 5\n",
      " HICKORY NC 1\n",
      " SALIS NC 1\n",
      " GASTONIA NC 1\n",
      " RALEIGH NC 7\n",
      " NC 220\n",
      " CINCINNATTI OH 6\n",
      " NORTHERN OH 4\n",
      " MIDDLETOWN OH 4\n",
      " XENIA OH 4\n",
      " TOLEDO OH 5\n",
      " OH 253\n",
      " SOUTHEAST GA 8\n",
      " GA 243\n",
      " HOUSTON TX 12\n",
      " HOUS TX 4\n",
      " WACO TX 2\n",
      " DALLAS TX 12\n",
      " TX 219\n",
      " S RIVER NJ 5\n",
      " HAMM NJ 3\n",
      " VINELAND NJ 2\n",
      " NEPTUNE NJ 3\n",
      " PARAMUS NJ 5\n",
      " NEWARK NJ 10\n",
      " SDLE BRK NJ 5\n",
      " PLAINFIELD NJ 13\n",
      " LINWOOD NJ 4\n",
      " CHERRY HILL NJ 5\n",
      " NJ 280\n",
      " BELLEVUE WA 23\n",
      " TACOMA WA 5\n",
      " WA 186\n",
      " QUINCY MASS 7\n",
      " HOLYOKE MASS 4\n",
      " CONCORD MASS 9\n",
      " MINTKA MN 11\n",
      " MN 94\n",
      " DICKSON TN 2\n",
      " COLUMBIA TN 5\n",
      " CHATT TN 10\n",
      " TULL TN 6\n",
      " TN 78\n",
      " ALBANY NY 15\n",
      " BROOKLYN NY 5\n",
      " MIDDLETOWN NY 5\n",
      " HMPSTEAD NY 1\n",
      " NY 545\n",
      " CALIF LA 3\n",
      " LA 53\n",
      " DECATUR AL 6\n",
      " MONTGOMERY AL 3\n",
      " AL 39\n",
      " DOVER NH 6\n",
      " NASHUA NH 5\n",
      " PETERBOROUGH NH 3\n",
      " NH 30\n",
      " OMAHA NE 5\n",
      " NE 39\n",
      " MILWAUKEE WI 2\n",
      " WI 39\n",
      " PHOENIX AZ 4\n",
      " AZ 25\n",
      " CHARLES WV 6\n",
      " WV 23\n",
      " RCK MT 4\n",
      " ROCKEY MT 1\n",
      " MT 13\n",
      " IN 1102\n",
      " SAN FRANCISCO CA 18\n",
      " PORTERVILLE CA 3\n",
      " IRVINE CA 2\n",
      " SAN FRAN CA 5\n",
      " SHERMAN OAKS CA 7\n",
      " ANAHEIM CA 2\n",
      " TUSTIN CA 1\n",
      " SAN JOSE CA 3\n",
      " SOUTHN CA 2\n",
      " GLE CA 2\n",
      " VISTA CA 4\n",
      " SANTA ANA CA 4\n",
      " CA 482\n",
      " SAN JOSE CALIF 1\n",
      " CALIF 73\n",
      " NEW WIS 4\n",
      " WIS 67\n",
      " OKLA 68\n",
      " NL 102\n",
      " PORTLAND ME 3\n",
      " ME 54\n",
      " TENN 50\n",
      " NEW BRITAIN CONN 5\n",
      " HEW HAVEN CONN 3\n",
      " CONN 42\n",
      " MIAMI FL 18\n",
      " CHARL FL 5\n",
      " PERRY FL 4\n",
      " FT LAUD FL 5\n",
      " DEF FL 5\n",
      " BRKSVL FL 4\n",
      " FL 268\n",
      " OHIO 195\n",
      " FLA 99\n",
      " MINN 91\n",
      " NEV 44\n",
      " WY 43\n",
      " BERMUDA 42\n",
      " WASHINGTON DC 28\n",
      " WASH DC 39\n",
      " DC 1\n",
      " COOS BAY OR 12\n",
      " OR 23\n",
      " ILL 30\n",
      " QUEBEC 27\n",
      " CANADA 25\n",
      " BOSTON USA 1\n",
      " USA 22\n",
      " BOSTON 23\n",
      " BOSTN 23\n",
      " NEW ORLEANS 23\n",
      " NEW ZEALAND 22\n",
      " OK 21\n",
      " AK 24\n",
      " S AFRICA 24\n",
      " WASH SEATTLE 5\n",
      " PUGET SOUND SEATTLE 5\n",
      " CALIFORNIA 21\n",
      " CONN WATERBURY 21\n",
      " BRIDGEPORT 20\n",
      " ARIZ 20\n",
      " KANSAS 16\n",
      " PENNSYLVANIA 16\n",
      " JAPAN 16\n",
      " ISRAEL TEL AVIV 16\n",
      " IRELAND 18\n",
      " IOWA 17\n",
      " UT 18\n",
      " SAN FRAN 18\n",
      " GA ATLANTA 15\n",
      " ATLANTA 3\n",
      " CAL 25\n",
      " TROY MICH 9\n",
      " DETROIT MICH 8\n",
      " MICH 37\n",
      " LEBANON MO 6\n",
      " MO 46\n",
      " CLOVIS NM 11\n",
      " NM 43\n",
      " NWPT KY 4\n",
      " ELIZABH KY 4\n",
      " KY 107\n",
      " GREENWICH CT 19\n",
      " NEW HAVEN CT 7\n",
      " HRFD CT 4\n",
      " PK CT 5\n",
      " WETHERSFIELD CT 3\n",
      " BRISTOL CT 2\n",
      " TORRINGTON CT 6\n",
      " NEW BRIT CT 4\n",
      " WALLINGFORD CT 3\n",
      " ASONIA CT 10\n",
      " CT 122\n",
      " IND 136\n",
      " STHPLD MI 3\n",
      " MI 112\n",
      " VA BCH 5\n",
      " GA WINDER 6\n",
      " DEL 1498\n",
      " COLO 45\n",
      " FA 35\n",
      " MS 34\n",
      " TAMPA 15\n",
      " NORTH AMERICA 41\n",
      " AMERICA 726\n"
     ]
    }
   ],
   "source": [
    "geoend('COMNAM2','COMNAM2')"
   ]
  },
  {
   "cell_type": "code",
   "execution_count": 39,
   "metadata": {},
   "outputs": [
    {
     "data": {
      "text/plain": [
       "PERMNO       0\n",
       "COMNAM       0\n",
       "PERMCO       0\n",
       "crsp_year    0\n",
       "COMNAM2      0\n",
       "last         0\n",
       "dtype: int64"
      ]
     },
     "execution_count": 39,
     "metadata": {},
     "output_type": "execute_result"
    }
   ],
   "source": [
    "crsp2.isna().sum()"
   ]
  },
  {
   "cell_type": "code",
   "execution_count": 40,
   "metadata": {},
   "outputs": [
    {
     "name": "stdout",
     "output_type": "stream",
     "text": [
      " LA 14\n"
     ]
    }
   ],
   "source": [
    "geoend('COMNAM2','COMNAM2')"
   ]
  },
  {
   "cell_type": "code",
   "execution_count": 41,
   "metadata": {},
   "outputs": [
    {
     "data": {
      "text/plain": [
       "PERMNO       0\n",
       "COMNAM       0\n",
       "PERMCO       0\n",
       "crsp_year    0\n",
       "COMNAM2      0\n",
       "last         0\n",
       "dtype: int64"
      ]
     },
     "execution_count": 41,
     "metadata": {},
     "output_type": "execute_result"
    }
   ],
   "source": [
    "crsp2.isna().sum()"
   ]
  },
  {
   "cell_type": "code",
   "execution_count": 42,
   "metadata": {},
   "outputs": [],
   "source": [
    "##last\n",
    "# 'INC', 'CORP', 'CO', 'LTD', 'NEW', 'PLC', 'LP',\n",
    "#        , 'SA', 'COMPANY', 'DEL', 'DE', 'IN',\n",
    "#        'NV', 'SAB DE CV', 'SHS', 'LIMITED''LLC','SPA',TECHNOLOGY', 'TECHNOLOGIES','AS','COR'\n",
    "#      'INTERNATIONAL','FSB','AB','COMPANIES','AB','THE','INTL','COS','AKTIEBOLAGET,'INCORPORATED',\n",
    "## 'AKTIENGESELLSCHAFT','AKTIEBOLAG',' \" societa per azioni\", oyj, oy,asa\n",
    "#split after co"
   ]
  },
  {
   "cell_type": "code",
   "execution_count": 43,
   "metadata": {},
   "outputs": [],
   "source": [
    "#check at end of comp name\n",
    "def clean(column, col):\n",
    "\n",
    "    compend = ['AB', 'AKTIEBOLAG', 'AKTIEBOLAGET', 'AKTIENGESELLSCHAFT','AS',\n",
    "            'CO', 'COMPANIES','COMPANY','COR','CORP', 'COS',\n",
    "               'DE', 'DEL', 'FSB', 'IN','INC', 'INCORPORATED','INTERNATIONAL','INTL',\n",
    "             'LIMITEDLLC','LP','LTD','NEW','NV','PLC','SA','SAB DE CV','SHS','SPA','THE','AND',\n",
    "               'ASA','OY','OYJ']\n",
    "\n",
    "    compend2 = []\n",
    "    for i in compend:\n",
    "        compend2.append(\" \" +i)\n",
    "        \n",
    "\n",
    "    for each in compend2:\n",
    "        if (len(crsp2[crsp2[column].str.endswith(each)]) >0 ):\n",
    "            \n",
    "                print(each,len(crsp2[crsp2[column].str.endswith(each)]) )\n",
    "                \n",
    "                y = each+\"$\"\n",
    "                crsp2.loc[crsp2[column].str.endswith(each),col] = crsp2.loc[crsp2[column].str.\n",
    "                                                                                  endswith(each),column].str.replace(y,\"\")\n",
    "\n",
    "                crsp2[column] = crsp2[column].apply(lambda x : x.strip())"
   ]
  },
  {
   "cell_type": "code",
   "execution_count": 44,
   "metadata": {},
   "outputs": [
    {
     "data": {
      "text/plain": [
       "PERMNO       30624\n",
       "COMNAM       36656\n",
       "PERMCO       27195\n",
       "crsp_year       43\n",
       "COMNAM2      36408\n",
       "last          1030\n",
       "dtype: int64"
      ]
     },
     "execution_count": 44,
     "metadata": {},
     "output_type": "execute_result"
    }
   ],
   "source": [
    "crsp2.nunique() #36408"
   ]
  },
  {
   "cell_type": "code",
   "execution_count": 45,
   "metadata": {
    "scrolled": true
   },
   "outputs": [
    {
     "name": "stdout",
     "output_type": "stream",
     "text": [
      " AB 127\n",
      " AKTIEBOLAG 18\n",
      " AKTIEBOLAGET 31\n",
      " AKTIENGESELLSCHAFT 27\n",
      " AS 208\n",
      " CO 17561\n",
      " COMPANIES 137\n",
      " COMPANY 1564\n",
      " COR 257\n",
      " CORP 74359\n",
      " COS 111\n",
      " DE 1468\n",
      " FSB 311\n",
      " IN 5\n",
      " INC 156960\n",
      " INCORPORATED 35\n",
      " INTERNATIONAL 5462\n",
      " INTL 1778\n",
      " LP 2427\n",
      " LTD 13183\n",
      " NEW 5886\n",
      " NV 1054\n",
      " PLC 2560\n",
      " SA 1764\n",
      " SAB DE CV 116\n",
      " SHS 607\n",
      " SPA 228\n",
      " THE 119\n",
      " ASA 52\n",
      " OY 5\n",
      " OYJ 2\n"
     ]
    }
   ],
   "source": [
    "clean('COMNAM2', 'COMNAM2')"
   ]
  },
  {
   "cell_type": "code",
   "execution_count": 46,
   "metadata": {},
   "outputs": [
    {
     "data": {
      "text/plain": [
       "PERMNO       30624\n",
       "COMNAM       36656\n",
       "PERMCO       27195\n",
       "crsp_year       43\n",
       "COMNAM2      35781\n",
       "last          1030\n",
       "dtype: int64"
      ]
     },
     "execution_count": 46,
     "metadata": {},
     "output_type": "execute_result"
    }
   ],
   "source": [
    "crsp2.nunique() #35782"
   ]
  },
  {
   "cell_type": "code",
   "execution_count": 47,
   "metadata": {},
   "outputs": [
    {
     "name": "stdout",
     "output_type": "stream",
     "text": [
      " VA 60\n",
      " NC 27\n",
      " GA 7\n",
      " TX 7\n",
      " NJ 14\n",
      " WA 49\n",
      " NY 104\n",
      " LA 19\n",
      " AL 8\n",
      " NH 2\n",
      " NE 6\n",
      " AZ 1\n",
      " CA 32\n",
      " CALIF 9\n",
      " WIS 13\n",
      " OKLA 5\n",
      " TENN 22\n",
      " FL 51\n",
      " OHIO 38\n",
      " FLA 25\n",
      " BERMUDA 23\n",
      " DC 12\n",
      " OR 11\n",
      " ILL 41\n",
      " CANADA 127\n",
      " USA 329\n",
      " BOSTON 73\n",
      " CALIFORNIA 27\n",
      " PENNSYLVANIA 24\n",
      " JAPAN 27\n",
      " IOWA 58\n",
      " ATLANTA 45\n",
      " MO 3\n",
      " KY 4\n",
      " IND 75\n",
      " DEL 124\n",
      " COLO 17\n",
      " NORTH AMERICA 54\n",
      " AMERICA 1018\n"
     ]
    }
   ],
   "source": [
    "geoend('COMNAM2','COMNAM2')"
   ]
  },
  {
   "cell_type": "code",
   "execution_count": 48,
   "metadata": {},
   "outputs": [],
   "source": [
    "geoend('COMNAM2','COMNAM2')"
   ]
  },
  {
   "cell_type": "code",
   "execution_count": 49,
   "metadata": {},
   "outputs": [
    {
     "data": {
      "text/plain": [
       "PERMNO       0\n",
       "COMNAM       0\n",
       "PERMCO       0\n",
       "crsp_year    0\n",
       "COMNAM2      0\n",
       "last         0\n",
       "dtype: int64"
      ]
     },
     "execution_count": 49,
     "metadata": {},
     "output_type": "execute_result"
    }
   ],
   "source": [
    "crsp2.isna().sum()"
   ]
  },
  {
   "cell_type": "code",
   "execution_count": 50,
   "metadata": {},
   "outputs": [
    {
     "data": {
      "text/plain": [
       "PERMNO       30624\n",
       "COMNAM       36656\n",
       "PERMCO       27195\n",
       "crsp_year       43\n",
       "COMNAM2      35713\n",
       "last          1030\n",
       "dtype: int64"
      ]
     },
     "execution_count": 50,
     "metadata": {},
     "output_type": "execute_result"
    }
   ],
   "source": [
    "crsp2.nunique() #COMNAM2 35714"
   ]
  },
  {
   "cell_type": "code",
   "execution_count": 51,
   "metadata": {},
   "outputs": [
    {
     "name": "stdout",
     "output_type": "stream",
     "text": [
      " AB 10\n",
      " CO 3294\n",
      " COMPANIES 783\n",
      " COMPANY 335\n",
      " COR 4\n",
      " CORP 3154\n",
      " COS 663\n",
      " DE 46\n",
      " FSB 4\n",
      " INC 2647\n",
      " INTERNATIONAL 990\n",
      " INTL 230\n",
      " LP 4\n",
      " LTD 183\n",
      " AND 6\n"
     ]
    }
   ],
   "source": [
    "clean('COMNAM2','COMNAM2')"
   ]
  },
  {
   "cell_type": "code",
   "execution_count": 52,
   "metadata": {},
   "outputs": [
    {
     "data": {
      "text/plain": [
       "PERMNO       30624\n",
       "COMNAM       36656\n",
       "PERMCO       27195\n",
       "crsp_year       43\n",
       "COMNAM2      35100\n",
       "last          1030\n",
       "dtype: int64"
      ]
     },
     "execution_count": 52,
     "metadata": {},
     "output_type": "execute_result"
    }
   ],
   "source": [
    "crsp2.nunique() #COMNAM2 35101"
   ]
  },
  {
   "cell_type": "code",
   "execution_count": 53,
   "metadata": {},
   "outputs": [
    {
     "name": "stdout",
     "output_type": "stream",
     "text": [
      " CO 43\n",
      " COMPANIES 38\n",
      " COMPANY 15\n",
      " CORP 32\n",
      " COS 9\n",
      " INTERNATIONAL 12\n",
      " INTL 9\n"
     ]
    }
   ],
   "source": [
    "clean('COMNAM2','COMNAM2')"
   ]
  },
  {
   "cell_type": "code",
   "execution_count": 54,
   "metadata": {},
   "outputs": [],
   "source": [
    "clean('COMNAM2','COMNAM2')"
   ]
  },
  {
   "cell_type": "code",
   "execution_count": 55,
   "metadata": {},
   "outputs": [
    {
     "data": {
      "text/plain": [
       "PERMNO       30624\n",
       "COMNAM       36656\n",
       "PERMCO       27195\n",
       "crsp_year       43\n",
       "COMNAM2      35080\n",
       "last          1030\n",
       "dtype: int64"
      ]
     },
     "execution_count": 55,
     "metadata": {},
     "output_type": "execute_result"
    }
   ],
   "source": [
    "crsp2.nunique() #35080 COMNAM2"
   ]
  },
  {
   "cell_type": "code",
   "execution_count": 56,
   "metadata": {},
   "outputs": [
    {
     "name": "stdout",
     "output_type": "stream",
     "text": [
      " MA 16\n",
      " NC 20\n",
      " USA 1\n"
     ]
    }
   ],
   "source": [
    "geoend('COMNAM2','COMNAM2')"
   ]
  },
  {
   "cell_type": "code",
   "execution_count": 57,
   "metadata": {},
   "outputs": [
    {
     "data": {
      "text/plain": [
       "PERMNO       30624\n",
       "COMNAM       36656\n",
       "PERMCO       27195\n",
       "crsp_year       43\n",
       "COMNAM2      35078\n",
       "last          1030\n",
       "dtype: int64"
      ]
     },
     "execution_count": 57,
     "metadata": {},
     "output_type": "execute_result"
    }
   ],
   "source": [
    "crsp2.nunique() #35078 COMNAM2"
   ]
  },
  {
   "cell_type": "code",
   "execution_count": 58,
   "metadata": {},
   "outputs": [],
   "source": [
    "# convert to lower case\n",
    "crsp2['comlow'] = crsp2['COMNAM2'].apply(lambda x : x.lower())"
   ]
  },
  {
   "cell_type": "code",
   "execution_count": 59,
   "metadata": {},
   "outputs": [
    {
     "data": {
      "text/plain": [
       "PERMNO       30624\n",
       "COMNAM       36656\n",
       "PERMCO       27195\n",
       "crsp_year       43\n",
       "COMNAM2      35078\n",
       "last          1030\n",
       "comlow       35078\n",
       "dtype: int64"
      ]
     },
     "execution_count": 59,
     "metadata": {},
     "output_type": "execute_result"
    }
   ],
   "source": [
    "crsp2.nunique() #35078 comlow"
   ]
  },
  {
   "cell_type": "code",
   "execution_count": 60,
   "metadata": {},
   "outputs": [
    {
     "data": {
      "text/plain": [
       "PERMNO       0\n",
       "COMNAM       0\n",
       "PERMCO       0\n",
       "crsp_year    0\n",
       "COMNAM2      0\n",
       "last         0\n",
       "comlow       0\n",
       "dtype: int64"
      ]
     },
     "execution_count": 60,
     "metadata": {},
     "output_type": "execute_result"
    }
   ],
   "source": [
    "crsp2.isna().sum()"
   ]
  },
  {
   "cell_type": "code",
   "execution_count": 61,
   "metadata": {},
   "outputs": [],
   "source": [
    "# TR = trust, FD = fund; split after DE; AMER = america; ASSN = association; INVS = investments; \n",
    "# mktg = marketing; rlty = realty; SYS = systems; PPTYS = properties; natl = national; assoc = associates\n",
    "# svcs = services; labs = laboratories; assn = association; invt = investment;\n",
    "# HLDGS = holdings; secs = securities; wks = works; incm = income; rr = railroad; PTNR = partner\n",
    "# hldg = holding; brdrs = breeders ; bk = bank\n",
    "#drdg = dredgeing\n",
    "# gd = gold; bldrs = builders"
   ]
  },
  {
   "cell_type": "code",
   "execution_count": 62,
   "metadata": {
    "scrolled": true
   },
   "outputs": [
    {
     "name": "stdout",
     "output_type": "stream",
     "text": [
      " company  50\n",
      " ltd  227\n",
      " limited  43\n",
      " unlimited  7\n",
      " corporation  14\n",
      " corp  1163\n",
      " plc  3\n",
      "lat am 2\n",
      " n am 11\n",
      " ag  32\n",
      " co  471\n",
      "societa per azioni 9\n",
      "inc sc 38\n",
      "inc nw 10\n",
      "inc il 27\n",
      "inc mass 36\n",
      "inc pa 182\n",
      "inc utah 3\n",
      "inc n mex 12\n",
      "inc ca 32\n",
      "inc md 137\n",
      "inc intl sign svc 8\n",
      "inc mi 2\n",
      "inc cl a 21\n",
      "inc madison 2\n",
      "inc idaho 9\n",
      "inc honolu hi 5\n",
      "inc tm 26\n",
      "inc port 207\n",
      "inc wash 5\n",
      "inc nevada 3\n",
      "inc cayman isl 28\n",
      "inc kan 5\n",
      "inc tex 7\n",
      "inc sc 38\n",
      "inc florida 6\n",
      "inc bldr 12\n",
      "inc vg 7\n",
      "inc cl a 21\n",
      "inc j 5\n",
      "inc n 55\n"
     ]
    }
   ],
   "source": [
    "# split \n",
    "\n",
    "splt = [ ' company ', ' llc ', ' ltd ', \n",
    "       ' limited ',  ' unlimited ', ' corporation ', ' corp ',' plc ',\n",
    "         \"lat am\",\" n am\",\" ag \",\" co \",'societa per azioni']\n",
    "\n",
    "\n",
    "\n",
    "inclst = ['sc', 'nw', 'il', 'mass', 'pa', 'utah','n mex', 'north','n j','ca','md',\n",
    "'intl sign svc', 'mi', 'cl a', 'madison', 'idaho','honolu hi', 'tm', 'port','wash', 'nevada',\n",
    "          'cayman isl',\n",
    "'kan','tex', 'sc', 'florida', 'bldr','vg', \"del\", \"cl a\", \"j\",  \"n\"]\n",
    "\n",
    "splt2 = []\n",
    "\n",
    "for each in inclst: \n",
    "    \n",
    "    splt2.append(\"inc \"+each)\n",
    "\n",
    "splt = splt + splt2\n",
    "    \n",
    "\n",
    "for each in splt:\n",
    "    if (len(crsp2[crsp2['comlow'].str.contains(each)])>0): \n",
    "            print(each,len(crsp2[crsp2['comlow'].str.contains(each)]) )\n",
    "            crsp2['comlow2'] = crsp2['comlow'].apply(lambda x : x.split(each)[0])"
   ]
  },
  {
   "cell_type": "code",
   "execution_count": 63,
   "metadata": {},
   "outputs": [],
   "source": [
    "crsp2['comlow2'] = crsp2['comlow2'].apply(lambda x : x.strip())"
   ]
  },
  {
   "cell_type": "code",
   "execution_count": 64,
   "metadata": {},
   "outputs": [
    {
     "data": {
      "text/plain": [
       "PERMNO       0\n",
       "COMNAM       0\n",
       "PERMCO       0\n",
       "crsp_year    0\n",
       "COMNAM2      0\n",
       "last         0\n",
       "comlow       0\n",
       "comlow2      0\n",
       "dtype: int64"
      ]
     },
     "execution_count": 64,
     "metadata": {},
     "output_type": "execute_result"
    }
   ],
   "source": [
    "crsp2.isna().sum()"
   ]
  },
  {
   "cell_type": "code",
   "execution_count": 65,
   "metadata": {},
   "outputs": [
    {
     "data": {
      "text/plain": [
       "35075"
      ]
     },
     "execution_count": 65,
     "metadata": {},
     "output_type": "execute_result"
    }
   ],
   "source": [
    "crsp2['comlow2'].nunique() #35076"
   ]
  },
  {
   "cell_type": "code",
   "execution_count": 66,
   "metadata": {},
   "outputs": [],
   "source": [
    "del crsp2['last']"
   ]
  },
  {
   "cell_type": "code",
   "execution_count": 67,
   "metadata": {},
   "outputs": [],
   "source": [
    "crsp2['last'] = crsp2['comlow2'].apply(lambda x: x.split()[-1])"
   ]
  },
  {
   "cell_type": "code",
   "execution_count": 68,
   "metadata": {},
   "outputs": [],
   "source": [
    "cnt = crsp2['last'].value_counts()"
   ]
  },
  {
   "cell_type": "code",
   "execution_count": 69,
   "metadata": {},
   "outputs": [],
   "source": [
    "# cnt[(cnt>45)&(cnt<=50)]"
   ]
  },
  {
   "cell_type": "code",
   "execution_count": 70,
   "metadata": {},
   "outputs": [],
   "source": [
    "#inds, sys, &. svcs, labs, ins, assn, hldgs,prods = products, bk = bank; invs, grp = group\n",
    "#mfg = manufacturing, dev, assoc,secs, pptys,svc, mng, invt , hldg, mgmt = management, ctrs = , ptnrs = \n",
    "#rr = railroad, lab,pwr,srvcs,incm = income,instrs,cntrs; finl = financial; techs = technologies; res = resources\n",
    "##educ = education, gp = group; expl = exploration; gas lt = light; else remove lt; resh = research;\n",
    "#engr = engineering; utils = utilities, mach = machine; sec = securities; inv = investments, rlty = realty; \n",
    "# ln = loan; gr = group\n",
    "\n",
    "\n",
    "# remove: pa, limited, ag, llc,albany,texas, of,\"sa de cv\",cp,md,\"new york\",sc,mass,midland,pr,us,inc cl a; \n",
    "#inc j,  inc n,\n",
    "# split corp,co  "
   ]
  },
  {
   "cell_type": "code",
   "execution_count": 71,
   "metadata": {},
   "outputs": [
    {
     "name": "stdout",
     "output_type": "stream",
     "text": [
      " corp  1163\n",
      " co  471\n",
      " del  123\n",
      " ltd  212\n",
      " ag  32\n"
     ]
    }
   ],
   "source": [
    "# split \n",
    "\n",
    "splt = [ ' corp ', \" co \", \" del \", \" ltd \",\" ag \"]\n",
    "for each in splt:\n",
    "    if (len(crsp2[crsp2['comlow2'].str.contains(each)])>0): \n",
    "            print(each,len(crsp2[crsp2['comlow2'].str.contains(each)]) )\n",
    "            crsp2['comlow2'] = crsp2['comlow2'].apply(lambda x : x.split(each)[0])"
   ]
  },
  {
   "cell_type": "code",
   "execution_count": 72,
   "metadata": {},
   "outputs": [],
   "source": [
    "crsp2['len'] = crsp2['comlow2'].apply(lambda x: len(x.split()))"
   ]
  },
  {
   "cell_type": "code",
   "execution_count": 73,
   "metadata": {},
   "outputs": [
    {
     "name": "stdout",
     "output_type": "stream",
     "text": [
      "limited 474\n",
      "ag 499\n",
      "llc 249\n",
      "albany 23\n",
      "texas 49\n",
      "of 498\n",
      "sa de cv 333\n",
      "cp 328\n",
      "md 210\n",
      "new york 129\n",
      "sc 186\n",
      "mass 72\n",
      "associates 396\n",
      "pr 76\n",
      "us 246\n",
      "& 1651\n",
      "invs 474\n",
      "inv 73\n",
      "invt 203\n",
      "assoc 379\n",
      "assn 693\n",
      "inc 213\n",
      "unlimited 33\n",
      "assc 17\n",
      "association 62\n"
     ]
    }
   ],
   "source": [
    "## remove ends:\n",
    "\n",
    "comend = [ \"limited\", \"ag\", \"llc\",\"albany\",\"texas\", \"of\",\"sa de cv\",\"cp\",\"md\",\"new york\",\"sc\",\"mass\",'associates',\n",
    "          \"pr\",\"us\", \"&\",\"invs\", \"inv\", \"invt\", \"invs\",\"assoc\", \"assn\", \"inc\",\"unlimited\", \"assc\",'association']\n",
    "\n",
    "for each in comend:\n",
    "        if (len(crsp2[(crsp2['comlow2'].str.endswith(each))&(crsp2['len']>1)]) >0 ):\n",
    "\n",
    "\n",
    "            y = \" \"+each+\"$\"\n",
    "            print(each,len(crsp2[(crsp2['comlow2'].str.endswith(each))&(crsp2['len']>1)]) )\n",
    "\n",
    "\n",
    "            crsp2.loc[(crsp2['comlow2'].str.endswith(each))&(crsp2['len']>1),'comlow2'] = crsp2.loc[crsp2['comlow2'].str.\n",
    "                                                                              endswith(each)&(crsp2['len']>1),'comlow2'].str.replace(y,\"\")\n",
    "\n",
    "            crsp2['comlow2'] = crsp2['comlow2'].apply(lambda x : x.strip())\n"
   ]
  },
  {
   "cell_type": "code",
   "execution_count": 74,
   "metadata": {},
   "outputs": [
    {
     "data": {
      "text/plain": [
       "PERMNO       0\n",
       "COMNAM       0\n",
       "PERMCO       0\n",
       "crsp_year    0\n",
       "COMNAM2      0\n",
       "comlow       0\n",
       "comlow2      0\n",
       "last         0\n",
       "len          0\n",
       "dtype: int64"
      ]
     },
     "execution_count": 74,
     "metadata": {},
     "output_type": "execute_result"
    }
   ],
   "source": [
    "crsp2.isna().sum()"
   ]
  },
  {
   "cell_type": "code",
   "execution_count": 75,
   "metadata": {},
   "outputs": [
    {
     "data": {
      "text/plain": [
       "PERMNO       30624\n",
       "COMNAM       36656\n",
       "PERMCO       27195\n",
       "crsp_year       43\n",
       "COMNAM2      35078\n",
       "comlow       35078\n",
       "comlow2      34880\n",
       "last         11044\n",
       "len              9\n",
       "dtype: int64"
      ]
     },
     "execution_count": 75,
     "metadata": {},
     "output_type": "execute_result"
    }
   ],
   "source": [
    "crsp2.nunique() #34880"
   ]
  },
  {
   "cell_type": "code",
   "execution_count": 76,
   "metadata": {
    "scrolled": true
   },
   "outputs": [
    {
     "data": {
      "text/html": [
       "<div>\n",
       "<style scoped>\n",
       "    .dataframe tbody tr th:only-of-type {\n",
       "        vertical-align: middle;\n",
       "    }\n",
       "\n",
       "    .dataframe tbody tr th {\n",
       "        vertical-align: top;\n",
       "    }\n",
       "\n",
       "    .dataframe thead th {\n",
       "        text-align: right;\n",
       "    }\n",
       "</style>\n",
       "<table border=\"1\" class=\"dataframe\">\n",
       "  <thead>\n",
       "    <tr style=\"text-align: right;\">\n",
       "      <th></th>\n",
       "      <th>PERMNO</th>\n",
       "      <th>COMNAM</th>\n",
       "      <th>PERMCO</th>\n",
       "      <th>crsp_year</th>\n",
       "      <th>COMNAM2</th>\n",
       "      <th>comlow</th>\n",
       "      <th>comlow2</th>\n",
       "      <th>last</th>\n",
       "      <th>len</th>\n",
       "    </tr>\n",
       "  </thead>\n",
       "  <tbody>\n",
       "    <tr>\n",
       "      <td>1101268</td>\n",
       "      <td>22940</td>\n",
       "      <td>AMERICAN COMMUNITY DEV GRP INC</td>\n",
       "      <td>905</td>\n",
       "      <td>1986</td>\n",
       "      <td>AMERICAN COMMUNITY DEV GRP</td>\n",
       "      <td>american community dev grp</td>\n",
       "      <td>american community dev grp</td>\n",
       "      <td>grp</td>\n",
       "      <td>4</td>\n",
       "    </tr>\n",
       "    <tr>\n",
       "      <td>1101271</td>\n",
       "      <td>22940</td>\n",
       "      <td>AMERICAN COMMUNITY DEV GRP INC</td>\n",
       "      <td>905</td>\n",
       "      <td>1987</td>\n",
       "      <td>AMERICAN COMMUNITY DEV GRP</td>\n",
       "      <td>american community dev grp</td>\n",
       "      <td>american community dev grp</td>\n",
       "      <td>grp</td>\n",
       "      <td>4</td>\n",
       "    </tr>\n",
       "    <tr>\n",
       "      <td>2580914</td>\n",
       "      <td>68128</td>\n",
       "      <td>SAXON OIL DEV PARTNERS L P</td>\n",
       "      <td>21568</td>\n",
       "      <td>1985</td>\n",
       "      <td>SAXON OIL DEV PARTNERS</td>\n",
       "      <td>saxon oil dev partners</td>\n",
       "      <td>saxon oil dev partners</td>\n",
       "      <td>partners</td>\n",
       "      <td>4</td>\n",
       "    </tr>\n",
       "    <tr>\n",
       "      <td>2580918</td>\n",
       "      <td>68128</td>\n",
       "      <td>SAXON OIL DEV PARTNERS L P</td>\n",
       "      <td>21568</td>\n",
       "      <td>1986</td>\n",
       "      <td>SAXON OIL DEV PARTNERS</td>\n",
       "      <td>saxon oil dev partners</td>\n",
       "      <td>saxon oil dev partners</td>\n",
       "      <td>partners</td>\n",
       "      <td>4</td>\n",
       "    </tr>\n",
       "    <tr>\n",
       "      <td>2580930</td>\n",
       "      <td>68128</td>\n",
       "      <td>SAXON OIL DEV PARTNERS L P</td>\n",
       "      <td>21568</td>\n",
       "      <td>1987</td>\n",
       "      <td>SAXON OIL DEV PARTNERS</td>\n",
       "      <td>saxon oil dev partners</td>\n",
       "      <td>saxon oil dev partners</td>\n",
       "      <td>partners</td>\n",
       "      <td>4</td>\n",
       "    </tr>\n",
       "    <tr>\n",
       "      <td>2580942</td>\n",
       "      <td>68128</td>\n",
       "      <td>SAXON OIL DEV PARTNERS L P</td>\n",
       "      <td>21568</td>\n",
       "      <td>1988</td>\n",
       "      <td>SAXON OIL DEV PARTNERS</td>\n",
       "      <td>saxon oil dev partners</td>\n",
       "      <td>saxon oil dev partners</td>\n",
       "      <td>partners</td>\n",
       "      <td>4</td>\n",
       "    </tr>\n",
       "    <tr>\n",
       "      <td>2580954</td>\n",
       "      <td>68128</td>\n",
       "      <td>SAXON OIL DEV PARTNERS L P</td>\n",
       "      <td>21568</td>\n",
       "      <td>1989</td>\n",
       "      <td>SAXON OIL DEV PARTNERS</td>\n",
       "      <td>saxon oil dev partners</td>\n",
       "      <td>saxon oil dev partners</td>\n",
       "      <td>partners</td>\n",
       "      <td>4</td>\n",
       "    </tr>\n",
       "    <tr>\n",
       "      <td>3699735</td>\n",
       "      <td>84540</td>\n",
       "      <td>HEURISTIC DEV GROUP INC</td>\n",
       "      <td>15328</td>\n",
       "      <td>1997</td>\n",
       "      <td>HEURISTIC DEV GROUP</td>\n",
       "      <td>heuristic dev group</td>\n",
       "      <td>heuristic dev group</td>\n",
       "      <td>group</td>\n",
       "      <td>3</td>\n",
       "    </tr>\n",
       "    <tr>\n",
       "      <td>3699746</td>\n",
       "      <td>84540</td>\n",
       "      <td>HEURISTIC DEV GROUP INC</td>\n",
       "      <td>15328</td>\n",
       "      <td>1998</td>\n",
       "      <td>HEURISTIC DEV GROUP</td>\n",
       "      <td>heuristic dev group</td>\n",
       "      <td>heuristic dev group</td>\n",
       "      <td>group</td>\n",
       "      <td>3</td>\n",
       "    </tr>\n",
       "    <tr>\n",
       "      <td>3699758</td>\n",
       "      <td>84540</td>\n",
       "      <td>HEURISTIC DEV GROUP INC</td>\n",
       "      <td>15328</td>\n",
       "      <td>1999</td>\n",
       "      <td>HEURISTIC DEV GROUP</td>\n",
       "      <td>heuristic dev group</td>\n",
       "      <td>heuristic dev group</td>\n",
       "      <td>group</td>\n",
       "      <td>3</td>\n",
       "    </tr>\n",
       "  </tbody>\n",
       "</table>\n",
       "</div>"
      ],
      "text/plain": [
       "         PERMNO                          COMNAM  PERMCO  crsp_year  \\\n",
       "1101268   22940  AMERICAN COMMUNITY DEV GRP INC     905       1986   \n",
       "1101271   22940  AMERICAN COMMUNITY DEV GRP INC     905       1987   \n",
       "2580914   68128      SAXON OIL DEV PARTNERS L P   21568       1985   \n",
       "2580918   68128      SAXON OIL DEV PARTNERS L P   21568       1986   \n",
       "2580930   68128      SAXON OIL DEV PARTNERS L P   21568       1987   \n",
       "2580942   68128      SAXON OIL DEV PARTNERS L P   21568       1988   \n",
       "2580954   68128      SAXON OIL DEV PARTNERS L P   21568       1989   \n",
       "3699735   84540         HEURISTIC DEV GROUP INC   15328       1997   \n",
       "3699746   84540         HEURISTIC DEV GROUP INC   15328       1998   \n",
       "3699758   84540         HEURISTIC DEV GROUP INC   15328       1999   \n",
       "\n",
       "                            COMNAM2                      comlow  \\\n",
       "1101268  AMERICAN COMMUNITY DEV GRP  american community dev grp   \n",
       "1101271  AMERICAN COMMUNITY DEV GRP  american community dev grp   \n",
       "2580914      SAXON OIL DEV PARTNERS      saxon oil dev partners   \n",
       "2580918      SAXON OIL DEV PARTNERS      saxon oil dev partners   \n",
       "2580930      SAXON OIL DEV PARTNERS      saxon oil dev partners   \n",
       "2580942      SAXON OIL DEV PARTNERS      saxon oil dev partners   \n",
       "2580954      SAXON OIL DEV PARTNERS      saxon oil dev partners   \n",
       "3699735         HEURISTIC DEV GROUP         heuristic dev group   \n",
       "3699746         HEURISTIC DEV GROUP         heuristic dev group   \n",
       "3699758         HEURISTIC DEV GROUP         heuristic dev group   \n",
       "\n",
       "                            comlow2      last  len  \n",
       "1101268  american community dev grp       grp    4  \n",
       "1101271  american community dev grp       grp    4  \n",
       "2580914      saxon oil dev partners  partners    4  \n",
       "2580918      saxon oil dev partners  partners    4  \n",
       "2580930      saxon oil dev partners  partners    4  \n",
       "2580942      saxon oil dev partners  partners    4  \n",
       "2580954      saxon oil dev partners  partners    4  \n",
       "3699735         heuristic dev group     group    3  \n",
       "3699746         heuristic dev group     group    3  \n",
       "3699758         heuristic dev group     group    3  "
      ]
     },
     "execution_count": 76,
     "metadata": {},
     "output_type": "execute_result"
    }
   ],
   "source": [
    "crsp2[crsp2['comlow2'].str.contains(\" dev \")]"
   ]
  },
  {
   "cell_type": "code",
   "execution_count": 77,
   "metadata": {},
   "outputs": [],
   "source": [
    "#inds, sys, &. svcs, ins, assn, hldgs,prods = products, bk = bank; invs, grp = group\n",
    "#mfg = manufacturing, dev, assoc,secs, pptys,svc, mng, invt , hldg, mgmt = management, ctrs = , ptnrs = \n",
    "#rr = railroad, lab,pwr,srvcs,incm = income,instrs,cntrs; finl = financial; techs = technologies; res = resources\n",
    "##educ = education, gp = group; expl = exploration; gas lt = light; else remove lt; resh = research;\n",
    "#engr = engineering; utils = utilities, mach = machine; sec = securities; inv = investments, rlty = realty; \n",
    "# mls = mills; ln = loan; gr = group; instrs = instruments\n",
    "# TR = trust, FD = fund; split after DE; AMER = america; ASSN = association; INVS = investments; \n",
    "# mktg = marketing; PPTYS = properties; natl = national; assoc = associates\n",
    "# secs = securities; wks = works;  PTNR = partner,  hldg = holding; brdrs = breeders ; bk = bank\n",
    "#drdg = dredgeing, gd = gold; bldrs = builders; dev = development; ctrs = centers; cntrs = centers; \n",
    "#instrs = instrumnets; bkshares = bancshares; bks = bank; eqp = equipment; brd = baord, mfrs = manufactures; dev development\n",
    "#indl = industrial\n",
    "\n",
    "crsp2.loc[crsp2['comlow2'].str.endswith(' equp'),'comlow2'] =crsp2.loc[crsp2['comlow2'].str.endswith(' equp'),'comlow2'].str.replace(\" equp$\",\" equipment\")\n",
    "crsp2.loc[crsp2['comlow2'].str.endswith(' brd'),'comlow2'] =crsp2.loc[crsp2['comlow2'].str.endswith(' brd'),'comlow2'].str.replace(\" brd$\",\" board\")\n",
    "crsp2.loc[crsp2['comlow2'].str.endswith(' inds'),'comlow2'] =crsp2.loc[crsp2['comlow2'].str.endswith(' inds'),'comlow2'].str.replace(\" inds$\",\" industries\")\n",
    "crsp2.loc[crsp2['comlow2'].str.endswith(' indl'),'comlow2'] =crsp2.loc[crsp2['comlow2'].str.endswith(' indl'),'comlow2'].str.replace(\" indl$\",\" industrial\")\n",
    "crsp2.loc[crsp2['comlow2'].str.endswith(' dev'),'comlow2'] =crsp2.loc[crsp2['comlow2'].str.endswith(' dev'),'comlow2'].str.replace(\" dev$\",\" development\")\n",
    "\n",
    "crsp2.loc[crsp2['comlow2'].str.endswith(' sys'),'comlow2'] = crsp2.loc[crsp2['comlow2'].str.endswith(' sys'),'comlow2'].str.replace(\" sys$\",\"  systems\")\n",
    "crsp2.loc[crsp2['comlow2'].str.endswith(' svc'),'comlow2'] = crsp2.loc[crsp2['comlow2'].str.endswith(' svc'),'comlow2'].str.replace(\" svc$\",\"  services\")\n",
    "crsp2.loc[crsp2['comlow2'].str.endswith(' svcs'),'comlow2'] = crsp2.loc[crsp2['comlow2'].str.endswith(' svcs'),'comlow2'].str.replace(\" svcs$\",\"  services\")\n",
    "crsp2.loc[crsp2['comlow2'].str.endswith(' ins'),'comlow2'] = crsp2.loc[crsp2['comlow2'].str.endswith(' ins'),'comlow2'].str.replace(\" ins$\",\" insurance\")\n",
    "crsp2.loc[crsp2['comlow2'].str.endswith(' hdg'),'comlow2'] =crsp2.loc[crsp2['comlow2'].str.endswith(' hdg'),'comlow2'].str.replace(\" hdg$\",\" holding\")\n",
    "crsp2.loc[crsp2['comlow2'].str.endswith(' hldg'),'comlow2'] =crsp2.loc[crsp2['comlow2'].str.endswith(' hldg'),'comlow2'].str.replace(\" hldg$\",\" holding\")\n",
    "crsp2.loc[crsp2['comlow2'].str.endswith(' hldgs'),'comlow2'] =crsp2.loc[crsp2['comlow2'].str.endswith(' hldgs'),'comlow2'].str.replace(\" hldgs$\",\" holdings\")\n",
    "crsp2.loc[crsp2['comlow2'].str.endswith(' prods'),'comlow2'] = crsp2.loc[crsp2['comlow2'].str.endswith(' prods'),'comlow2'].str.replace(\" prods$\",\"  products\")\n",
    "crsp2.loc[crsp2['comlow2'].str.endswith(' bk'),'comlow2'] = crsp2.loc[crsp2['comlow2'].str.endswith(' bk'),'comlow2'].str.replace(\" bk$\",\" bank\")\n",
    "crsp2.loc[crsp2['comlow2'].str.endswith(' bks'),'comlow2'] = crsp2.loc[crsp2['comlow2'].str.endswith(' bks'),'comlow2'].str.replace(\" bks$\",\" bank\")\n",
    "crsp2.loc[crsp2['comlow2'].str.endswith(' bros'),'comlow2'] = crsp2.loc[crsp2['comlow2'].str.endswith(' bros'),'comlow2'].str.replace(\" bros$\",\" brothers\")\n",
    "\n",
    "crsp2.loc[crsp2['comlow2'].str.endswith(' sec'),'comlow2'] = crsp2.loc[crsp2['comlow2'].str.endswith(' sec'),'comlow2'].str.replace(\" sec$\",\" securities\")\n",
    "\n",
    "crsp2.loc[crsp2['comlow2'].str.endswith(' deutschland'),'comlow2'] = crsp2.loc[crsp2['comlow2'].str.endswith(' deutschland'),'comlow2'].str.replace(\" deutschland$\",\"\")\n",
    "\n",
    "\n",
    "\n",
    "\n",
    "crsp2.loc[crsp2['comlow2'].str.endswith(' bkshares'),'comlow2'] = crsp2.loc[crsp2['comlow2'].str.endswith(' bkshares'),'comlow2'].str.replace(\" bkshares$\",\" bancshares\")\n",
    "crsp2.loc[crsp2['comlow2'].str.endswith(' grp'),'comlow2'] = crsp2.loc[crsp2['comlow2'].str.endswith(' grp'),'comlow2'].str.replace(\" grp$\",\" group\")\n",
    "crsp2.loc[crsp2['comlow2'].str.endswith(' mfrs'),'comlow2'] = crsp2.loc[crsp2['comlow2'].str.endswith(' mfrs'),'comlow2'].str.replace(\" mfrs$\",\" manufacturers\")\n",
    "crsp2.loc[crsp2['comlow2'].str.endswith(' mfg'),'comlow2'] = crsp2.loc[crsp2['comlow2'].str.endswith(' mfg'),'comlow2'].str.replace(\" mfg$\",\" manufacturing\")\n",
    "crsp2.loc[crsp2['comlow2'].str.endswith(' sec'),'comlow2'] = crsp2.loc[crsp2['comlow2'].str.endswith(' sec'),'comlow2'].str.replace(\" sec$\",\" securities\")\n",
    "crsp2.loc[crsp2['comlow2'].str.endswith(' secs'),'comlow2'] = crsp2.loc[crsp2['comlow2'].str.endswith(' secs'),'comlow2'].str.replace(\" secs$\",\" securities\")\n",
    "crsp2.loc[crsp2['comlow2'].str.endswith(' pptys'),'comlow2'] = crsp2.loc[crsp2['comlow2'].str.endswith(' pptys'),'comlow2'].str.replace(\" pptys$\",\" properties\")\n",
    "crsp2.loc[crsp2['comlow2'].str.endswith(' mng'),'comlow2'] = crsp2.loc[crsp2['comlow2'].str.endswith(' mng'),'comlow2'].str.replace(\" mng$\",\" mining\")\n",
    "crsp2.loc[crsp2['comlow2'].str.endswith(' mgmt'),'comlow2'] = crsp2.loc[crsp2['comlow2'].str.endswith(' mgmt'),'comlow2'].str.replace(\" mgmt$\",\" management\")\n",
    "crsp2.loc[crsp2['comlow2'].str.endswith(' ptnr'),'comlow2'] = crsp2.loc[crsp2['comlow2'].str.endswith(' ptnr'),'comlow2'].str.replace(\" ptnr$\",\" partner\")\n",
    "crsp2.loc[crsp2['comlow2'].str.endswith(' ptnrs'),'comlow2'] = crsp2.loc[crsp2['comlow2'].str.endswith(' ptnrs'),'comlow2'].str.replace(\" ptnrs$\",\" partners\")\n",
    "crsp2.loc[crsp2['comlow2'].str.endswith(' rr'),'comlow2'] = crsp2.loc[crsp2['comlow2'].str.endswith(' rr'),'comlow2'].str.replace(\" rr$\",\" railroad\")\n",
    "crsp2.loc[crsp2['comlow2'].str.endswith(' pwr'),'comlow2'] = crsp2.loc[crsp2['comlow2'].str.endswith(' pwr'),'comlow2'].str.replace(\" pwr$\",\" power\")\n",
    "crsp2.loc[crsp2['comlow2'].str.endswith(' srvcs'),'comlow2'] = crsp2.loc[crsp2['comlow2'].str.endswith(' srvcs'),'comlow2'].str.replace(\" srvcs$\",\" services\")\n",
    "crsp2.loc[crsp2['comlow2'].str.endswith(' incm'),'comlow2'] = crsp2.loc[crsp2['comlow2'].str.endswith(' incm'),'comlow2'].str.replace(\" incm$\",\" income\")\n",
    "crsp2.loc[crsp2['comlow2'].str.endswith(' finl'),'comlow2'] = crsp2.loc[crsp2['comlow2'].str.endswith(' finl'),'comlow2'].str.replace(\" finl$\",\" financial\")\n",
    "crsp2.loc[crsp2['comlow2'].str.endswith(' techs'),'comlow2'] = crsp2.loc[crsp2['comlow2'].str.endswith(' techs'),'comlow2'].str.replace(\" techs$\",\" technologies\")\n",
    "crsp2.loc[crsp2['comlow2'].str.endswith(' res'),'comlow2'] = crsp2.loc[crsp2['comlow2'].str.endswith(' res'),'comlow2'].str.replace(\" res$\",\" resources\")\n",
    "crsp2.loc[crsp2['comlow2'].str.endswith(' gp'),'comlow2'] = crsp2.loc[crsp2['comlow2'].str.endswith(' gp'),'comlow2'].str.replace(\" gp$\",\" group\")\n",
    "crsp2.loc[crsp2['comlow2'].str.endswith(' expl'),'comlow2'] = crsp2.loc[crsp2['comlow2'].str.endswith(' expl'),'comlow2'].str.replace(\" expl$\",\" exploration\")\n",
    "crsp2.loc[crsp2['comlow2'].str.endswith(' gas lt'),'comlow2'] = crsp2.loc[crsp2['comlow2'].str.endswith(' gas lt'),'comlow2'].str.replace(\" gas lt$\",\" gas light\")\n",
    "crsp2.loc[crsp2['comlow2'].str.endswith(' resh'),'comlow2'] = crsp2.loc[crsp2['comlow2'].str.endswith(' resh'),'comlow2'].str.replace(\" resh$\",\" research\")\n",
    "crsp2.loc[crsp2['comlow2'].str.endswith(' engr'),'comlow2'] = crsp2.loc[crsp2['comlow2'].str.endswith(' engr'),'comlow2'].str.replace(\" engr$\",\" engineering\")\n",
    "crsp2.loc[crsp2['comlow2'].str.endswith(' utils'),'comlow2'] = crsp2.loc[crsp2['comlow2'].str.endswith(' utils'),'comlow2'].str.replace(\" utils$\",\" utilities\")\n",
    "crsp2.loc[crsp2['comlow2'].str.endswith(' mach'),'comlow2'] = crsp2.loc[crsp2['comlow2'].str.endswith(' mach'),'comlow2'].str.replace(\" mach$\",\" machine\")\n",
    "crsp2.loc[crsp2['comlow2'].str.endswith(' machs'),'comlow2'] = crsp2.loc[crsp2['comlow2'].str.endswith(' machs'),'comlow2'].str.replace(\" machs$\",\" machines\")\n",
    "crsp2.loc[crsp2['comlow2'].str.endswith(' sec'),'comlow2'] = crsp2.loc[crsp2['comlow2'].str.endswith(' sec'),'comlow2'].str.replace(\" sec$\",\" securities\")\n",
    "crsp2.loc[crsp2['comlow2'].str.endswith(' rlty'),'comlow2'] = crsp2.loc[crsp2['comlow2'].str.endswith(' rlty'),'comlow2'].str.replace(\" rlty$\",\" realty\")\n",
    "crsp2.loc[crsp2['comlow2'].str.endswith(' mls'),'comlow2'] = crsp2.loc[crsp2['comlow2'].str.endswith(' mls'),'comlow2'].str.replace(\" mls$\",\" mills\")\n",
    "crsp2.loc[crsp2['comlow2'].str.endswith(' ln'),'comlow2'] = crsp2.loc[crsp2['comlow2'].str.endswith(' ln'),'comlow2'].str.replace(\" ln$\",\" loan\")\n",
    "crsp2.loc[crsp2['comlow2'].str.endswith(' gr'),'comlow2'] = crsp2.loc[crsp2['comlow2'].str.endswith(' gr'),'comlow2'].str.replace(\" gr$\",\" group\")\n",
    "crsp2.loc[crsp2['comlow2'].str.endswith(' tr'),'comlow2'] = crsp2.loc[crsp2['comlow2'].str.endswith(' tr'),'comlow2'].str.replace(\" tr$\",\" trust\")\n",
    "crsp2.loc[crsp2['comlow2'].str.endswith(' fd'),'comlow2'] = crsp2.loc[crsp2['comlow2'].str.endswith(' fd'),'comlow2'].str.replace(\" fd$\",\" fund\")\n",
    "crsp2.loc[crsp2['comlow2'].str.endswith(' fnd'),'comlow2'] = crsp2.loc[crsp2['comlow2'].str.endswith(' fnd'),'comlow2'].str.replace(\" fnd$\",\" fund\")\n",
    "crsp2.loc[crsp2['comlow2'].str.endswith(' fun'),'comlow2'] = crsp2.loc[crsp2['comlow2'].str.endswith(' fun'),'comlow2'].str.replace(\" fun$\",\" fund\")\n",
    "crsp2.loc[crsp2['comlow2'].str.endswith(' assn'),'comlow2'] = crsp2.loc[crsp2['comlow2'].str.endswith(' assn'),'comlow2'].str.replace(\" assn$\",\" association\")\n",
    "crsp2.loc[crsp2['comlow2'].str.endswith(' mktg'),'comlow2'] = crsp2.loc[crsp2['comlow2'].str.endswith(' mktg'),'comlow2'].str.replace(\" mktg$\",\" marketing\")\n",
    "crsp2.loc[crsp2['comlow2'].str.endswith(' natl'),'comlow2'] = crsp2.loc[crsp2['comlow2'].str.endswith(' natl'),'comlow2'].str.replace(\" natl$\",\" national\")\n",
    "crsp2.loc[crsp2['comlow2'].str.endswith(' assoc'),'comlow2'] = crsp2.loc[crsp2['comlow2'].str.endswith(' assoc'),'comlow2'].str.replace(\" assoc$\",\" association\")\n",
    "crsp2.loc[crsp2['comlow2'].str.endswith(' wks'),'comlow2'] = crsp2.loc[crsp2['comlow2'].str.endswith(' wks'),'comlow2'].str.replace(\" wks$\",\" works\")\n",
    "crsp2.loc[crsp2['comlow2'].str.endswith(' brdrs'),'comlow2'] = crsp2.loc[crsp2['comlow2'].str.endswith(' brdrs'),'comlow2'].str.replace(\" brdrs$\",\" breeders\")\n",
    "crsp2.loc[crsp2['comlow2'].str.endswith(' drdg'),'comlow2'] = crsp2.loc[crsp2['comlow2'].str.endswith(' drdg'),'comlow2'].str.replace(\" drdg$\",\" dredging\")\n",
    "crsp2.loc[crsp2['comlow2'].str.endswith(' bldrs'),'comlow2'] = crsp2.loc[crsp2['comlow2'].str.endswith(' bldrs'),'comlow2'].str.replace(\" bldrs$\",\" builders\")\n",
    "crsp2.loc[crsp2['comlow2'].str.endswith(' dev'),'comlow2'] = crsp2.loc[crsp2['comlow2'].str.endswith(' dev'),'comlow2'].str.replace(\" dev$\",\" development\")\n",
    "crsp2.loc[crsp2['comlow2'].str.endswith(' instrs'),'comlow2'] = crsp2.loc[crsp2['comlow2'].str.endswith(' instrs'),'comlow2'].str.replace(\" instrs$\",\" instruments\")\n",
    "crsp2.loc[crsp2['comlow2'].str.endswith(' instr'),'comlow2'] = crsp2.loc[crsp2['comlow2'].str.endswith(' instr'),'comlow2'].str.replace(\" instr$\",\" instrument\")\n",
    "crsp2.loc[crsp2['comlow2'].str.endswith(' cntrs'),'comlow2'] = crsp2.loc[crsp2['comlow2'].str.endswith(' cntrs'),'comlow2'].str.replace(\" cntrs$\",\" centers\")\n",
    "crsp2.loc[crsp2['comlow2'].str.endswith(' ctrs'),'comlow2'] = crsp2.loc[crsp2['comlow2'].str.endswith(' ctrs'),'comlow2'].str.replace(\" ctrs$\",\" centers\")\n",
    "crsp2.loc[crsp2['comlow2'].str.endswith(' ctls'),'comlow2'] = crsp2.loc[crsp2['comlow2'].str.endswith(' ctls'),'comlow2'].str.replace(\" ctls$\",\" controls\")\n",
    "crsp2.loc[crsp2['comlow2'].str.endswith(' matl'),'comlow2'] = crsp2.loc[crsp2['comlow2'].str.endswith(' matl'),'comlow2'].str.replace(\" matl$\",\" material\")\n",
    "crsp2.loc[crsp2['comlow2'].str.endswith(' chem'),'comlow2'] = crsp2.loc[crsp2['comlow2'].str.endswith(' chem'),'comlow2'].str.replace(\" chem$\",\" chemicals\")\n",
    "crsp2.loc[crsp2['comlow2'].str.endswith(' airls'),'comlow2'] = crsp2.loc[crsp2['comlow2'].str.endswith(' airls'),'comlow2'].str.replace(\" airls$\",\" airlines\")\n",
    "crsp2.loc[crsp2['comlow2'].str.endswith(' comms'),'comlow2'] = crsp2.loc[crsp2['comlow2'].str.endswith(' comms'),'comlow2'].str.replace(\" comms$\",\" communications\")\n",
    "crsp2.loc[crsp2['comlow2'].str.endswith(' prem'),'comlow2'] = crsp2.loc[crsp2['comlow2'].str.endswith(' prem'),'comlow2'].str.replace(\" prem$\",\" premier\")\n",
    "crsp2.loc[crsp2['comlow2'].str.endswith(' entmt'),'comlow2'] = crsp2.loc[crsp2['comlow2'].str.endswith(' entmt'),'comlow2'].str.replace(\" entmt$\",\" entertainment\")\n",
    "crsp2.loc[crsp2['comlow2'].str.endswith(' teleg'),'comlow2'] = crsp2.loc[crsp2['comlow2'].str.endswith(' teleg'),'comlow2'].str.replace(\" teleg$\",\" telegraph\")\n",
    "crsp2.loc[crsp2['comlow2'].str.endswith(\" hrdwr\"),'comlow2'] = crsp2.loc[crsp2['comlow2'].str.endswith(\" hrdwr\"),'comlow2'].str.replace(\" hrdwr\",\" hardware\")\n",
    "crsp2.loc[crsp2['comlow2'].str.endswith(\" telecom\"),'comlow2'] = crsp2.loc[crsp2['comlow2'].str.endswith(\" telecom\"),'comlow2'].str.replace(\" telecom$\",\" telecommunications\")\n",
    "crsp2['comlow2'] = crsp2['comlow2'].str.replace(\"tele communications\", \"telecommunications\")\n",
    "crsp2['comlow2'] = crsp2['comlow2'].str.replace(\"tele communication\", \"telecommunication\")\n",
    "crsp2['comlow2'] = crsp2['comlow2'].str.replace(\" telecom$\", \" telecommunication\")\n",
    "\n",
    "crsp2['comlow2'] = crsp2['comlow2'].str.replace(\" telecom \", \" telecommunication \")\n",
    "\n",
    "crsp2['comlow2'] = crsp2['comlow2'].str.replace(\" comm$\",\" communications\")\n"
   ]
  },
  {
   "cell_type": "code",
   "execution_count": 78,
   "metadata": {},
   "outputs": [
    {
     "data": {
      "text/plain": [
       "34829"
      ]
     },
     "execution_count": 78,
     "metadata": {},
     "output_type": "execute_result"
    }
   ],
   "source": [
    "crsp2['comlow2'].nunique() #34829"
   ]
  },
  {
   "cell_type": "code",
   "execution_count": 79,
   "metadata": {},
   "outputs": [],
   "source": [
    "crsp2.loc[crsp2['comlow2'].str.contains(' sys '),'comlow2'] = crsp2.loc[crsp2['comlow2'].str.contains (' sys '),'comlow2'].str.replace(\" sys \",\" systems \")\n",
    "crsp2.loc[crsp2['comlow2'].str.contains(' svcs '),'comlow2'] = crsp2.loc[crsp2['comlow2'].str.contains(' svcs '),'comlow2'].str.replace(\" svcs \",\"  services \")\n",
    "crsp2.loc[crsp2['comlow2'].str.contains(' svc '),'comlow2'] = crsp2.loc[crsp2['comlow2'].str.contains(' svc '),'comlow2'].str.replace(\" svc \",\"  service \")\n",
    "\n",
    "crsp2.loc[crsp2['comlow2'].str.contains(' prods '),'comlow2'] = crsp2.loc[crsp2['comlow2'].str.contains(' prods '),'comlow2'].str.replace(\" prods \",\"  products \")\n",
    "crsp2.loc[crsp2['comlow2'].str.contains(' ins '),'comlow2'] = crsp2.loc[crsp2['comlow2'].str.contains(' ins '),'comlow2'].str.replace(\" ins \",\" insurance \")\n",
    "crsp2.loc[crsp2['comlow2'].str.contains(' hldgs '),'comlow2'] =crsp2.loc[crsp2['comlow2'].str.contains(' hldgs '),'comlow2'].str.replace(\" hldgs \",\" holdings \")\n",
    "crsp2.loc[crsp2['comlow2'].str.contains(' hldg '),'comlow2'] =crsp2.loc[crsp2['comlow2'].str.contains(' hldg '),'comlow2'].str.replace(\" hldg \",\" holding \")\n",
    "\n",
    "crsp2.loc[crsp2['comlow2'].str.contains(' hdg '),'comlow2'] =crsp2.loc[crsp2['comlow2'].str.contains(' hdg '),'comlow2'].str.replace(\" hdg \",\" holding \")\n",
    "crsp2.loc[crsp2['comlow2'].str.contains(' bk '),'comlow2'] = crsp2.loc[crsp2['comlow2'].str.contains(' bk '),'comlow2'].str.replace(\" bk \",\" bank \")\n",
    "crsp2.loc[crsp2['comlow2'].str.contains(' bks '),'comlow2'] = crsp2.loc[crsp2['comlow2'].str.contains(' bks '),'comlow2'].str.replace(\" bks \",\" bank \")\n",
    "\n",
    "crsp2.loc[crsp2['comlow2'].str.contains(' invs '),'comlow2'] =crsp2.loc[crsp2['comlow2'].str.contains(' invs '),'comlow2'].str.replace(\" invs \",\" investors \")\n",
    "crsp2.loc[crsp2['comlow2'].str.contains(' grp '),'comlow2'] = crsp2.loc[crsp2['comlow2'].str.contains(' grp '),'comlow2'].str.replace(\" grp \",\" group \")\n",
    "crsp2.loc[crsp2['comlow2'].str.contains(' finl '),'comlow2'] = crsp2.loc[crsp2['comlow2'].str.contains(' finl '),'comlow2'].str.replace(\" finl \",\" financial \")\n",
    "crsp2.loc[crsp2['comlow2'].str.contains(' assn '),'comlow2'] = crsp2.loc[crsp2['comlow2'].str.contains(' assn '),'comlow2'].str.replace(\" assn \",\" association \")\n",
    "crsp2.loc[crsp2['comlow2'].str.contains(' assoc '),'comlow2'] = crsp2.loc[crsp2['comlow2'].str.contains(' assoc '),'comlow2'].str.replace(\" assoc \",\" association \")\n",
    "crsp2.loc[crsp2['comlow2'].str.contains(' res '),'comlow2'] = crsp2.loc[crsp2['comlow2'].str.contains(' res '),'comlow2'].str.replace(\" res \",\" resources \")\n",
    "crsp2.loc[crsp2['comlow2'].str.contains(' mfg '),'comlow2'] = crsp2.loc[crsp2['comlow2'].str.contains(' mfg '),'comlow2'].str.replace(\" mfg \",\" manufacturing \")\n",
    "crsp2.loc[crsp2['comlow2'].str.contains(' pptys '),'comlow2'] = crsp2.loc[crsp2['comlow2'].str.contains(' pptys '),'comlow2'].str.replace(\" pptys \",\" properties \")\n",
    "crsp2.loc[crsp2['comlow2'].str.contains(' mng '),'comlow2'] = crsp2.loc[crsp2['comlow2'].str.contains(' mng '),'comlow2'].str.replace(\" mng \",\" mining \")\n",
    "\n",
    "crsp2.loc[crsp2['comlow2'].str.contains(' invt '),'comlow2'] = crsp2.loc[crsp2['comlow2'].str.contains(' invt '),'comlow2'].str.replace(\" invt \",\" investment \")\n",
    "crsp2.loc[crsp2['comlow2'].str.contains(' invts '),'comlow2'] = crsp2.loc[crsp2['comlow2'].str.contains(' invts '),'comlow2'].str.replace(\" invts \",\" investments \")\n",
    "crsp2.loc[crsp2['comlow2'].str.contains(' mgmt '),'comlow2'] = crsp2.loc[crsp2['comlow2'].str.contains(' mgmt '),'comlow2'].str.replace(\" mgmt \",\" management \")\n",
    "crsp2.loc[crsp2['comlow2'].str.contains(' equip '),'comlow2'] = crsp2.loc[crsp2['comlow2'].str.contains(' equip '),'comlow2'].str.replace(\" equip \",\" equipment \")\n",
    "crsp2.loc[crsp2['comlow2'].str.contains(' natl '),'comlow2'] = crsp2.loc[crsp2['comlow2'].str.contains(' natl '),'comlow2'].str.replace(\" natl \",\" national \")\n",
    "crsp2.loc[crsp2['comlow2'].str.contains(' engr '),'comlow2'] = crsp2.loc[crsp2['comlow2'].str.contains(' engr '),'comlow2'].str.replace(\" engr \",\" engineering \")\n",
    "crsp2.loc[crsp2['comlow2'].str.contains(' entmt '),'comlow2'] = crsp2.loc[crsp2['comlow2'].str.contains(' entmt '),'comlow2'].str.replace(\" entmt \",\" entertainment \")\n",
    "crsp2.loc[crsp2['comlow2'].str.contains(' bk '),'comlow2'] = crsp2.loc[crsp2['comlow2'].str.contains(' bk '),'comlow2'].str.replace(\" bk \",\" bank \")\n",
    "crsp2.loc[crsp2['comlow2'].str.contains(' mach '),'comlow2'] = crsp2.loc[crsp2['comlow2'].str.contains(' mach '),'comlow2'].str.replace(\" mach \",\" machinery \")\n",
    "crsp2.loc[crsp2['comlow2'].str.contains(' machs '),'comlow2'] = crsp2.loc[crsp2['comlow2'].str.contains(' machs '),'comlow2'].str.replace(\" machs \",\" machines \")\n",
    "crsp2.loc[crsp2['comlow2'].str.contains(' instr '),'comlow2'] = crsp2.loc[crsp2['comlow2'].str.contains(' instr '),'comlow2'].str.replace(\" instr \",\" instrument \")\n",
    "crsp2.loc[crsp2['comlow2'].str.contains(' ptnrs '),'comlow2'] = crsp2.loc[crsp2['comlow2'].str.contains(' ptnrs '),'comlow2'].str.replace(\" ptnrs \",\" partners \")\n",
    "crsp2.loc[crsp2['comlow2'].str.contains(' tel '),'comlow2'] = crsp2.loc[crsp2['comlow2'].str.contains(' tel '),'comlow2'].str.replace(\" tel \",\" telephone \")\n",
    "crsp2.loc[crsp2['comlow2'].str.contains(' teleg '),'comlow2'] = crsp2.loc[crsp2['comlow2'].str.contains(' teleg '),'comlow2'].str.replace(\" teleg \",\" telegraph \")\n",
    "crsp2.loc[crsp2['comlow2'].str.contains(' educ '),'comlow2'] = crsp2.loc[crsp2['comlow2'].str.contains(' educ '),'comlow2'].str.replace(\" educ \",\" education \")\n",
    "crsp2.loc[crsp2['comlow2'].str.contains(' fd '),'comlow2'] = crsp2.loc[crsp2['comlow2'].str.contains(' fd '),'comlow2'].str.replace(\" fd \",\" fund \")\n",
    "crsp2.loc[crsp2['comlow2'].str.contains(' univ '),'comlow2'] = crsp2.loc[crsp2['comlow2'].str.contains(' univ '),'comlow2'].str.replace(\" univ \",\" university \")\n",
    "crsp2.loc[crsp2['comlow2'].str.contains(' trgt '),'comlow2'] = crsp2.loc[crsp2['comlow2'].str.contains(' trgt '),'comlow2'].str.replace(\" trgt \",\" target \")\n",
    "crsp2.loc[crsp2['comlow2'].str.contains(' grth '),'comlow2'] = crsp2.loc[crsp2['comlow2'].str.contains(' grth '),'comlow2'].str.replace(\" grth \",\" growth \")\n",
    "crsp2.loc[crsp2['comlow2'].str.contains(' pub '),'comlow2'] = crsp2.loc[crsp2['comlow2'].str.contains(' pub '),'comlow2'].str.replace(\" pub \",\" pubilc \")\n",
    "crsp2.loc[crsp2['comlow2'].str.contains(' muni '),'comlow2'] = crsp2.loc[crsp2['comlow2'].str.contains(' muni '),'comlow2'].str.replace(\" muni \",\" municipal \")\n",
    "crsp2.loc[crsp2['comlow2'].str.contains(' pfd '),'comlow2'] = crsp2.loc[crsp2['comlow2'].str.contains(' pfd '),'comlow2'].str.replace(\" pfd \",\" preferred \")\n",
    "crsp2.loc[crsp2['comlow2'].str.contains(' tr '),'comlow2'] = crsp2.loc[crsp2['comlow2'].str.contains(' tr '),'comlow2'].str.replace(\" tr \",\" trust \")\n",
    "crsp2.loc[crsp2['comlow2'].str.contains(' airls '),'comlow2'] = crsp2.loc[crsp2['comlow2'].str.contains(' airls '),'comlow2'].str.replace(\" airls \",\" airlines \")\n",
    "crsp2.loc[crsp2['comlow2'].str.contains(' comms '),'comlow2'] = crsp2.loc[crsp2['comlow2'].str.contains(' comms '),'comlow2'].str.replace(\" comms \",\" communications \")\n",
    "crsp2.loc[crsp2['comlow2'].str.contains(' grw '),'comlow2'] = crsp2.loc[crsp2['comlow2'].str.contains(' grw '),'comlow2'].str.replace(\" grw \",\" growth \")\n",
    "crsp2.loc[crsp2['comlow2'].str.contains(' eq '),'comlow2'] = crsp2.loc[crsp2['comlow2'].str.contains(' eq '),'comlow2'].str.replace(\" eq \",\" equity \")\n",
    "crsp2.loc[crsp2['comlow2'].str.endswith(' eq'),'comlow2'] = crsp2.loc[crsp2['comlow2'].str.endswith(' eq'),'comlow2'].str.replace(\" eq$\",\" equity\")\n",
    "crsp2.loc[crsp2['comlow2'].str.contains(' ctls '),'comlow2'] = crsp2.loc[crsp2['comlow2'].str.contains(' ctls '),'comlow2'].str.replace(\" ctls \",\" controls \")\n",
    "crsp2.loc[crsp2['comlow2'].str.contains(' ptnr '),'comlow2'] = crsp2.loc[crsp2['comlow2'].str.contains(' ptnr '),'comlow2'].str.replace(\" ptnr \",\" partner \")\n",
    "crsp2.loc[crsp2['comlow2'].str.contains(' ln '),'comlow2'] = crsp2.loc[crsp2['comlow2'].str.contains(' ln '),'comlow2'].str.replace(\" ln \",\" loan \")\n",
    "crsp2.loc[crsp2['comlow2'].str.contains(' incm '),'comlow2'] = crsp2.loc[crsp2['comlow2'].str.contains(' incm '),'comlow2'].str.replace(\" incm \",\" income \")\n",
    "crsp2.loc[crsp2['comlow2'].str.contains(' ind '),'comlow2'] = crsp2.loc[crsp2['comlow2'].str.contains(' ind '),'comlow2'].str.replace(\" ind \",\" industries \")\n",
    "crsp2.loc[crsp2['comlow2'].str.contains(' ltg & elec'),'comlow2'] = crsp2.loc[crsp2['comlow2'].str.contains(' ltg & elec'),'comlow2'].str.replace(\" ltg & elec$\",\" lighting & electricity\")\n",
    "crsp2['comlow2'] = crsp2['comlow2'].str.replace(\" indl \", \" industrial \")\n",
    "crsp2.loc[crsp2['comlow2'].str.contains(' dev '),'comlow2'] =crsp2.loc[crsp2['comlow2'].str.contains(' dev '),'comlow2'].str.replace(\" dev \",\" development \")\n",
    "crsp2.loc[crsp2['comlow2'].str.contains(' telecom '),'comlow2'] =crsp2.loc[crsp2['comlow2'].str.contains(' telecom '),'comlow2'].str.replace(\" telecom \",\" telecommunications \")\n",
    "crsp2.loc[crsp2['comlow2'].str.contains(' intl '),'comlow2'] =crsp2.loc[crsp2['comlow2'].str.contains(' intl '),'comlow2'].str.replace(\" intl \",\" international \")\n",
    "crsp2.loc[crsp2['comlow2'].str.contains(' ill '),'comlow2'] =crsp2.loc[crsp2['comlow2'].str.contains(' ill '),'comlow2'].str.replace(\" ill \",\" illinois \")\n",
    "crsp2.loc[crsp2['comlow2'].str.contains(' intl$'),'comlow2'] =crsp2.loc[crsp2['comlow2'].str.contains(' intl$'),'comlow2'].str.replace(\" intl$\",\" international \")\n",
    "crsp2.loc[crsp2['comlow2'].str.contains('^intl'),'comlow2'] =crsp2.loc[crsp2['comlow2'].str.contains('^intl '),'comlow2'].str.replace(\"^intl \",\" international \")\n",
    "crsp2['comlow2'] = crsp2['comlow2'].str.replace(\"aktiebolaget\",\"\")"
   ]
  },
  {
   "cell_type": "code",
   "execution_count": 80,
   "metadata": {},
   "outputs": [],
   "source": [
    "## strip\n",
    "crsp2['comlow2'] = crsp2['comlow2'].apply(lambda x : x.strip())"
   ]
  },
  {
   "cell_type": "code",
   "execution_count": 81,
   "metadata": {},
   "outputs": [
    {
     "data": {
      "text/plain": [
       "PERMNO       30624\n",
       "COMNAM       36656\n",
       "PERMCO       27195\n",
       "crsp_year       43\n",
       "COMNAM2      35078\n",
       "comlow       35078\n",
       "comlow2      34819\n",
       "last         11044\n",
       "len              9\n",
       "dtype: int64"
      ]
     },
     "execution_count": 81,
     "metadata": {},
     "output_type": "execute_result"
    }
   ],
   "source": [
    "crsp2.nunique() #34819"
   ]
  },
  {
   "cell_type": "code",
   "execution_count": 82,
   "metadata": {},
   "outputs": [],
   "source": [
    "crsp2['comlow2'] = crsp2['comlow2'].str.replace(' +',\" \")"
   ]
  },
  {
   "cell_type": "code",
   "execution_count": 83,
   "metadata": {},
   "outputs": [
    {
     "data": {
      "text/plain": [
       "PERMNO       30624\n",
       "COMNAM       36656\n",
       "PERMCO       27195\n",
       "crsp_year       43\n",
       "COMNAM2      35078\n",
       "comlow       35078\n",
       "comlow2      34806\n",
       "last         11044\n",
       "len              9\n",
       "dtype: int64"
      ]
     },
     "execution_count": 83,
     "metadata": {},
     "output_type": "execute_result"
    }
   ],
   "source": [
    "crsp2.nunique() #comlow2 34806"
   ]
  },
  {
   "cell_type": "code",
   "execution_count": 84,
   "metadata": {},
   "outputs": [],
   "source": [
    "crsp2['comlow3'] = crsp2['comlow2'].replace('\\.',' ', regex=True)\n",
    "crsp2['comlow3'] = crsp2['comlow3'].replace('-',' ', regex=True)\n",
    "crsp2['comlow3'] = crsp2['comlow3'].replace(',',' ', regex=True)\n",
    "crsp2['comlow3'] = crsp2['comlow3'].replace('&',\" \", regex=True)\n",
    "crsp2['comlow3'] = crsp2['comlow3'].replace(' and ',\" \", regex=True)\n",
    "crsp2['comlow3'] = crsp2['comlow3'].apply(lambda x: x.strip())"
   ]
  },
  {
   "cell_type": "code",
   "execution_count": 85,
   "metadata": {},
   "outputs": [
    {
     "data": {
      "text/plain": [
       "34806"
      ]
     },
     "execution_count": 85,
     "metadata": {},
     "output_type": "execute_result"
    }
   ],
   "source": [
    "crsp2.comlow3.nunique() #34806"
   ]
  },
  {
   "cell_type": "code",
   "execution_count": 86,
   "metadata": {},
   "outputs": [],
   "source": [
    "regex = re.compile('(?<![a-zA-Z0-9]{2})(?<=[a-zA-Z0-9]{1}) +(?=[a-zA-Z0-9] |.$)')\n",
    "crsp2['comlow3'] = crsp2['comlow3'].str.replace(regex, \"\")"
   ]
  },
  {
   "cell_type": "code",
   "execution_count": 87,
   "metadata": {},
   "outputs": [],
   "source": [
    "#remove space between at t to get att\n",
    "crsp2['comlow3'] = crsp2['comlow3'].replace(r'(\\bat\\b\\s*\\bt\\b)', 'att',regex=True)"
   ]
  },
  {
   "cell_type": "code",
   "execution_count": 88,
   "metadata": {},
   "outputs": [],
   "source": [
    "crsp2['comlow3'] = crsp2['comlow3'].apply(lambda x: x.strip())\n",
    "crsp2['comlen'] = crsp2['comlow3'].apply(lambda x: len(x))"
   ]
  },
  {
   "cell_type": "code",
   "execution_count": 89,
   "metadata": {},
   "outputs": [
    {
     "data": {
      "text/plain": [
       "array(['c', 'm'], dtype=object)"
      ]
     },
     "execution_count": 89,
     "metadata": {},
     "output_type": "execute_result"
    }
   ],
   "source": [
    "crsp2[crsp2['comlen']== 1][\"comlow3\"].unique()"
   ]
  },
  {
   "cell_type": "code",
   "execution_count": 90,
   "metadata": {
    "scrolled": false
   },
   "outputs": [
    {
     "data": {
      "text/html": [
       "<div>\n",
       "<style scoped>\n",
       "    .dataframe tbody tr th:only-of-type {\n",
       "        vertical-align: middle;\n",
       "    }\n",
       "\n",
       "    .dataframe tbody tr th {\n",
       "        vertical-align: top;\n",
       "    }\n",
       "\n",
       "    .dataframe thead th {\n",
       "        text-align: right;\n",
       "    }\n",
       "</style>\n",
       "<table border=\"1\" class=\"dataframe\">\n",
       "  <thead>\n",
       "    <tr style=\"text-align: right;\">\n",
       "      <th></th>\n",
       "      <th>COMNAM</th>\n",
       "      <th>comlow2</th>\n",
       "      <th>comlow</th>\n",
       "    </tr>\n",
       "  </thead>\n",
       "  <tbody>\n",
       "    <tr>\n",
       "      <td>951003</td>\n",
       "      <td>C COR INC</td>\n",
       "      <td>c</td>\n",
       "      <td>c</td>\n",
       "    </tr>\n",
       "    <tr>\n",
       "      <td>951008</td>\n",
       "      <td>C COR INC</td>\n",
       "      <td>c</td>\n",
       "      <td>c</td>\n",
       "    </tr>\n",
       "    <tr>\n",
       "      <td>951020</td>\n",
       "      <td>C COR INC</td>\n",
       "      <td>c</td>\n",
       "      <td>c</td>\n",
       "    </tr>\n",
       "    <tr>\n",
       "      <td>951032</td>\n",
       "      <td>C COR INC</td>\n",
       "      <td>c</td>\n",
       "      <td>c</td>\n",
       "    </tr>\n",
       "  </tbody>\n",
       "</table>\n",
       "</div>"
      ],
      "text/plain": [
       "           COMNAM comlow2 comlow\n",
       "951003  C COR INC       c      c\n",
       "951008  C COR INC       c      c\n",
       "951020  C COR INC       c      c\n",
       "951032  C COR INC       c      c"
      ]
     },
     "execution_count": 90,
     "metadata": {},
     "output_type": "execute_result"
    }
   ],
   "source": [
    "crsp2.loc[crsp2['comlow3']==\"c\"][['COMNAM','comlow2','comlow']] ##way to join  (cor, as)"
   ]
  },
  {
   "cell_type": "code",
   "execution_count": 91,
   "metadata": {},
   "outputs": [
    {
     "data": {
      "text/plain": [
       "array(['c cor net', 'c', 'hi cor resources'], dtype=object)"
      ]
     },
     "execution_count": 91,
     "metadata": {},
     "output_type": "execute_result"
    }
   ],
   "source": [
    "crsp2[crsp2['COMNAM'].str.contains(\" COR \")]['comlow3'].unique()"
   ]
  },
  {
   "cell_type": "code",
   "execution_count": 92,
   "metadata": {},
   "outputs": [],
   "source": [
    "# array(['C COR NET CORP', 'C COR INC', 'HI COR RESOURCES LTD'],\n",
    "#       dtype=object)"
   ]
  },
  {
   "cell_type": "code",
   "execution_count": 93,
   "metadata": {},
   "outputs": [],
   "source": [
    "crsp2.loc[crsp2['COMNAM']==\"C COR INC\",\"comlow3\"] = \"c cor\""
   ]
  },
  {
   "cell_type": "code",
   "execution_count": 94,
   "metadata": {},
   "outputs": [],
   "source": [
    "crsp2['last2'] = crsp2['comlow3'].apply(lambda x : x.split()[-1])\n",
    "\n",
    "lst = crsp2['last2'].value_counts()"
   ]
  },
  {
   "cell_type": "code",
   "execution_count": 95,
   "metadata": {},
   "outputs": [
    {
     "data": {
      "text/plain": [
       "trust              20095\n",
       "group              10657\n",
       "industries         10380\n",
       "fund               10298\n",
       "systems             7465\n",
       "bancorp             7166\n",
       "financial           6096\n",
       "holdings            5380\n",
       "technologies        4887\n",
       "services            3817\n",
       "resources           3816\n",
       "energy              3689\n",
       "bank                2855\n",
       "communications      2821\n",
       "technology          2657\n",
       "products            2366\n",
       "ii                  2325\n",
       "pharmaceuticals     2291\n",
       "bancshares          1976\n",
       "funds               1787\n",
       "partners            1765\n",
       "holding             1675\n",
       "capital             1659\n",
       "enterprises         1618\n",
       "gas                 1591\n",
       "stores              1589\n",
       "petroleum           1408\n",
       "properties          1386\n",
       "electronics         1334\n",
       "oil                 1329\n",
       "foods               1274\n",
       "national            1261\n",
       "manufacturing       1138\n",
       "insurance           1129\n",
       "medical             1059\n",
       "software            1046\n",
       "Name: last2, dtype: int64"
      ]
     },
     "execution_count": 95,
     "metadata": {},
     "output_type": "execute_result"
    }
   ],
   "source": [
    "lst[lst>1000]"
   ]
  },
  {
   "cell_type": "code",
   "execution_count": 96,
   "metadata": {},
   "outputs": [],
   "source": [
    "crsp2['comlow4'] = crsp2['comlow3']"
   ]
  },
  {
   "cell_type": "code",
   "execution_count": 97,
   "metadata": {},
   "outputs": [
    {
     "data": {
      "text/html": [
       "<div>\n",
       "<style scoped>\n",
       "    .dataframe tbody tr th:only-of-type {\n",
       "        vertical-align: middle;\n",
       "    }\n",
       "\n",
       "    .dataframe tbody tr th {\n",
       "        vertical-align: top;\n",
       "    }\n",
       "\n",
       "    .dataframe thead th {\n",
       "        text-align: right;\n",
       "    }\n",
       "</style>\n",
       "<table border=\"1\" class=\"dataframe\">\n",
       "  <thead>\n",
       "    <tr style=\"text-align: right;\">\n",
       "      <th></th>\n",
       "      <th>PERMNO</th>\n",
       "      <th>COMNAM</th>\n",
       "      <th>PERMCO</th>\n",
       "      <th>crsp_year</th>\n",
       "      <th>COMNAM2</th>\n",
       "      <th>comlow</th>\n",
       "      <th>comlow2</th>\n",
       "      <th>last</th>\n",
       "      <th>len</th>\n",
       "      <th>comlow3</th>\n",
       "      <th>comlen</th>\n",
       "      <th>last2</th>\n",
       "      <th>comlow4</th>\n",
       "    </tr>\n",
       "  </thead>\n",
       "  <tbody>\n",
       "  </tbody>\n",
       "</table>\n",
       "</div>"
      ],
      "text/plain": [
       "Empty DataFrame\n",
       "Columns: [PERMNO, COMNAM, PERMCO, crsp_year, COMNAM2, comlow, comlow2, last, len, comlow3, comlen, last2, comlow4]\n",
       "Index: []"
      ]
     },
     "execution_count": 97,
     "metadata": {},
     "output_type": "execute_result"
    }
   ],
   "source": [
    "crsp2[crsp2['COMNAM'].str.contains(\" USF \")]"
   ]
  },
  {
   "cell_type": "code",
   "execution_count": 98,
   "metadata": {},
   "outputs": [],
   "source": [
    "# join tele communications"
   ]
  },
  {
   "cell_type": "code",
   "execution_count": 99,
   "metadata": {},
   "outputs": [],
   "source": [
    "crsp2.loc[crsp2['COMNAM']==\"COMMUNICATIONS SATELLITE CORP\", \"comlow4\"] = \"comsat\"\n",
    "crsp2.loc[crsp2['COMNAM']==\"GENERAL REFRACTORIES CO\", \"comlow4\"] = \"grefco\"\n",
    "crsp2.loc[crsp2['COMNAM']==\"AMERICAN COLLOID CO\", \"comlow4\"] = \"amcol\"\n",
    "crsp2.loc[crsp2['COMNAM']==\"ALUMINUM COMPANY AMER\", \"comlow4\"] = \"alcoa\"\n",
    "crsp2.loc[crsp2['comlow4'].str.contains(\"minnesota min\"), \"comlow4\"] = \"3m\"\n",
    "crsp2['comlow4'] = crsp2['comlow4'].str.replace(\" comm$\",\" communications\")\n",
    "crsp2.loc[crsp2['COMNAM'].str.contains(\"TAMPA ELECTRIC CO\"), \"comlow4\"]= \"teco\"\n",
    "crsp2.loc[crsp2['COMNAM']==\"AMERICA ONLINE INC DEL\", \"comlow4\"] = \"aol\"\n",
    "crsp2.loc[crsp2['COMNAM']==\"ATLANTIC RICHFIELD CO\", \"comlow4\"] = \"arco\"\n",
    "crsp2.loc[crsp2['COMNAM']==\"ADVANCED TECHNOLOGY MATERIAL INC\", \"comlow4\"] = \"atmi\"\n",
    "crsp2.loc[crsp2['COMNAM']==\"BELL CANADA ENTERPRISES\", \"comlow4\"] = \"bce\"\n",
    "# crsp2.loc[crsp2['comlow4'].str.contains(\"8x8\"), \"comlow4\"] = \"8times8\"\n",
    "crsp2.loc[crsp2['comlow4'].str.contains(\"federal national mortgage\"), \"comlow4\"] = \"fannie mae\"\n",
    "# crsp2['comlow4'] = crsp2['comlow4'].str.replace(\"united states\", \"us\")\n",
    "crsp2.loc[crsp2['COMNAM']==\"B T GROUP PLC\", \"comlow4\"] = \"british telecommunications group\"\n",
    "crsp2.loc[crsp2['COMNAM']==\"C A INC\", \"comlow4\"] = \"computer associates\"\n",
    "crsp2.loc[crsp2['COMNAM']==\"CRUTCHER RESOURCES CORP\", \"comlow4\"] = \"crc\"\n",
    "crsp2.loc[crsp2['COMNAM']==\"ECOLAB INC\", \"comlow4\"] = \"economics laboratory\"\n",
    "crsp2.loc[crsp2['COMNAM']==\"EDUCATIONAL COMPUTER CORP DE\", \"comlow4\"] = \"ecc\"\n",
    "crsp2.loc[crsp2['COMNAM']==\"ELECTROMAGNETIC SCIENCES INC\", \"comlow4\"] = \"ems\"\n",
    "crsp2.loc[crsp2['COMNAM']==\"N E C CORP\", \"comlow4\"] = \"nippon electric\"\n",
    "crsp2.loc[crsp2['COMNAM'].str.contains(\"NETAPP\"), \"comlow4\"] = \"network appliance\"\n",
    "crsp2.loc[crsp2['COMNAM']==\"P G & E CORP\", \"comlow4\"] = \"pacific gas electric\"\n",
    "crsp2.loc[crsp2['COMNAM']==\"R B & W CORP\", \"comlow4\"] = \"russell burdsall ward\"\n",
    "crsp2.loc[crsp2['COMNAM']==\"P M F G INC\", \"comlow4\"] = \"peerless manufacturing\"\n",
    "crsp2.loc[crsp2['COMNAM']==\"NNA/S\", \"comlow4\"] = \"novo nordisk\"\n",
    "crsp2.loc[crsp2['COMNAM']==\"S G S THOMSON MICROELECTRONICS\", \"comlow4\"] = \"stmicroelectronics\"\n",
    "crsp2.loc[crsp2['COMNAM']==\"SOUTHWEST SECURITIES GROUP INC\", \"comlow4\"] = \"sws group\"\n",
    "crsp2.loc[crsp2['COMNAM']==\"T D K ELECTRONICS LTD\", \"comlow4\"] = \"tokyo denki kagaku\"\n",
    "crsp2.loc[crsp2['COMNAM']==\"TESCO AMERICAN INC\", \"comlow4\"] = \"transnational energy systems\"\n",
    "crsp2.loc[crsp2['COMNAM']==\"U A L CORP\", \"comlow4\"] = \"united airlines\"\n",
    "crsp2.loc[crsp2['COMNAM']==\"U S G CORP\", \"comlow4\"] = \"united states gypsum\"\n",
    "crsp2.loc[crsp2['COMNAM']==\"WABTEC CORP\", \"comlow4\"] = \"westinghouse air brake technologies\"\n",
    "\n",
    "\n",
    "crsp2.loc[crsp2['COMNAM'].str.contains(\"NNA/S\"), \"comlow4\"] = \"novo nordisk\"\n",
    "crsp2.loc[crsp2['COMNAM'].str.contains(\"FEDEX CORP\"), \"comlow4\"] = \"federal express\"\n",
    "crsp2.loc[crsp2['COMNAM'].str.contains(\"NMS Communications Corporation\"), \"comlow4\"] = \"natural microsystems\"\n",
    "crsp2['comlow4'] = crsp2['comlow4'].str.replace(\"gatx\",\"general american transporation\")\n",
    "\n",
    "crsp2['comlow4'] = crsp2['comlow4'].str.replace(\"nortel\",\"northern telecommunications\")\n",
    "\n",
    "\n",
    "crsp2.loc[crsp2['comlow4'].str.contains(\"rhone poulenc\"), \"comlow4\"] = \"rhone poulenc\"\n",
    "crsp2.loc[crsp2['COMNAM'].str.contains(\"IT&T Industries, Inc.\"), \"comlow4\"] = \"international telephone telegraph\"\n",
    "crsp2.loc[crsp2['comlow4'].str.contains(\"alcatel\"), \"comlow4\"] = \"alcatel\"\n",
    "\n"
   ]
  },
  {
   "cell_type": "code",
   "execution_count": 100,
   "metadata": {},
   "outputs": [],
   "source": [
    "#check at end of comp name\n",
    "def cleanlow(column, col):\n",
    "\n",
    "    compend = ['AB', 'AKTIEBOLAG', 'AKTIEBOLAGET', 'AKTIENGESELLSCHAFT','AS',\n",
    "            'CO', 'COMPANIES','COMPANY','COR','CORP', 'COS',\n",
    "               'DE', 'DEL', 'FSB', 'IN','INC', 'INCORPORATED','INTERNATIONAL','INTL',\n",
    "             'LIMITEDLLC','LP','LTD','NEW','NV','PLC','SA','SAB DE CV','SHS','SPA','THE','AND',\n",
    "               'ASA','OY','OYJ']\n",
    "\n",
    "    compend2 = []\n",
    "    for i in compend:\n",
    "        compend2.append(\" \" +i.lower())\n",
    "        \n",
    "\n",
    "    for each in compend2:\n",
    "        if (len(crsp2[crsp2[column].str.endswith(each)]) >0 ):\n",
    "            \n",
    "                print(each,len(crsp2[crsp2[column].str.endswith(each)]) )\n",
    "                \n",
    "                y = each+\"$\"\n",
    "                crsp2.loc[crsp2[column].str.endswith(each),col] = crsp2.loc[crsp2[column].str.\n",
    "                                                                                  endswith(each),column].str.replace(y,\"\")\n",
    "\n",
    "                crsp2[column] = crsp2[column].apply(lambda x : x.strip())"
   ]
  },
  {
   "cell_type": "code",
   "execution_count": 101,
   "metadata": {},
   "outputs": [
    {
     "data": {
      "text/html": [
       "<div>\n",
       "<style scoped>\n",
       "    .dataframe tbody tr th:only-of-type {\n",
       "        vertical-align: middle;\n",
       "    }\n",
       "\n",
       "    .dataframe tbody tr th {\n",
       "        vertical-align: top;\n",
       "    }\n",
       "\n",
       "    .dataframe thead th {\n",
       "        text-align: right;\n",
       "    }\n",
       "</style>\n",
       "<table border=\"1\" class=\"dataframe\">\n",
       "  <thead>\n",
       "    <tr style=\"text-align: right;\">\n",
       "      <th></th>\n",
       "      <th>PERMNO</th>\n",
       "      <th>COMNAM</th>\n",
       "      <th>PERMCO</th>\n",
       "      <th>crsp_year</th>\n",
       "      <th>COMNAM2</th>\n",
       "      <th>comlow</th>\n",
       "      <th>comlow2</th>\n",
       "      <th>last</th>\n",
       "      <th>len</th>\n",
       "      <th>comlow3</th>\n",
       "      <th>comlen</th>\n",
       "      <th>last2</th>\n",
       "      <th>comlow4</th>\n",
       "    </tr>\n",
       "  </thead>\n",
       "  <tbody>\n",
       "    <tr>\n",
       "      <td>2293138</td>\n",
       "      <td>58640</td>\n",
       "      <td>NORTEL NETWORKS CORP</td>\n",
       "      <td>21301</td>\n",
       "      <td>1999</td>\n",
       "      <td>NORTEL NETWORKS</td>\n",
       "      <td>nortel networks</td>\n",
       "      <td>nortel networks</td>\n",
       "      <td>networks</td>\n",
       "      <td>2</td>\n",
       "      <td>nortel networks</td>\n",
       "      <td>15</td>\n",
       "      <td>networks</td>\n",
       "      <td>northern telecommunications networks</td>\n",
       "    </tr>\n",
       "    <tr>\n",
       "      <td>2293147</td>\n",
       "      <td>58640</td>\n",
       "      <td>NORTEL NETWORKS CORP</td>\n",
       "      <td>21301</td>\n",
       "      <td>2000</td>\n",
       "      <td>NORTEL NETWORKS</td>\n",
       "      <td>nortel networks</td>\n",
       "      <td>nortel networks</td>\n",
       "      <td>networks</td>\n",
       "      <td>2</td>\n",
       "      <td>nortel networks</td>\n",
       "      <td>15</td>\n",
       "      <td>networks</td>\n",
       "      <td>northern telecommunications networks</td>\n",
       "    </tr>\n",
       "    <tr>\n",
       "      <td>2293151</td>\n",
       "      <td>58640</td>\n",
       "      <td>NORTEL NETWORKS CORP NEW</td>\n",
       "      <td>21301</td>\n",
       "      <td>2000</td>\n",
       "      <td>NORTEL NETWORKS</td>\n",
       "      <td>nortel networks</td>\n",
       "      <td>nortel networks</td>\n",
       "      <td>networks</td>\n",
       "      <td>2</td>\n",
       "      <td>nortel networks</td>\n",
       "      <td>15</td>\n",
       "      <td>networks</td>\n",
       "      <td>northern telecommunications networks</td>\n",
       "    </tr>\n",
       "    <tr>\n",
       "      <td>2293159</td>\n",
       "      <td>58640</td>\n",
       "      <td>NORTEL NETWORKS CORP NEW</td>\n",
       "      <td>21301</td>\n",
       "      <td>2001</td>\n",
       "      <td>NORTEL NETWORKS</td>\n",
       "      <td>nortel networks</td>\n",
       "      <td>nortel networks</td>\n",
       "      <td>networks</td>\n",
       "      <td>2</td>\n",
       "      <td>nortel networks</td>\n",
       "      <td>15</td>\n",
       "      <td>networks</td>\n",
       "      <td>northern telecommunications networks</td>\n",
       "    </tr>\n",
       "    <tr>\n",
       "      <td>2293171</td>\n",
       "      <td>58640</td>\n",
       "      <td>NORTEL NETWORKS CORP NEW</td>\n",
       "      <td>21301</td>\n",
       "      <td>2002</td>\n",
       "      <td>NORTEL NETWORKS</td>\n",
       "      <td>nortel networks</td>\n",
       "      <td>nortel networks</td>\n",
       "      <td>networks</td>\n",
       "      <td>2</td>\n",
       "      <td>nortel networks</td>\n",
       "      <td>15</td>\n",
       "      <td>networks</td>\n",
       "      <td>northern telecommunications networks</td>\n",
       "    </tr>\n",
       "    <tr>\n",
       "      <td>2293183</td>\n",
       "      <td>58640</td>\n",
       "      <td>NORTEL NETWORKS CORP NEW</td>\n",
       "      <td>21301</td>\n",
       "      <td>2003</td>\n",
       "      <td>NORTEL NETWORKS</td>\n",
       "      <td>nortel networks</td>\n",
       "      <td>nortel networks</td>\n",
       "      <td>networks</td>\n",
       "      <td>2</td>\n",
       "      <td>nortel networks</td>\n",
       "      <td>15</td>\n",
       "      <td>networks</td>\n",
       "      <td>northern telecommunications networks</td>\n",
       "    </tr>\n",
       "    <tr>\n",
       "      <td>2293195</td>\n",
       "      <td>58640</td>\n",
       "      <td>NORTEL NETWORKS CORP NEW</td>\n",
       "      <td>21301</td>\n",
       "      <td>2004</td>\n",
       "      <td>NORTEL NETWORKS</td>\n",
       "      <td>nortel networks</td>\n",
       "      <td>nortel networks</td>\n",
       "      <td>networks</td>\n",
       "      <td>2</td>\n",
       "      <td>nortel networks</td>\n",
       "      <td>15</td>\n",
       "      <td>networks</td>\n",
       "      <td>northern telecommunications networks</td>\n",
       "    </tr>\n",
       "    <tr>\n",
       "      <td>2293207</td>\n",
       "      <td>58640</td>\n",
       "      <td>NORTEL NETWORKS CORP NEW</td>\n",
       "      <td>21301</td>\n",
       "      <td>2005</td>\n",
       "      <td>NORTEL NETWORKS</td>\n",
       "      <td>nortel networks</td>\n",
       "      <td>nortel networks</td>\n",
       "      <td>networks</td>\n",
       "      <td>2</td>\n",
       "      <td>nortel networks</td>\n",
       "      <td>15</td>\n",
       "      <td>networks</td>\n",
       "      <td>northern telecommunications networks</td>\n",
       "    </tr>\n",
       "    <tr>\n",
       "      <td>2293219</td>\n",
       "      <td>58640</td>\n",
       "      <td>NORTEL NETWORKS CORP NEW</td>\n",
       "      <td>21301</td>\n",
       "      <td>2006</td>\n",
       "      <td>NORTEL NETWORKS</td>\n",
       "      <td>nortel networks</td>\n",
       "      <td>nortel networks</td>\n",
       "      <td>networks</td>\n",
       "      <td>2</td>\n",
       "      <td>nortel networks</td>\n",
       "      <td>15</td>\n",
       "      <td>networks</td>\n",
       "      <td>northern telecommunications networks</td>\n",
       "    </tr>\n",
       "    <tr>\n",
       "      <td>2293231</td>\n",
       "      <td>58640</td>\n",
       "      <td>NORTEL NETWORKS CORP NEW</td>\n",
       "      <td>21301</td>\n",
       "      <td>2007</td>\n",
       "      <td>NORTEL NETWORKS</td>\n",
       "      <td>nortel networks</td>\n",
       "      <td>nortel networks</td>\n",
       "      <td>networks</td>\n",
       "      <td>2</td>\n",
       "      <td>nortel networks</td>\n",
       "      <td>15</td>\n",
       "      <td>networks</td>\n",
       "      <td>northern telecommunications networks</td>\n",
       "    </tr>\n",
       "    <tr>\n",
       "      <td>2293243</td>\n",
       "      <td>58640</td>\n",
       "      <td>NORTEL NETWORKS CORP NEW</td>\n",
       "      <td>21301</td>\n",
       "      <td>2008</td>\n",
       "      <td>NORTEL NETWORKS</td>\n",
       "      <td>nortel networks</td>\n",
       "      <td>nortel networks</td>\n",
       "      <td>networks</td>\n",
       "      <td>2</td>\n",
       "      <td>nortel networks</td>\n",
       "      <td>15</td>\n",
       "      <td>networks</td>\n",
       "      <td>northern telecommunications networks</td>\n",
       "    </tr>\n",
       "    <tr>\n",
       "      <td>2293255</td>\n",
       "      <td>58640</td>\n",
       "      <td>NORTEL NETWORKS CORP NEW</td>\n",
       "      <td>21301</td>\n",
       "      <td>2009</td>\n",
       "      <td>NORTEL NETWORKS</td>\n",
       "      <td>nortel networks</td>\n",
       "      <td>nortel networks</td>\n",
       "      <td>networks</td>\n",
       "      <td>2</td>\n",
       "      <td>nortel networks</td>\n",
       "      <td>15</td>\n",
       "      <td>networks</td>\n",
       "      <td>northern telecommunications networks</td>\n",
       "    </tr>\n",
       "  </tbody>\n",
       "</table>\n",
       "</div>"
      ],
      "text/plain": [
       "         PERMNO                    COMNAM  PERMCO  crsp_year          COMNAM2  \\\n",
       "2293138   58640      NORTEL NETWORKS CORP   21301       1999  NORTEL NETWORKS   \n",
       "2293147   58640      NORTEL NETWORKS CORP   21301       2000  NORTEL NETWORKS   \n",
       "2293151   58640  NORTEL NETWORKS CORP NEW   21301       2000  NORTEL NETWORKS   \n",
       "2293159   58640  NORTEL NETWORKS CORP NEW   21301       2001  NORTEL NETWORKS   \n",
       "2293171   58640  NORTEL NETWORKS CORP NEW   21301       2002  NORTEL NETWORKS   \n",
       "2293183   58640  NORTEL NETWORKS CORP NEW   21301       2003  NORTEL NETWORKS   \n",
       "2293195   58640  NORTEL NETWORKS CORP NEW   21301       2004  NORTEL NETWORKS   \n",
       "2293207   58640  NORTEL NETWORKS CORP NEW   21301       2005  NORTEL NETWORKS   \n",
       "2293219   58640  NORTEL NETWORKS CORP NEW   21301       2006  NORTEL NETWORKS   \n",
       "2293231   58640  NORTEL NETWORKS CORP NEW   21301       2007  NORTEL NETWORKS   \n",
       "2293243   58640  NORTEL NETWORKS CORP NEW   21301       2008  NORTEL NETWORKS   \n",
       "2293255   58640  NORTEL NETWORKS CORP NEW   21301       2009  NORTEL NETWORKS   \n",
       "\n",
       "                  comlow          comlow2      last  len          comlow3  \\\n",
       "2293138  nortel networks  nortel networks  networks    2  nortel networks   \n",
       "2293147  nortel networks  nortel networks  networks    2  nortel networks   \n",
       "2293151  nortel networks  nortel networks  networks    2  nortel networks   \n",
       "2293159  nortel networks  nortel networks  networks    2  nortel networks   \n",
       "2293171  nortel networks  nortel networks  networks    2  nortel networks   \n",
       "2293183  nortel networks  nortel networks  networks    2  nortel networks   \n",
       "2293195  nortel networks  nortel networks  networks    2  nortel networks   \n",
       "2293207  nortel networks  nortel networks  networks    2  nortel networks   \n",
       "2293219  nortel networks  nortel networks  networks    2  nortel networks   \n",
       "2293231  nortel networks  nortel networks  networks    2  nortel networks   \n",
       "2293243  nortel networks  nortel networks  networks    2  nortel networks   \n",
       "2293255  nortel networks  nortel networks  networks    2  nortel networks   \n",
       "\n",
       "         comlen     last2                               comlow4  \n",
       "2293138      15  networks  northern telecommunications networks  \n",
       "2293147      15  networks  northern telecommunications networks  \n",
       "2293151      15  networks  northern telecommunications networks  \n",
       "2293159      15  networks  northern telecommunications networks  \n",
       "2293171      15  networks  northern telecommunications networks  \n",
       "2293183      15  networks  northern telecommunications networks  \n",
       "2293195      15  networks  northern telecommunications networks  \n",
       "2293207      15  networks  northern telecommunications networks  \n",
       "2293219      15  networks  northern telecommunications networks  \n",
       "2293231      15  networks  northern telecommunications networks  \n",
       "2293243      15  networks  northern telecommunications networks  \n",
       "2293255      15  networks  northern telecommunications networks  "
      ]
     },
     "execution_count": 101,
     "metadata": {},
     "output_type": "execute_result"
    }
   ],
   "source": [
    "crsp2[crsp2['COMNAM'].str.contains('NORTEL')]"
   ]
  },
  {
   "cell_type": "code",
   "execution_count": 102,
   "metadata": {},
   "outputs": [],
   "source": [
    "crsp2['comlow4'] = crsp2['comlow4'].apply(lambda x: x.strip())"
   ]
  },
  {
   "cell_type": "code",
   "execution_count": 103,
   "metadata": {},
   "outputs": [
    {
     "data": {
      "text/plain": [
       "Index(['PERMNO', 'COMNAM', 'PERMCO', 'crsp_year', 'COMNAM2', 'comlow',\n",
       "       'comlow2', 'last', 'len', 'comlow3', 'comlen', 'last2', 'comlow4'],\n",
       "      dtype='object')"
      ]
     },
     "execution_count": 103,
     "metadata": {},
     "output_type": "execute_result"
    }
   ],
   "source": [
    "crsp2.columns"
   ]
  },
  {
   "cell_type": "code",
   "execution_count": 104,
   "metadata": {},
   "outputs": [],
   "source": [
    "# del crsp2['last'], crsp2['last2'], crsp2['len'], crsp2['comlen']"
   ]
  },
  {
   "cell_type": "code",
   "execution_count": 105,
   "metadata": {},
   "outputs": [
    {
     "data": {
      "text/plain": [
       "34791"
      ]
     },
     "execution_count": 105,
     "metadata": {},
     "output_type": "execute_result"
    }
   ],
   "source": [
    "crsp2['comlow4'].nunique() #34791"
   ]
  },
  {
   "cell_type": "code",
   "execution_count": 106,
   "metadata": {},
   "outputs": [
    {
     "name": "stdout",
     "output_type": "stream",
     "text": [
      " as 4\n",
      " company 28\n",
      " cor 4\n",
      " de 26\n",
      " fsb 8\n",
      " international 35\n",
      " and 1\n"
     ]
    }
   ],
   "source": [
    "cleanlow(\"comlow4\",\"comlow4\")"
   ]
  },
  {
   "cell_type": "code",
   "execution_count": 107,
   "metadata": {},
   "outputs": [],
   "source": [
    "crsp2['comlow4'] = crsp2['comlow4'].str.replace(\"united states\",\"us\")\n",
    "\n",
    "crsp2['comlow4'] = crsp2['comlow4'].str.replace(\" entnmt\",\" entertainment\")\n",
    "crsp2['comlow4'] = crsp2['comlow4'].str.replace(\" frag\",\" fragrances\")\n"
   ]
  },
  {
   "cell_type": "code",
   "execution_count": 108,
   "metadata": {},
   "outputs": [],
   "source": [
    "crsp2.loc[crsp2['COMNAM']==\"C COR INC\",\"comlow3\"] = \"c cor\""
   ]
  },
  {
   "cell_type": "code",
   "execution_count": 110,
   "metadata": {},
   "outputs": [],
   "source": [
    "lst = [  \"technology\", \"investment\", \"systems\",\n",
    "       \"information\",\"response\",  \"capital\", \"mills\", \"llc\"]\n",
    "\n",
    "crsp2.loc[crsp2['comlow4'].isin(lst),\"comlow4\"] = \"nan\""
   ]
  },
  {
   "cell_type": "code",
   "execution_count": 115,
   "metadata": {},
   "outputs": [],
   "source": [
    "crsp2 = crsp2[~(crsp2.comlow4==\"nan\")]"
   ]
  },
  {
   "cell_type": "code",
   "execution_count": null,
   "metadata": {},
   "outputs": [],
   "source": []
  },
  {
   "cell_type": "code",
   "execution_count": 116,
   "metadata": {},
   "outputs": [],
   "source": [
    "crsp2.to_csv(\"crsp_clean_26Apr20.csv\", index = False)"
   ]
  },
  {
   "cell_type": "code",
   "execution_count": null,
   "metadata": {},
   "outputs": [],
   "source": []
  }
 ],
 "metadata": {
  "kernelspec": {
   "display_name": "Python 3",
   "language": "python",
   "name": "python3"
  },
  "language_info": {
   "codemirror_mode": {
    "name": "ipython",
    "version": 3
   },
   "file_extension": ".py",
   "mimetype": "text/x-python",
   "name": "python",
   "nbconvert_exporter": "python",
   "pygments_lexer": "ipython3",
   "version": "3.7.4"
  }
 },
 "nbformat": 4,
 "nbformat_minor": 2
}
