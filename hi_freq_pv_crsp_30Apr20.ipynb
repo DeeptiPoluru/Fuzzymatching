{
 "cells": [
  {
   "cell_type": "markdown",
   "metadata": {},
   "source": [
    "# remove high frequency last words from Patent View nad CRSP company names after cleaning\n",
    "\n",
    "input files: rawpv_clean_26Apr2020.csv, crsp_clean_26Apr20.csv\n",
    "output files: pv_disc_26Apr20.csv, crsp_disc_26Apr20.csv"
   ]
  },
  {
   "cell_type": "code",
   "execution_count": 1,
   "metadata": {},
   "outputs": [],
   "source": [
    "import pandas as pd\n",
    "import numpy as np\n",
    "from fuzzywuzzy import fuzz\n",
    "import  re\n",
    "\n",
    "import warnings\n",
    "warnings.filterwarnings('ignore')\n"
   ]
  },
  {
   "cell_type": "code",
   "execution_count": 2,
   "metadata": {},
   "outputs": [],
   "source": [
    "pv = pd.read_csv(\"rawpv_clean_26Apr2020.csv\",encoding='latin-1')\n",
    "\n",
    "crsp = pd.read_csv(\"crsp_clean_26Apr20.csv\",encoding='latin-1')"
   ]
  },
  {
   "cell_type": "code",
   "execution_count": 3,
   "metadata": {},
   "outputs": [],
   "source": [
    "pv['org_first'] = pv['orglow9'].apply(lambda x: x[0])\n",
    "\n",
    "crsp['com_first'] = crsp['comlow4'].apply(lambda x: x[0])\n"
   ]
  },
  {
   "cell_type": "code",
   "execution_count": 4,
   "metadata": {},
   "outputs": [
    {
     "data": {
      "text/plain": [
       "array(['u', 'x', 'c', 'm', 'l', 'j', 'd', 'n', 's', 'h', 'k', 'q', 'r',\n",
       "       'p', 'f', 'g', 't', 'i', 'v', 'a', 'w', 'e', 'b', 'o', 'y', '2',\n",
       "       'z', '3', '8', '1', '7', '5', '9', '`', '4', '0', '6', '@', '?',\n",
       "       '_', '#', '[', '!', '=', '(', '|', '{', ':', '*', '<', ';'],\n",
       "      dtype=object)"
      ]
     },
     "execution_count": 4,
     "metadata": {},
     "output_type": "execute_result"
    }
   ],
   "source": [
    "pv['org_first'].unique()"
   ]
  },
  {
   "cell_type": "code",
   "execution_count": 5,
   "metadata": {},
   "outputs": [],
   "source": [
    "lst = ['@', '?','`',\n",
    "       '_', '#', '[', '!', '=', '(', '|', '{', ':', '*', '<', ';']\n",
    "\n",
    "for i in lst:\n",
    "    \n",
    "    pv['orglow9'] = pv['orglow9'].str.replace(i,\"\")"
   ]
  },
  {
   "cell_type": "code",
   "execution_count": 6,
   "metadata": {},
   "outputs": [
    {
     "data": {
      "text/plain": [
       "Index(['patent_id', 'assignee_id', 'type', 'organization', 'sequence',\n",
       "       'bractext', 'organization2', 'organization3', 'bractext1', 'orglow',\n",
       "       'orglow2', 'orglow3', 'orglow4', 'orglow5', 'orglow6', 'last',\n",
       "       'orglow7', 'orglow8', 'orglow9', 'org_first'],\n",
       "      dtype='object')"
      ]
     },
     "execution_count": 6,
     "metadata": {},
     "output_type": "execute_result"
    }
   ],
   "source": [
    "pv.columns"
   ]
  },
  {
   "cell_type": "code",
   "execution_count": 7,
   "metadata": {},
   "outputs": [
    {
     "data": {
      "text/plain": [
       "Index(['PERMNO', 'COMNAM', 'PERMCO', 'crsp_year', 'COMNAM2', 'comlow',\n",
       "       'comlow2', 'last', 'len', 'comlow3', 'comlen', 'last2', 'comlow4',\n",
       "       'com_first'],\n",
       "      dtype='object')"
      ]
     },
     "execution_count": 7,
     "metadata": {},
     "output_type": "execute_result"
    }
   ],
   "source": [
    "crsp.columns"
   ]
  },
  {
   "cell_type": "code",
   "execution_count": 8,
   "metadata": {},
   "outputs": [],
   "source": [
    "pv2 = pv[['patent_id', 'assignee_id', 'organization', 'orglow9', 'org_first']]"
   ]
  },
  {
   "cell_type": "code",
   "execution_count": 9,
   "metadata": {},
   "outputs": [],
   "source": [
    "crsp2 = crsp[['PERMNO', 'COMNAM', 'PERMCO', 'comlow4','com_first']]"
   ]
  },
  {
   "cell_type": "code",
   "execution_count": 10,
   "metadata": {},
   "outputs": [],
   "source": [
    "crsp2['comlow_new'] = crsp2['comlow4']\n",
    "pv2['orglow_new'] = pv2['orglow9']"
   ]
  },
  {
   "cell_type": "code",
   "execution_count": 44,
   "metadata": {},
   "outputs": [],
   "source": [
    "c1 = crsp2.drop_duplicates('comlow4',keep = 'first')\n",
    "p1 = pv2.drop_duplicates('orglow9',keep = 'first')"
   ]
  },
  {
   "cell_type": "code",
   "execution_count": 50,
   "metadata": {},
   "outputs": [],
   "source": [
    "l1 =  list(p1['last'])"
   ]
  },
  {
   "cell_type": "code",
   "execution_count": 51,
   "metadata": {},
   "outputs": [],
   "source": [
    "l2 = list(c1['last'])"
   ]
  },
  {
   "cell_type": "code",
   "execution_count": 52,
   "metadata": {},
   "outputs": [],
   "source": [
    "lst = list(l1 + l2)"
   ]
  },
  {
   "cell_type": "code",
   "execution_count": 53,
   "metadata": {},
   "outputs": [],
   "source": [
    "hfq = pd.DataFrame({'lst':lst})"
   ]
  },
  {
   "cell_type": "code",
   "execution_count": 56,
   "metadata": {},
   "outputs": [],
   "source": [
    "z = hfq['lst'].value_counts()"
   ]
  },
  {
   "cell_type": "code",
   "execution_count": 80,
   "metadata": {},
   "outputs": [
    {
     "data": {
      "text/plain": [
       "Index(['academy', 'aktiengellschaft', 'antriebstechnik', 'architects', 'b',\n",
       "       'blue', 'bridge', 'building', 'commercial', 'composite', 'connections',\n",
       "       'consolidated', 'copper', 'crafts', 'detection', 'dimensions',\n",
       "       'fashions', 'forming', 'fusion', 'growers', 'heating', 'housewares',\n",
       "       'invent', 'jidosha', 'kosan', 'montreal', 'mortgage', 'munchen',\n",
       "       'nuclear', 'pen', 'play', 'quest', 'robot', 'saver', 'search', 'soft',\n",
       "       'studies', 'track', 'umwelttechnik', 'valley', 'verfahrenstechnik',\n",
       "       'virginia', 'western', 'wind'],\n",
       "      dtype='object')"
      ]
     },
     "execution_count": 80,
     "metadata": {},
     "output_type": "execute_result"
    }
   ],
   "source": [
    "z[(z>33)&(z<=35)].index.sort_values()"
   ]
  },
  {
   "cell_type": "code",
   "execution_count": 185,
   "metadata": {},
   "outputs": [],
   "source": [
    "hifq =   ['america', 'communication', 'communications',\n",
    "       'company', 'corp', 'corporation', 'corportion', 'de',\n",
    "       'deutschland', 'development', 'electric', 'electronic',\n",
    "       'electronics', 'enterprises', 'for', 'gesellschaft', 'global',\n",
    "       'group', 'groups', 'holding', 'holdings','industrial',\n",
    "       'industries', 'industry', 'international', 'japan', 'kabushiki',\n",
    "       'la', 'lm', 'ltd', 'manufacturing', 'motor', 'national', 'network',\n",
    "       'networks', 'new england', 'new holland', 'north american', 'of', 'american',\n",
    "       'pharmaceuticals', 'pharmaceutical','technologies', 'product',\n",
    "       'products', 'service', 'services', 'system', 'systems', 'tech',\n",
    "       'technologies', 'technology', 'the', 'tokyo', 'und', \n",
    "       'united states', 'united','us', 'works', 'worldwide']"
   ]
  },
  {
   "cell_type": "code",
   "execution_count": 187,
   "metadata": {},
   "outputs": [],
   "source": [
    "for i in hifq:\n",
    "    j = \" \"+i+\" \"\n",
    "    y = \" \"+i+\"$\"\n",
    "    z = \"^\" + i +\" \"\n",
    "    crsp2.loc[crsp2['comlow4'].str.contains(i),'comlow_new'] = crsp2[crsp2['comlow4'].str.contains(i)]['comlow_new'].str.replace(j,\" \")\n",
    "    pv2.loc[pv2['orglow9'].str.contains(i),'orglow_new'] = pv2[pv2['orglow9'].str.contains(i)]['orglow_new'].str.replace(j,\" \")\n",
    "    crsp2.loc[crsp2['comlow4'].str.endswith(i),'comlow_new'] = crsp2[crsp2['comlow4'].str.endswith(i)]['comlow_new'].str.replace(y,\"\")\n",
    "    pv2.loc[pv2['orglow9'].str.endswith(i),'orglow_new'] = pv2[pv2['orglow9'].str.endswith(i)]['orglow_new'].str.replace(y,\"\")\n",
    "    crsp2.loc[crsp2['comlow4'].str.startswith(i),'comlow_new'] = crsp2[crsp2['comlow4'].str.startswith(i)]['comlow_new'].str.replace(z,\"\")\n",
    "    pv2.loc[pv2['orglow9'].str.startswith(i),'orglow_new'] = pv2[pv2['orglow9'].str.startswith(i)]['orglow_new'].str.replace(z,\"\")\n",
    "    "
   ]
  },
  {
   "cell_type": "code",
   "execution_count": 188,
   "metadata": {},
   "outputs": [],
   "source": [
    "lst = ['labs', 'lab','laboratories','laboratory','intellectual property',\n",
    "      'engineering','energy', 'products','internationale','solutions','therapeutics'\n",
    "       ]\n",
    "for i in lst:\n",
    "    y = \" \"+i+\"$\"\n",
    "    crsp2.loc[crsp2['comlow_new'].str.endswith(i),'comlow_new'] = crsp2[crsp2['comlow_new'].str.endswith(i)]['comlow_new'].str.replace(y,\"\")\n",
    "    pv2.loc[pv2['orglow_new'].str.endswith(i),'orglow_new'] = pv2[pv2['orglow_new'].str.endswith(i)]['orglow_new'].str.replace(y,\"\")"
   ]
  },
  {
   "cell_type": "code",
   "execution_count": 189,
   "metadata": {},
   "outputs": [],
   "source": [
    "lst = ['corp', 'corporation','technology','technologies']\n",
    "\n",
    "for i in lst:\n",
    "    y = i+\"$\"\n",
    "    crsp2.loc[crsp2['comlow_new'].str.endswith(i),'comlow_new'] = crsp2[crsp2['comlow_new'].str.endswith(i)]['comlow_new'].str.replace(y,\"\")\n",
    "    pv2.loc[pv2['orglow_new'].str.endswith(i),'orglow_new'] = pv2[pv2['orglow_new'].str.endswith(i)]['orglow_new'].str.replace(y,\"\")"
   ]
  },
  {
   "cell_type": "code",
   "execution_count": 190,
   "metadata": {},
   "outputs": [],
   "source": [
    "crsp2['comlow_new'] = crsp2['comlow_new'].apply(lambda x: x.strip())\n",
    "pv2['orglow_new'] = pv2['orglow_new'].apply(lambda x: x.strip())"
   ]
  },
  {
   "cell_type": "code",
   "execution_count": 192,
   "metadata": {},
   "outputs": [],
   "source": [
    "crsp2.loc[crsp2['comlow_new']==\"\",\"comlow_new\"] = crsp2.loc[crsp2['comlow_new']==\"\",\"comlow4\"]\n",
    "pv2.loc[pv2['orglow_new']==\"\",\"orglow_new\"] = pv2.loc[pv2['orglow_new']==\"\",\"orglow9\"]"
   ]
  },
  {
   "cell_type": "code",
   "execution_count": 193,
   "metadata": {},
   "outputs": [],
   "source": [
    "crsp2.to_csv(\"crsp_totest.csv\", index = False)\n"
   ]
  },
  {
   "cell_type": "code",
   "execution_count": 195,
   "metadata": {},
   "outputs": [],
   "source": [
    "crsp2['com_ns'] = crsp2['comlow4'].apply(lambda x: x.replace(\" \",\"\"))\n",
    "\n",
    "pv2['org_ns'] = pv2['orglow9'].apply(lambda x: x.replace(\" \",\"\"))"
   ]
  },
  {
   "cell_type": "code",
   "execution_count": 196,
   "metadata": {},
   "outputs": [],
   "source": [
    "cleanmerge = pd.merge(crsp2, pv2, left_on = ['com_ns'], right_on = ['org_ns'], how = \"outer\")"
   ]
  },
  {
   "cell_type": "code",
   "execution_count": 198,
   "metadata": {},
   "outputs": [],
   "source": [
    "cleanmerge = cleanmerge[~(cleanmerge['com_ns'].isna())]\n",
    "cleanmerge = cleanmerge[~(cleanmerge['org_ns'].isna())]"
   ]
  },
  {
   "cell_type": "code",
   "execution_count": 199,
   "metadata": {},
   "outputs": [],
   "source": [
    "kpss = pd.read_csv(\"new_kpss_clean_11Apr2020.csv\") #6453 are common\")"
   ]
  },
  {
   "cell_type": "code",
   "execution_count": 200,
   "metadata": {},
   "outputs": [
    {
     "data": {
      "text/plain": [
       "6453"
      ]
     },
     "execution_count": 200,
     "metadata": {},
     "output_type": "execute_result"
    }
   ],
   "source": [
    "len(set(cleanmerge['PERMNO'].unique()) &  set(kpss['permno'].unique())) #6453"
   ]
  },
  {
   "cell_type": "code",
   "execution_count": 202,
   "metadata": {},
   "outputs": [],
   "source": [
    "pno = list(set(kpss['permno'].unique()) - set(cleanmerge['PERMNO'].unique())) #1083"
   ]
  },
  {
   "cell_type": "code",
   "execution_count": 203,
   "metadata": {},
   "outputs": [
    {
     "data": {
      "text/plain": [
       "636"
      ]
     },
     "execution_count": 203,
     "metadata": {},
     "output_type": "execute_result"
    }
   ],
   "source": [
    "len(set(pno) & set(crsp2.PERMNO.unique() ))  ##636 more to match"
   ]
  },
  {
   "cell_type": "code",
   "execution_count": 204,
   "metadata": {},
   "outputs": [],
   "source": [
    "pno2 = list(set(pno) & set(crsp2.PERMNO.unique() ))"
   ]
  },
  {
   "cell_type": "code",
   "execution_count": 205,
   "metadata": {},
   "outputs": [],
   "source": [
    "ctm = crsp2[crsp2['PERMNO'].isin(pno2)]"
   ]
  },
  {
   "cell_type": "code",
   "execution_count": 207,
   "metadata": {},
   "outputs": [],
   "source": [
    "ctm = ctm.drop_duplicates(keep = 'first')"
   ]
  },
  {
   "cell_type": "code",
   "execution_count": 209,
   "metadata": {},
   "outputs": [],
   "source": [
    "ctm.to_csv(\"ctm_new.csv\", index = False)"
   ]
  },
  {
   "cell_type": "code",
   "execution_count": 210,
   "metadata": {},
   "outputs": [],
   "source": [
    "import time"
   ]
  },
  {
   "cell_type": "code",
   "execution_count": 213,
   "metadata": {},
   "outputs": [
    {
     "data": {
      "text/plain": [
       "array(['u', 'x', 'c', 'm', 'l', 'j', 'd', 'n', 's', 'h', 'k', 'q', 'r',\n",
       "       'p', 'f', 'g', 't', 'i', 'v', 'a', 'w', 'e', 'b', 'o', 'y', '2',\n",
       "       'z', '3', '8', '1', '7', '5', '9', '`', '4', '0', '6', '@', '?',\n",
       "       '_', '#', '[', '!', '=', '(', '|', '{', ':', '*', '<', ';'],\n",
       "      dtype=object)"
      ]
     },
     "execution_count": 213,
     "metadata": {},
     "output_type": "execute_result"
    }
   ],
   "source": [
    "pv2.org_first.unique()"
   ]
  },
  {
   "cell_type": "code",
   "execution_count": 27,
   "metadata": {},
   "outputs": [],
   "source": [
    "pv3.to_csv(\"pv_disc_26Apr20.csv\", index = False)"
   ]
  },
  {
   "cell_type": "code",
   "execution_count": 28,
   "metadata": {},
   "outputs": [],
   "source": [
    "crsp3.to_csv(\"crsp_disc_26Apr20.csv\")"
   ]
  },
  {
   "cell_type": "code",
   "execution_count": null,
   "metadata": {},
   "outputs": [],
   "source": [
    "#######test###########"
   ]
  }
 ],
 "metadata": {
  "kernelspec": {
   "display_name": "Python 3",
   "language": "python",
   "name": "python3"
  },
  "language_info": {
   "codemirror_mode": {
    "name": "ipython",
    "version": 3
   },
   "file_extension": ".py",
   "mimetype": "text/x-python",
   "name": "python",
   "nbconvert_exporter": "python",
   "pygments_lexer": "ipython3",
   "version": "3.7.4"
  }
 },
 "nbformat": 4,
 "nbformat_minor": 2
}
