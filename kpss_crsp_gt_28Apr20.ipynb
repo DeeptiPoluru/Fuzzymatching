{
 "cells": [
  {
   "cell_type": "markdown",
   "metadata": {},
   "source": [
    "### ground truth\n",
    "\n",
    "\n",
    "\n",
    "Input files:\n",
    "crsp_clean_26Apr20.csv, rawpv_clean_26Apr2020.csv, new_kpss_clean_11Apr2020.csv\n",
    "\n",
    "Output files:\n",
    "\n",
    "groundtruth_kpss_pv_crsp_28Apr20.csv\n",
    "\n"
   ]
  },
  {
   "cell_type": "code",
   "execution_count": 7,
   "metadata": {},
   "outputs": [],
   "source": [
    "import pandas as pd\n",
    "import numpy as np\n",
    "from cleanco import cleanco\n",
    "from fuzzywuzzy import fuzz \n",
    "from fuzzywuzzy import process \n",
    "import  re\n",
    "import urllib.request as urllib2\n",
    "import json\n",
    "import datetime"
   ]
  },
  {
   "cell_type": "code",
   "execution_count": 8,
   "metadata": {},
   "outputs": [],
   "source": [
    "import warnings\n",
    "warnings.filterwarnings('ignore')"
   ]
  },
  {
   "cell_type": "code",
   "execution_count": 9,
   "metadata": {},
   "outputs": [],
   "source": [
    "#read crsp clean data\n",
    "crsp = pd.read_csv(\"crsp_clean_26Apr20.csv\")"
   ]
  },
  {
   "cell_type": "code",
   "execution_count": 10,
   "metadata": {},
   "outputs": [
    {
     "data": {
      "text/plain": [
       "Index(['PERMNO', 'COMNAM', 'PERMCO', 'crsp_year', 'COMNAM2', 'comlow',\n",
       "       'comlow2', 'last', 'len', 'comlow3', 'comlen', 'last2', 'comlow4'],\n",
       "      dtype='object')"
      ]
     },
     "execution_count": 10,
     "metadata": {},
     "output_type": "execute_result"
    }
   ],
   "source": [
    "crsp.columns"
   ]
  },
  {
   "cell_type": "code",
   "execution_count": 11,
   "metadata": {},
   "outputs": [],
   "source": [
    "crsp2 = crsp[['PERMNO', 'COMNAM', 'PERMCO', 'crsp_year', 'comlow4']]"
   ]
  },
  {
   "cell_type": "code",
   "execution_count": 12,
   "metadata": {},
   "outputs": [
    {
     "data": {
      "text/plain": [
       "333162"
      ]
     },
     "execution_count": 12,
     "metadata": {},
     "output_type": "execute_result"
    }
   ],
   "source": [
    "len(crsp2)"
   ]
  },
  {
   "cell_type": "code",
   "execution_count": 13,
   "metadata": {},
   "outputs": [],
   "source": [
    "#read KPSS raw file as a dataframe\n",
    "kpss = pd.read_csv('new_kpss_clean_11Apr2020.csv')"
   ]
  },
  {
   "cell_type": "code",
   "execution_count": 14,
   "metadata": {},
   "outputs": [
    {
     "data": {
      "text/plain": [
       "1930089"
      ]
     },
     "execution_count": 14,
     "metadata": {},
     "output_type": "execute_result"
    }
   ],
   "source": [
    "len(kpss)"
   ]
  },
  {
   "cell_type": "code",
   "execution_count": 15,
   "metadata": {},
   "outputs": [],
   "source": [
    "kpss2 = kpss[kpss['kpss_year']>1975]"
   ]
  },
  {
   "cell_type": "code",
   "execution_count": 16,
   "metadata": {},
   "outputs": [],
   "source": [
    "kpss_crsp2 = pd.merge(kpss2, crsp2, left_on = ['permno'], right_on = ['PERMNO'], how = \"inner\")"
   ]
  },
  {
   "cell_type": "code",
   "execution_count": 17,
   "metadata": {},
   "outputs": [],
   "source": [
    "# check where crsp>=kpssyears\n",
    "kpss_crsp2['diff'] = (kpss_crsp2['crsp_year']-kpss_crsp2['kpss_year']).abs()"
   ]
  },
  {
   "cell_type": "code",
   "execution_count": 18,
   "metadata": {},
   "outputs": [],
   "source": [
    "df_min = kpss_crsp2.groupby('patnum').idxmin()"
   ]
  },
  {
   "cell_type": "code",
   "execution_count": 19,
   "metadata": {},
   "outputs": [],
   "source": [
    "kpss_crsp3 = kpss_crsp2.copy()"
   ]
  },
  {
   "cell_type": "code",
   "execution_count": 20,
   "metadata": {},
   "outputs": [],
   "source": [
    "kpss_crsp2.loc[df_min['diff'],\"yr_match\"] = kpss_crsp2.loc[df_min['diff'],\"crsp_year\"] "
   ]
  },
  {
   "cell_type": "code",
   "execution_count": 21,
   "metadata": {},
   "outputs": [
    {
     "data": {
      "text/plain": [
       "45165477"
      ]
     },
     "execution_count": 21,
     "metadata": {},
     "output_type": "execute_result"
    }
   ],
   "source": [
    "kpss_crsp2['yr_match'].isna().sum() #45165477"
   ]
  },
  {
   "cell_type": "code",
   "execution_count": 22,
   "metadata": {},
   "outputs": [],
   "source": [
    "kpss_crsp2 = kpss_crsp2[~kpss_crsp2['yr_match'].isna()]"
   ]
  },
  {
   "cell_type": "code",
   "execution_count": 23,
   "metadata": {},
   "outputs": [
    {
     "data": {
      "text/plain": [
       "{50869.0,\n",
       " 79195.0,\n",
       " 80652.0,\n",
       " 83183.0,\n",
       " 85654.0,\n",
       " 85773.0,\n",
       " 85827.0,\n",
       " 87296.0,\n",
       " 88519.0,\n",
       " 88631.0,\n",
       " 89223.0,\n",
       " 89288.0}"
      ]
     },
     "execution_count": 23,
     "metadata": {},
     "output_type": "execute_result"
    }
   ],
   "source": [
    "set(kpss_crsp3.permno.unique()) - set(kpss_crsp2.permno.unique())"
   ]
  },
  {
   "cell_type": "code",
   "execution_count": 24,
   "metadata": {},
   "outputs": [],
   "source": [
    "pno = [50869.0,79195.0, 80652.0, 83183.0, 85654.0, 85773.0, 85827.0, 87296.0,88519.0, 88631.0, 89223.0, 89288.0]\n",
    "cmn = kpss_crsp3[(kpss_crsp3['PERMNO'].isin(pno))]"
   ]
  },
  {
   "cell_type": "code",
   "execution_count": 25,
   "metadata": {},
   "outputs": [
    {
     "data": {
      "text/plain": [
       "23"
      ]
     },
     "execution_count": 25,
     "metadata": {},
     "output_type": "execute_result"
    }
   ],
   "source": [
    "cmn.patnum.nunique()"
   ]
  },
  {
   "cell_type": "code",
   "execution_count": 26,
   "metadata": {},
   "outputs": [],
   "source": [
    "df_min2 = cmn.groupby('patnum').idxmin()"
   ]
  },
  {
   "cell_type": "code",
   "execution_count": 27,
   "metadata": {},
   "outputs": [],
   "source": [
    "cmn.loc[df_min2['diff'],\"yr_match\"] = cmn.loc[df_min2['diff'],\"crsp_year\"] "
   ]
  },
  {
   "cell_type": "code",
   "execution_count": 28,
   "metadata": {},
   "outputs": [],
   "source": [
    "cmn = cmn[~cmn['yr_match'].isna()]"
   ]
  },
  {
   "cell_type": "code",
   "execution_count": 29,
   "metadata": {},
   "outputs": [
    {
     "data": {
      "text/plain": [
       "12"
      ]
     },
     "execution_count": 29,
     "metadata": {},
     "output_type": "execute_result"
    }
   ],
   "source": [
    "cmn.PERMNO.nunique()"
   ]
  },
  {
   "cell_type": "code",
   "execution_count": 30,
   "metadata": {},
   "outputs": [],
   "source": [
    "kpss_crsp2 = kpss_crsp2.append(cmn)"
   ]
  },
  {
   "cell_type": "code",
   "execution_count": 31,
   "metadata": {},
   "outputs": [],
   "source": [
    "kc = kpss_crsp2[['patnum', 'PERMNO', 'PERMCO','COMNAM','comlow4']]"
   ]
  },
  {
   "cell_type": "code",
   "execution_count": 32,
   "metadata": {},
   "outputs": [],
   "source": [
    "kc = kc.drop_duplicates(keep = 'first')"
   ]
  },
  {
   "cell_type": "code",
   "execution_count": 33,
   "metadata": {},
   "outputs": [],
   "source": [
    "kc.to_csv(\"kc_26Apr20.csv\", index = False) "
   ]
  },
  {
   "cell_type": "code",
   "execution_count": 36,
   "metadata": {},
   "outputs": [],
   "source": [
    "# kc = pd.read_csv(\"kc_23Apr20.csv\")"
   ]
  },
  {
   "cell_type": "code",
   "execution_count": 37,
   "metadata": {},
   "outputs": [],
   "source": [
    "############# map with patent view ########"
   ]
  },
  {
   "cell_type": "code",
   "execution_count": 38,
   "metadata": {},
   "outputs": [],
   "source": [
    "pv = pd.read_csv(\"rawpv_clean_26Apr2020.csv\")"
   ]
  },
  {
   "cell_type": "code",
   "execution_count": 39,
   "metadata": {},
   "outputs": [
    {
     "data": {
      "text/plain": [
       "Index(['patent_id', 'assignee_id', 'type', 'organization', 'sequence',\n",
       "       'bractext', 'organization2', 'organization3', 'bractext1', 'orglow',\n",
       "       'orglow2', 'orglow3', 'orglow4', 'orglow5', 'orglow6', 'last',\n",
       "       'orglow7', 'orglow8', 'orglow9'],\n",
       "      dtype='object')"
      ]
     },
     "execution_count": 39,
     "metadata": {},
     "output_type": "execute_result"
    }
   ],
   "source": [
    "pv.columns"
   ]
  },
  {
   "cell_type": "code",
   "execution_count": 40,
   "metadata": {},
   "outputs": [],
   "source": [
    "kc['patnum'] = kc['patnum'].astype('str')"
   ]
  },
  {
   "cell_type": "code",
   "execution_count": 41,
   "metadata": {},
   "outputs": [],
   "source": [
    "kcp = pd.merge(pv, kc, left_on = ['patent_id'],right_on = ['patnum'], how = \"outer\")"
   ]
  },
  {
   "cell_type": "code",
   "execution_count": 42,
   "metadata": {},
   "outputs": [],
   "source": [
    "kcp2 = kcp[~kcp['patnum'].isna()]\n",
    "kcp2 = kcp2[~kcp2['patent_id'].isna()]"
   ]
  },
  {
   "cell_type": "code",
   "execution_count": 43,
   "metadata": {},
   "outputs": [
    {
     "data": {
      "text/plain": [
       "Index(['patent_id', 'assignee_id', 'type', 'organization', 'sequence',\n",
       "       'bractext', 'organization2', 'organization3', 'bractext1', 'orglow',\n",
       "       'orglow2', 'orglow3', 'orglow4', 'orglow5', 'orglow6', 'last',\n",
       "       'orglow7', 'orglow8', 'orglow9', 'patnum', 'PERMNO', 'PERMCO', 'COMNAM',\n",
       "       'comlow4'],\n",
       "      dtype='object')"
      ]
     },
     "execution_count": 43,
     "metadata": {},
     "output_type": "execute_result"
    }
   ],
   "source": [
    "kcp2.columns"
   ]
  },
  {
   "cell_type": "code",
   "execution_count": 44,
   "metadata": {},
   "outputs": [],
   "source": [
    "gt = kcp2[['patent_id',  'organization',\n",
    "       'orglow9', 'PERMNO', 'PERMCO', 'COMNAM',\n",
    "       'comlow4','assignee_id', 'type', 'sequence']]"
   ]
  },
  {
   "cell_type": "code",
   "execution_count": 45,
   "metadata": {},
   "outputs": [
    {
     "data": {
      "text/plain": [
       "patent_id       1392370\n",
       "organization      41610\n",
       "orglow9           21329\n",
       "PERMNO             6923\n",
       "PERMCO             6794\n",
       "COMNAM             7797\n",
       "comlow4            7535\n",
       "assignee_id       20822\n",
       "type                  2\n",
       "sequence             14\n",
       "dtype: int64"
      ]
     },
     "execution_count": 45,
     "metadata": {},
     "output_type": "execute_result"
    }
   ],
   "source": [
    "gt.nunique()"
   ]
  },
  {
   "cell_type": "code",
   "execution_count": 46,
   "metadata": {},
   "outputs": [],
   "source": [
    "gt['orglow9'] = gt['orglow9'].str.replace(\"united states\",\"us\")\n",
    "gt['comlow4'] = gt['comlow4'].str.replace(\"united states\",\"us\")\n",
    "\n",
    "gt['comlow4'] = gt['comlow4'].str.replace(\" entnmt\",\" entertainment\")\n",
    "gt['comlow4'] = gt['comlow4'].str.replace(\" frag\",\" fragrances\")\n",
    "\n"
   ]
  },
  {
   "cell_type": "code",
   "execution_count": 47,
   "metadata": {},
   "outputs": [],
   "source": [
    "## direct match ## without cleaning"
   ]
  },
  {
   "cell_type": "code",
   "execution_count": 48,
   "metadata": {},
   "outputs": [],
   "source": [
    "gt['orglow_dm'] = gt['organization'].apply(lambda x: x.lower())\n",
    "gt['comlow_dm'] = gt['COMNAM'].apply(lambda x: x.lower())"
   ]
  },
  {
   "cell_type": "code",
   "execution_count": 49,
   "metadata": {},
   "outputs": [],
   "source": [
    "gt['dm'] = gt['orglow_dm'] == gt['comlow_dm']"
   ]
  },
  {
   "cell_type": "code",
   "execution_count": 50,
   "metadata": {},
   "outputs": [
    {
     "data": {
      "text/plain": [
       "PERMNO            281\n",
       "organization      355\n",
       "COMNAM            283\n",
       "patent_id       15307\n",
       "dtype: int64"
      ]
     },
     "execution_count": 50,
     "metadata": {},
     "output_type": "execute_result"
    }
   ],
   "source": [
    "gt[gt['dm']==True][['PERMNO','organization','COMNAM','patent_id']].nunique() \n",
    "# PERMNO 281, organization 355, COMNAM 283,patent_id 15307"
   ]
  },
  {
   "cell_type": "code",
   "execution_count": 51,
   "metadata": {},
   "outputs": [],
   "source": [
    "####direct match before cleaning after removing spaces"
   ]
  },
  {
   "cell_type": "code",
   "execution_count": 52,
   "metadata": {},
   "outputs": [],
   "source": [
    "gt['orglow_dmns'] = gt['orglow_dm'].apply(lambda x: x.replace(\" \",\"\"))\n",
    "gt['comlow_dmns'] = gt['comlow_dm'].apply(lambda x: x.replace(\" \",\"\"))"
   ]
  },
  {
   "cell_type": "code",
   "execution_count": 53,
   "metadata": {},
   "outputs": [],
   "source": [
    "gt['dm_ns'] = gt['orglow_dmns'] == gt['comlow_dmns']"
   ]
  },
  {
   "cell_type": "code",
   "execution_count": 54,
   "metadata": {},
   "outputs": [
    {
     "data": {
      "text/plain": [
       "PERMNO            347\n",
       "organization      531\n",
       "COMNAM            351\n",
       "patent_id       26565\n",
       "dtype: int64"
      ]
     },
     "execution_count": 54,
     "metadata": {},
     "output_type": "execute_result"
    }
   ],
   "source": [
    "gt[gt['dm_ns']==True][['PERMNO','organization','COMNAM','patent_id']].nunique() \n",
    "# PERMNO 347, organization 531, COMNAM 351,patent_id 26565"
   ]
  },
  {
   "cell_type": "code",
   "execution_count": 55,
   "metadata": {},
   "outputs": [
    {
     "data": {
      "text/html": [
       "<div>\n",
       "<style scoped>\n",
       "    .dataframe tbody tr th:only-of-type {\n",
       "        vertical-align: middle;\n",
       "    }\n",
       "\n",
       "    .dataframe tbody tr th {\n",
       "        vertical-align: top;\n",
       "    }\n",
       "\n",
       "    .dataframe thead th {\n",
       "        text-align: right;\n",
       "    }\n",
       "</style>\n",
       "<table border=\"1\" class=\"dataframe\">\n",
       "  <thead>\n",
       "    <tr style=\"text-align: right;\">\n",
       "      <th></th>\n",
       "      <th>orglow_dmns</th>\n",
       "      <th>organization</th>\n",
       "      <th>COMNAM</th>\n",
       "      <th>comlow_dmns</th>\n",
       "    </tr>\n",
       "  </thead>\n",
       "  <tbody>\n",
       "    <tr>\n",
       "      <td>2596882</td>\n",
       "      <td>abbab</td>\n",
       "      <td>ABB AB</td>\n",
       "      <td>A B B AB</td>\n",
       "      <td>abbab</td>\n",
       "    </tr>\n",
       "    <tr>\n",
       "      <td>5301553</td>\n",
       "      <td>abbab</td>\n",
       "      <td>ABB AB</td>\n",
       "      <td>A B B AB</td>\n",
       "      <td>abbab</td>\n",
       "    </tr>\n",
       "    <tr>\n",
       "      <td>5775543</td>\n",
       "      <td>abbab</td>\n",
       "      <td>ABB AB</td>\n",
       "      <td>A B B AB</td>\n",
       "      <td>abbab</td>\n",
       "    </tr>\n",
       "    <tr>\n",
       "      <td>5842453</td>\n",
       "      <td>abbab</td>\n",
       "      <td>ABB AB</td>\n",
       "      <td>A B B AB</td>\n",
       "      <td>abbab</td>\n",
       "    </tr>\n",
       "    <tr>\n",
       "      <td>5772717</td>\n",
       "      <td>abbab</td>\n",
       "      <td>ABB AB</td>\n",
       "      <td>A B B AB</td>\n",
       "      <td>abbab</td>\n",
       "    </tr>\n",
       "    <tr>\n",
       "      <td>...</td>\n",
       "      <td>...</td>\n",
       "      <td>...</td>\n",
       "      <td>...</td>\n",
       "      <td>...</td>\n",
       "    </tr>\n",
       "    <tr>\n",
       "      <td>176922</td>\n",
       "      <td>xeikonnv</td>\n",
       "      <td>Xeikon NV</td>\n",
       "      <td>XEIKON N V</td>\n",
       "      <td>xeikonnv</td>\n",
       "    </tr>\n",
       "    <tr>\n",
       "      <td>4983212</td>\n",
       "      <td>xeikonnv</td>\n",
       "      <td>Xeikon NV</td>\n",
       "      <td>XEIKON N V</td>\n",
       "      <td>xeikonnv</td>\n",
       "    </tr>\n",
       "    <tr>\n",
       "      <td>5744479</td>\n",
       "      <td>xeikonnv</td>\n",
       "      <td>Xeikon NV</td>\n",
       "      <td>XEIKON N V</td>\n",
       "      <td>xeikonnv</td>\n",
       "    </tr>\n",
       "    <tr>\n",
       "      <td>5628384</td>\n",
       "      <td>xeikonnv</td>\n",
       "      <td>Xeikon NV</td>\n",
       "      <td>XEIKON N V</td>\n",
       "      <td>xeikonnv</td>\n",
       "    </tr>\n",
       "    <tr>\n",
       "      <td>5820670</td>\n",
       "      <td>ypfsociedadanonima</td>\n",
       "      <td>YPF Sociedad Anonima</td>\n",
       "      <td>Y P F SOCIEDAD ANONIMA</td>\n",
       "      <td>ypfsociedadanonima</td>\n",
       "    </tr>\n",
       "  </tbody>\n",
       "</table>\n",
       "<p>11259 rows × 4 columns</p>\n",
       "</div>"
      ],
      "text/plain": [
       "                orglow_dmns          organization                  COMNAM  \\\n",
       "2596882               abbab                ABB AB                A B B AB   \n",
       "5301553               abbab                ABB AB                A B B AB   \n",
       "5775543               abbab                ABB AB                A B B AB   \n",
       "5842453               abbab                ABB AB                A B B AB   \n",
       "5772717               abbab                ABB AB                A B B AB   \n",
       "...                     ...                   ...                     ...   \n",
       "176922             xeikonnv             Xeikon NV              XEIKON N V   \n",
       "4983212            xeikonnv             Xeikon NV              XEIKON N V   \n",
       "5744479            xeikonnv             Xeikon NV              XEIKON N V   \n",
       "5628384            xeikonnv             Xeikon NV              XEIKON N V   \n",
       "5820670  ypfsociedadanonima  YPF Sociedad Anonima  Y P F SOCIEDAD ANONIMA   \n",
       "\n",
       "                comlow_dmns  \n",
       "2596882               abbab  \n",
       "5301553               abbab  \n",
       "5775543               abbab  \n",
       "5842453               abbab  \n",
       "5772717               abbab  \n",
       "...                     ...  \n",
       "176922             xeikonnv  \n",
       "4983212            xeikonnv  \n",
       "5744479            xeikonnv  \n",
       "5628384            xeikonnv  \n",
       "5820670  ypfsociedadanonima  \n",
       "\n",
       "[11259 rows x 4 columns]"
      ]
     },
     "execution_count": 55,
     "metadata": {},
     "output_type": "execute_result"
    }
   ],
   "source": [
    "gt[(gt['dm_ns']==True)&(gt['dm']!=True)][['orglow_dmns','organization','COMNAM','comlow_dmns']].sort_values('COMNAM')"
   ]
  },
  {
   "cell_type": "code",
   "execution_count": 56,
   "metadata": {},
   "outputs": [],
   "source": [
    "########direct match after cleaning #######"
   ]
  },
  {
   "cell_type": "code",
   "execution_count": 57,
   "metadata": {},
   "outputs": [],
   "source": [
    "gt['clean_dm'] = gt['orglow9'] == gt['comlow4']"
   ]
  },
  {
   "cell_type": "code",
   "execution_count": 58,
   "metadata": {},
   "outputs": [
    {
     "data": {
      "text/plain": [
       "PERMNO             5913\n",
       "organization      16780\n",
       "COMNAM             6336\n",
       "patent_id       1006778\n",
       "dtype: int64"
      ]
     },
     "execution_count": 58,
     "metadata": {},
     "output_type": "execute_result"
    }
   ],
   "source": [
    "gt[gt['clean_dm']==True][['PERMNO','organization','COMNAM','patent_id']].nunique()\n",
    "# PERMNO 5913; organization 16780, COMNAM 6335; patent_id =1006778 "
   ]
  },
  {
   "cell_type": "code",
   "execution_count": 59,
   "metadata": {},
   "outputs": [
    {
     "data": {
      "text/html": [
       "<div>\n",
       "<style scoped>\n",
       "    .dataframe tbody tr th:only-of-type {\n",
       "        vertical-align: middle;\n",
       "    }\n",
       "\n",
       "    .dataframe tbody tr th {\n",
       "        vertical-align: top;\n",
       "    }\n",
       "\n",
       "    .dataframe thead th {\n",
       "        text-align: right;\n",
       "    }\n",
       "</style>\n",
       "<table border=\"1\" class=\"dataframe\">\n",
       "  <thead>\n",
       "    <tr style=\"text-align: right;\">\n",
       "      <th></th>\n",
       "      <th>orglow9</th>\n",
       "      <th>organization</th>\n",
       "      <th>COMNAM</th>\n",
       "      <th>comlow4</th>\n",
       "    </tr>\n",
       "  </thead>\n",
       "  <tbody>\n",
       "    <tr>\n",
       "      <td>1</td>\n",
       "      <td>xerox</td>\n",
       "      <td>Xerox Corporation</td>\n",
       "      <td>XEROX CORP</td>\n",
       "      <td>xerox</td>\n",
       "    </tr>\n",
       "    <tr>\n",
       "      <td>5</td>\n",
       "      <td>cypress semiconductor</td>\n",
       "      <td>Cypress Semiconductor Corp.</td>\n",
       "      <td>CYPRESS SEMICONDUCTOR CORP</td>\n",
       "      <td>cypress semiconductor</td>\n",
       "    </tr>\n",
       "    <tr>\n",
       "      <td>6</td>\n",
       "      <td>motorola</td>\n",
       "      <td>Motorola, Inc.</td>\n",
       "      <td>MOTOROLA INC</td>\n",
       "      <td>motorola</td>\n",
       "    </tr>\n",
       "    <tr>\n",
       "      <td>15</td>\n",
       "      <td>sony</td>\n",
       "      <td>Sony Corporation</td>\n",
       "      <td>SONY CORP</td>\n",
       "      <td>sony</td>\n",
       "    </tr>\n",
       "    <tr>\n",
       "      <td>27</td>\n",
       "      <td>raytheon</td>\n",
       "      <td>Raytheon Company</td>\n",
       "      <td>RAYTHEON CO</td>\n",
       "      <td>raytheon</td>\n",
       "    </tr>\n",
       "    <tr>\n",
       "      <td>...</td>\n",
       "      <td>...</td>\n",
       "      <td>...</td>\n",
       "      <td>...</td>\n",
       "      <td>...</td>\n",
       "    </tr>\n",
       "    <tr>\n",
       "      <td>6258150</td>\n",
       "      <td>bristol myers squibb</td>\n",
       "      <td>Bristol-Myers Squibb Company</td>\n",
       "      <td>BRISTOL MYERS SQUIBB CO</td>\n",
       "      <td>bristol myers squibb</td>\n",
       "    </tr>\n",
       "    <tr>\n",
       "      <td>6258153</td>\n",
       "      <td>att</td>\n",
       "      <td>AT&amp;T Corp.</td>\n",
       "      <td>A T &amp; T CORP</td>\n",
       "      <td>att</td>\n",
       "    </tr>\n",
       "    <tr>\n",
       "      <td>6258164</td>\n",
       "      <td>e systems</td>\n",
       "      <td>E-Systems, Inc.</td>\n",
       "      <td>E SYSTEMS INC</td>\n",
       "      <td>e systems</td>\n",
       "    </tr>\n",
       "    <tr>\n",
       "      <td>6258166</td>\n",
       "      <td>canon</td>\n",
       "      <td>Canon Kabushiki Kaisha</td>\n",
       "      <td>CANON INC</td>\n",
       "      <td>canon</td>\n",
       "    </tr>\n",
       "    <tr>\n",
       "      <td>6258167</td>\n",
       "      <td>national semiconductor</td>\n",
       "      <td>National Semiconductor Corporation</td>\n",
       "      <td>NATIONAL SEMICONDUCTOR CORP</td>\n",
       "      <td>national semiconductor</td>\n",
       "    </tr>\n",
       "  </tbody>\n",
       "</table>\n",
       "<p>1007349 rows × 4 columns</p>\n",
       "</div>"
      ],
      "text/plain": [
       "                        orglow9                        organization  \\\n",
       "1                         xerox                   Xerox Corporation   \n",
       "5         cypress semiconductor         Cypress Semiconductor Corp.   \n",
       "6                      motorola                      Motorola, Inc.   \n",
       "15                         sony                    Sony Corporation   \n",
       "27                     raytheon                    Raytheon Company   \n",
       "...                         ...                                 ...   \n",
       "6258150    bristol myers squibb        Bristol-Myers Squibb Company   \n",
       "6258153                     att                          AT&T Corp.   \n",
       "6258164               e systems                     E-Systems, Inc.   \n",
       "6258166                   canon              Canon Kabushiki Kaisha   \n",
       "6258167  national semiconductor  National Semiconductor Corporation   \n",
       "\n",
       "                              COMNAM                 comlow4  \n",
       "1                         XEROX CORP                   xerox  \n",
       "5         CYPRESS SEMICONDUCTOR CORP   cypress semiconductor  \n",
       "6                       MOTOROLA INC                motorola  \n",
       "15                         SONY CORP                    sony  \n",
       "27                       RAYTHEON CO                raytheon  \n",
       "...                              ...                     ...  \n",
       "6258150      BRISTOL MYERS SQUIBB CO    bristol myers squibb  \n",
       "6258153                 A T & T CORP                     att  \n",
       "6258164                E SYSTEMS INC               e systems  \n",
       "6258166                    CANON INC                   canon  \n",
       "6258167  NATIONAL SEMICONDUCTOR CORP  national semiconductor  \n",
       "\n",
       "[1007349 rows x 4 columns]"
      ]
     },
     "execution_count": 59,
     "metadata": {},
     "output_type": "execute_result"
    }
   ],
   "source": [
    "gt[gt['clean_dm']==True][['orglow9','organization','COMNAM','comlow4']]"
   ]
  },
  {
   "cell_type": "code",
   "execution_count": 60,
   "metadata": {},
   "outputs": [],
   "source": [
    "###########direct match after cleaning after removing spaces################"
   ]
  },
  {
   "cell_type": "code",
   "execution_count": 61,
   "metadata": {},
   "outputs": [],
   "source": [
    "gt['orglow9_ns'] = gt['orglow9'].apply(lambda x: x.replace(\" \",\"\"))\n",
    "gt['comlow4_ns'] = gt['comlow4'].apply(lambda x: x.replace(\" \",\"\"))"
   ]
  },
  {
   "cell_type": "code",
   "execution_count": 62,
   "metadata": {},
   "outputs": [],
   "source": [
    "gt['cleandm_ns'] = gt['orglow9_ns'] == gt['comlow4_ns']"
   ]
  },
  {
   "cell_type": "code",
   "execution_count": 63,
   "metadata": {},
   "outputs": [
    {
     "data": {
      "text/plain": [
       "PERMNO             6052\n",
       "organization      17603\n",
       "COMNAM             6498\n",
       "patent_id       1034762\n",
       "dtype: int64"
      ]
     },
     "execution_count": 63,
     "metadata": {},
     "output_type": "execute_result"
    }
   ],
   "source": [
    "gt[gt['cleandm_ns']==True][['PERMNO','organization','COMNAM','patent_id']].nunique()\n",
    "# PERMNO 6052; organization 17603, COMNAM 6498, patent_id = 1034762"
   ]
  },
  {
   "cell_type": "code",
   "execution_count": null,
   "metadata": {},
   "outputs": [],
   "source": [
    "######################### mathing remaining ##########################################################"
   ]
  },
  {
   "cell_type": "code",
   "execution_count": 64,
   "metadata": {},
   "outputs": [],
   "source": [
    "tm = gt[gt['cleandm_ns']==False]"
   ]
  },
  {
   "cell_type": "code",
   "execution_count": 65,
   "metadata": {},
   "outputs": [
    {
     "data": {
      "text/plain": [
       "False    388409\n",
       "Name: cleandm_ns, dtype: int64"
      ]
     },
     "execution_count": 65,
     "metadata": {},
     "output_type": "execute_result"
    }
   ],
   "source": [
    "tm['cleandm_ns'].value_counts()"
   ]
  },
  {
   "cell_type": "code",
   "execution_count": 66,
   "metadata": {},
   "outputs": [],
   "source": [
    "#datafrmae without patents\n",
    "\n",
    "temp = tm[['assignee_id', 'PERMNO', 'COMNAM',\n",
    "       'organization',  'orglow9', 'comlow4']]"
   ]
  },
  {
   "cell_type": "code",
   "execution_count": 67,
   "metadata": {},
   "outputs": [],
   "source": [
    "temp = temp.drop_duplicates(keep = 'first')"
   ]
  },
  {
   "cell_type": "code",
   "execution_count": 68,
   "metadata": {},
   "outputs": [
    {
     "data": {
      "text/plain": [
       "Index(['assignee_id', 'PERMNO', 'COMNAM', 'organization', 'orglow9',\n",
       "       'comlow4'],\n",
       "      dtype='object')"
      ]
     },
     "execution_count": 68,
     "metadata": {},
     "output_type": "execute_result"
    }
   ],
   "source": [
    "temp.columns"
   ]
  },
  {
   "cell_type": "code",
   "execution_count": 69,
   "metadata": {},
   "outputs": [
    {
     "data": {
      "text/plain": [
       "29912"
      ]
     },
     "execution_count": 69,
     "metadata": {},
     "output_type": "execute_result"
    }
   ],
   "source": [
    "len(temp)"
   ]
  },
  {
   "cell_type": "code",
   "execution_count": 70,
   "metadata": {},
   "outputs": [],
   "source": [
    "temp['fuzz_ratio'] = temp.apply(lambda x: fuzz.ratio(x.orglow9, x.comlow4), axis = 1)\n",
    "temp['fuzz_token'] = temp.apply(lambda x: fuzz.token_set_ratio(x.orglow9, x.comlow4), axis = 1)\n",
    "temp['fuzz_fpr'] = temp.apply(lambda x: fuzz.partial_ratio(x.orglow9, x.comlow4), axis = 1)"
   ]
  },
  {
   "cell_type": "code",
   "execution_count": 71,
   "metadata": {},
   "outputs": [
    {
     "data": {
      "text/html": [
       "<div>\n",
       "<style scoped>\n",
       "    .dataframe tbody tr th:only-of-type {\n",
       "        vertical-align: middle;\n",
       "    }\n",
       "\n",
       "    .dataframe tbody tr th {\n",
       "        vertical-align: top;\n",
       "    }\n",
       "\n",
       "    .dataframe thead th {\n",
       "        text-align: right;\n",
       "    }\n",
       "</style>\n",
       "<table border=\"1\" class=\"dataframe\">\n",
       "  <thead>\n",
       "    <tr style=\"text-align: right;\">\n",
       "      <th></th>\n",
       "      <th>assignee_id</th>\n",
       "      <th>PERMNO</th>\n",
       "      <th>COMNAM</th>\n",
       "      <th>organization</th>\n",
       "      <th>orglow9</th>\n",
       "      <th>comlow4</th>\n",
       "      <th>fuzz_ratio</th>\n",
       "      <th>fuzz_token</th>\n",
       "      <th>fuzz_fpr</th>\n",
       "    </tr>\n",
       "  </thead>\n",
       "  <tbody>\n",
       "    <tr>\n",
       "      <td>195</td>\n",
       "      <td>org_rjTdv98kllFyITzDnJQj</td>\n",
       "      <td>58640.0</td>\n",
       "      <td>NORTEL NETWORKS CORP NEW</td>\n",
       "      <td>Nortel Networks Limited</td>\n",
       "      <td>northern telecommunication</td>\n",
       "      <td>northern telecommunications networks</td>\n",
       "      <td>84</td>\n",
       "      <td>84</td>\n",
       "      <td>100</td>\n",
       "    </tr>\n",
       "    <tr>\n",
       "      <td>209</td>\n",
       "      <td>org_X2oSuoCvOY1jbTB3PTGS</td>\n",
       "      <td>88487.0</td>\n",
       "      <td>KONINKLIJKE PHILIPS ELEC N V</td>\n",
       "      <td>Koninklijke Philips Electronics N.V.</td>\n",
       "      <td>koninklijke philips electronics</td>\n",
       "      <td>koninklijke philips elec</td>\n",
       "      <td>87</td>\n",
       "      <td>88</td>\n",
       "      <td>100</td>\n",
       "    </tr>\n",
       "    <tr>\n",
       "      <td>988</td>\n",
       "      <td>org_rjTdv98kllFyITzDnJQj</td>\n",
       "      <td>58640.0</td>\n",
       "      <td>NORTEL NETWORKS CORP</td>\n",
       "      <td>Nortel Networks Corporation</td>\n",
       "      <td>northern telecommunication</td>\n",
       "      <td>northern telecommunications networks</td>\n",
       "      <td>84</td>\n",
       "      <td>84</td>\n",
       "      <td>100</td>\n",
       "    </tr>\n",
       "    <tr>\n",
       "      <td>2622</td>\n",
       "      <td>org_rjTdv98kllFyITzDnJQj</td>\n",
       "      <td>58640.0</td>\n",
       "      <td>NORTEL NETWORKS CORP NEW</td>\n",
       "      <td>Nortel Networks Ltd</td>\n",
       "      <td>northern telecommunication</td>\n",
       "      <td>northern telecommunications networks</td>\n",
       "      <td>84</td>\n",
       "      <td>84</td>\n",
       "      <td>100</td>\n",
       "    </tr>\n",
       "    <tr>\n",
       "      <td>2830</td>\n",
       "      <td>org_Bsjz1zmq7eIkCMBmfufu</td>\n",
       "      <td>11850.0</td>\n",
       "      <td>EXXON MOBIL CORP</td>\n",
       "      <td>ExxonMobil Chemical Patents Inc.</td>\n",
       "      <td>exxonmobil chemical patents</td>\n",
       "      <td>exxon mobil</td>\n",
       "      <td>53</td>\n",
       "      <td>53</td>\n",
       "      <td>91</td>\n",
       "    </tr>\n",
       "    <tr>\n",
       "      <td>...</td>\n",
       "      <td>...</td>\n",
       "      <td>...</td>\n",
       "      <td>...</td>\n",
       "      <td>...</td>\n",
       "      <td>...</td>\n",
       "      <td>...</td>\n",
       "      <td>...</td>\n",
       "      <td>...</td>\n",
       "      <td>...</td>\n",
       "    </tr>\n",
       "    <tr>\n",
       "      <td>6187063</td>\n",
       "      <td>org_wsUVk0BaMWye2y1aZRH4</td>\n",
       "      <td>52919.0</td>\n",
       "      <td>MERRILL LYNCH &amp; CO INC</td>\n",
       "      <td>Merril Lynch, Pierce, Fenner &amp; Smith Inc.</td>\n",
       "      <td>merril lynch pierce fenner smith</td>\n",
       "      <td>merrill lynch</td>\n",
       "      <td>53</td>\n",
       "      <td>56</td>\n",
       "      <td>92</td>\n",
       "    </tr>\n",
       "    <tr>\n",
       "      <td>6202488</td>\n",
       "      <td>org_oI7MQtpApv1WiTrI3EpV</td>\n",
       "      <td>85010.0</td>\n",
       "      <td>GENESYS TELECOM LAB INC</td>\n",
       "      <td>Gewesys Telecommunications Laboratories, Inc.</td>\n",
       "      <td>gewesys telecommunications laboratories</td>\n",
       "      <td>genesys telecommunication lab</td>\n",
       "      <td>82</td>\n",
       "      <td>82</td>\n",
       "      <td>93</td>\n",
       "    </tr>\n",
       "    <tr>\n",
       "      <td>6224454</td>\n",
       "      <td>org_QGbE0Z7nZthhGjyweJA3</td>\n",
       "      <td>82643.0</td>\n",
       "      <td>LEXMARK INTERNATIONAL GROUP INC</td>\n",
       "      <td>Lexmark Internatonal, Inc.</td>\n",
       "      <td>lexmark internatonal</td>\n",
       "      <td>lexmark international group</td>\n",
       "      <td>85</td>\n",
       "      <td>85</td>\n",
       "      <td>95</td>\n",
       "    </tr>\n",
       "    <tr>\n",
       "      <td>6236894</td>\n",
       "      <td>org_Bhxt9OMrTI8tGEuPPcbu</td>\n",
       "      <td>28417.0</td>\n",
       "      <td>MILES LABS INC</td>\n",
       "      <td>Miles Laboratories Inc.</td>\n",
       "      <td>miles laboratories</td>\n",
       "      <td>miles labs</td>\n",
       "      <td>71</td>\n",
       "      <td>71</td>\n",
       "      <td>90</td>\n",
       "    </tr>\n",
       "    <tr>\n",
       "      <td>6243897</td>\n",
       "      <td>org_ymhBYDxqABZ4GSV32Gb3</td>\n",
       "      <td>77967.0</td>\n",
       "      <td>CARAUSTAR INDUSTRIES INC</td>\n",
       "      <td>Caraustar Industrial &amp; Consumer Products Group</td>\n",
       "      <td>caraustar industrial consumer products group</td>\n",
       "      <td>caraustar industries</td>\n",
       "      <td>59</td>\n",
       "      <td>62</td>\n",
       "      <td>90</td>\n",
       "    </tr>\n",
       "  </tbody>\n",
       "</table>\n",
       "<p>643 rows × 9 columns</p>\n",
       "</div>"
      ],
      "text/plain": [
       "                      assignee_id   PERMNO                           COMNAM  \\\n",
       "195      org_rjTdv98kllFyITzDnJQj  58640.0         NORTEL NETWORKS CORP NEW   \n",
       "209      org_X2oSuoCvOY1jbTB3PTGS  88487.0     KONINKLIJKE PHILIPS ELEC N V   \n",
       "988      org_rjTdv98kllFyITzDnJQj  58640.0             NORTEL NETWORKS CORP   \n",
       "2622     org_rjTdv98kllFyITzDnJQj  58640.0         NORTEL NETWORKS CORP NEW   \n",
       "2830     org_Bsjz1zmq7eIkCMBmfufu  11850.0                 EXXON MOBIL CORP   \n",
       "...                           ...      ...                              ...   \n",
       "6187063  org_wsUVk0BaMWye2y1aZRH4  52919.0           MERRILL LYNCH & CO INC   \n",
       "6202488  org_oI7MQtpApv1WiTrI3EpV  85010.0          GENESYS TELECOM LAB INC   \n",
       "6224454  org_QGbE0Z7nZthhGjyweJA3  82643.0  LEXMARK INTERNATIONAL GROUP INC   \n",
       "6236894  org_Bhxt9OMrTI8tGEuPPcbu  28417.0                   MILES LABS INC   \n",
       "6243897  org_ymhBYDxqABZ4GSV32Gb3  77967.0         CARAUSTAR INDUSTRIES INC   \n",
       "\n",
       "                                           organization  \\\n",
       "195                             Nortel Networks Limited   \n",
       "209                Koninklijke Philips Electronics N.V.   \n",
       "988                         Nortel Networks Corporation   \n",
       "2622                                Nortel Networks Ltd   \n",
       "2830                   ExxonMobil Chemical Patents Inc.   \n",
       "...                                                 ...   \n",
       "6187063      Merril Lynch, Pierce, Fenner & Smith Inc.    \n",
       "6202488   Gewesys Telecommunications Laboratories, Inc.   \n",
       "6224454                      Lexmark Internatonal, Inc.   \n",
       "6236894                         Miles Laboratories Inc.   \n",
       "6243897  Caraustar Industrial & Consumer Products Group   \n",
       "\n",
       "                                              orglow9  \\\n",
       "195                        northern telecommunication   \n",
       "209                   koninklijke philips electronics   \n",
       "988                        northern telecommunication   \n",
       "2622                       northern telecommunication   \n",
       "2830                      exxonmobil chemical patents   \n",
       "...                                               ...   \n",
       "6187063              merril lynch pierce fenner smith   \n",
       "6202488       gewesys telecommunications laboratories   \n",
       "6224454                          lexmark internatonal   \n",
       "6236894                            miles laboratories   \n",
       "6243897  caraustar industrial consumer products group   \n",
       "\n",
       "                                      comlow4  fuzz_ratio  fuzz_token  \\\n",
       "195      northern telecommunications networks          84          84   \n",
       "209                  koninklijke philips elec          87          88   \n",
       "988      northern telecommunications networks          84          84   \n",
       "2622     northern telecommunications networks          84          84   \n",
       "2830                              exxon mobil          53          53   \n",
       "...                                       ...         ...         ...   \n",
       "6187063                         merrill lynch          53          56   \n",
       "6202488         genesys telecommunication lab          82          82   \n",
       "6224454           lexmark international group          85          85   \n",
       "6236894                            miles labs          71          71   \n",
       "6243897                  caraustar industries          59          62   \n",
       "\n",
       "         fuzz_fpr  \n",
       "195           100  \n",
       "209           100  \n",
       "988           100  \n",
       "2622          100  \n",
       "2830           91  \n",
       "...           ...  \n",
       "6187063        92  \n",
       "6202488        93  \n",
       "6224454        95  \n",
       "6236894        90  \n",
       "6243897        90  \n",
       "\n",
       "[643 rows x 9 columns]"
      ]
     },
     "execution_count": 71,
     "metadata": {},
     "output_type": "execute_result"
    }
   ],
   "source": [
    "temp[(temp['fuzz_token']<90)&(temp['fuzz_ratio']<90)&(temp['fuzz_fpr']>=90)\n",
    "     ]"
   ]
  },
  {
   "cell_type": "code",
   "execution_count": 72,
   "metadata": {},
   "outputs": [],
   "source": [
    "temp['orglow_first'] = temp['orglow9'].apply(lambda x: x[0])\n",
    "temp['comlow_first'] = temp['comlow4'].apply(lambda x: x[0])"
   ]
  },
  {
   "cell_type": "code",
   "execution_count": 73,
   "metadata": {},
   "outputs": [],
   "source": [
    "temp['same'] = temp['orglow_first'] == temp['comlow_first']"
   ]
  },
  {
   "cell_type": "code",
   "execution_count": 74,
   "metadata": {},
   "outputs": [],
   "source": [
    "hifq = ['north american','works','motor','corportion', 'worldwide', 'deutschland',\n",
    "    'industries','industry', 'of', 'systems', 'technology', 'electric', 'electronics', \n",
    "         'group','groups','manufacturing', 'pharmaceuticals', 'products','pharmaceutical'\n",
    "        'technologies','company', 'de','international',\n",
    "       'the','system','services','industrial','electronic','holdings',\n",
    "       'america','japan','service','for','gesellschaft','communication','communications',\n",
    "       'global','kabushiki','la','network', 'networks','us','tokyo','und','new england',\n",
    "        'new holland','ltd','american', 'corp', 'corporation','development','enterprises',\n",
    "         'holding','industry','lm','national','product','technologies','tech',\n",
    " 'united states','united']"
   ]
  },
  {
   "cell_type": "code",
   "execution_count": 75,
   "metadata": {},
   "outputs": [],
   "source": [
    "temp['comlow_new'] = temp['comlow4']\n",
    "temp['orglow_new'] = temp['orglow9']"
   ]
  },
  {
   "cell_type": "code",
   "execution_count": 76,
   "metadata": {},
   "outputs": [],
   "source": [
    "for i in hifq:\n",
    "    j = \" \"+i+\" \"\n",
    "    y = \" \"+i+\"$\"\n",
    "    z = \"^\" + i +\" \"\n",
    " \n",
    "    temp.loc[temp['comlow4'].str.contains(i),'comlow_new'] = temp[temp['comlow4'].str.contains(i)]['comlow_new'].str.replace(j,\" \")\n",
    "    temp.loc[temp['orglow9'].str.contains(i),'orglow_new'] = temp[temp['orglow9'].str.contains(i)]['orglow_new'].str.replace(j,\" \")\n",
    "    temp.loc[temp['comlow4'].str.endswith(i),'comlow_new'] = temp[temp['comlow4'].str.endswith(i)]['comlow_new'].str.replace(y,\"\")\n",
    "    temp.loc[temp['orglow9'].str.endswith(i),'orglow_new'] = temp[temp['orglow9'].str.endswith(i)]['orglow_new'].str.replace(y,\"\")\n",
    "    temp.loc[temp['comlow4'].str.startswith(i),'comlow_new'] = temp[temp['comlow4'].str.startswith(i)]['comlow_new'].str.replace(z,\"\")\n",
    "    temp.loc[temp['orglow9'].str.startswith(i),'orglow_new'] = temp[temp['orglow9'].str.startswith(i)]['orglow_new'].str.replace(z,\"\")\n",
    "    "
   ]
  },
  {
   "cell_type": "code",
   "execution_count": 77,
   "metadata": {},
   "outputs": [],
   "source": [
    "lst = ['labs', 'lab','laboratories','laboratory','intellectual property']\n",
    "for i in lst:\n",
    "    y = \" \"+i+\"$\"\n",
    "    temp.loc[temp['comlow_new'].str.endswith(i),'comlow_new'] = temp[temp['comlow_new'].str.endswith(i)]['comlow_new'].str.replace(y,\"\")\n",
    "    temp.loc[temp['orglow_new'].str.endswith(i),'orglow_new'] = temp[temp['orglow_new'].str.endswith(i)]['orglow_new'].str.replace(y,\"\")"
   ]
  },
  {
   "cell_type": "code",
   "execution_count": 78,
   "metadata": {},
   "outputs": [],
   "source": [
    "lst = ['corp', 'corporation','technology','technologies']\n",
    "\n",
    "for i in lst:\n",
    "    y = i+\"$\"\n",
    "    temp.loc[temp['comlow_new'].str.endswith(i),'comlow_new'] = temp[temp['comlow_new'].str.endswith(i)]['comlow_new'].str.replace(y,\"\")\n",
    "    temp.loc[temp['orglow_new'].str.endswith(i),'orglow_new'] = temp[temp['orglow_new'].str.endswith(i)]['orglow_new'].str.replace(y,\"\")"
   ]
  },
  {
   "cell_type": "code",
   "execution_count": 79,
   "metadata": {},
   "outputs": [],
   "source": [
    "temp['comlow_new'] = temp['comlow_new'].apply(lambda x: x.strip())\n",
    "temp['orglow_new'] = temp['orglow_new'].apply(lambda x: x.strip())"
   ]
  },
  {
   "cell_type": "code",
   "execution_count": 80,
   "metadata": {},
   "outputs": [],
   "source": [
    "temp.loc[temp['comlow_new']==\"\",\"comlow_new\"] = temp.loc[temp['comlow_new']==\"\",\"comlow4\"]\n",
    "temp.loc[temp['orglow_new']==\"\",\"orglow_new\"] = temp.loc[temp['orglow_new']==\"\",\"orglow9\"]"
   ]
  },
  {
   "cell_type": "code",
   "execution_count": 81,
   "metadata": {},
   "outputs": [],
   "source": [
    "# short forms of companies after low\n",
    "temp['orglow_short'] = temp['orglow9'].apply(lambda x: ''.join(word[0] for word in x.split()))\n",
    "temp['comlow_short'] = temp['comlow4'].apply(lambda x: ''.join(word[0] for word in x.split()))"
   ]
  },
  {
   "cell_type": "code",
   "execution_count": 82,
   "metadata": {},
   "outputs": [],
   "source": [
    "# short forms of companies before cleaning\n",
    "temp['org_short'] = temp['organization'].apply(lambda x: (''.join(word[0] for word in x.split())).lower())\n",
    "temp['com_short'] = temp['COMNAM'].apply(lambda x: (''.join(word[0] for word in x.split())).lower())"
   ]
  },
  {
   "cell_type": "code",
   "execution_count": 83,
   "metadata": {},
   "outputs": [],
   "source": [
    "##fuzz matching with new\n",
    "\n",
    "temp['new_fr'] = temp.apply(lambda x: fuzz.ratio(x.orglow_new, x.comlow_new), axis = 1)\n",
    "temp['new_ft'] = temp.apply(lambda x: fuzz.token_set_ratio(x.orglow_new, x.comlow_new), axis = 1)\n",
    "temp['new_fpr'] = temp.apply(lambda x: fuzz.partial_ratio(x.orglow_new, x.comlow_new), axis = 1)"
   ]
  },
  {
   "cell_type": "code",
   "execution_count": 84,
   "metadata": {},
   "outputs": [],
   "source": [
    "temp['orgnew_first'] = temp['orglow_new'].apply(lambda x: x[0])\n",
    "temp['comnew_first'] = temp['comlow_new'].apply(lambda x: x[0])\n",
    "temp['same_new'] = temp['orgnew_first']==temp['comnew_first']"
   ]
  },
  {
   "cell_type": "code",
   "execution_count": 85,
   "metadata": {},
   "outputs": [],
   "source": [
    "temp['ofuzz_shortlow'] = temp.apply(lambda x: fuzz.token_set_ratio(x.orglow_short, x.comlow4), axis = 1)\n",
    "temp['cfuzz_shortlow'] = temp.apply(lambda x: fuzz.token_set_ratio(x.comlow_short, x.orglow9), axis = 1)\n",
    "\n",
    "temp['ofuzz_short'] = temp.apply(lambda x: fuzz.token_set_ratio(x.org_short, x.COMNAM), axis = 1)\n",
    "temp['cfuzz_short'] = temp.apply(lambda x: fuzz.token_set_ratio(x.com_short, x.organization), axis = 1)\n",
    "\n"
   ]
  },
  {
   "cell_type": "code",
   "execution_count": 86,
   "metadata": {},
   "outputs": [
    {
     "data": {
      "text/html": [
       "<div>\n",
       "<style scoped>\n",
       "    .dataframe tbody tr th:only-of-type {\n",
       "        vertical-align: middle;\n",
       "    }\n",
       "\n",
       "    .dataframe tbody tr th {\n",
       "        vertical-align: top;\n",
       "    }\n",
       "\n",
       "    .dataframe thead th {\n",
       "        text-align: right;\n",
       "    }\n",
       "</style>\n",
       "<table border=\"1\" class=\"dataframe\">\n",
       "  <thead>\n",
       "    <tr style=\"text-align: right;\">\n",
       "      <th></th>\n",
       "      <th>new_fr</th>\n",
       "      <th>new_ft</th>\n",
       "      <th>new_fpr</th>\n",
       "      <th>fuzz_ratio</th>\n",
       "      <th>fuzz_token</th>\n",
       "      <th>fuzz_fpr</th>\n",
       "      <th>COMNAM</th>\n",
       "      <th>organization</th>\n",
       "    </tr>\n",
       "  </thead>\n",
       "  <tbody>\n",
       "    <tr>\n",
       "      <td>4270227</td>\n",
       "      <td>71</td>\n",
       "      <td>43</td>\n",
       "      <td>90</td>\n",
       "      <td>49</td>\n",
       "      <td>29</td>\n",
       "      <td>90</td>\n",
       "      <td>SMITHKLINE CORP</td>\n",
       "      <td>Smith Kline &amp; French Laboratories Limited</td>\n",
       "    </tr>\n",
       "    <tr>\n",
       "      <td>6124558</td>\n",
       "      <td>71</td>\n",
       "      <td>43</td>\n",
       "      <td>90</td>\n",
       "      <td>71</td>\n",
       "      <td>43</td>\n",
       "      <td>90</td>\n",
       "      <td>SMITHKLINE CORP</td>\n",
       "      <td>Smith Kline &amp; French (Proprietary) Limited</td>\n",
       "    </tr>\n",
       "    <tr>\n",
       "      <td>3144465</td>\n",
       "      <td>90</td>\n",
       "      <td>90</td>\n",
       "      <td>90</td>\n",
       "      <td>55</td>\n",
       "      <td>55</td>\n",
       "      <td>90</td>\n",
       "      <td>KOLLMORGEN CORP</td>\n",
       "      <td>Kollmorgan Technologies Corporation</td>\n",
       "    </tr>\n",
       "    <tr>\n",
       "      <td>3697382</td>\n",
       "      <td>62</td>\n",
       "      <td>62</td>\n",
       "      <td>90</td>\n",
       "      <td>62</td>\n",
       "      <td>62</td>\n",
       "      <td>90</td>\n",
       "      <td>BORGWARNER INC</td>\n",
       "      <td>Borg-Warner Automotive, Inc.</td>\n",
       "    </tr>\n",
       "    <tr>\n",
       "      <td>3868248</td>\n",
       "      <td>62</td>\n",
       "      <td>62</td>\n",
       "      <td>90</td>\n",
       "      <td>73</td>\n",
       "      <td>65</td>\n",
       "      <td>80</td>\n",
       "      <td>MATSUSHITA ELECTRIC INDL LTD</td>\n",
       "      <td>Marsushita Electric Works. Ltd.</td>\n",
       "    </tr>\n",
       "    <tr>\n",
       "      <td>...</td>\n",
       "      <td>...</td>\n",
       "      <td>...</td>\n",
       "      <td>...</td>\n",
       "      <td>...</td>\n",
       "      <td>...</td>\n",
       "      <td>...</td>\n",
       "      <td>...</td>\n",
       "      <td>...</td>\n",
       "    </tr>\n",
       "    <tr>\n",
       "      <td>4780271</td>\n",
       "      <td>68</td>\n",
       "      <td>100</td>\n",
       "      <td>90</td>\n",
       "      <td>62</td>\n",
       "      <td>100</td>\n",
       "      <td>93</td>\n",
       "      <td>AMERICAN TELEPHONE &amp; TELEG CO</td>\n",
       "      <td>American Telephone &amp; Telegraph Company, AT&amp;T I...</td>\n",
       "    </tr>\n",
       "    <tr>\n",
       "      <td>4766756</td>\n",
       "      <td>86</td>\n",
       "      <td>100</td>\n",
       "      <td>90</td>\n",
       "      <td>67</td>\n",
       "      <td>100</td>\n",
       "      <td>93</td>\n",
       "      <td>AMERICAN TELEPHONE &amp; TELEG CO</td>\n",
       "      <td>American Telephone and Telegraph Company, AT&amp;T...</td>\n",
       "    </tr>\n",
       "    <tr>\n",
       "      <td>4708591</td>\n",
       "      <td>78</td>\n",
       "      <td>100</td>\n",
       "      <td>90</td>\n",
       "      <td>64</td>\n",
       "      <td>100</td>\n",
       "      <td>93</td>\n",
       "      <td>AMERICAN TELEPHONE &amp; TELEG CO</td>\n",
       "      <td>American Telephone Telegraph Company, AT&amp;T Bel...</td>\n",
       "    </tr>\n",
       "    <tr>\n",
       "      <td>5651277</td>\n",
       "      <td>68</td>\n",
       "      <td>100</td>\n",
       "      <td>90</td>\n",
       "      <td>68</td>\n",
       "      <td>100</td>\n",
       "      <td>93</td>\n",
       "      <td>AMERICAN TELEPHONE &amp; TELEG CO</td>\n",
       "      <td>American Telephone and Telegraph, AT&amp;T Informa...</td>\n",
       "    </tr>\n",
       "    <tr>\n",
       "      <td>5460890</td>\n",
       "      <td>90</td>\n",
       "      <td>100</td>\n",
       "      <td>100</td>\n",
       "      <td>90</td>\n",
       "      <td>100</td>\n",
       "      <td>100</td>\n",
       "      <td>ALLIANT TECHSYSTEMS INC</td>\n",
       "      <td>ATK Alliant Techsystems, Inc.</td>\n",
       "    </tr>\n",
       "  </tbody>\n",
       "</table>\n",
       "<p>80 rows × 8 columns</p>\n",
       "</div>"
      ],
      "text/plain": [
       "         new_fr  new_ft  new_fpr  fuzz_ratio  fuzz_token  fuzz_fpr  \\\n",
       "4270227      71      43       90          49          29        90   \n",
       "6124558      71      43       90          71          43        90   \n",
       "3144465      90      90       90          55          55        90   \n",
       "3697382      62      62       90          62          62        90   \n",
       "3868248      62      62       90          73          65        80   \n",
       "...         ...     ...      ...         ...         ...       ...   \n",
       "4780271      68     100       90          62         100        93   \n",
       "4766756      86     100       90          67         100        93   \n",
       "4708591      78     100       90          64         100        93   \n",
       "5651277      68     100       90          68         100        93   \n",
       "5460890      90     100      100          90         100       100   \n",
       "\n",
       "                                COMNAM  \\\n",
       "4270227                SMITHKLINE CORP   \n",
       "6124558                SMITHKLINE CORP   \n",
       "3144465                KOLLMORGEN CORP   \n",
       "3697382                 BORGWARNER INC   \n",
       "3868248   MATSUSHITA ELECTRIC INDL LTD   \n",
       "...                                ...   \n",
       "4780271  AMERICAN TELEPHONE & TELEG CO   \n",
       "4766756  AMERICAN TELEPHONE & TELEG CO   \n",
       "4708591  AMERICAN TELEPHONE & TELEG CO   \n",
       "5651277  AMERICAN TELEPHONE & TELEG CO   \n",
       "5460890        ALLIANT TECHSYSTEMS INC   \n",
       "\n",
       "                                              organization  \n",
       "4270227         Smith Kline & French Laboratories Limited   \n",
       "6124558         Smith Kline & French (Proprietary) Limited  \n",
       "3144465                Kollmorgan Technologies Corporation  \n",
       "3697382                       Borg-Warner Automotive, Inc.  \n",
       "3868248                   Marsushita Electric Works. Ltd.   \n",
       "...                                                    ...  \n",
       "4780271  American Telephone & Telegraph Company, AT&T I...  \n",
       "4766756  American Telephone and Telegraph Company, AT&T...  \n",
       "4708591  American Telephone Telegraph Company, AT&T Bel...  \n",
       "5651277  American Telephone and Telegraph, AT&T Informa...  \n",
       "5460890                      ATK Alliant Techsystems, Inc.  \n",
       "\n",
       "[80 rows x 8 columns]"
      ]
     },
     "execution_count": 86,
     "metadata": {},
     "output_type": "execute_result"
    }
   ],
   "source": [
    "temp.loc[((temp['new_fr']==90)|(temp['new_ft']==90)|(temp['new_fpr']==90))&\n",
    "     (temp['same_new']==True)][['new_fr','new_ft','new_fpr','fuzz_ratio','fuzz_token','fuzz_fpr',\n",
    "                                'COMNAM','organization']].tail(80).sort_values('fuzz_token')"
   ]
  },
  {
   "cell_type": "code",
   "execution_count": 87,
   "metadata": {},
   "outputs": [],
   "source": [
    "temp.loc[((temp['new_fr']>=90)|(temp['new_ft']>=90)|(temp['new_fpr']>=90)), \"match\"] = True"
   ]
  },
  {
   "cell_type": "code",
   "execution_count": 88,
   "metadata": {},
   "outputs": [
    {
     "data": {
      "text/plain": [
       "17248"
      ]
     },
     "execution_count": 88,
     "metadata": {},
     "output_type": "execute_result"
    }
   ],
   "source": [
    "len(temp[temp['match'].isna()])"
   ]
  },
  {
   "cell_type": "code",
   "execution_count": 89,
   "metadata": {},
   "outputs": [],
   "source": [
    "#22509.0 : false; 5160121,4650873,4450088, 4356894: false"
   ]
  },
  {
   "cell_type": "code",
   "execution_count": 90,
   "metadata": {},
   "outputs": [],
   "source": [
    "temp.loc[(temp['match'].isna())&((temp['fuzz_ratio']>=95)| \n",
    "                             (temp['fuzz_token']>=95)), \"match\"] = True"
   ]
  },
  {
   "cell_type": "code",
   "execution_count": 91,
   "metadata": {},
   "outputs": [],
   "source": [
    "temp.loc[(temp['match'].isna())&((temp['fuzz_ratio']>=94)&\n",
    "                             (temp['fuzz_token']>=94)),\"match\"] = True"
   ]
  },
  {
   "cell_type": "code",
   "execution_count": 92,
   "metadata": {},
   "outputs": [
    {
     "data": {
      "text/plain": [
       "17167"
      ]
     },
     "execution_count": 92,
     "metadata": {},
     "output_type": "execute_result"
    }
   ],
   "source": [
    "len(temp[temp['match'].isna()])"
   ]
  },
  {
   "cell_type": "code",
   "execution_count": 93,
   "metadata": {},
   "outputs": [
    {
     "data": {
      "text/plain": [
       "Index(['assignee_id', 'PERMNO', 'COMNAM', 'organization', 'orglow9', 'comlow4',\n",
       "       'fuzz_ratio', 'fuzz_token', 'fuzz_fpr', 'orglow_first', 'comlow_first',\n",
       "       'same', 'comlow_new', 'orglow_new', 'orglow_short', 'comlow_short',\n",
       "       'org_short', 'com_short', 'new_fr', 'new_ft', 'new_fpr', 'orgnew_first',\n",
       "       'comnew_first', 'same_new', 'ofuzz_shortlow', 'cfuzz_shortlow',\n",
       "       'ofuzz_short', 'cfuzz_short', 'match'],\n",
       "      dtype='object')"
      ]
     },
     "execution_count": 93,
     "metadata": {},
     "output_type": "execute_result"
    }
   ],
   "source": [
    "temp.columns"
   ]
  },
  {
   "cell_type": "code",
   "execution_count": 94,
   "metadata": {},
   "outputs": [],
   "source": [
    "temp['oshrtlow_len'] = temp['orglow_short'].apply(lambda x: len(x))\n",
    "temp['cshrtlow_len'] = temp['comlow_short'].apply(lambda x: len(x))\n",
    "temp['oshrt_len'] = temp['org_short'].apply(lambda x: len(x))\n",
    "temp['cshrt_len'] = temp['com_short'].apply(lambda x: len(x))\n",
    "temp['org_len'] = temp['orglow9'].apply(lambda x: len(x))\n",
    "temp['com_len'] = temp['comlow4'].apply(lambda x: len(x))\n"
   ]
  },
  {
   "cell_type": "code",
   "execution_count": 95,
   "metadata": {},
   "outputs": [],
   "source": [
    "#temp.loc[(temp['cfuzz_shortlow']==100)&(temp['cshrtlow_len']==2)&(temp['match'].isna())]\n",
    "\n",
    "# temp.loc[(temp['ofuzz_shortlow']==100)&(temp['oshrtlow_len']==3)&(temp['match'].isna())]\n",
    "\n"
   ]
  },
  {
   "cell_type": "code",
   "execution_count": 97,
   "metadata": {},
   "outputs": [],
   "source": [
    "temp.loc[(temp['cfuzz_shortlow']==100)&(temp['cshrtlow_len']>=2)&(temp['match'].isna()), \"match\"] = True\n",
    "\n",
    "temp.loc[(temp['ofuzz_shortlow']==100)&(temp['oshrtlow_len']>=2)&(temp['match'].isna()),\"match\"] = True"
   ]
  },
  {
   "cell_type": "code",
   "execution_count": 98,
   "metadata": {},
   "outputs": [],
   "source": [
    "# temp.loc[(temp['cfuzz_short']==100)&(temp['com_len']>=5)&\n",
    "#          (temp['match'].isna())&(temp['cshrt_len']==3)][['cshrt_len','comlow4','orglow9']]\n",
    "\n"
   ]
  },
  {
   "cell_type": "code",
   "execution_count": 99,
   "metadata": {},
   "outputs": [
    {
     "data": {
      "text/plain": [
       "16798"
      ]
     },
     "execution_count": 99,
     "metadata": {},
     "output_type": "execute_result"
    }
   ],
   "source": [
    "len(temp[temp['match'].isna()])"
   ]
  },
  {
   "cell_type": "code",
   "execution_count": 100,
   "metadata": {},
   "outputs": [],
   "source": [
    "temp2 = pd.read_csv(\"fm.csv\")"
   ]
  },
  {
   "cell_type": "code",
   "execution_count": 101,
   "metadata": {},
   "outputs": [],
   "source": [
    "temp3 = temp2[~(temp2['match'].isna())& (~(temp2['cleandm_ns']==True))]"
   ]
  },
  {
   "cell_type": "code",
   "execution_count": 102,
   "metadata": {},
   "outputs": [],
   "source": [
    "del temp3['patent_id']"
   ]
  },
  {
   "cell_type": "code",
   "execution_count": 103,
   "metadata": {},
   "outputs": [
    {
     "data": {
      "text/plain": [
       "Index(['organization', 'orglow9', 'PERMNO', 'PERMCO', 'COMNAM', 'comlow4',\n",
       "       'assignee_id_x', 'type', 'sequence', 'orglow_dm', 'comlow_dm', 'dm',\n",
       "       'orglow_dmns', 'comlow_dmns', 'dm_ns', 'clean_dm', 'orglow9_ns',\n",
       "       'comlow4_ns', 'cleandm_ns', 'assignee_id_y', 'match'],\n",
       "      dtype='object')"
      ]
     },
     "execution_count": 103,
     "metadata": {},
     "output_type": "execute_result"
    }
   ],
   "source": [
    "temp3.columns"
   ]
  },
  {
   "cell_type": "code",
   "execution_count": 104,
   "metadata": {},
   "outputs": [],
   "source": [
    "temp4 = temp3[['organization', 'orglow9', 'PERMNO', 'PERMCO', 'COMNAM', 'comlow4','match']]"
   ]
  },
  {
   "cell_type": "code",
   "execution_count": 105,
   "metadata": {},
   "outputs": [],
   "source": [
    "temp4 = temp4.drop_duplicates(keep = 'first')"
   ]
  },
  {
   "cell_type": "code",
   "execution_count": 106,
   "metadata": {},
   "outputs": [
    {
     "data": {
      "text/plain": [
       "TRUE                           11266\n",
       "tomatch                         1428\n",
       "shoud match                      742\n",
       "FALSE                            413\n",
       "should match on lang change       78\n",
       "short form                        54\n",
       "Name: match, dtype: int64"
      ]
     },
     "execution_count": 106,
     "metadata": {},
     "output_type": "execute_result"
    }
   ],
   "source": [
    "temp4.match.value_counts()"
   ]
  },
  {
   "cell_type": "code",
   "execution_count": 107,
   "metadata": {},
   "outputs": [],
   "source": [
    "temp4.rename(columns = {\"match\":\"temp_match\"}, inplace = True)"
   ]
  },
  {
   "cell_type": "code",
   "execution_count": 108,
   "metadata": {},
   "outputs": [
    {
     "data": {
      "text/plain": [
       "Index(['organization', 'orglow9', 'PERMNO', 'PERMCO', 'COMNAM', 'comlow4',\n",
       "       'temp_match'],\n",
       "      dtype='object')"
      ]
     },
     "execution_count": 108,
     "metadata": {},
     "output_type": "execute_result"
    }
   ],
   "source": [
    "temp4.columns"
   ]
  },
  {
   "cell_type": "code",
   "execution_count": 109,
   "metadata": {},
   "outputs": [
    {
     "data": {
      "text/plain": [
       "Index(['assignee_id', 'PERMNO', 'COMNAM', 'organization', 'orglow9', 'comlow4',\n",
       "       'fuzz_ratio', 'fuzz_token', 'fuzz_fpr', 'orglow_first', 'comlow_first',\n",
       "       'same', 'comlow_new', 'orglow_new', 'orglow_short', 'comlow_short',\n",
       "       'org_short', 'com_short', 'new_fr', 'new_ft', 'new_fpr', 'orgnew_first',\n",
       "       'comnew_first', 'same_new', 'ofuzz_shortlow', 'cfuzz_shortlow',\n",
       "       'ofuzz_short', 'cfuzz_short', 'match', 'oshrtlow_len', 'cshrtlow_len',\n",
       "       'oshrt_len', 'cshrt_len', 'org_len', 'com_len'],\n",
       "      dtype='object')"
      ]
     },
     "execution_count": 109,
     "metadata": {},
     "output_type": "execute_result"
    }
   ],
   "source": [
    "temp.columns"
   ]
  },
  {
   "cell_type": "code",
   "execution_count": 110,
   "metadata": {},
   "outputs": [
    {
     "data": {
      "text/plain": [
       "True    13114\n",
       "Name: match, dtype: int64"
      ]
     },
     "execution_count": 110,
     "metadata": {},
     "output_type": "execute_result"
    }
   ],
   "source": [
    "temp.match.value_counts()"
   ]
  },
  {
   "cell_type": "code",
   "execution_count": 111,
   "metadata": {},
   "outputs": [],
   "source": [
    "tt = pd.merge(temp4, temp, left_on = ['organization', 'orglow9', 'PERMNO', 'COMNAM', 'comlow4'],\n",
    "                right_on = ['organization', 'orglow9', 'PERMNO', 'COMNAM', 'comlow4'],\n",
    "                how = \"right\")"
   ]
  },
  {
   "cell_type": "code",
   "execution_count": 112,
   "metadata": {},
   "outputs": [
    {
     "data": {
      "text/plain": [
       "Index(['COMNAM', 'PERMCO', 'PERMNO', 'assignee_id', 'cfuzz_short',\n",
       "       'cfuzz_shortlow', 'com_len', 'com_short', 'comlow4', 'comlow_first',\n",
       "       'comlow_new', 'comlow_short', 'comnew_first', 'cshrt_len',\n",
       "       'cshrtlow_len', 'fuzz_fpr', 'fuzz_ratio', 'fuzz_token', 'match',\n",
       "       'new_fpr', 'new_fr', 'new_ft', 'ofuzz_short', 'ofuzz_shortlow',\n",
       "       'org_len', 'org_short', 'organization', 'orglow9', 'orglow_first',\n",
       "       'orglow_new', 'orglow_short', 'orgnew_first', 'oshrt_len',\n",
       "       'oshrtlow_len', 'same', 'same_new', 'temp_match'],\n",
       "      dtype='object')"
      ]
     },
     "execution_count": 112,
     "metadata": {},
     "output_type": "execute_result"
    }
   ],
   "source": [
    "tt.columns.sort_values()"
   ]
  },
  {
   "cell_type": "code",
   "execution_count": 113,
   "metadata": {},
   "outputs": [
    {
     "data": {
      "text/plain": [
       "29912"
      ]
     },
     "execution_count": 113,
     "metadata": {},
     "output_type": "execute_result"
    }
   ],
   "source": [
    "len(tt)"
   ]
  },
  {
   "cell_type": "code",
   "execution_count": 114,
   "metadata": {},
   "outputs": [],
   "source": [
    "tt.loc[tt['match']==True,'temp_match'] = \"TRUE\""
   ]
  },
  {
   "cell_type": "code",
   "execution_count": 115,
   "metadata": {},
   "outputs": [
    {
     "data": {
      "text/plain": [
       "TRUE                           13132\n",
       "shoud match                      464\n",
       "FALSE                            410\n",
       "should match on lang change       78\n",
       "short form                        49\n",
       "tomatch                            1\n",
       "Name: temp_match, dtype: int64"
      ]
     },
     "execution_count": 115,
     "metadata": {},
     "output_type": "execute_result"
    }
   ],
   "source": [
    "tt.temp_match.value_counts()"
   ]
  },
  {
   "cell_type": "code",
   "execution_count": 116,
   "metadata": {},
   "outputs": [],
   "source": [
    "tt.loc[tt['temp_match']==\"tomatch\",\"temp_match\"] = \"TRUE\""
   ]
  },
  {
   "cell_type": "code",
   "execution_count": 117,
   "metadata": {},
   "outputs": [
    {
     "data": {
      "text/plain": [
       "TRUE                           13133\n",
       "shoud match                      464\n",
       "FALSE                            410\n",
       "should match on lang change       78\n",
       "short form                        49\n",
       "Name: temp_match, dtype: int64"
      ]
     },
     "execution_count": 117,
     "metadata": {},
     "output_type": "execute_result"
    }
   ],
   "source": [
    "tt.temp_match.value_counts()"
   ]
  },
  {
   "cell_type": "code",
   "execution_count": 118,
   "metadata": {},
   "outputs": [
    {
     "data": {
      "text/html": [
       "<div>\n",
       "<style scoped>\n",
       "    .dataframe tbody tr th:only-of-type {\n",
       "        vertical-align: middle;\n",
       "    }\n",
       "\n",
       "    .dataframe tbody tr th {\n",
       "        vertical-align: top;\n",
       "    }\n",
       "\n",
       "    .dataframe thead th {\n",
       "        text-align: right;\n",
       "    }\n",
       "</style>\n",
       "<table border=\"1\" class=\"dataframe\">\n",
       "  <thead>\n",
       "    <tr style=\"text-align: right;\">\n",
       "      <th></th>\n",
       "      <th>patent_id</th>\n",
       "      <th>assignee_id</th>\n",
       "      <th>type</th>\n",
       "      <th>organization</th>\n",
       "      <th>sequence</th>\n",
       "      <th>bractext</th>\n",
       "      <th>organization2</th>\n",
       "      <th>organization3</th>\n",
       "      <th>bractext1</th>\n",
       "      <th>orglow</th>\n",
       "      <th>orglow2</th>\n",
       "      <th>orglow3</th>\n",
       "      <th>orglow4</th>\n",
       "      <th>orglow5</th>\n",
       "      <th>orglow6</th>\n",
       "      <th>last</th>\n",
       "      <th>orglow7</th>\n",
       "      <th>orglow8</th>\n",
       "      <th>orglow9</th>\n",
       "    </tr>\n",
       "  </thead>\n",
       "  <tbody>\n",
       "    <tr>\n",
       "      <td>531502</td>\n",
       "      <td>4428153</td>\n",
       "      <td>org_wRmTDOlFQn70Uye4jiNj</td>\n",
       "      <td>2</td>\n",
       "      <td>Atlanta Richfield Company</td>\n",
       "      <td>0</td>\n",
       "      <td>NaN</td>\n",
       "      <td>Atlanta Richfield Company</td>\n",
       "      <td>Atlanta Richfield Company</td>\n",
       "      <td>NaN</td>\n",
       "      <td>atlanta richfield company</td>\n",
       "      <td>atlanta richfield company</td>\n",
       "      <td>atlanta richfield</td>\n",
       "      <td>atlanta richfield</td>\n",
       "      <td>atlanta richfield</td>\n",
       "      <td>atlanta richfield</td>\n",
       "      <td>richfield</td>\n",
       "      <td>atlanta richfield</td>\n",
       "      <td>atlanta richfield</td>\n",
       "      <td>atlanta richfield</td>\n",
       "    </tr>\n",
       "  </tbody>\n",
       "</table>\n",
       "</div>"
      ],
      "text/plain": [
       "       patent_id               assignee_id  type               organization  \\\n",
       "531502   4428153  org_wRmTDOlFQn70Uye4jiNj     2  Atlanta Richfield Company   \n",
       "\n",
       "        sequence bractext              organization2  \\\n",
       "531502         0      NaN  Atlanta Richfield Company   \n",
       "\n",
       "                    organization3 bractext1                     orglow  \\\n",
       "531502  Atlanta Richfield Company       NaN  atlanta richfield company   \n",
       "\n",
       "                          orglow2            orglow3            orglow4  \\\n",
       "531502  atlanta richfield company  atlanta richfield  atlanta richfield   \n",
       "\n",
       "                  orglow5            orglow6       last            orglow7  \\\n",
       "531502  atlanta richfield  atlanta richfield  richfield  atlanta richfield   \n",
       "\n",
       "                  orglow8            orglow9  \n",
       "531502  atlanta richfield  atlanta richfield  "
      ]
     },
     "execution_count": 118,
     "metadata": {},
     "output_type": "execute_result"
    }
   ],
   "source": [
    "pv[pv['assignee_id']==\"org_wRmTDOlFQn70Uye4jiNj\"]\n"
   ]
  },
  {
   "cell_type": "code",
   "execution_count": 120,
   "metadata": {
    "collapsed": true
   },
   "outputs": [
    {
     "data": {
      "text/html": [
       "<div>\n",
       "<style scoped>\n",
       "    .dataframe tbody tr th:only-of-type {\n",
       "        vertical-align: middle;\n",
       "    }\n",
       "\n",
       "    .dataframe tbody tr th {\n",
       "        vertical-align: top;\n",
       "    }\n",
       "\n",
       "    .dataframe thead th {\n",
       "        text-align: right;\n",
       "    }\n",
       "</style>\n",
       "<table border=\"1\" class=\"dataframe\">\n",
       "  <thead>\n",
       "    <tr style=\"text-align: right;\">\n",
       "      <th></th>\n",
       "      <th>organization</th>\n",
       "      <th>COMNAM</th>\n",
       "      <th>comlow4</th>\n",
       "      <th>orglow9</th>\n",
       "      <th>assignee_id</th>\n",
       "    </tr>\n",
       "  </thead>\n",
       "  <tbody>\n",
       "    <tr>\n",
       "      <td>13696</td>\n",
       "      <td>501 Aeroflex Laboratories, Incorporated</td>\n",
       "      <td>A R X INC</td>\n",
       "      <td>arx</td>\n",
       "      <td>501 aeroflex laboratories</td>\n",
       "      <td>org_iEg6HKZ5tpLonvMC7JOs</td>\n",
       "    </tr>\n",
       "    <tr>\n",
       "      <td>12547</td>\n",
       "      <td>ACRO Chemical Technology, L.P.</td>\n",
       "      <td>ATLANTIC RICHFIELD CO</td>\n",
       "      <td>arco</td>\n",
       "      <td>acro chemical technology</td>\n",
       "      <td>org_C42kCVDQIlryXIV3q4QK</td>\n",
       "    </tr>\n",
       "    <tr>\n",
       "      <td>3073</td>\n",
       "      <td>Aeroflex International Incorporated</td>\n",
       "      <td>A R X INC</td>\n",
       "      <td>arx</td>\n",
       "      <td>aeroflex</td>\n",
       "      <td>org_f24r0meHZd1jU5ct5xyi</td>\n",
       "    </tr>\n",
       "    <tr>\n",
       "      <td>2929</td>\n",
       "      <td>Aircraft Mechanics, Inc.</td>\n",
       "      <td>A M I INDUSTRIES INC CO</td>\n",
       "      <td>ami industries</td>\n",
       "      <td>aircraft mechanics</td>\n",
       "      <td>org_yUCp6mJNoZ74PUM3fb4D</td>\n",
       "    </tr>\n",
       "    <tr>\n",
       "      <td>11622</td>\n",
       "      <td>American Airlines</td>\n",
       "      <td>A M R CORP DEL</td>\n",
       "      <td>amr</td>\n",
       "      <td>american airlines</td>\n",
       "      <td>org_30xNJAOapGVsZ4TEMmTs</td>\n",
       "    </tr>\n",
       "    <tr>\n",
       "      <td>9185</td>\n",
       "      <td>American Airlines Incorporated</td>\n",
       "      <td>A M R CORP DEL</td>\n",
       "      <td>amr</td>\n",
       "      <td>american airlines</td>\n",
       "      <td>org_30xNJAOapGVsZ4TEMmTs</td>\n",
       "    </tr>\n",
       "    <tr>\n",
       "      <td>1351</td>\n",
       "      <td>American Airlines, Inc.</td>\n",
       "      <td>A M R CORP DEL</td>\n",
       "      <td>amr</td>\n",
       "      <td>american airlines</td>\n",
       "      <td>org_30xNJAOapGVsZ4TEMmTs</td>\n",
       "    </tr>\n",
       "    <tr>\n",
       "      <td>12747</td>\n",
       "      <td>American Airlines, Incorporated</td>\n",
       "      <td>A M R CORP DEL</td>\n",
       "      <td>amr</td>\n",
       "      <td>american airlines</td>\n",
       "      <td>org_30xNJAOapGVsZ4TEMmTs</td>\n",
       "    </tr>\n",
       "    <tr>\n",
       "      <td>3569</td>\n",
       "      <td>Atlanta Richfield Company</td>\n",
       "      <td>ATLANTIC RICHFIELD CO</td>\n",
       "      <td>arco</td>\n",
       "      <td>atlanta richfield</td>\n",
       "      <td>org_wRmTDOlFQn70Uye4jiNj</td>\n",
       "    </tr>\n",
       "    <tr>\n",
       "      <td>6915</td>\n",
       "      <td>Atlantic Refining Company</td>\n",
       "      <td>ATLANTIC RICHFIELD CO</td>\n",
       "      <td>arco</td>\n",
       "      <td>atlantic refining</td>\n",
       "      <td>org_RylM1LndC1cID4JOEAVz</td>\n",
       "    </tr>\n",
       "    <tr>\n",
       "      <td>5012</td>\n",
       "      <td>Bell Canada</td>\n",
       "      <td>B C E INC</td>\n",
       "      <td>bce</td>\n",
       "      <td>bell canada</td>\n",
       "      <td>org_KN2CJnWmwFR03f7bP7sG</td>\n",
       "    </tr>\n",
       "    <tr>\n",
       "      <td>7188</td>\n",
       "      <td>Buckbee Mears Company</td>\n",
       "      <td>B M C INDUSTRIES INC MN</td>\n",
       "      <td>bmc industries</td>\n",
       "      <td>buckbee mears</td>\n",
       "      <td>org_EdGbgcJzP7nxqtHUaF2A</td>\n",
       "    </tr>\n",
       "    <tr>\n",
       "      <td>6437</td>\n",
       "      <td>Buckbee-Mears Company</td>\n",
       "      <td>B M C INDUSTRIES INC MN</td>\n",
       "      <td>bmc industries</td>\n",
       "      <td>buckbee mears</td>\n",
       "      <td>org_EdGbgcJzP7nxqtHUaF2A</td>\n",
       "    </tr>\n",
       "    <tr>\n",
       "      <td>9282</td>\n",
       "      <td>Cadco Corporation</td>\n",
       "      <td>COORS ADOLPH CO</td>\n",
       "      <td>coors adolph</td>\n",
       "      <td>cadco</td>\n",
       "      <td>org_bTxilqmhAePivGFIUhMe</td>\n",
       "    </tr>\n",
       "    <tr>\n",
       "      <td>1876</td>\n",
       "      <td>Conoco, Inc.</td>\n",
       "      <td>CONTINENTAL OIL CO</td>\n",
       "      <td>continental oil</td>\n",
       "      <td>conoco</td>\n",
       "      <td>org_POZg7p5t5x2oNUfg7XTq</td>\n",
       "    </tr>\n",
       "    <tr>\n",
       "      <td>2085</td>\n",
       "      <td>Continental Oil Company</td>\n",
       "      <td>CONOCO INC</td>\n",
       "      <td>conoco</td>\n",
       "      <td>continental oil</td>\n",
       "      <td>org_s6TSBDplEhsM4aQ107RY</td>\n",
       "    </tr>\n",
       "    <tr>\n",
       "      <td>11469</td>\n",
       "      <td>Crysler Motors Corporation</td>\n",
       "      <td>CHRYSLER CORP</td>\n",
       "      <td>chrysler</td>\n",
       "      <td>crysler motors</td>\n",
       "      <td>org_IhLQ627JPYEscnR2boSe</td>\n",
       "    </tr>\n",
       "    <tr>\n",
       "      <td>4745</td>\n",
       "      <td>EA Industries, Incorporated</td>\n",
       "      <td>ELECTRONIC ASSOCIATES INC</td>\n",
       "      <td>electronic</td>\n",
       "      <td>ea industries</td>\n",
       "      <td>org_EdxdhKvziCA1yBvSY7WL</td>\n",
       "    </tr>\n",
       "    <tr>\n",
       "      <td>11870</td>\n",
       "      <td>ENSCO. Inc.</td>\n",
       "      <td>ENERGY SERVICE COMPANY INC</td>\n",
       "      <td>energy service</td>\n",
       "      <td>ensco</td>\n",
       "      <td>org_kg4uljftTmLNyTft3anR</td>\n",
       "    </tr>\n",
       "    <tr>\n",
       "      <td>12431</td>\n",
       "      <td>Ensco, Inc.</td>\n",
       "      <td>ENERGY SERVICE COMPANY INC</td>\n",
       "      <td>energy service</td>\n",
       "      <td>ensco</td>\n",
       "      <td>org_kg4uljftTmLNyTft3anR</td>\n",
       "    </tr>\n",
       "    <tr>\n",
       "      <td>12936</td>\n",
       "      <td>Ensco, Inc.</td>\n",
       "      <td>ENERGY SERVICE INC</td>\n",
       "      <td>energy service</td>\n",
       "      <td>ensco</td>\n",
       "      <td>org_kg4uljftTmLNyTft3anR</td>\n",
       "    </tr>\n",
       "    <tr>\n",
       "      <td>6619</td>\n",
       "      <td>General Telephone Co. of Florida</td>\n",
       "      <td>G T E CORP</td>\n",
       "      <td>gte</td>\n",
       "      <td>general telephone</td>\n",
       "      <td>org_jN0KDnUa0dfwJmnCOF7C</td>\n",
       "    </tr>\n",
       "    <tr>\n",
       "      <td>8302</td>\n",
       "      <td>General Telephone of Florida</td>\n",
       "      <td>G T E CORP</td>\n",
       "      <td>gte</td>\n",
       "      <td>general telephone of florida</td>\n",
       "      <td>org_jN0KDnUa0dfwJmnCOF7C</td>\n",
       "    </tr>\n",
       "    <tr>\n",
       "      <td>11190</td>\n",
       "      <td>Heico Inc.</td>\n",
       "      <td>HEINICKE INSTRUMENTS CO</td>\n",
       "      <td>heinicke instruments</td>\n",
       "      <td>heico</td>\n",
       "      <td>org_FKbAg8hjRGlUkxdyoizW</td>\n",
       "    </tr>\n",
       "    <tr>\n",
       "      <td>10284</td>\n",
       "      <td>Heico, Inc.</td>\n",
       "      <td>HEINICKE INSTRUMENTS CO</td>\n",
       "      <td>heinicke instruments</td>\n",
       "      <td>heico</td>\n",
       "      <td>org_FKbAg8hjRGlUkxdyoizW</td>\n",
       "    </tr>\n",
       "    <tr>\n",
       "      <td>8634</td>\n",
       "      <td>International Nickel Company</td>\n",
       "      <td>INCO LTD</td>\n",
       "      <td>inco</td>\n",
       "      <td>international nickel</td>\n",
       "      <td>org_3O12UKd8pdv6Gj2KNctq</td>\n",
       "    </tr>\n",
       "    <tr>\n",
       "      <td>13448</td>\n",
       "      <td>Michigan Consolidated Gas Company</td>\n",
       "      <td>M C N CORP</td>\n",
       "      <td>mcn</td>\n",
       "      <td>michigan consolidated gas</td>\n",
       "      <td>org_qygaoXUIWJHOJSkkQ8n0</td>\n",
       "    </tr>\n",
       "    <tr>\n",
       "      <td>2202</td>\n",
       "      <td>Microwave Associates, Inc.</td>\n",
       "      <td>M A COM INC</td>\n",
       "      <td>ma com</td>\n",
       "      <td>microwave</td>\n",
       "      <td>org_z74tQP4aOCgmLMfc3oxX</td>\n",
       "    </tr>\n",
       "    <tr>\n",
       "      <td>13831</td>\n",
       "      <td>STEC Inc.</td>\n",
       "      <td>SIMPLETECH INC</td>\n",
       "      <td>simpletech</td>\n",
       "      <td>stec</td>\n",
       "      <td>org_bbijTUFVLnek2QZPJGDW</td>\n",
       "    </tr>\n",
       "    <tr>\n",
       "      <td>6985</td>\n",
       "      <td>Sealed Power Technologies</td>\n",
       "      <td>S P X CORP</td>\n",
       "      <td>spx</td>\n",
       "      <td>sealed power technologies</td>\n",
       "      <td>org_4L6UhZ89PdZJQzDRrJ7C</td>\n",
       "    </tr>\n",
       "    <tr>\n",
       "      <td>11044</td>\n",
       "      <td>Sealed Power Technologies Limited Partnership</td>\n",
       "      <td>S P X CORP</td>\n",
       "      <td>spx</td>\n",
       "      <td>sealed power technologies</td>\n",
       "      <td>org_4L6UhZ89PdZJQzDRrJ7C</td>\n",
       "    </tr>\n",
       "    <tr>\n",
       "      <td>7932</td>\n",
       "      <td>Sealed Power Technologies, L.P.</td>\n",
       "      <td>S P X CORP</td>\n",
       "      <td>spx</td>\n",
       "      <td>sealed power technologies</td>\n",
       "      <td>org_4L6UhZ89PdZJQzDRrJ7C</td>\n",
       "    </tr>\n",
       "    <tr>\n",
       "      <td>4927</td>\n",
       "      <td>Stec, Inc.</td>\n",
       "      <td>SIMPLETECH INC</td>\n",
       "      <td>simpletech</td>\n",
       "      <td>stec</td>\n",
       "      <td>org_bbijTUFVLnek2QZPJGDW</td>\n",
       "    </tr>\n",
       "    <tr>\n",
       "      <td>507</td>\n",
       "      <td>The International Nickel Company, Inc.</td>\n",
       "      <td>INCO LTD</td>\n",
       "      <td>inco</td>\n",
       "      <td>international nickel</td>\n",
       "      <td>org_3O12UKd8pdv6Gj2KNctq</td>\n",
       "    </tr>\n",
       "    <tr>\n",
       "      <td>7303</td>\n",
       "      <td>The International Nickel Company, Inc.</td>\n",
       "      <td>INCO LTD</td>\n",
       "      <td>inco</td>\n",
       "      <td>international nickel</td>\n",
       "      <td>org_3O12UKd8pdv6Gj2KNctq</td>\n",
       "    </tr>\n",
       "    <tr>\n",
       "      <td>9154</td>\n",
       "      <td>Union Oil Comany of California</td>\n",
       "      <td>UNOCAL CORP</td>\n",
       "      <td>unocal</td>\n",
       "      <td>union oil comany of california</td>\n",
       "      <td>org_COgAe5MtbLYwQVAiE2w5</td>\n",
       "    </tr>\n",
       "    <tr>\n",
       "      <td>2130</td>\n",
       "      <td>Union Oil Company California</td>\n",
       "      <td>UNOCAL CORP</td>\n",
       "      <td>unocal</td>\n",
       "      <td>union oil company california</td>\n",
       "      <td>org_COgAe5MtbLYwQVAiE2w5</td>\n",
       "    </tr>\n",
       "    <tr>\n",
       "      <td>12090</td>\n",
       "      <td>Union Oil Company Of California</td>\n",
       "      <td>UNOCAL CORP</td>\n",
       "      <td>unocal</td>\n",
       "      <td>union oil company of california</td>\n",
       "      <td>org_COgAe5MtbLYwQVAiE2w5</td>\n",
       "    </tr>\n",
       "    <tr>\n",
       "      <td>9956</td>\n",
       "      <td>Union Oil Company Of California</td>\n",
       "      <td>UNOCAL CORP</td>\n",
       "      <td>unocal</td>\n",
       "      <td>union oil company of california</td>\n",
       "      <td>org_COgAe5MtbLYwQVAiE2w5</td>\n",
       "    </tr>\n",
       "    <tr>\n",
       "      <td>572</td>\n",
       "      <td>Union Oil Company of California</td>\n",
       "      <td>UNOCAL CORP</td>\n",
       "      <td>unocal</td>\n",
       "      <td>union oil company of california</td>\n",
       "      <td>org_COgAe5MtbLYwQVAiE2w5</td>\n",
       "    </tr>\n",
       "    <tr>\n",
       "      <td>2973</td>\n",
       "      <td>Union Oil Company of California</td>\n",
       "      <td>UNOCAL CORP</td>\n",
       "      <td>unocal</td>\n",
       "      <td>union oil company of california</td>\n",
       "      <td>org_COgAe5MtbLYwQVAiE2w5</td>\n",
       "    </tr>\n",
       "    <tr>\n",
       "      <td>1776</td>\n",
       "      <td>Union Oil Company of California,</td>\n",
       "      <td>UNOCAL CORP</td>\n",
       "      <td>unocal</td>\n",
       "      <td>union oil company of california</td>\n",
       "      <td>org_COgAe5MtbLYwQVAiE2w5</td>\n",
       "    </tr>\n",
       "    <tr>\n",
       "      <td>5508</td>\n",
       "      <td>Union Oil Company of Company</td>\n",
       "      <td>UNOCAL CORP</td>\n",
       "      <td>unocal</td>\n",
       "      <td>union oil company of</td>\n",
       "      <td>org_COgAe5MtbLYwQVAiE2w5</td>\n",
       "    </tr>\n",
       "    <tr>\n",
       "      <td>9167</td>\n",
       "      <td>Union Oil of California</td>\n",
       "      <td>UNOCAL CORP</td>\n",
       "      <td>unocal</td>\n",
       "      <td>union oil of california</td>\n",
       "      <td>org_COgAe5MtbLYwQVAiE2w5</td>\n",
       "    </tr>\n",
       "    <tr>\n",
       "      <td>8872</td>\n",
       "      <td>V. G. C. Corporation</td>\n",
       "      <td>VISUAL GRAPHICS CORP</td>\n",
       "      <td>visual graphics</td>\n",
       "      <td>vgc</td>\n",
       "      <td>org_8bP1LSh9B2wOBzOI2TOf</td>\n",
       "    </tr>\n",
       "    <tr>\n",
       "      <td>11231</td>\n",
       "      <td>Vanity Fair Mills, Inc.</td>\n",
       "      <td>V F CORP</td>\n",
       "      <td>vf</td>\n",
       "      <td>vanity fair mills</td>\n",
       "      <td>org_BG7GodmcBbZn2VslXtiw</td>\n",
       "    </tr>\n",
       "    <tr>\n",
       "      <td>7629</td>\n",
       "      <td>WM. Wrighley Jr. Company</td>\n",
       "      <td>WRIGLEY WILLIAM JR CO</td>\n",
       "      <td>wrigley william jr</td>\n",
       "      <td>wm wrighley jr</td>\n",
       "      <td>org_Nt76DNhMADlzb1vgbVeg</td>\n",
       "    </tr>\n",
       "    <tr>\n",
       "      <td>4622</td>\n",
       "      <td>Wm. Wrighley Jr. Company</td>\n",
       "      <td>WRIGLEY WILLIAM JR CO</td>\n",
       "      <td>wrigley william jr</td>\n",
       "      <td>wm wrighley jr</td>\n",
       "      <td>org_Nt76DNhMADlzb1vgbVeg</td>\n",
       "    </tr>\n",
       "    <tr>\n",
       "      <td>6884</td>\n",
       "      <td>Wm. Wrigly, Jr. Company</td>\n",
       "      <td>WRIGLEY WILLIAM JR CO</td>\n",
       "      <td>wrigley william jr</td>\n",
       "      <td>wm wrigly jr</td>\n",
       "      <td>org_Nt76DNhMADlzb1vgbVeg</td>\n",
       "    </tr>\n",
       "  </tbody>\n",
       "</table>\n",
       "</div>"
      ],
      "text/plain": [
       "                                        organization  \\\n",
       "13696        501 Aeroflex Laboratories, Incorporated   \n",
       "12547                 ACRO Chemical Technology, L.P.   \n",
       "3073             Aeroflex International Incorporated   \n",
       "2929                        Aircraft Mechanics, Inc.   \n",
       "11622                              American Airlines   \n",
       "9185                  American Airlines Incorporated   \n",
       "1351                         American Airlines, Inc.   \n",
       "12747                American Airlines, Incorporated   \n",
       "3569                       Atlanta Richfield Company   \n",
       "6915                       Atlantic Refining Company   \n",
       "5012                                    Bell Canada    \n",
       "7188                           Buckbee Mears Company   \n",
       "6437                           Buckbee-Mears Company   \n",
       "9282                               Cadco Corporation   \n",
       "1876                                    Conoco, Inc.   \n",
       "2085                         Continental Oil Company   \n",
       "11469                     Crysler Motors Corporation   \n",
       "4745                     EA Industries, Incorporated   \n",
       "11870                                    ENSCO. Inc.   \n",
       "12431                                    Ensco, Inc.   \n",
       "12936                                    Ensco, Inc.   \n",
       "6619                General Telephone Co. of Florida   \n",
       "8302                    General Telephone of Florida   \n",
       "11190                                     Heico Inc.   \n",
       "10284                                    Heico, Inc.   \n",
       "8634                    International Nickel Company   \n",
       "13448              Michigan Consolidated Gas Company   \n",
       "2202                      Microwave Associates, Inc.   \n",
       "13831                                      STEC Inc.   \n",
       "6985                       Sealed Power Technologies   \n",
       "11044  Sealed Power Technologies Limited Partnership   \n",
       "7932                 Sealed Power Technologies, L.P.   \n",
       "4927                                      Stec, Inc.   \n",
       "507           The International Nickel Company, Inc.   \n",
       "7303         The International Nickel Company, Inc.    \n",
       "9154                  Union Oil Comany of California   \n",
       "2130                    Union Oil Company California   \n",
       "12090                Union Oil Company Of California   \n",
       "9956                Union Oil Company Of California    \n",
       "572                  Union Oil Company of California   \n",
       "2973                Union Oil Company of California    \n",
       "1776                Union Oil Company of California,   \n",
       "5508                    Union Oil Company of Company   \n",
       "9167                         Union Oil of California   \n",
       "8872                            V. G. C. Corporation   \n",
       "11231                        Vanity Fair Mills, Inc.   \n",
       "7629                        WM. Wrighley Jr. Company   \n",
       "4622                        Wm. Wrighley Jr. Company   \n",
       "6884                         Wm. Wrigly, Jr. Company   \n",
       "\n",
       "                           COMNAM               comlow4  \\\n",
       "13696                   A R X INC                   arx   \n",
       "12547       ATLANTIC RICHFIELD CO                  arco   \n",
       "3073                    A R X INC                   arx   \n",
       "2929      A M I INDUSTRIES INC CO        ami industries   \n",
       "11622              A M R CORP DEL                   amr   \n",
       "9185               A M R CORP DEL                   amr   \n",
       "1351               A M R CORP DEL                   amr   \n",
       "12747              A M R CORP DEL                   amr   \n",
       "3569        ATLANTIC RICHFIELD CO                  arco   \n",
       "6915        ATLANTIC RICHFIELD CO                  arco   \n",
       "5012                    B C E INC                   bce   \n",
       "7188      B M C INDUSTRIES INC MN        bmc industries   \n",
       "6437      B M C INDUSTRIES INC MN        bmc industries   \n",
       "9282              COORS ADOLPH CO          coors adolph   \n",
       "1876           CONTINENTAL OIL CO       continental oil   \n",
       "2085                   CONOCO INC                conoco   \n",
       "11469               CHRYSLER CORP              chrysler   \n",
       "4745    ELECTRONIC ASSOCIATES INC            electronic   \n",
       "11870  ENERGY SERVICE COMPANY INC        energy service   \n",
       "12431  ENERGY SERVICE COMPANY INC        energy service   \n",
       "12936          ENERGY SERVICE INC        energy service   \n",
       "6619                   G T E CORP                   gte   \n",
       "8302                   G T E CORP                   gte   \n",
       "11190     HEINICKE INSTRUMENTS CO  heinicke instruments   \n",
       "10284     HEINICKE INSTRUMENTS CO  heinicke instruments   \n",
       "8634                     INCO LTD                  inco   \n",
       "13448                  M C N CORP                   mcn   \n",
       "2202                  M A COM INC                ma com   \n",
       "13831              SIMPLETECH INC            simpletech   \n",
       "6985                   S P X CORP                   spx   \n",
       "11044                  S P X CORP                   spx   \n",
       "7932                   S P X CORP                   spx   \n",
       "4927               SIMPLETECH INC            simpletech   \n",
       "507                      INCO LTD                  inco   \n",
       "7303                     INCO LTD                  inco   \n",
       "9154                  UNOCAL CORP                unocal   \n",
       "2130                  UNOCAL CORP                unocal   \n",
       "12090                 UNOCAL CORP                unocal   \n",
       "9956                  UNOCAL CORP                unocal   \n",
       "572                   UNOCAL CORP                unocal   \n",
       "2973                  UNOCAL CORP                unocal   \n",
       "1776                  UNOCAL CORP                unocal   \n",
       "5508                  UNOCAL CORP                unocal   \n",
       "9167                  UNOCAL CORP                unocal   \n",
       "8872         VISUAL GRAPHICS CORP       visual graphics   \n",
       "11231                    V F CORP                    vf   \n",
       "7629        WRIGLEY WILLIAM JR CO    wrigley william jr   \n",
       "4622        WRIGLEY WILLIAM JR CO    wrigley william jr   \n",
       "6884        WRIGLEY WILLIAM JR CO    wrigley william jr   \n",
       "\n",
       "                               orglow9               assignee_id  \n",
       "13696        501 aeroflex laboratories  org_iEg6HKZ5tpLonvMC7JOs  \n",
       "12547         acro chemical technology  org_C42kCVDQIlryXIV3q4QK  \n",
       "3073                          aeroflex  org_f24r0meHZd1jU5ct5xyi  \n",
       "2929                aircraft mechanics  org_yUCp6mJNoZ74PUM3fb4D  \n",
       "11622                american airlines  org_30xNJAOapGVsZ4TEMmTs  \n",
       "9185                 american airlines  org_30xNJAOapGVsZ4TEMmTs  \n",
       "1351                 american airlines  org_30xNJAOapGVsZ4TEMmTs  \n",
       "12747                american airlines  org_30xNJAOapGVsZ4TEMmTs  \n",
       "3569                 atlanta richfield  org_wRmTDOlFQn70Uye4jiNj  \n",
       "6915                 atlantic refining  org_RylM1LndC1cID4JOEAVz  \n",
       "5012                       bell canada  org_KN2CJnWmwFR03f7bP7sG  \n",
       "7188                     buckbee mears  org_EdGbgcJzP7nxqtHUaF2A  \n",
       "6437                     buckbee mears  org_EdGbgcJzP7nxqtHUaF2A  \n",
       "9282                             cadco  org_bTxilqmhAePivGFIUhMe  \n",
       "1876                            conoco  org_POZg7p5t5x2oNUfg7XTq  \n",
       "2085                   continental oil  org_s6TSBDplEhsM4aQ107RY  \n",
       "11469                   crysler motors  org_IhLQ627JPYEscnR2boSe  \n",
       "4745                     ea industries  org_EdxdhKvziCA1yBvSY7WL  \n",
       "11870                            ensco  org_kg4uljftTmLNyTft3anR  \n",
       "12431                            ensco  org_kg4uljftTmLNyTft3anR  \n",
       "12936                            ensco  org_kg4uljftTmLNyTft3anR  \n",
       "6619                 general telephone  org_jN0KDnUa0dfwJmnCOF7C  \n",
       "8302      general telephone of florida  org_jN0KDnUa0dfwJmnCOF7C  \n",
       "11190                            heico  org_FKbAg8hjRGlUkxdyoizW  \n",
       "10284                            heico  org_FKbAg8hjRGlUkxdyoizW  \n",
       "8634              international nickel  org_3O12UKd8pdv6Gj2KNctq  \n",
       "13448        michigan consolidated gas  org_qygaoXUIWJHOJSkkQ8n0  \n",
       "2202                         microwave  org_z74tQP4aOCgmLMfc3oxX  \n",
       "13831                             stec  org_bbijTUFVLnek2QZPJGDW  \n",
       "6985         sealed power technologies  org_4L6UhZ89PdZJQzDRrJ7C  \n",
       "11044        sealed power technologies  org_4L6UhZ89PdZJQzDRrJ7C  \n",
       "7932         sealed power technologies  org_4L6UhZ89PdZJQzDRrJ7C  \n",
       "4927                              stec  org_bbijTUFVLnek2QZPJGDW  \n",
       "507               international nickel  org_3O12UKd8pdv6Gj2KNctq  \n",
       "7303              international nickel  org_3O12UKd8pdv6Gj2KNctq  \n",
       "9154    union oil comany of california  org_COgAe5MtbLYwQVAiE2w5  \n",
       "2130      union oil company california  org_COgAe5MtbLYwQVAiE2w5  \n",
       "12090  union oil company of california  org_COgAe5MtbLYwQVAiE2w5  \n",
       "9956   union oil company of california  org_COgAe5MtbLYwQVAiE2w5  \n",
       "572    union oil company of california  org_COgAe5MtbLYwQVAiE2w5  \n",
       "2973   union oil company of california  org_COgAe5MtbLYwQVAiE2w5  \n",
       "1776   union oil company of california  org_COgAe5MtbLYwQVAiE2w5  \n",
       "5508              union oil company of  org_COgAe5MtbLYwQVAiE2w5  \n",
       "9167           union oil of california  org_COgAe5MtbLYwQVAiE2w5  \n",
       "8872                               vgc  org_8bP1LSh9B2wOBzOI2TOf  \n",
       "11231                vanity fair mills  org_BG7GodmcBbZn2VslXtiw  \n",
       "7629                    wm wrighley jr  org_Nt76DNhMADlzb1vgbVeg  \n",
       "4622                    wm wrighley jr  org_Nt76DNhMADlzb1vgbVeg  \n",
       "6884                      wm wrigly jr  org_Nt76DNhMADlzb1vgbVeg  "
      ]
     },
     "execution_count": 120,
     "metadata": {},
     "output_type": "execute_result"
    }
   ],
   "source": [
    "tt[tt['temp_match']==\"short form\"][['organization','COMNAM','comlow4','orglow9','assignee_id']].sort_values(['organization'])"
   ]
  },
  {
   "cell_type": "code",
   "execution_count": 121,
   "metadata": {},
   "outputs": [],
   "source": [
    "tt1.loc[tt1.temp_match.isin([\"shoud match\", \"TRUE\",\"should match on lang change\",\"short form\"]),\"nmatch\"] = True"
   ]
  },
  {
   "cell_type": "code",
   "execution_count": 122,
   "metadata": {},
   "outputs": [],
   "source": [
    "tt.loc[tt['nmatch']!=True,\"nmatch\"] = False"
   ]
  },
  {
   "cell_type": "code",
   "execution_count": 123,
   "metadata": {},
   "outputs": [
    {
     "data": {
      "text/plain": [
       "False    16192\n",
       "True     13720\n",
       "Name: nmatch, dtype: int64"
      ]
     },
     "execution_count": 123,
     "metadata": {},
     "output_type": "execute_result"
    }
   ],
   "source": [
    "tt.nmatch.value_counts()"
   ]
  },
  {
   "cell_type": "code",
   "execution_count": 124,
   "metadata": {},
   "outputs": [],
   "source": [
    "#temp2 = pd.read_csv(\"temptoday.csv\")"
   ]
  },
  {
   "cell_type": "code",
   "execution_count": 224,
   "metadata": {},
   "outputs": [],
   "source": [
    "fm = pd.merge(gt, tt1 ,left_on = ['PERMNO', 'COMNAM', 'organization', 'orglow9', 'comlow4'], \n",
    "              right_on = ['PERMNO', 'COMNAM', 'organization', 'orglow9', 'comlow4'], \n",
    "              \n",
    "              how = \"left\")"
   ]
  },
  {
   "cell_type": "code",
   "execution_count": 225,
   "metadata": {},
   "outputs": [
    {
     "data": {
      "text/plain": [
       "Index(['COMNAM', 'PERMCO', 'PERMNO', 'assignee_id', 'clean_dm', 'cleandm_ns',\n",
       "       'com_short', 'comlow4', 'comlow4_ns', 'comlow_dm', 'comlow_dmns',\n",
       "       'comlow_new', 'comlow_short', 'dm', 'dm_ns', 'fuzz_fpr', 'fuzz_ratio',\n",
       "       'fuzz_token', 'match', 'new_fpr', 'new_fr', 'new_ft', 'nmatch',\n",
       "       'org_short', 'organization', 'orglow9', 'orglow9_ns', 'orglow_dm',\n",
       "       'orglow_dmns', 'orglow_new', 'orglow_short', 'patent_id', 'sequence',\n",
       "       'temp_match', 'type'],\n",
       "      dtype='object')"
      ]
     },
     "execution_count": 225,
     "metadata": {},
     "output_type": "execute_result"
    }
   ],
   "source": [
    "fm.columns.sort_values()"
   ]
  },
  {
   "cell_type": "code",
   "execution_count": 226,
   "metadata": {},
   "outputs": [],
   "source": [
    "fm.loc[(fm['cleandm_ns']==True) |(fm['nmatch'] ==True),\"finalmatch\"] = True"
   ]
  },
  {
   "cell_type": "code",
   "execution_count": 128,
   "metadata": {},
   "outputs": [],
   "source": [
    "####fm.to_csv(\"fm.csv\", index = False)"
   ]
  },
  {
   "cell_type": "code",
   "execution_count": 227,
   "metadata": {},
   "outputs": [
    {
     "data": {
      "text/plain": [
       "True    1770192\n",
       "Name: finalmatch, dtype: int64"
      ]
     },
     "execution_count": 227,
     "metadata": {},
     "output_type": "execute_result"
    }
   ],
   "source": [
    "fm.finalmatch.value_counts()"
   ]
  },
  {
   "cell_type": "code",
   "execution_count": 228,
   "metadata": {},
   "outputs": [],
   "source": [
    "matched = list(fm[(fm['cleandm_ns']==True) |(fm['nmatch'] ==True)]['PERMNO'].unique()) #6728"
   ]
  },
  {
   "cell_type": "code",
   "execution_count": 229,
   "metadata": {},
   "outputs": [
    {
     "data": {
      "text/plain": [
       "6728"
      ]
     },
     "execution_count": 229,
     "metadata": {},
     "output_type": "execute_result"
    }
   ],
   "source": [
    "len(matched) #6728"
   ]
  },
  {
   "cell_type": "code",
   "execution_count": 230,
   "metadata": {},
   "outputs": [],
   "source": [
    "initial = list(gt['PERMNO'].unique())"
   ]
  },
  {
   "cell_type": "code",
   "execution_count": 231,
   "metadata": {},
   "outputs": [],
   "source": [
    "diff = list(set(initial)-set(matched))"
   ]
  },
  {
   "cell_type": "code",
   "execution_count": 232,
   "metadata": {},
   "outputs": [],
   "source": [
    "diff.sort()"
   ]
  },
  {
   "cell_type": "code",
   "execution_count": 233,
   "metadata": {},
   "outputs": [
    {
     "data": {
      "text/plain": [
       "[10092.0,\n",
       " 10108.0,\n",
       " 10506.0,\n",
       " 10522.0,\n",
       " 10779.0,\n",
       " 11156.0,\n",
       " 11198.0,\n",
       " 11216.0,\n",
       " 11553.0,\n",
       " 11781.0,\n",
       " 11891.0,\n",
       " 11950.0,\n",
       " 12131.0,\n",
       " 12749.0,\n",
       " 12926.0,\n",
       " 14824.0,\n",
       " 14859.0,\n",
       " 16548.0,\n",
       " 17161.0,\n",
       " 17778.0,\n",
       " 17814.0,\n",
       " 18817.0,\n",
       " 20183.0,\n",
       " 20205.0,\n",
       " 20917.0,\n",
       " 21566.0,\n",
       " 22461.0,\n",
       " 22605.0,\n",
       " 23246.0,\n",
       " 23501.0,\n",
       " 25056.0,\n",
       " 26382.0,\n",
       " 26593.0,\n",
       " 27027.0,\n",
       " 27924.0,\n",
       " 28118.0,\n",
       " 28804.0,\n",
       " 29496.0,\n",
       " 30680.0,\n",
       " 31042.0,\n",
       " 31456.0,\n",
       " 31472.0,\n",
       " 31595.0,\n",
       " 32628.0,\n",
       " 32716.0,\n",
       " 33145.0,\n",
       " 34067.0,\n",
       " 36003.0,\n",
       " 36687.0,\n",
       " 36927.0,\n",
       " 37698.0,\n",
       " 37815.0,\n",
       " 39669.0,\n",
       " 40272.0,\n",
       " 40708.0,\n",
       " 41188.0,\n",
       " 42067.0,\n",
       " 42075.0,\n",
       " 42569.0,\n",
       " 42972.0,\n",
       " 43107.0,\n",
       " 43211.0,\n",
       " 43617.0,\n",
       " 43887.0,\n",
       " 43967.0,\n",
       " 44265.0,\n",
       " 45014.0,\n",
       " 45103.0,\n",
       " 45524.0,\n",
       " 45751.0,\n",
       " 46199.0,\n",
       " 46499.0,\n",
       " 47204.0,\n",
       " 47395.0,\n",
       " 48397.0,\n",
       " 48506.0,\n",
       " 48565.0,\n",
       " 49787.0,\n",
       " 50980.0,\n",
       " 51254.0,\n",
       " 51721.0,\n",
       " 51829.0,\n",
       " 51933.0,\n",
       " 52492.0,\n",
       " 53620.0,\n",
       " 54332.0,\n",
       " 54340.0,\n",
       " 54528.0,\n",
       " 55546.0,\n",
       " 55626.0,\n",
       " 55853.0,\n",
       " 57286.0,\n",
       " 57402.0,\n",
       " 59010.0,\n",
       " 59379.0,\n",
       " 59504.0,\n",
       " 60354.0,\n",
       " 60417.0,\n",
       " 60660.0,\n",
       " 61292.0,\n",
       " 61560.0,\n",
       " 61882.0,\n",
       " 62367.0,\n",
       " 63159.0,\n",
       " 63483.0,\n",
       " 65315.0,\n",
       " 66086.0,\n",
       " 66288.0,\n",
       " 68080.0,\n",
       " 69287.0,\n",
       " 70172.0,\n",
       " 71722.0,\n",
       " 74908.0,\n",
       " 75926.0,\n",
       " 76159.0,\n",
       " 76209.0,\n",
       " 76226.0,\n",
       " 76229.0,\n",
       " 76251.0,\n",
       " 76314.0,\n",
       " 76385.0,\n",
       " 76428.0,\n",
       " 76471.0,\n",
       " 76548.0,\n",
       " 76672.0,\n",
       " 76807.0,\n",
       " 77030.0,\n",
       " 77063.0,\n",
       " 77203.0,\n",
       " 77249.0,\n",
       " 77340.0,\n",
       " 77368.0,\n",
       " 77369.0,\n",
       " 77579.0,\n",
       " 77733.0,\n",
       " 78038.0,\n",
       " 78298.0,\n",
       " 78361.0,\n",
       " 78418.0,\n",
       " 78749.0,\n",
       " 78758.0,\n",
       " 78988.0,\n",
       " 79032.0,\n",
       " 79101.0,\n",
       " 79271.0,\n",
       " 79352.0,\n",
       " 79540.0,\n",
       " 80023.0,\n",
       " 80037.0,\n",
       " 80433.0,\n",
       " 80652.0,\n",
       " 80801.0,\n",
       " 81008.0,\n",
       " 82681.0,\n",
       " 82704.0,\n",
       " 82734.0,\n",
       " 82744.0,\n",
       " 82811.0,\n",
       " 82816.0,\n",
       " 83359.0,\n",
       " 83443.0,\n",
       " 83730.0,\n",
       " 83959.0,\n",
       " 84117.0,\n",
       " 84145.0,\n",
       " 84157.0,\n",
       " 84324.0,\n",
       " 84325.0,\n",
       " 84342.0,\n",
       " 84631.0,\n",
       " 85435.0,\n",
       " 85446.0,\n",
       " 85548.0,\n",
       " 85711.0,\n",
       " 85773.0,\n",
       " 86396.0,\n",
       " 86425.0,\n",
       " 86721.0,\n",
       " 87131.0,\n",
       " 87178.0,\n",
       " 87295.0,\n",
       " 87408.0,\n",
       " 88249.0,\n",
       " 88536.0,\n",
       " 88570.0,\n",
       " 88585.0,\n",
       " 88992.0,\n",
       " 89108.0,\n",
       " 89441.0,\n",
       " 89611.0,\n",
       " 89847.0,\n",
       " 89961.0,\n",
       " 90346.0,\n",
       " 90873.0,\n",
       " 92861.0]"
      ]
     },
     "execution_count": 233,
     "metadata": {},
     "output_type": "execute_result"
    }
   ],
   "source": [
    "diff"
   ]
  },
  {
   "cell_type": "code",
   "execution_count": 234,
   "metadata": {},
   "outputs": [
    {
     "data": {
      "text/plain": [
       "True     734857\n",
       "False    184805\n",
       "Name: nmatch, dtype: int64"
      ]
     },
     "execution_count": 234,
     "metadata": {},
     "output_type": "execute_result"
    }
   ],
   "source": [
    "fm.nmatch.value_counts()"
   ]
  },
  {
   "cell_type": "code",
   "execution_count": 235,
   "metadata": {},
   "outputs": [
    {
     "data": {
      "text/plain": [
       "1903"
      ]
     },
     "execution_count": 235,
     "metadata": {},
     "output_type": "execute_result"
    }
   ],
   "source": [
    "fm[fm['nmatch'] == False]['PERMNO'].nunique() ##6728; 195"
   ]
  },
  {
   "cell_type": "code",
   "execution_count": 236,
   "metadata": {},
   "outputs": [],
   "source": [
    "final_gt = fm[(fm['nmatch'] ==True)|(fm['cleandm_ns']==True)]"
   ]
  },
  {
   "cell_type": "code",
   "execution_count": 237,
   "metadata": {},
   "outputs": [
    {
     "data": {
      "text/plain": [
       "Index(['patent_id', 'organization', 'orglow9', 'PERMNO', 'PERMCO', 'COMNAM',\n",
       "       'comlow4', 'assignee_id', 'type', 'sequence', 'orglow_dm', 'comlow_dm',\n",
       "       'dm', 'orglow_dmns', 'comlow_dmns', 'dm_ns', 'clean_dm', 'orglow9_ns',\n",
       "       'comlow4_ns', 'cleandm_ns', 'temp_match', 'fuzz_ratio', 'fuzz_token',\n",
       "       'fuzz_fpr', 'comlow_new', 'orglow_new', 'orglow_short', 'comlow_short',\n",
       "       'org_short', 'com_short', 'new_fr', 'new_ft', 'new_fpr', 'match',\n",
       "       'nmatch', 'finalmatch'],\n",
       "      dtype='object')"
      ]
     },
     "execution_count": 237,
     "metadata": {},
     "output_type": "execute_result"
    }
   ],
   "source": [
    "final_gt.columns"
   ]
  },
  {
   "cell_type": "code",
   "execution_count": 141,
   "metadata": {},
   "outputs": [],
   "source": [
    "final_gt.rename(columns = {\"PERMCO_x\":\"PERMCO\",\"assignee_id_x\":\"assignee_id\" }, inplace = True)"
   ]
  },
  {
   "cell_type": "code",
   "execution_count": 142,
   "metadata": {},
   "outputs": [],
   "source": [
    "del final_gt['PERMCO_y'], final_gt['assignee_id_y']"
   ]
  },
  {
   "cell_type": "code",
   "execution_count": 144,
   "metadata": {},
   "outputs": [
    {
     "data": {
      "text/plain": [
       "True    1770196\n",
       "Name: finalmatch, dtype: int64"
      ]
     },
     "execution_count": 144,
     "metadata": {},
     "output_type": "execute_result"
    }
   ],
   "source": [
    "final_gt.finalmatch.value_counts()"
   ]
  },
  {
   "cell_type": "code",
   "execution_count": 145,
   "metadata": {},
   "outputs": [
    {
     "data": {
      "text/plain": [
       "1770196"
      ]
     },
     "execution_count": 145,
     "metadata": {},
     "output_type": "execute_result"
    }
   ],
   "source": [
    "len(final_gt)"
   ]
  },
  {
   "cell_type": "code",
   "execution_count": 146,
   "metadata": {
    "scrolled": true
   },
   "outputs": [
    {
     "data": {
      "text/html": [
       "<div>\n",
       "<style scoped>\n",
       "    .dataframe tbody tr th:only-of-type {\n",
       "        vertical-align: middle;\n",
       "    }\n",
       "\n",
       "    .dataframe tbody tr th {\n",
       "        vertical-align: top;\n",
       "    }\n",
       "\n",
       "    .dataframe thead th {\n",
       "        text-align: right;\n",
       "    }\n",
       "</style>\n",
       "<table border=\"1\" class=\"dataframe\">\n",
       "  <thead>\n",
       "    <tr style=\"text-align: right;\">\n",
       "      <th></th>\n",
       "      <th>patent_id</th>\n",
       "      <th>organization</th>\n",
       "      <th>orglow9</th>\n",
       "      <th>PERMNO</th>\n",
       "      <th>PERMCO</th>\n",
       "      <th>COMNAM</th>\n",
       "      <th>comlow4</th>\n",
       "      <th>assignee_id</th>\n",
       "      <th>type</th>\n",
       "      <th>sequence</th>\n",
       "      <th>...</th>\n",
       "      <th>cfuzz_short</th>\n",
       "      <th>match</th>\n",
       "      <th>oshrtlow_len</th>\n",
       "      <th>cshrtlow_len</th>\n",
       "      <th>oshrt_len</th>\n",
       "      <th>cshrt_len</th>\n",
       "      <th>org_len</th>\n",
       "      <th>com_len</th>\n",
       "      <th>nmatch</th>\n",
       "      <th>finalmatch</th>\n",
       "    </tr>\n",
       "  </thead>\n",
       "  <tbody>\n",
       "    <tr>\n",
       "      <td>0</td>\n",
       "      <td>5204210</td>\n",
       "      <td>Xerox Corporation</td>\n",
       "      <td>xerox</td>\n",
       "      <td>27983.0</td>\n",
       "      <td>21945.0</td>\n",
       "      <td>XEROX CORP</td>\n",
       "      <td>xerox</td>\n",
       "      <td>org_UrbE3xev7LUsnuvRjbep</td>\n",
       "      <td>2.0</td>\n",
       "      <td>0.0</td>\n",
       "      <td>...</td>\n",
       "      <td>NaN</td>\n",
       "      <td>NaN</td>\n",
       "      <td>NaN</td>\n",
       "      <td>NaN</td>\n",
       "      <td>NaN</td>\n",
       "      <td>NaN</td>\n",
       "      <td>NaN</td>\n",
       "      <td>NaN</td>\n",
       "      <td>NaN</td>\n",
       "      <td>True</td>\n",
       "    </tr>\n",
       "    <tr>\n",
       "      <td>1</td>\n",
       "      <td>6584517</td>\n",
       "      <td>Cypress Semiconductor Corp.</td>\n",
       "      <td>cypress semiconductor</td>\n",
       "      <td>10302.0</td>\n",
       "      <td>8222.0</td>\n",
       "      <td>CYPRESS SEMICONDUCTOR CORP</td>\n",
       "      <td>cypress semiconductor</td>\n",
       "      <td>org_sj7olrHxASyJDNVGczBe</td>\n",
       "      <td>2.0</td>\n",
       "      <td>0.0</td>\n",
       "      <td>...</td>\n",
       "      <td>NaN</td>\n",
       "      <td>NaN</td>\n",
       "      <td>NaN</td>\n",
       "      <td>NaN</td>\n",
       "      <td>NaN</td>\n",
       "      <td>NaN</td>\n",
       "      <td>NaN</td>\n",
       "      <td>NaN</td>\n",
       "      <td>NaN</td>\n",
       "      <td>True</td>\n",
       "    </tr>\n",
       "    <tr>\n",
       "      <td>2</td>\n",
       "      <td>6970439</td>\n",
       "      <td>Motorola, Inc.</td>\n",
       "      <td>motorola</td>\n",
       "      <td>22779.0</td>\n",
       "      <td>21230.0</td>\n",
       "      <td>MOTOROLA INC</td>\n",
       "      <td>motorola</td>\n",
       "      <td>org_E6m1uPIsSbg4FlEl54lY</td>\n",
       "      <td>2.0</td>\n",
       "      <td>0.0</td>\n",
       "      <td>...</td>\n",
       "      <td>NaN</td>\n",
       "      <td>NaN</td>\n",
       "      <td>NaN</td>\n",
       "      <td>NaN</td>\n",
       "      <td>NaN</td>\n",
       "      <td>NaN</td>\n",
       "      <td>NaN</td>\n",
       "      <td>NaN</td>\n",
       "      <td>NaN</td>\n",
       "      <td>True</td>\n",
       "    </tr>\n",
       "    <tr>\n",
       "      <td>4</td>\n",
       "      <td>6940219</td>\n",
       "      <td>Sony Electronics Inc.</td>\n",
       "      <td>sony electronics</td>\n",
       "      <td>51131.0</td>\n",
       "      <td>21633.0</td>\n",
       "      <td>SONY CORP</td>\n",
       "      <td>sony</td>\n",
       "      <td>org_bjjMpz8jmP43oeCb4YxD</td>\n",
       "      <td>2.0</td>\n",
       "      <td>1.0</td>\n",
       "      <td>...</td>\n",
       "      <td>18.0</td>\n",
       "      <td>True</td>\n",
       "      <td>2.0</td>\n",
       "      <td>1.0</td>\n",
       "      <td>3.0</td>\n",
       "      <td>2.0</td>\n",
       "      <td>16.0</td>\n",
       "      <td>4.0</td>\n",
       "      <td>True</td>\n",
       "      <td>True</td>\n",
       "    </tr>\n",
       "    <tr>\n",
       "      <td>5</td>\n",
       "      <td>6940219</td>\n",
       "      <td>Sony Corporation</td>\n",
       "      <td>sony</td>\n",
       "      <td>51131.0</td>\n",
       "      <td>21633.0</td>\n",
       "      <td>SONY CORP</td>\n",
       "      <td>sony</td>\n",
       "      <td>org_sCgv9ie5243t4B3daUSo</td>\n",
       "      <td>3.0</td>\n",
       "      <td>0.0</td>\n",
       "      <td>...</td>\n",
       "      <td>NaN</td>\n",
       "      <td>NaN</td>\n",
       "      <td>NaN</td>\n",
       "      <td>NaN</td>\n",
       "      <td>NaN</td>\n",
       "      <td>NaN</td>\n",
       "      <td>NaN</td>\n",
       "      <td>NaN</td>\n",
       "      <td>NaN</td>\n",
       "      <td>True</td>\n",
       "    </tr>\n",
       "    <tr>\n",
       "      <td>...</td>\n",
       "      <td>...</td>\n",
       "      <td>...</td>\n",
       "      <td>...</td>\n",
       "      <td>...</td>\n",
       "      <td>...</td>\n",
       "      <td>...</td>\n",
       "      <td>...</td>\n",
       "      <td>...</td>\n",
       "      <td>...</td>\n",
       "      <td>...</td>\n",
       "      <td>...</td>\n",
       "      <td>...</td>\n",
       "      <td>...</td>\n",
       "      <td>...</td>\n",
       "      <td>...</td>\n",
       "      <td>...</td>\n",
       "      <td>...</td>\n",
       "      <td>...</td>\n",
       "      <td>...</td>\n",
       "      <td>...</td>\n",
       "      <td>...</td>\n",
       "    </tr>\n",
       "    <tr>\n",
       "      <td>1954996</td>\n",
       "      <td>5513247</td>\n",
       "      <td>AT&amp;T Corp.</td>\n",
       "      <td>att</td>\n",
       "      <td>10401.0</td>\n",
       "      <td>20103.0</td>\n",
       "      <td>A T &amp; T CORP</td>\n",
       "      <td>att</td>\n",
       "      <td>org_tBdNUkbblSIviAl1Vcj9</td>\n",
       "      <td>2.0</td>\n",
       "      <td>0.0</td>\n",
       "      <td>...</td>\n",
       "      <td>NaN</td>\n",
       "      <td>NaN</td>\n",
       "      <td>NaN</td>\n",
       "      <td>NaN</td>\n",
       "      <td>NaN</td>\n",
       "      <td>NaN</td>\n",
       "      <td>NaN</td>\n",
       "      <td>NaN</td>\n",
       "      <td>NaN</td>\n",
       "      <td>True</td>\n",
       "    </tr>\n",
       "    <tr>\n",
       "      <td>1954997</td>\n",
       "      <td>4388644</td>\n",
       "      <td>E-Systems, Inc.</td>\n",
       "      <td>e systems</td>\n",
       "      <td>43342.0</td>\n",
       "      <td>20620.0</td>\n",
       "      <td>E SYSTEMS INC</td>\n",
       "      <td>e systems</td>\n",
       "      <td>org_dc4S7Fb8htIdAGbbNs2h</td>\n",
       "      <td>2.0</td>\n",
       "      <td>0.0</td>\n",
       "      <td>...</td>\n",
       "      <td>NaN</td>\n",
       "      <td>NaN</td>\n",
       "      <td>NaN</td>\n",
       "      <td>NaN</td>\n",
       "      <td>NaN</td>\n",
       "      <td>NaN</td>\n",
       "      <td>NaN</td>\n",
       "      <td>NaN</td>\n",
       "      <td>NaN</td>\n",
       "      <td>True</td>\n",
       "    </tr>\n",
       "    <tr>\n",
       "      <td>1954998</td>\n",
       "      <td>6372818</td>\n",
       "      <td>Canon Kabushiki Kaisha</td>\n",
       "      <td>canon</td>\n",
       "      <td>21152.0</td>\n",
       "      <td>748.0</td>\n",
       "      <td>CANON INC</td>\n",
       "      <td>canon</td>\n",
       "      <td>org_7fE5f5nnY6dbOc3vSaXb</td>\n",
       "      <td>3.0</td>\n",
       "      <td>0.0</td>\n",
       "      <td>...</td>\n",
       "      <td>NaN</td>\n",
       "      <td>NaN</td>\n",
       "      <td>NaN</td>\n",
       "      <td>NaN</td>\n",
       "      <td>NaN</td>\n",
       "      <td>NaN</td>\n",
       "      <td>NaN</td>\n",
       "      <td>NaN</td>\n",
       "      <td>NaN</td>\n",
       "      <td>True</td>\n",
       "    </tr>\n",
       "    <tr>\n",
       "      <td>1954999</td>\n",
       "      <td>5519728</td>\n",
       "      <td>National Semiconductor Corporation</td>\n",
       "      <td>national semiconductor</td>\n",
       "      <td>51377.0</td>\n",
       "      <td>21261.0</td>\n",
       "      <td>NATIONAL SEMICONDUCTOR CORP</td>\n",
       "      <td>national semiconductor</td>\n",
       "      <td>org_S3xLWAv5Md0Losa4TOqB</td>\n",
       "      <td>2.0</td>\n",
       "      <td>0.0</td>\n",
       "      <td>...</td>\n",
       "      <td>NaN</td>\n",
       "      <td>NaN</td>\n",
       "      <td>NaN</td>\n",
       "      <td>NaN</td>\n",
       "      <td>NaN</td>\n",
       "      <td>NaN</td>\n",
       "      <td>NaN</td>\n",
       "      <td>NaN</td>\n",
       "      <td>NaN</td>\n",
       "      <td>True</td>\n",
       "    </tr>\n",
       "    <tr>\n",
       "      <td>1955000</td>\n",
       "      <td>5970411</td>\n",
       "      <td>Nortel Networks Corporation</td>\n",
       "      <td>northern telecommunication</td>\n",
       "      <td>58640.0</td>\n",
       "      <td>21301.0</td>\n",
       "      <td>NORTHERN TELECOM LTD</td>\n",
       "      <td>northern telecommunications</td>\n",
       "      <td>org_rjTdv98kllFyITzDnJQj</td>\n",
       "      <td>2.0</td>\n",
       "      <td>0.0</td>\n",
       "      <td>...</td>\n",
       "      <td>20.0</td>\n",
       "      <td>True</td>\n",
       "      <td>2.0</td>\n",
       "      <td>2.0</td>\n",
       "      <td>3.0</td>\n",
       "      <td>3.0</td>\n",
       "      <td>26.0</td>\n",
       "      <td>27.0</td>\n",
       "      <td>True</td>\n",
       "      <td>True</td>\n",
       "    </tr>\n",
       "  </tbody>\n",
       "</table>\n",
       "<p>1770196 rows × 52 columns</p>\n",
       "</div>"
      ],
      "text/plain": [
       "        patent_id                        organization  \\\n",
       "0         5204210                   Xerox Corporation   \n",
       "1         6584517         Cypress Semiconductor Corp.   \n",
       "2         6970439                      Motorola, Inc.   \n",
       "4         6940219               Sony Electronics Inc.   \n",
       "5         6940219                    Sony Corporation   \n",
       "...           ...                                 ...   \n",
       "1954996   5513247                          AT&T Corp.   \n",
       "1954997   4388644                     E-Systems, Inc.   \n",
       "1954998   6372818              Canon Kabushiki Kaisha   \n",
       "1954999   5519728  National Semiconductor Corporation   \n",
       "1955000   5970411         Nortel Networks Corporation   \n",
       "\n",
       "                            orglow9   PERMNO   PERMCO  \\\n",
       "0                             xerox  27983.0  21945.0   \n",
       "1             cypress semiconductor  10302.0   8222.0   \n",
       "2                          motorola  22779.0  21230.0   \n",
       "4                  sony electronics  51131.0  21633.0   \n",
       "5                              sony  51131.0  21633.0   \n",
       "...                             ...      ...      ...   \n",
       "1954996                         att  10401.0  20103.0   \n",
       "1954997                   e systems  43342.0  20620.0   \n",
       "1954998                       canon  21152.0    748.0   \n",
       "1954999      national semiconductor  51377.0  21261.0   \n",
       "1955000  northern telecommunication  58640.0  21301.0   \n",
       "\n",
       "                              COMNAM                      comlow4  \\\n",
       "0                         XEROX CORP                        xerox   \n",
       "1         CYPRESS SEMICONDUCTOR CORP        cypress semiconductor   \n",
       "2                       MOTOROLA INC                     motorola   \n",
       "4                          SONY CORP                         sony   \n",
       "5                          SONY CORP                         sony   \n",
       "...                              ...                          ...   \n",
       "1954996                 A T & T CORP                          att   \n",
       "1954997                E SYSTEMS INC                    e systems   \n",
       "1954998                    CANON INC                        canon   \n",
       "1954999  NATIONAL SEMICONDUCTOR CORP       national semiconductor   \n",
       "1955000         NORTHERN TELECOM LTD  northern telecommunications   \n",
       "\n",
       "                      assignee_id  type  sequence  ... cfuzz_short match  \\\n",
       "0        org_UrbE3xev7LUsnuvRjbep   2.0       0.0  ...         NaN   NaN   \n",
       "1        org_sj7olrHxASyJDNVGczBe   2.0       0.0  ...         NaN   NaN   \n",
       "2        org_E6m1uPIsSbg4FlEl54lY   2.0       0.0  ...         NaN   NaN   \n",
       "4        org_bjjMpz8jmP43oeCb4YxD   2.0       1.0  ...        18.0  True   \n",
       "5        org_sCgv9ie5243t4B3daUSo   3.0       0.0  ...         NaN   NaN   \n",
       "...                           ...   ...       ...  ...         ...   ...   \n",
       "1954996  org_tBdNUkbblSIviAl1Vcj9   2.0       0.0  ...         NaN   NaN   \n",
       "1954997  org_dc4S7Fb8htIdAGbbNs2h   2.0       0.0  ...         NaN   NaN   \n",
       "1954998  org_7fE5f5nnY6dbOc3vSaXb   3.0       0.0  ...         NaN   NaN   \n",
       "1954999  org_S3xLWAv5Md0Losa4TOqB   2.0       0.0  ...         NaN   NaN   \n",
       "1955000  org_rjTdv98kllFyITzDnJQj   2.0       0.0  ...        20.0  True   \n",
       "\n",
       "         oshrtlow_len cshrtlow_len oshrt_len  cshrt_len  org_len com_len  \\\n",
       "0                 NaN          NaN       NaN        NaN      NaN     NaN   \n",
       "1                 NaN          NaN       NaN        NaN      NaN     NaN   \n",
       "2                 NaN          NaN       NaN        NaN      NaN     NaN   \n",
       "4                 2.0          1.0       3.0        2.0     16.0     4.0   \n",
       "5                 NaN          NaN       NaN        NaN      NaN     NaN   \n",
       "...               ...          ...       ...        ...      ...     ...   \n",
       "1954996           NaN          NaN       NaN        NaN      NaN     NaN   \n",
       "1954997           NaN          NaN       NaN        NaN      NaN     NaN   \n",
       "1954998           NaN          NaN       NaN        NaN      NaN     NaN   \n",
       "1954999           NaN          NaN       NaN        NaN      NaN     NaN   \n",
       "1955000           2.0          2.0       3.0        3.0     26.0    27.0   \n",
       "\n",
       "        nmatch  finalmatch  \n",
       "0          NaN        True  \n",
       "1          NaN        True  \n",
       "2          NaN        True  \n",
       "4         True        True  \n",
       "5          NaN        True  \n",
       "...        ...         ...  \n",
       "1954996    NaN        True  \n",
       "1954997    NaN        True  \n",
       "1954998    NaN        True  \n",
       "1954999    NaN        True  \n",
       "1955000   True        True  \n",
       "\n",
       "[1770196 rows x 52 columns]"
      ]
     },
     "execution_count": 146,
     "metadata": {},
     "output_type": "execute_result"
    }
   ],
   "source": [
    "final_gt[(final_gt['nmatch']==True) | (final_gt['cleandm_ns']==True)]"
   ]
  },
  {
   "cell_type": "code",
   "execution_count": 147,
   "metadata": {},
   "outputs": [],
   "source": [
    "final_gt = final_gt.drop_duplicates(keep = 'first')"
   ]
  },
  {
   "cell_type": "code",
   "execution_count": 148,
   "metadata": {},
   "outputs": [
    {
     "data": {
      "text/plain": [
       "1288302"
      ]
     },
     "execution_count": 148,
     "metadata": {},
     "output_type": "execute_result"
    }
   ],
   "source": [
    "len(final_gt)"
   ]
  },
  {
   "cell_type": "code",
   "execution_count": 149,
   "metadata": {
    "collapsed": true
   },
   "outputs": [
    {
     "data": {
      "text/plain": [
       "patent_id         1278759\n",
       "organization        30328\n",
       "orglow9             13774\n",
       "PERMNO               6728\n",
       "PERMCO               6610\n",
       "COMNAM               7371\n",
       "comlow4              7130\n",
       "assignee_id         13490\n",
       "type                    2\n",
       "sequence               11\n",
       "orglow_dm           27810\n",
       "comlow_dm            7371\n",
       "dm                      2\n",
       "orglow_dmns         23647\n",
       "comlow_dmns          7367\n",
       "dm_ns                   2\n",
       "clean_dm                2\n",
       "orglow9_ns          13481\n",
       "comlow4_ns           7122\n",
       "cleandm_ns              2\n",
       "temp_match              4\n",
       "fuzz_ratio             89\n",
       "fuzz_token             93\n",
       "fuzz_fpr               76\n",
       "orglow_first           34\n",
       "comlow_first           29\n",
       "same                    2\n",
       "comlow_new           2303\n",
       "orglow_new           7220\n",
       "orglow_short         2547\n",
       "comlow_short          782\n",
       "org_short            4410\n",
       "com_short            1409\n",
       "new_fr                 93\n",
       "new_ft                 90\n",
       "new_fpr                70\n",
       "orgnew_first           34\n",
       "comnew_first           29\n",
       "same_new                2\n",
       "ofuzz_shortlow         51\n",
       "cfuzz_shortlow         46\n",
       "ofuzz_short            51\n",
       "cfuzz_short            61\n",
       "match                   1\n",
       "oshrtlow_len           14\n",
       "cshrtlow_len            6\n",
       "oshrt_len              13\n",
       "cshrt_len               8\n",
       "org_len                74\n",
       "com_len                37\n",
       "nmatch                  1\n",
       "finalmatch              1\n",
       "dtype: int64"
      ]
     },
     "execution_count": 149,
     "metadata": {},
     "output_type": "execute_result"
    }
   ],
   "source": [
    "final_gt.nunique()"
   ]
  },
  {
   "cell_type": "code",
   "execution_count": 150,
   "metadata": {},
   "outputs": [
    {
     "data": {
      "text/plain": [
       "True    252967\n",
       "Name: nmatch, dtype: int64"
      ]
     },
     "execution_count": 150,
     "metadata": {},
     "output_type": "execute_result"
    }
   ],
   "source": [
    "final_gt['nmatch'].value_counts()"
   ]
  },
  {
   "cell_type": "code",
   "execution_count": 151,
   "metadata": {},
   "outputs": [
    {
     "data": {
      "text/plain": [
       "Index(['patent_id', 'organization', 'orglow9', 'PERMNO', 'PERMCO', 'COMNAM',\n",
       "       'comlow4', 'assignee_id', 'type', 'sequence', 'orglow_dm', 'comlow_dm',\n",
       "       'dm', 'orglow_dmns', 'comlow_dmns', 'dm_ns', 'clean_dm', 'orglow9_ns',\n",
       "       'comlow4_ns', 'cleandm_ns', 'temp_match', 'fuzz_ratio', 'fuzz_token',\n",
       "       'fuzz_fpr', 'orglow_first', 'comlow_first', 'same', 'comlow_new',\n",
       "       'orglow_new', 'orglow_short', 'comlow_short', 'org_short', 'com_short',\n",
       "       'new_fr', 'new_ft', 'new_fpr', 'orgnew_first', 'comnew_first',\n",
       "       'same_new', 'ofuzz_shortlow', 'cfuzz_shortlow', 'ofuzz_short',\n",
       "       'cfuzz_short', 'match', 'oshrtlow_len', 'cshrtlow_len', 'oshrt_len',\n",
       "       'cshrt_len', 'org_len', 'com_len', 'nmatch', 'finalmatch'],\n",
       "      dtype='object')"
      ]
     },
     "execution_count": 151,
     "metadata": {},
     "output_type": "execute_result"
    }
   ],
   "source": [
    "final_gt.columns"
   ]
  },
  {
   "cell_type": "code",
   "execution_count": 160,
   "metadata": {},
   "outputs": [
    {
     "data": {
      "text/plain": [
       "Index(['COMNAM', 'PERMCO', 'PERMNO', 'assignee_id', 'cfuzz_short',\n",
       "       'cfuzz_shortlow', 'clean_dm', 'cleandm_ns', 'com_len', 'com_short',\n",
       "       'comlow4', 'comlow4_ns', 'comlow_dm', 'comlow_dmns', 'comlow_first',\n",
       "       'comlow_new', 'comlow_short', 'comnew_first', 'cshrt_len',\n",
       "       'cshrtlow_len', 'dm', 'dm_ns', 'finalmatch', 'fuzz_fpr', 'fuzz_ratio',\n",
       "       'fuzz_token', 'match', 'new_fpr', 'new_fr', 'new_ft', 'nmatch',\n",
       "       'ofuzz_short', 'ofuzz_shortlow', 'org_len', 'org_short', 'organization',\n",
       "       'orglow9', 'orglow9_ns', 'orglow_dm', 'orglow_dmns', 'orglow_first',\n",
       "       'orglow_new', 'orglow_short', 'orgnew_first', 'oshrt_len',\n",
       "       'oshrtlow_len', 'patent_id', 'same', 'same_new', 'sequence',\n",
       "       'shortform', 'temp_match', 'type'],\n",
       "      dtype='object')"
      ]
     },
     "execution_count": 160,
     "metadata": {},
     "output_type": "execute_result"
    }
   ],
   "source": [
    "final_gtm.columns.sort_values()"
   ]
  },
  {
   "cell_type": "code",
   "execution_count": 252,
   "metadata": {
    "collapsed": true
   },
   "outputs": [
    {
     "data": {
      "text/html": [
       "<div>\n",
       "<style scoped>\n",
       "    .dataframe tbody tr th:only-of-type {\n",
       "        vertical-align: middle;\n",
       "    }\n",
       "\n",
       "    .dataframe tbody tr th {\n",
       "        vertical-align: top;\n",
       "    }\n",
       "\n",
       "    .dataframe thead th {\n",
       "        text-align: right;\n",
       "    }\n",
       "</style>\n",
       "<table border=\"1\" class=\"dataframe\">\n",
       "  <thead>\n",
       "    <tr style=\"text-align: right;\">\n",
       "      <th></th>\n",
       "      <th>organization</th>\n",
       "      <th>COMNAM</th>\n",
       "      <th>comlow4</th>\n",
       "      <th>orglow9</th>\n",
       "      <th>assignee_id</th>\n",
       "    </tr>\n",
       "  </thead>\n",
       "  <tbody>\n",
       "    <tr>\n",
       "      <td>2779</td>\n",
       "      <td>PCC Airfoils, Inc.</td>\n",
       "      <td>PRECISION CASTPARTS CORP</td>\n",
       "      <td>precision castparts</td>\n",
       "      <td>pcc airfoils</td>\n",
       "      <td>org_Pln2mHPqOo8ivj1rdmfC</td>\n",
       "    </tr>\n",
       "    <tr>\n",
       "      <td>3902</td>\n",
       "      <td>The International Nickel Company, Inc.</td>\n",
       "      <td>INCO LTD</td>\n",
       "      <td>inco</td>\n",
       "      <td>international nickel</td>\n",
       "      <td>org_3O12UKd8pdv6Gj2KNctq</td>\n",
       "    </tr>\n",
       "    <tr>\n",
       "      <td>4029</td>\n",
       "      <td>SLM Canada Inc.</td>\n",
       "      <td>STUDENT LOAN MARKETING ASSN</td>\n",
       "      <td>student loan marketing</td>\n",
       "      <td>slm canada</td>\n",
       "      <td>org_e7fzqKTbstVEvLCusYFz</td>\n",
       "    </tr>\n",
       "    <tr>\n",
       "      <td>4295</td>\n",
       "      <td>International Telephone and Telegraph Corporation</td>\n",
       "      <td>I T T CORP</td>\n",
       "      <td>itt</td>\n",
       "      <td>international telephone telegraph</td>\n",
       "      <td>org_U2TRh9WomWWWDaH5ybhG</td>\n",
       "    </tr>\n",
       "    <tr>\n",
       "      <td>5148</td>\n",
       "      <td>Union Oil Company of California</td>\n",
       "      <td>UNOCAL CORP</td>\n",
       "      <td>unocal</td>\n",
       "      <td>union oil company of california</td>\n",
       "      <td>org_COgAe5MtbLYwQVAiE2w5</td>\n",
       "    </tr>\n",
       "    <tr>\n",
       "      <td>5592</td>\n",
       "      <td>Union Oil Company of California</td>\n",
       "      <td>UNOCAL CORP</td>\n",
       "      <td>unocal</td>\n",
       "      <td>union oil company of california</td>\n",
       "      <td>org_COgAe5MtbLYwQVAiE2w5</td>\n",
       "    </tr>\n",
       "    <tr>\n",
       "      <td>7950</td>\n",
       "      <td>The International Nickel Company, Inc.</td>\n",
       "      <td>INCO LTD</td>\n",
       "      <td>inco</td>\n",
       "      <td>international nickel</td>\n",
       "      <td>org_3O12UKd8pdv6Gj2KNctq</td>\n",
       "    </tr>\n",
       "    <tr>\n",
       "      <td>8111</td>\n",
       "      <td>Chicago Bridge &amp; Iron Company</td>\n",
       "      <td>C B I INDUSTRIES INC</td>\n",
       "      <td>cbi industries</td>\n",
       "      <td>chicago bridge iron</td>\n",
       "      <td>org_Z3GvBv6FKSHtIl7CBaD5</td>\n",
       "    </tr>\n",
       "    <tr>\n",
       "      <td>9022</td>\n",
       "      <td>Computer Associates Think, Inc.</td>\n",
       "      <td>C A INC</td>\n",
       "      <td>computer associates</td>\n",
       "      <td>computer associates think</td>\n",
       "      <td>org_NZwMhKGj9MK5x3VPdEQA</td>\n",
       "    </tr>\n",
       "    <tr>\n",
       "      <td>10798</td>\n",
       "      <td>Computer Associates Think, Inc.</td>\n",
       "      <td>C A INC</td>\n",
       "      <td>computer associates</td>\n",
       "      <td>computer associates think</td>\n",
       "      <td>org_NZwMhKGj9MK5x3VPdEQA</td>\n",
       "    </tr>\n",
       "    <tr>\n",
       "      <td>11084</td>\n",
       "      <td>Union Oil Company of California</td>\n",
       "      <td>UNOCAL CORP</td>\n",
       "      <td>unocal</td>\n",
       "      <td>union oil company of california</td>\n",
       "      <td>org_COgAe5MtbLYwQVAiE2w5</td>\n",
       "    </tr>\n",
       "    <tr>\n",
       "      <td>11779</td>\n",
       "      <td>Union Oil Company of California</td>\n",
       "      <td>UNOCAL CORP</td>\n",
       "      <td>unocal</td>\n",
       "      <td>union oil company of california</td>\n",
       "      <td>org_COgAe5MtbLYwQVAiE2w5</td>\n",
       "    </tr>\n",
       "    <tr>\n",
       "      <td>11825</td>\n",
       "      <td>R.P. Fiber &amp; Resin Intermediates</td>\n",
       "      <td>RHONE POULENC RORER INC</td>\n",
       "      <td>rhone poulenc</td>\n",
       "      <td>rp fiber resin intermediates</td>\n",
       "      <td>org_46qx5q0RDhEz2O7vEsny</td>\n",
       "    </tr>\n",
       "    <tr>\n",
       "      <td>12866</td>\n",
       "      <td>PCC Airfoils, Inc.</td>\n",
       "      <td>PRECISION CASTPARTS CORP</td>\n",
       "      <td>precision castparts</td>\n",
       "      <td>pcc airfoils</td>\n",
       "      <td>org_Pln2mHPqOo8ivj1rdmfC</td>\n",
       "    </tr>\n",
       "    <tr>\n",
       "      <td>15478</td>\n",
       "      <td>International Telephone and Telegraph Corporation</td>\n",
       "      <td>I T T CORP</td>\n",
       "      <td>itt</td>\n",
       "      <td>international telephone telegraph</td>\n",
       "      <td>org_U2TRh9WomWWWDaH5ybhG</td>\n",
       "    </tr>\n",
       "    <tr>\n",
       "      <td>15773</td>\n",
       "      <td>The International Nickel Company, Inc.</td>\n",
       "      <td>INCO LTD</td>\n",
       "      <td>inco</td>\n",
       "      <td>international nickel</td>\n",
       "      <td>org_3O12UKd8pdv6Gj2KNctq</td>\n",
       "    </tr>\n",
       "    <tr>\n",
       "      <td>15971</td>\n",
       "      <td>ICI Americas Inc</td>\n",
       "      <td>IMPERIAL CHEMICAL INDUSTRIES PLC</td>\n",
       "      <td>imperial chemical industries</td>\n",
       "      <td>ici americas</td>\n",
       "      <td>org_sdQDny1jFA3ljlmCfuVl</td>\n",
       "    </tr>\n",
       "    <tr>\n",
       "      <td>16360</td>\n",
       "      <td>Union Oil Company of California</td>\n",
       "      <td>UNOCAL CORP</td>\n",
       "      <td>unocal</td>\n",
       "      <td>union oil company of california</td>\n",
       "      <td>org_COgAe5MtbLYwQVAiE2w5</td>\n",
       "    </tr>\n",
       "    <tr>\n",
       "      <td>16527</td>\n",
       "      <td>Chicago Bridge &amp; Iron Company</td>\n",
       "      <td>C B I INDUSTRIES INC</td>\n",
       "      <td>cbi industries</td>\n",
       "      <td>chicago bridge iron</td>\n",
       "      <td>org_Z3GvBv6FKSHtIl7CBaD5</td>\n",
       "    </tr>\n",
       "    <tr>\n",
       "      <td>16840</td>\n",
       "      <td>Union Oil Company of California</td>\n",
       "      <td>UNOCAL CORP</td>\n",
       "      <td>unocal</td>\n",
       "      <td>union oil company of california</td>\n",
       "      <td>org_COgAe5MtbLYwQVAiE2w5</td>\n",
       "    </tr>\n",
       "  </tbody>\n",
       "</table>\n",
       "</div>"
      ],
      "text/plain": [
       "                                            organization  \\\n",
       "2779                                 PCC Airfoils, Inc.    \n",
       "3902              The International Nickel Company, Inc.   \n",
       "4029                                     SLM Canada Inc.   \n",
       "4295   International Telephone and Telegraph Corporation   \n",
       "5148                     Union Oil Company of California   \n",
       "5592                     Union Oil Company of California   \n",
       "7950              The International Nickel Company, Inc.   \n",
       "8111                       Chicago Bridge & Iron Company   \n",
       "9022                     Computer Associates Think, Inc.   \n",
       "10798                    Computer Associates Think, Inc.   \n",
       "11084                    Union Oil Company of California   \n",
       "11779                    Union Oil Company of California   \n",
       "11825                  R.P. Fiber & Resin Intermediates    \n",
       "12866                                 PCC Airfoils, Inc.   \n",
       "15478  International Telephone and Telegraph Corporation   \n",
       "15773             The International Nickel Company, Inc.   \n",
       "15971                                   ICI Americas Inc   \n",
       "16360                    Union Oil Company of California   \n",
       "16527                      Chicago Bridge & Iron Company   \n",
       "16840                    Union Oil Company of California   \n",
       "\n",
       "                                 COMNAM                       comlow4  \\\n",
       "2779           PRECISION CASTPARTS CORP           precision castparts   \n",
       "3902                           INCO LTD                          inco   \n",
       "4029        STUDENT LOAN MARKETING ASSN        student loan marketing   \n",
       "4295                         I T T CORP                           itt   \n",
       "5148                        UNOCAL CORP                        unocal   \n",
       "5592                        UNOCAL CORP                        unocal   \n",
       "7950                           INCO LTD                          inco   \n",
       "8111               C B I INDUSTRIES INC                cbi industries   \n",
       "9022                            C A INC           computer associates   \n",
       "10798                           C A INC           computer associates   \n",
       "11084                       UNOCAL CORP                        unocal   \n",
       "11779                       UNOCAL CORP                        unocal   \n",
       "11825           RHONE POULENC RORER INC                 rhone poulenc   \n",
       "12866          PRECISION CASTPARTS CORP           precision castparts   \n",
       "15478                        I T T CORP                           itt   \n",
       "15773                          INCO LTD                          inco   \n",
       "15971  IMPERIAL CHEMICAL INDUSTRIES PLC  imperial chemical industries   \n",
       "16360                       UNOCAL CORP                        unocal   \n",
       "16527              C B I INDUSTRIES INC                cbi industries   \n",
       "16840                       UNOCAL CORP                        unocal   \n",
       "\n",
       "                                 orglow9               assignee_id  \n",
       "2779                        pcc airfoils  org_Pln2mHPqOo8ivj1rdmfC  \n",
       "3902                international nickel  org_3O12UKd8pdv6Gj2KNctq  \n",
       "4029                          slm canada  org_e7fzqKTbstVEvLCusYFz  \n",
       "4295   international telephone telegraph  org_U2TRh9WomWWWDaH5ybhG  \n",
       "5148     union oil company of california  org_COgAe5MtbLYwQVAiE2w5  \n",
       "5592     union oil company of california  org_COgAe5MtbLYwQVAiE2w5  \n",
       "7950                international nickel  org_3O12UKd8pdv6Gj2KNctq  \n",
       "8111                 chicago bridge iron  org_Z3GvBv6FKSHtIl7CBaD5  \n",
       "9022           computer associates think  org_NZwMhKGj9MK5x3VPdEQA  \n",
       "10798          computer associates think  org_NZwMhKGj9MK5x3VPdEQA  \n",
       "11084    union oil company of california  org_COgAe5MtbLYwQVAiE2w5  \n",
       "11779    union oil company of california  org_COgAe5MtbLYwQVAiE2w5  \n",
       "11825       rp fiber resin intermediates  org_46qx5q0RDhEz2O7vEsny  \n",
       "12866                       pcc airfoils  org_Pln2mHPqOo8ivj1rdmfC  \n",
       "15478  international telephone telegraph  org_U2TRh9WomWWWDaH5ybhG  \n",
       "15773               international nickel  org_3O12UKd8pdv6Gj2KNctq  \n",
       "15971                       ici americas  org_sdQDny1jFA3ljlmCfuVl  \n",
       "16360    union oil company of california  org_COgAe5MtbLYwQVAiE2w5  \n",
       "16527                chicago bridge iron  org_Z3GvBv6FKSHtIl7CBaD5  \n",
       "16840    union oil company of california  org_COgAe5MtbLYwQVAiE2w5  "
      ]
     },
     "execution_count": 252,
     "metadata": {},
     "output_type": "execute_result"
    }
   ],
   "source": [
    "final_gtm[~final_gtm['shortform'].isna()][['organization','COMNAM','comlow4',\n",
    "                                           'orglow9','assignee_id']].head(20)"
   ]
  },
  {
   "cell_type": "code",
   "execution_count": 253,
   "metadata": {},
   "outputs": [],
   "source": [
    "s1 = set(final_gtm[~final_gtm['shortform'].isna()]['PERMNO'].unique())\n",
    "\n",
    "s2 = set(final_gtm[final_gtm['shortform'].isna()]['PERMNO'].unique())"
   ]
  },
  {
   "cell_type": "code",
   "execution_count": 254,
   "metadata": {},
   "outputs": [
    {
     "data": {
      "text/plain": [
       "{12092.0, 21020.0, 37161.0, 40484.0, 66325.0, 75298.0, 88939.0}"
      ]
     },
     "execution_count": 254,
     "metadata": {},
     "output_type": "execute_result"
    }
   ],
   "source": [
    "(s1 - s2)"
   ]
  },
  {
   "cell_type": "code",
   "execution_count": 251,
   "metadata": {},
   "outputs": [],
   "source": [
    "final_gtm.loc[954396,\"finalmatch\"] = False\n",
    "final_gtm.loc[954396,\"shortform\"] = 'nan'"
   ]
  },
  {
   "cell_type": "code",
   "execution_count": 250,
   "metadata": {},
   "outputs": [
    {
     "data": {
      "text/html": [
       "<div>\n",
       "<style scoped>\n",
       "    .dataframe tbody tr th:only-of-type {\n",
       "        vertical-align: middle;\n",
       "    }\n",
       "\n",
       "    .dataframe tbody tr th {\n",
       "        vertical-align: top;\n",
       "    }\n",
       "\n",
       "    .dataframe thead th {\n",
       "        text-align: right;\n",
       "    }\n",
       "</style>\n",
       "<table border=\"1\" class=\"dataframe\">\n",
       "  <thead>\n",
       "    <tr style=\"text-align: right;\">\n",
       "      <th></th>\n",
       "      <th>patent_id</th>\n",
       "      <th>organization</th>\n",
       "      <th>orglow9</th>\n",
       "      <th>PERMNO</th>\n",
       "      <th>PERMCO</th>\n",
       "      <th>COMNAM</th>\n",
       "      <th>comlow4</th>\n",
       "      <th>assignee_id</th>\n",
       "      <th>type</th>\n",
       "      <th>sequence</th>\n",
       "      <th>...</th>\n",
       "      <th>comlow_short</th>\n",
       "      <th>org_short</th>\n",
       "      <th>com_short</th>\n",
       "      <th>new_fr</th>\n",
       "      <th>new_ft</th>\n",
       "      <th>new_fpr</th>\n",
       "      <th>match</th>\n",
       "      <th>nmatch</th>\n",
       "      <th>finalmatch</th>\n",
       "      <th>shortform</th>\n",
       "    </tr>\n",
       "  </thead>\n",
       "  <tbody>\n",
       "    <tr>\n",
       "      <td>170201</td>\n",
       "      <td>5272603</td>\n",
       "      <td>ITC Incorporated</td>\n",
       "      <td>itc</td>\n",
       "      <td>88939.0</td>\n",
       "      <td>7600.0</td>\n",
       "      <td>INDUSTRIAL TRAINING CORP</td>\n",
       "      <td>industrial training</td>\n",
       "      <td>org_Yz3DRxhIZCVE8cyw2HbK</td>\n",
       "      <td>2.0</td>\n",
       "      <td>0.0</td>\n",
       "      <td>...</td>\n",
       "      <td>it</td>\n",
       "      <td>ii</td>\n",
       "      <td>itc</td>\n",
       "      <td>18.0</td>\n",
       "      <td>18.0</td>\n",
       "      <td>33.0</td>\n",
       "      <td>NaN</td>\n",
       "      <td>True</td>\n",
       "      <td>True</td>\n",
       "      <td>short form</td>\n",
       "    </tr>\n",
       "    <tr>\n",
       "      <td>232673</td>\n",
       "      <td>4925140</td>\n",
       "      <td>ITC Incorporated</td>\n",
       "      <td>itc</td>\n",
       "      <td>88939.0</td>\n",
       "      <td>7600.0</td>\n",
       "      <td>INDUSTRIAL TRAINING CORP</td>\n",
       "      <td>industrial training</td>\n",
       "      <td>org_Yz3DRxhIZCVE8cyw2HbK</td>\n",
       "      <td>2.0</td>\n",
       "      <td>0.0</td>\n",
       "      <td>...</td>\n",
       "      <td>it</td>\n",
       "      <td>ii</td>\n",
       "      <td>itc</td>\n",
       "      <td>18.0</td>\n",
       "      <td>18.0</td>\n",
       "      <td>33.0</td>\n",
       "      <td>NaN</td>\n",
       "      <td>True</td>\n",
       "      <td>True</td>\n",
       "      <td>short form</td>\n",
       "    </tr>\n",
       "    <tr>\n",
       "      <td>346276</td>\n",
       "      <td>4987845</td>\n",
       "      <td>ITC, Incorporated</td>\n",
       "      <td>itc</td>\n",
       "      <td>88939.0</td>\n",
       "      <td>7600.0</td>\n",
       "      <td>INDUSTRIAL TRAINING CORP</td>\n",
       "      <td>industrial training</td>\n",
       "      <td>org_Yz3DRxhIZCVE8cyw2HbK</td>\n",
       "      <td>2.0</td>\n",
       "      <td>0.0</td>\n",
       "      <td>...</td>\n",
       "      <td>it</td>\n",
       "      <td>ii</td>\n",
       "      <td>itc</td>\n",
       "      <td>18.0</td>\n",
       "      <td>18.0</td>\n",
       "      <td>33.0</td>\n",
       "      <td>NaN</td>\n",
       "      <td>True</td>\n",
       "      <td>True</td>\n",
       "      <td>short form</td>\n",
       "    </tr>\n",
       "    <tr>\n",
       "      <td>377257</td>\n",
       "      <td>5297010</td>\n",
       "      <td>ITC Incorporated</td>\n",
       "      <td>itc</td>\n",
       "      <td>88939.0</td>\n",
       "      <td>7600.0</td>\n",
       "      <td>INDUSTRIAL TRAINING CORP</td>\n",
       "      <td>industrial training</td>\n",
       "      <td>org_Yz3DRxhIZCVE8cyw2HbK</td>\n",
       "      <td>2.0</td>\n",
       "      <td>0.0</td>\n",
       "      <td>...</td>\n",
       "      <td>it</td>\n",
       "      <td>ii</td>\n",
       "      <td>itc</td>\n",
       "      <td>18.0</td>\n",
       "      <td>18.0</td>\n",
       "      <td>33.0</td>\n",
       "      <td>NaN</td>\n",
       "      <td>True</td>\n",
       "      <td>True</td>\n",
       "      <td>short form</td>\n",
       "    </tr>\n",
       "    <tr>\n",
       "      <td>858494</td>\n",
       "      <td>4738216</td>\n",
       "      <td>ITC, Incorporated</td>\n",
       "      <td>itc</td>\n",
       "      <td>88939.0</td>\n",
       "      <td>7600.0</td>\n",
       "      <td>INDUSTRIAL TRAINING CORP</td>\n",
       "      <td>industrial training</td>\n",
       "      <td>org_Yz3DRxhIZCVE8cyw2HbK</td>\n",
       "      <td>2.0</td>\n",
       "      <td>0.0</td>\n",
       "      <td>...</td>\n",
       "      <td>it</td>\n",
       "      <td>ii</td>\n",
       "      <td>itc</td>\n",
       "      <td>18.0</td>\n",
       "      <td>18.0</td>\n",
       "      <td>33.0</td>\n",
       "      <td>NaN</td>\n",
       "      <td>True</td>\n",
       "      <td>True</td>\n",
       "      <td>short form</td>\n",
       "    </tr>\n",
       "    <tr>\n",
       "      <td>885326</td>\n",
       "      <td>4969073</td>\n",
       "      <td>ITC, Incorporated</td>\n",
       "      <td>itc</td>\n",
       "      <td>88939.0</td>\n",
       "      <td>7600.0</td>\n",
       "      <td>INDUSTRIAL TRAINING CORP</td>\n",
       "      <td>industrial training</td>\n",
       "      <td>org_Yz3DRxhIZCVE8cyw2HbK</td>\n",
       "      <td>2.0</td>\n",
       "      <td>0.0</td>\n",
       "      <td>...</td>\n",
       "      <td>it</td>\n",
       "      <td>ii</td>\n",
       "      <td>itc</td>\n",
       "      <td>18.0</td>\n",
       "      <td>18.0</td>\n",
       "      <td>33.0</td>\n",
       "      <td>NaN</td>\n",
       "      <td>True</td>\n",
       "      <td>True</td>\n",
       "      <td>short form</td>\n",
       "    </tr>\n",
       "    <tr>\n",
       "      <td>1006798</td>\n",
       "      <td>5588908</td>\n",
       "      <td>ITC, Incorporated</td>\n",
       "      <td>itc</td>\n",
       "      <td>88939.0</td>\n",
       "      <td>7600.0</td>\n",
       "      <td>INDUSTRIAL TRAINING CORP</td>\n",
       "      <td>industrial training</td>\n",
       "      <td>org_Yz3DRxhIZCVE8cyw2HbK</td>\n",
       "      <td>2.0</td>\n",
       "      <td>0.0</td>\n",
       "      <td>...</td>\n",
       "      <td>it</td>\n",
       "      <td>ii</td>\n",
       "      <td>itc</td>\n",
       "      <td>18.0</td>\n",
       "      <td>18.0</td>\n",
       "      <td>33.0</td>\n",
       "      <td>NaN</td>\n",
       "      <td>True</td>\n",
       "      <td>True</td>\n",
       "      <td>short form</td>\n",
       "    </tr>\n",
       "    <tr>\n",
       "      <td>1110401</td>\n",
       "      <td>5615631</td>\n",
       "      <td>ITC Incorporated</td>\n",
       "      <td>itc</td>\n",
       "      <td>88939.0</td>\n",
       "      <td>7600.0</td>\n",
       "      <td>INDUSTRIAL TRAINING CORP</td>\n",
       "      <td>industrial training</td>\n",
       "      <td>org_Yz3DRxhIZCVE8cyw2HbK</td>\n",
       "      <td>2.0</td>\n",
       "      <td>0.0</td>\n",
       "      <td>...</td>\n",
       "      <td>it</td>\n",
       "      <td>ii</td>\n",
       "      <td>itc</td>\n",
       "      <td>18.0</td>\n",
       "      <td>18.0</td>\n",
       "      <td>33.0</td>\n",
       "      <td>NaN</td>\n",
       "      <td>True</td>\n",
       "      <td>True</td>\n",
       "      <td>short form</td>\n",
       "    </tr>\n",
       "  </tbody>\n",
       "</table>\n",
       "<p>8 rows × 37 columns</p>\n",
       "</div>"
      ],
      "text/plain": [
       "        patent_id       organization orglow9   PERMNO  PERMCO  \\\n",
       "170201    5272603   ITC Incorporated     itc  88939.0  7600.0   \n",
       "232673    4925140   ITC Incorporated     itc  88939.0  7600.0   \n",
       "346276    4987845  ITC, Incorporated     itc  88939.0  7600.0   \n",
       "377257    5297010   ITC Incorporated     itc  88939.0  7600.0   \n",
       "858494    4738216  ITC, Incorporated     itc  88939.0  7600.0   \n",
       "885326    4969073  ITC, Incorporated     itc  88939.0  7600.0   \n",
       "1006798   5588908  ITC, Incorporated     itc  88939.0  7600.0   \n",
       "1110401   5615631   ITC Incorporated     itc  88939.0  7600.0   \n",
       "\n",
       "                           COMNAM              comlow4  \\\n",
       "170201   INDUSTRIAL TRAINING CORP  industrial training   \n",
       "232673   INDUSTRIAL TRAINING CORP  industrial training   \n",
       "346276   INDUSTRIAL TRAINING CORP  industrial training   \n",
       "377257   INDUSTRIAL TRAINING CORP  industrial training   \n",
       "858494   INDUSTRIAL TRAINING CORP  industrial training   \n",
       "885326   INDUSTRIAL TRAINING CORP  industrial training   \n",
       "1006798  INDUSTRIAL TRAINING CORP  industrial training   \n",
       "1110401  INDUSTRIAL TRAINING CORP  industrial training   \n",
       "\n",
       "                      assignee_id  type  sequence  ... comlow_short org_short  \\\n",
       "170201   org_Yz3DRxhIZCVE8cyw2HbK   2.0       0.0  ...           it        ii   \n",
       "232673   org_Yz3DRxhIZCVE8cyw2HbK   2.0       0.0  ...           it        ii   \n",
       "346276   org_Yz3DRxhIZCVE8cyw2HbK   2.0       0.0  ...           it        ii   \n",
       "377257   org_Yz3DRxhIZCVE8cyw2HbK   2.0       0.0  ...           it        ii   \n",
       "858494   org_Yz3DRxhIZCVE8cyw2HbK   2.0       0.0  ...           it        ii   \n",
       "885326   org_Yz3DRxhIZCVE8cyw2HbK   2.0       0.0  ...           it        ii   \n",
       "1006798  org_Yz3DRxhIZCVE8cyw2HbK   2.0       0.0  ...           it        ii   \n",
       "1110401  org_Yz3DRxhIZCVE8cyw2HbK   2.0       0.0  ...           it        ii   \n",
       "\n",
       "         com_short new_fr new_ft  new_fpr  match nmatch finalmatch   shortform  \n",
       "170201         itc   18.0   18.0     33.0    NaN   True       True  short form  \n",
       "232673         itc   18.0   18.0     33.0    NaN   True       True  short form  \n",
       "346276         itc   18.0   18.0     33.0    NaN   True       True  short form  \n",
       "377257         itc   18.0   18.0     33.0    NaN   True       True  short form  \n",
       "858494         itc   18.0   18.0     33.0    NaN   True       True  short form  \n",
       "885326         itc   18.0   18.0     33.0    NaN   True       True  short form  \n",
       "1006798        itc   18.0   18.0     33.0    NaN   True       True  short form  \n",
       "1110401        itc   18.0   18.0     33.0    NaN   True       True  short form  \n",
       "\n",
       "[8 rows x 37 columns]"
      ]
     },
     "execution_count": 250,
     "metadata": {},
     "output_type": "execute_result"
    }
   ],
   "source": [
    "final_gtm[final_gtm['PERMNO']==88939.0]"
   ]
  },
  {
   "cell_type": "code",
   "execution_count": 165,
   "metadata": {},
   "outputs": [
    {
     "data": {
      "text/plain": [
       "6728"
      ]
     },
     "execution_count": 165,
     "metadata": {},
     "output_type": "execute_result"
    }
   ],
   "source": [
    "final_gtm.PERMNO.nunique()"
   ]
  },
  {
   "cell_type": "code",
   "execution_count": 166,
   "metadata": {},
   "outputs": [
    {
     "data": {
      "text/plain": [
       "Index(['organization', 'orglow9', 'PERMNO', 'PERMCO', 'COMNAM', 'comlow4',\n",
       "       'temp_match', 'assignee_id', 'fuzz_ratio', 'fuzz_token', 'fuzz_fpr',\n",
       "       'orglow_first', 'comlow_first', 'same', 'comlow_new', 'orglow_new',\n",
       "       'orglow_short', 'comlow_short', 'org_short', 'com_short', 'new_fr',\n",
       "       'new_ft', 'new_fpr', 'orgnew_first', 'comnew_first', 'same_new',\n",
       "       'ofuzz_shortlow', 'cfuzz_shortlow', 'ofuzz_short', 'cfuzz_short',\n",
       "       'match', 'oshrtlow_len', 'cshrtlow_len', 'oshrt_len', 'cshrt_len',\n",
       "       'org_len', 'com_len', 'nmatch'],\n",
       "      dtype='object')"
      ]
     },
     "execution_count": 166,
     "metadata": {},
     "output_type": "execute_result"
    }
   ],
   "source": [
    "tt.columns"
   ]
  },
  {
   "cell_type": "code",
   "execution_count": 167,
   "metadata": {},
   "outputs": [
    {
     "data": {
      "text/plain": [
       "True    13114\n",
       "Name: match, dtype: int64"
      ]
     },
     "execution_count": 167,
     "metadata": {},
     "output_type": "execute_result"
    }
   ],
   "source": [
    "tt.match.value_counts()"
   ]
  },
  {
   "cell_type": "code",
   "execution_count": 168,
   "metadata": {},
   "outputs": [
    {
     "data": {
      "text/plain": [
       "False    16192\n",
       "True     13720\n",
       "Name: nmatch, dtype: int64"
      ]
     },
     "execution_count": 168,
     "metadata": {},
     "output_type": "execute_result"
    }
   ],
   "source": [
    "tt.nmatch.value_counts()"
   ]
  },
  {
   "cell_type": "code",
   "execution_count": 169,
   "metadata": {},
   "outputs": [
    {
     "data": {
      "text/plain": [
       "TRUE                           13129\n",
       "shoud match                      464\n",
       "FALSE                            410\n",
       "should match on lang change       78\n",
       "short form                        49\n",
       "True                               2\n",
       "False                              2\n",
       "Name: temp_match, dtype: int64"
      ]
     },
     "execution_count": 169,
     "metadata": {},
     "output_type": "execute_result"
    }
   ],
   "source": [
    "tt.temp_match.value_counts()"
   ]
  },
  {
   "cell_type": "code",
   "execution_count": 170,
   "metadata": {},
   "outputs": [],
   "source": [
    "tt1 = tt[['organization', 'orglow9', 'PERMNO', 'COMNAM', 'comlow4',\n",
    "       'temp_match', 'fuzz_ratio', 'fuzz_token', 'fuzz_fpr',\n",
    "         'comlow_new', 'orglow_new',\n",
    "       'orglow_short', 'comlow_short', 'org_short', 'com_short', 'new_fr',\n",
    "       'new_ft', 'new_fpr', \n",
    "       \n",
    "       'match',  'nmatch']]"
   ]
  },
  {
   "cell_type": "code",
   "execution_count": 171,
   "metadata": {},
   "outputs": [],
   "source": [
    "tt1.to_csv(\"tt1.csv\", index = False)"
   ]
  },
  {
   "cell_type": "code",
   "execution_count": 549,
   "metadata": {},
   "outputs": [],
   "source": [
    "w1 = set(final_gtm[(final_gtm['same']==False)&(final_gtm['same_new']==False)\n",
    "             ]['PERMNO'].unique())\n",
    "\n",
    "w2 = set(final_gtm[(final_gtm['same']==True)|(final_gtm['same_new']==True)\n",
    "             ]['PERMNO'].unique())"
   ]
  },
  {
   "cell_type": "code",
   "execution_count": 555,
   "metadata": {
    "scrolled": true
   },
   "outputs": [],
   "source": [
    "w3 = list(w1 - w2)"
   ]
  },
  {
   "cell_type": "code",
   "execution_count": 556,
   "metadata": {
    "collapsed": true
   },
   "outputs": [
    {
     "data": {
      "text/plain": [
       "[69121.0,\n",
       " 47108.0,\n",
       " 41989.0,\n",
       " 18438.0,\n",
       " 48136.0,\n",
       " 65032.0,\n",
       " 57357.0,\n",
       " 19984.0,\n",
       " 89616.0,\n",
       " 45081.0,\n",
       " 37402.0,\n",
       " 45604.0,\n",
       " 51772.0,\n",
       " 38974.0,\n",
       " 78404.0,\n",
       " 40521.0,\n",
       " 40010.0,\n",
       " 69199.0,\n",
       " 30294.0,\n",
       " 51799.0,\n",
       " 42585.0,\n",
       " 35422.0,\n",
       " 81004.0,\n",
       " 26235.0,\n",
       " 85632.0,\n",
       " 61576.0,\n",
       " 66704.0,\n",
       " 81042.0,\n",
       " 22163.0,\n",
       " 82581.0,\n",
       " 62616.0,\n",
       " 18585.0,\n",
       " 80029.0,\n",
       " 81060.0,\n",
       " 41128.0,\n",
       " 55467.0,\n",
       " 44223.0,\n",
       " 22728.0,\n",
       " 88269.0,\n",
       " 68304.0,\n",
       " 82642.0,\n",
       " 58579.0,\n",
       " 49876.0,\n",
       " 50905.0,\n",
       " 88309.0,\n",
       " 27385.0,\n",
       " 65787.0,\n",
       " 77058.0,\n",
       " 43780.0,\n",
       " 88846.0,\n",
       " 77075.0,\n",
       " 29971.0,\n",
       " 38682.0,\n",
       " 46877.0,\n",
       " 26403.0,\n",
       " 63782.0,\n",
       " 90408.0,\n",
       " 81193.0,\n",
       " 81194.0,\n",
       " 76080.0,\n",
       " 46907.0,\n",
       " 10558.0,\n",
       " 47423.0,\n",
       " 45890.0,\n",
       " 57154.0,\n",
       " 70981.0,\n",
       " 53575.0,\n",
       " 54114.0,\n",
       " 85858.0,\n",
       " 92012.0,\n",
       " 40301.0,\n",
       " 77165.0,\n",
       " 43377.0,\n",
       " 65402.0,\n",
       " 23421.0,\n",
       " 77182.0,\n",
       " 19845.0,\n",
       " 19852.0,\n",
       " 62885.0,\n",
       " 51115.0,\n",
       " 25005.0,\n",
       " 75186.0,\n",
       " 47029.0,\n",
       " 57795.0,\n",
       " 89027.0,\n",
       " 59336.0,\n",
       " 85449.0,\n",
       " 47562.0,\n",
       " 49613.0,\n",
       " 41937.0,\n",
       " 93140.0,\n",
       " 67540.0,\n",
       " 52695.0,\n",
       " 87009.0,\n",
       " 18403.0,\n",
       " 41444.0,\n",
       " 26084.0,\n",
       " 53735.0,\n",
       " 48120.0,\n",
       " 27131.0]"
      ]
     },
     "execution_count": 556,
     "metadata": {},
     "output_type": "execute_result"
    }
   ],
   "source": [
    "w3"
   ]
  },
  {
   "cell_type": "code",
   "execution_count": null,
   "metadata": {},
   "outputs": [],
   "source": [
    "10558.0"
   ]
  },
  {
   "cell_type": "code",
   "execution_count": 553,
   "metadata": {},
   "outputs": [
    {
     "data": {
      "text/html": [
       "<div>\n",
       "<style scoped>\n",
       "    .dataframe tbody tr th:only-of-type {\n",
       "        vertical-align: middle;\n",
       "    }\n",
       "\n",
       "    .dataframe tbody tr th {\n",
       "        vertical-align: top;\n",
       "    }\n",
       "\n",
       "    .dataframe thead th {\n",
       "        text-align: right;\n",
       "    }\n",
       "</style>\n",
       "<table border=\"1\" class=\"dataframe\">\n",
       "  <thead>\n",
       "    <tr style=\"text-align: right;\">\n",
       "      <th></th>\n",
       "      <th>organization</th>\n",
       "      <th>COMNAM</th>\n",
       "    </tr>\n",
       "  </thead>\n",
       "  <tbody>\n",
       "    <tr>\n",
       "      <td>147106</td>\n",
       "      <td>Proctor-Silex, Inc.</td>\n",
       "      <td>WEAREVER PROCTOR SILEX INC</td>\n",
       "    </tr>\n",
       "  </tbody>\n",
       "</table>\n",
       "</div>"
      ],
      "text/plain": [
       "               organization                      COMNAM\n",
       "147106  Proctor-Silex, Inc.  WEAREVER PROCTOR SILEX INC"
      ]
     },
     "execution_count": 553,
     "metadata": {},
     "output_type": "execute_result"
    }
   ],
   "source": [
    "final_gtm[final_gtm['PERMNO']==10558.0][['organization','COMNAM']]"
   ]
  },
  {
   "cell_type": "code",
   "execution_count": 558,
   "metadata": {},
   "outputs": [
    {
     "data": {
      "text/plain": [
       "PERMNO           6629\n",
       "organization    30035\n",
       "COMNAM           7269\n",
       "dtype: int64"
      ]
     },
     "execution_count": 558,
     "metadata": {},
     "output_type": "execute_result"
    }
   ],
   "source": [
    "final_gtm[final_gtm['PERMNO'].isin(w2)][['PERMNO','organization','COMNAM']].nunique()"
   ]
  },
  {
   "cell_type": "markdown",
   "metadata": {},
   "source": [
    "100, 299, 104"
   ]
  },
  {
   "cell_type": "markdown",
   "metadata": {},
   "source": [
    "6629\n",
    "347\n",
    "(5%)\n",
    "6052\n",
    "(89.93%)\n",
    "7269\n",
    "531\n",
    "6498\n",
    "30035\n",
    "351\n",
    "17477\n"
   ]
  },
  {
   "cell_type": "code",
   "execution_count": 561,
   "metadata": {},
   "outputs": [
    {
     "data": {
      "text/plain": [
       "91.29582139085835"
      ]
     },
     "execution_count": 561,
     "metadata": {},
     "output_type": "execute_result"
    }
   ],
   "source": [
    "605200/7269"
   ]
  },
  {
   "cell_type": "code",
   "execution_count": 215,
   "metadata": {},
   "outputs": [],
   "source": [
    "tt1 = pd.read_csv(\"tt1.csv\")"
   ]
  },
  {
   "cell_type": "code",
   "execution_count": null,
   "metadata": {},
   "outputs": [],
   "source": []
  },
  {
   "cell_type": "code",
   "execution_count": 217,
   "metadata": {},
   "outputs": [],
   "source": [
    "tt2 = tt1.loc[tt1['temp_match']==\"short form\"][['organization','COMNAM','comlow4','orglow9', \"temp_match\"]]"
   ]
  },
  {
   "cell_type": "code",
   "execution_count": 218,
   "metadata": {},
   "outputs": [
    {
     "data": {
      "text/plain": [
       "Index(['organization', 'COMNAM', 'comlow4', 'orglow9', 'temp_match'], dtype='object')"
      ]
     },
     "execution_count": 218,
     "metadata": {},
     "output_type": "execute_result"
    }
   ],
   "source": [
    "tt2.columns"
   ]
  },
  {
   "cell_type": "code",
   "execution_count": 219,
   "metadata": {},
   "outputs": [],
   "source": [
    "tt2.rename(columns={\"temp_match\":\"shortform\"}, inplace = True)"
   ]
  },
  {
   "cell_type": "code",
   "execution_count": 238,
   "metadata": {},
   "outputs": [],
   "source": [
    "final_gtm = pd.merge(final_gt, tt2, left_on = ['organization','COMNAM','comlow4','orglow9'],\n",
    "                    right_on = ['organization','COMNAM','comlow4','orglow9'], how = \"left\")"
   ]
  },
  {
   "cell_type": "code",
   "execution_count": 239,
   "metadata": {},
   "outputs": [
    {
     "data": {
      "text/plain": [
       "short form    1837\n",
       "Name: shortform, dtype: int64"
      ]
     },
     "execution_count": 239,
     "metadata": {},
     "output_type": "execute_result"
    }
   ],
   "source": [
    "final_gtm['shortform'].value_counts()"
   ]
  },
  {
   "cell_type": "code",
   "execution_count": 326,
   "metadata": {},
   "outputs": [],
   "source": []
  },
  {
   "cell_type": "code",
   "execution_count": 329,
   "metadata": {},
   "outputs": [
    {
     "data": {
      "text/plain": [
       "22"
      ]
     },
     "execution_count": 329,
     "metadata": {},
     "output_type": "execute_result"
    }
   ],
   "source": [
    "final_gtm[final_gtm['shortform']==\"short form\"]['PERMNO'].nunique()"
   ]
  },
  {
   "cell_type": "code",
   "execution_count": 304,
   "metadata": {},
   "outputs": [
    {
     "data": {
      "text/plain": [
       "True     234683\n",
       "False     41976\n",
       "Name: same_new, dtype: int64"
      ]
     },
     "execution_count": 304,
     "metadata": {},
     "output_type": "execute_result"
    }
   ],
   "source": [
    "final_gt.same_new.value_counts()"
   ]
  },
  {
   "cell_type": "code",
   "execution_count": 394,
   "metadata": {},
   "outputs": [
    {
     "data": {
      "text/plain": [
       "6729"
      ]
     },
     "execution_count": 394,
     "metadata": {},
     "output_type": "execute_result"
    }
   ],
   "source": [
    "final_gtm[(final_gtm['finalmatch']==True)]['PERMNO'].nunique()"
   ]
  },
  {
   "cell_type": "code",
   "execution_count": 415,
   "metadata": {},
   "outputs": [
    {
     "data": {
      "text/plain": [
       "True     1289576\n",
       "False         10\n",
       "Name: finalmatch, dtype: int64"
      ]
     },
     "execution_count": 415,
     "metadata": {},
     "output_type": "execute_result"
    }
   ],
   "source": [
    "final_gtm.finalmatch.value_counts()"
   ]
  },
  {
   "cell_type": "code",
   "execution_count": null,
   "metadata": {},
   "outputs": [],
   "source": []
  },
  {
   "cell_type": "code",
   "execution_count": 469,
   "metadata": {},
   "outputs": [],
   "source": [
    "final_gtm = final_gtm[final_gtm['finalmatch']==True]"
   ]
  },
  {
   "cell_type": "code",
   "execution_count": 470,
   "metadata": {},
   "outputs": [
    {
     "data": {
      "text/plain": [
       "6729"
      ]
     },
     "execution_count": 470,
     "metadata": {},
     "output_type": "execute_result"
    }
   ],
   "source": [
    "final_gtm['PERMNO'].nunique()"
   ]
  },
  {
   "cell_type": "code",
   "execution_count": 509,
   "metadata": {},
   "outputs": [
    {
     "data": {
      "text/plain": [
       "30314"
      ]
     },
     "execution_count": 509,
     "metadata": {},
     "output_type": "execute_result"
    }
   ],
   "source": [
    "final_gtm['organization'].nunique()"
   ]
  },
  {
   "cell_type": "code",
   "execution_count": 255,
   "metadata": {},
   "outputs": [],
   "source": [
    "final_gtm.to_csv('groundtruth_kpss_pv_crsp_28Apr20.csv', index = False)"
   ]
  },
  {
   "cell_type": "code",
   "execution_count": 472,
   "metadata": {},
   "outputs": [],
   "source": [
    "final_gtm['orglow_first'] = final_gtm['orglow9'].apply(lambda x: x[0])\n",
    "final_gtm['comlow_first'] = final_gtm['comlow4'].apply(lambda x: x[0])\n",
    "\n",
    "final_gtm['same'] = final_gtm['orglow_first']==final_gtm['comlow_first']"
   ]
  },
  {
   "cell_type": "code",
   "execution_count": 473,
   "metadata": {},
   "outputs": [
    {
     "data": {
      "text/plain": [
       "352"
      ]
     },
     "execution_count": 473,
     "metadata": {},
     "output_type": "execute_result"
    }
   ],
   "source": [
    "final_gtm[(final_gtm['same']==False)&(final_gtm['same_new']==False)]['PERMNO'].nunique() ##361"
   ]
  },
  {
   "cell_type": "code",
   "execution_count": 474,
   "metadata": {
    "collapsed": true
   },
   "outputs": [
    {
     "data": {
      "text/html": [
       "<div>\n",
       "<style scoped>\n",
       "    .dataframe tbody tr th:only-of-type {\n",
       "        vertical-align: middle;\n",
       "    }\n",
       "\n",
       "    .dataframe tbody tr th {\n",
       "        vertical-align: top;\n",
       "    }\n",
       "\n",
       "    .dataframe thead th {\n",
       "        text-align: right;\n",
       "    }\n",
       "</style>\n",
       "<table border=\"1\" class=\"dataframe\">\n",
       "  <thead>\n",
       "    <tr style=\"text-align: right;\">\n",
       "      <th></th>\n",
       "      <th>organization</th>\n",
       "      <th>COMNAM</th>\n",
       "    </tr>\n",
       "  </thead>\n",
       "  <tbody>\n",
       "    <tr>\n",
       "      <td>30</td>\n",
       "      <td>E. I. du Pont de Nemours and Company</td>\n",
       "      <td>DU PONT E I DE NEMOURS &amp; CO</td>\n",
       "    </tr>\n",
       "    <tr>\n",
       "      <td>38</td>\n",
       "      <td>A. E. Staley Manufacturing Company</td>\n",
       "      <td>STALEY A E MANUFACTURING CO</td>\n",
       "    </tr>\n",
       "    <tr>\n",
       "      <td>103</td>\n",
       "      <td>Shin Caterpillar Mitsubishi Ltd</td>\n",
       "      <td>CATERPILLAR INC</td>\n",
       "    </tr>\n",
       "    <tr>\n",
       "      <td>111</td>\n",
       "      <td>Telefonaktiebolaget LM Ericsson</td>\n",
       "      <td>ERICSSON L M TELEPHONE CO</td>\n",
       "    </tr>\n",
       "    <tr>\n",
       "      <td>122</td>\n",
       "      <td>Truth Div. of SPX Corporation</td>\n",
       "      <td>S P X CORP</td>\n",
       "    </tr>\n",
       "    <tr>\n",
       "      <td>...</td>\n",
       "      <td>...</td>\n",
       "      <td>...</td>\n",
       "    </tr>\n",
       "    <tr>\n",
       "      <td>1289401</td>\n",
       "      <td>E. I. du Pont de Nemours and Company</td>\n",
       "      <td>DU PONT E I DE NEMOURS &amp; CO</td>\n",
       "    </tr>\n",
       "    <tr>\n",
       "      <td>1289461</td>\n",
       "      <td>E. I. Du Pont de Nemours and Company</td>\n",
       "      <td>DU PONT E I DE NEMOURS &amp; CO</td>\n",
       "    </tr>\n",
       "    <tr>\n",
       "      <td>1289480</td>\n",
       "      <td>Telefonaktiebolaget L M Ericsson (publ)</td>\n",
       "      <td>ERICSSON L M TELEPHONE CO</td>\n",
       "    </tr>\n",
       "    <tr>\n",
       "      <td>1289504</td>\n",
       "      <td>Eli Lilly and Company</td>\n",
       "      <td>LILLY ELI &amp; CO</td>\n",
       "    </tr>\n",
       "    <tr>\n",
       "      <td>1289577</td>\n",
       "      <td>W. R. Grace &amp; Co.-Conn.</td>\n",
       "      <td>GRACE W R &amp; CO DEL NEW</td>\n",
       "    </tr>\n",
       "  </tbody>\n",
       "</table>\n",
       "<p>34419 rows × 2 columns</p>\n",
       "</div>"
      ],
      "text/plain": [
       "                                    organization                       COMNAM\n",
       "30          E. I. du Pont de Nemours and Company  DU PONT E I DE NEMOURS & CO\n",
       "38            A. E. Staley Manufacturing Company  STALEY A E MANUFACTURING CO\n",
       "103              Shin Caterpillar Mitsubishi Ltd              CATERPILLAR INC\n",
       "111              Telefonaktiebolaget LM Ericsson    ERICSSON L M TELEPHONE CO\n",
       "122                Truth Div. of SPX Corporation                   S P X CORP\n",
       "...                                          ...                          ...\n",
       "1289401     E. I. du Pont de Nemours and Company  DU PONT E I DE NEMOURS & CO\n",
       "1289461     E. I. Du Pont de Nemours and Company  DU PONT E I DE NEMOURS & CO\n",
       "1289480  Telefonaktiebolaget L M Ericsson (publ)    ERICSSON L M TELEPHONE CO\n",
       "1289504                    Eli Lilly and Company               LILLY ELI & CO\n",
       "1289577                 W. R. Grace & Co.-Conn.        GRACE W R & CO DEL NEW\n",
       "\n",
       "[34419 rows x 2 columns]"
      ]
     },
     "execution_count": 474,
     "metadata": {},
     "output_type": "execute_result"
    }
   ],
   "source": [
    "final_gtm[(final_gtm['same']==False)&(final_gtm['same_new']==False)][['organization','COMNAM']]"
   ]
  },
  {
   "cell_type": "code",
   "execution_count": null,
   "metadata": {},
   "outputs": [],
   "source": []
  },
  {
   "cell_type": "code",
   "execution_count": null,
   "metadata": {},
   "outputs": [],
   "source": []
  }
 ],
 "metadata": {
  "kernelspec": {
   "display_name": "Python 3",
   "language": "python",
   "name": "python3"
  },
  "language_info": {
   "codemirror_mode": {
    "name": "ipython",
    "version": 3
   },
   "file_extension": ".py",
   "mimetype": "text/x-python",
   "name": "python",
   "nbconvert_exporter": "python",
   "pygments_lexer": "ipython3",
   "version": "3.7.4"
  }
 },
 "nbformat": 4,
 "nbformat_minor": 2
}
